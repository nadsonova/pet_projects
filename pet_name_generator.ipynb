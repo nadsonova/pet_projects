{
 "cells": [
  {
   "cell_type": "code",
   "execution_count": null,
   "metadata": {
    "id": "AdSC1j6eFy9_"
   },
   "outputs": [],
   "source": [
    "import pandas as pd\n",
    "import numpy as np\n",
    "import random\n",
    "import time\n",
    "import re\n",
    "\n",
    "import torch\n",
    "import torch.nn as nn\n",
    "import torch.optim as optim\n",
    "import pdb\n",
    "from torch.utils.data import Dataset, DataLoader\n",
    "\n",
    "import matplotlib.pyplot as plt\n",
    "%matplotlib inline\n",
    "\n",
    "device = 'cpu'"
   ]
  },
  {
   "cell_type": "markdown",
   "metadata": {},
   "source": [
    "Целью данной работы является реализация нейронной сети, задача которой - генерация клички питомца на основании передаваемого ей набора данных. На вход модели поступают следующие данные: значение пола питомца («female» или «male») и необходимое количество вариантов кличек. На выходе модель выдает указанное ранее количество сгенерированных кличек."
   ]
  },
  {
   "cell_type": "markdown",
   "metadata": {
    "id": "2zudZJV8Fy-B"
   },
   "source": [
    "# 1. Первичный анализ данных"
   ]
  },
  {
   "cell_type": "markdown",
   "metadata": {
    "id": "wEGJGnpjFy-G"
   },
   "source": [
    "Датасет взят с сайта NYC Open Data. Он содержит в себе 616890 строк с данными о зарегистрированных собаках в Нью-Йорке. Из данного датасета для обучения модели понадобятся только две колонки - AnimalName и AnimalGender.\n",
    "\n",
    "Ссылка на датасет: https://data.cityofnewyork.us/Health/NYC-Dog-Licensing-Dataset/nu7n-tubp/about_data"
   ]
  },
  {
   "cell_type": "code",
   "execution_count": null,
   "metadata": {
    "id": "ARIVq2bXFy-H",
    "outputId": "e50d6c91-f787-451c-ffe4-21dce17bf4de"
   },
   "outputs": [
    {
     "name": "stderr",
     "output_type": "stream",
     "text": [
      "/var/folders/wt/ln3qm_qx66x2xn97lw7_xg_c0000gn/T/ipykernel_19999/4147436092.py:2: DtypeWarning: Columns (2,4) have mixed types. Specify dtype option on import or set low_memory=False.\n",
      "  df = pd.read_csv(filename, sep=',', na_filter=False)\n"
     ]
    },
    {
     "data": {
      "text/html": [
       "<div>\n",
       "<style scoped>\n",
       "    .dataframe tbody tr th:only-of-type {\n",
       "        vertical-align: middle;\n",
       "    }\n",
       "\n",
       "    .dataframe tbody tr th {\n",
       "        vertical-align: top;\n",
       "    }\n",
       "\n",
       "    .dataframe thead th {\n",
       "        text-align: right;\n",
       "    }\n",
       "</style>\n",
       "<table border=\"1\" class=\"dataframe\">\n",
       "  <thead>\n",
       "    <tr style=\"text-align: right;\">\n",
       "      <th></th>\n",
       "      <th>AnimalName</th>\n",
       "      <th>AnimalGender</th>\n",
       "      <th>AnimalBirthYear</th>\n",
       "      <th>BreedName</th>\n",
       "      <th>ZipCode</th>\n",
       "      <th>LicenseIssuedDate</th>\n",
       "      <th>LicenseExpiredDate</th>\n",
       "      <th>Extract Year</th>\n",
       "    </tr>\n",
       "  </thead>\n",
       "  <tbody>\n",
       "    <tr>\n",
       "      <th>0</th>\n",
       "      <td>PAIGE</td>\n",
       "      <td>F</td>\n",
       "      <td>2014</td>\n",
       "      <td>American Pit Bull Mix / Pit Bull Mix</td>\n",
       "      <td>10035</td>\n",
       "      <td>09/12/2014</td>\n",
       "      <td>09/12/2017</td>\n",
       "      <td>2016</td>\n",
       "    </tr>\n",
       "    <tr>\n",
       "      <th>1</th>\n",
       "      <td>YOGI</td>\n",
       "      <td>M</td>\n",
       "      <td>2010</td>\n",
       "      <td>Boxer</td>\n",
       "      <td>10465</td>\n",
       "      <td>09/12/2014</td>\n",
       "      <td>10/02/2017</td>\n",
       "      <td>2016</td>\n",
       "    </tr>\n",
       "    <tr>\n",
       "      <th>2</th>\n",
       "      <td>ALI</td>\n",
       "      <td>M</td>\n",
       "      <td>2014</td>\n",
       "      <td>Basenji</td>\n",
       "      <td>10013</td>\n",
       "      <td>09/12/2014</td>\n",
       "      <td>09/12/2019</td>\n",
       "      <td>2016</td>\n",
       "    </tr>\n",
       "    <tr>\n",
       "      <th>3</th>\n",
       "      <td>QUEEN</td>\n",
       "      <td>F</td>\n",
       "      <td>2013</td>\n",
       "      <td>Akita Crossbreed</td>\n",
       "      <td>10013</td>\n",
       "      <td>09/12/2014</td>\n",
       "      <td>09/12/2017</td>\n",
       "      <td>2016</td>\n",
       "    </tr>\n",
       "    <tr>\n",
       "      <th>4</th>\n",
       "      <td>LOLA</td>\n",
       "      <td>F</td>\n",
       "      <td>2009</td>\n",
       "      <td>Maltese</td>\n",
       "      <td>10028</td>\n",
       "      <td>09/12/2014</td>\n",
       "      <td>10/09/2017</td>\n",
       "      <td>2016</td>\n",
       "    </tr>\n",
       "  </tbody>\n",
       "</table>\n",
       "</div>"
      ],
      "text/plain": [
       "  AnimalName AnimalGender AnimalBirthYear  \\\n",
       "0      PAIGE            F            2014   \n",
       "1       YOGI            M            2010   \n",
       "2        ALI            M            2014   \n",
       "3      QUEEN            F            2013   \n",
       "4       LOLA            F            2009   \n",
       "\n",
       "                              BreedName ZipCode LicenseIssuedDate  \\\n",
       "0  American Pit Bull Mix / Pit Bull Mix   10035        09/12/2014   \n",
       "1                                 Boxer   10465        09/12/2014   \n",
       "2                               Basenji   10013        09/12/2014   \n",
       "3                      Akita Crossbreed   10013        09/12/2014   \n",
       "4                               Maltese   10028        09/12/2014   \n",
       "\n",
       "  LicenseExpiredDate  Extract Year  \n",
       "0         09/12/2017          2016  \n",
       "1         10/02/2017          2016  \n",
       "2         09/12/2019          2016  \n",
       "3         09/12/2017          2016  \n",
       "4         10/09/2017          2016  "
      ]
     },
     "execution_count": 3,
     "metadata": {},
     "output_type": "execute_result"
    }
   ],
   "source": [
    "filename = 'NYC_Dog_Licensing_Dataset_20250107.csv'\n",
    "df = pd.read_csv(filename, sep=',', na_filter=False)\n",
    "df.head()"
   ]
  },
  {
   "cell_type": "markdown",
   "metadata": {
    "id": "ft3QeisyFy-H"
   },
   "source": [
    "Основные первичные критерии правильности данных:\n",
    "- для каждой клички указан пол животного (F или M);\n",
    "- кличка может состоять только из букв английского алфавита и символа пробела.\n",
    "\n",
    "Для анализа данные приведены к нижнему регистру и удалены дубликаты.\n",
    "\n",
    "Неподходящие под первичные критерии значения:"
   ]
  },
  {
   "cell_type": "code",
   "execution_count": null,
   "metadata": {
    "id": "-yr8KFDcFy-H",
    "outputId": "f981cd4b-65c9-49bd-99b9-67f5732f3fbc"
   },
   "outputs": [
    {
     "data": {
      "text/html": [
       "<div>\n",
       "<style scoped>\n",
       "    .dataframe tbody tr th:only-of-type {\n",
       "        vertical-align: middle;\n",
       "    }\n",
       "\n",
       "    .dataframe tbody tr th {\n",
       "        vertical-align: top;\n",
       "    }\n",
       "\n",
       "    .dataframe thead th {\n",
       "        text-align: right;\n",
       "    }\n",
       "</style>\n",
       "<table border=\"1\" class=\"dataframe\">\n",
       "  <thead>\n",
       "    <tr style=\"text-align: right;\">\n",
       "      <th></th>\n",
       "      <th>AnimalName</th>\n",
       "      <th>AnimalGender</th>\n",
       "    </tr>\n",
       "  </thead>\n",
       "  <tbody>\n",
       "    <tr>\n",
       "      <th>8</th>\n",
       "      <td>heidi-bo</td>\n",
       "      <td>f</td>\n",
       "    </tr>\n",
       "    <tr>\n",
       "      <th>83</th>\n",
       "      <td>a.j.</td>\n",
       "      <td>m</td>\n",
       "    </tr>\n",
       "    <tr>\n",
       "      <th>721</th>\n",
       "      <td>la-ne-na</td>\n",
       "      <td>f</td>\n",
       "    </tr>\n",
       "    <tr>\n",
       "      <th>723</th>\n",
       "      <td>lah-lah</td>\n",
       "      <td>f</td>\n",
       "    </tr>\n",
       "    <tr>\n",
       "      <th>908</th>\n",
       "      <td>cee-cee</td>\n",
       "      <td>f</td>\n",
       "    </tr>\n",
       "    <tr>\n",
       "      <th>...</th>\n",
       "      <td>...</td>\n",
       "      <td>...</td>\n",
       "    </tr>\n",
       "    <tr>\n",
       "      <th>610444</th>\n",
       "      <td>amy-rose</td>\n",
       "      <td>f</td>\n",
       "    </tr>\n",
       "    <tr>\n",
       "      <th>613346</th>\n",
       "      <td>sanchez-huerta</td>\n",
       "      <td>m</td>\n",
       "    </tr>\n",
       "    <tr>\n",
       "      <th>613807</th>\n",
       "      <td>riley-marie</td>\n",
       "      <td>f</td>\n",
       "    </tr>\n",
       "    <tr>\n",
       "      <th>613982</th>\n",
       "      <td>choko-latte</td>\n",
       "      <td>f</td>\n",
       "    </tr>\n",
       "    <tr>\n",
       "      <th>616627</th>\n",
       "      <td>dollie-twix-madison</td>\n",
       "      <td>f</td>\n",
       "    </tr>\n",
       "  </tbody>\n",
       "</table>\n",
       "<p>1064 rows × 2 columns</p>\n",
       "</div>"
      ],
      "text/plain": [
       "                 AnimalName AnimalGender\n",
       "8                  heidi-bo            f\n",
       "83                     a.j.            m\n",
       "721                la-ne-na            f\n",
       "723                 lah-lah            f\n",
       "908                 cee-cee            f\n",
       "...                     ...          ...\n",
       "610444             amy-rose            f\n",
       "613346       sanchez-huerta            m\n",
       "613807          riley-marie            f\n",
       "613982          choko-latte            f\n",
       "616627  dollie-twix-madison            f\n",
       "\n",
       "[1064 rows x 2 columns]"
      ]
     },
     "execution_count": 4,
     "metadata": {},
     "output_type": "execute_result"
    }
   ],
   "source": [
    "fieldname_name = 'AnimalName'\n",
    "fieldname_gender = 'AnimalGender'\n",
    "\n",
    "df = df[[fieldname_name, fieldname_gender]]\n",
    "df = df.apply(lambda col: col.str.lower())\n",
    "\n",
    "df_filter = df.loc[df['AnimalName'].str.contains(r'[^a-z ]')]\n",
    "df_filter = df_filter.drop_duplicates(subset=['AnimalName'])\n",
    "df_filter"
   ]
  },
  {
   "cell_type": "markdown",
   "metadata": {
    "id": "8FoSeWFdFy-H"
   },
   "source": [
    "В данном случае всего 1064 строки из 616890 необходимо очистить от лишних символов (либо в конечном итоге удалить).\n",
    "\n",
    "Эти строки можно очистить, выполнив следующие действия:\n",
    "\n",
    "- удалить текст в скобках;\n",
    "- удалить лишние символы (точку с запятой, скобки, тире, построфы и тд);\n",
    "- удалить значения n/a;\n",
    "- удалить клички, которые состоят из букв с грависом (тк аналогичные, с использованием только букв английского алфавита уже имеются в датасете);\n",
    "- разделить клички, указанные через слеш (добавив при этом новые строки в датафрейм);\n",
    "- удалить лишние пробелы после обработки;\n",
    "- удалить клички с количеством слов больше 2;\n",
    "- удалить клички с длиной мельше 3."
   ]
  },
  {
   "cell_type": "code",
   "execution_count": null,
   "metadata": {
    "id": "GD9BSKISFy-I"
   },
   "outputs": [],
   "source": [
    "def get_clear_data(df, fieldname_name, fieldname_gender):\n",
    "\n",
    "    df = df.loc[df[fieldname_gender].isin(['f', 'm'])]\n",
    "    df = df.loc[~df[fieldname_name].isnull()]\n",
    "\n",
    "    # удаление текста в скобках\n",
    "    df[fieldname_name] = df[fieldname_name].str.replace(r'\\([^()]*\\)*', '', regex=True)\n",
    "\n",
    "    # разделение кличек, указанных через слеш\n",
    "    df[fieldname_name] = df[fieldname_name].str.split('/')\n",
    "    df = df.explode(fieldname_name)\n",
    "\n",
    "    # удаление прочих символов\n",
    "    df[fieldname_name] = df[fieldname_name].str.replace('.', ' ')\n",
    "    df[fieldname_name] = df[fieldname_name].str.replace('-', ' ')\n",
    "    df[fieldname_name] = df[fieldname_name].str.replace('_', ' ')\n",
    "    df[fieldname_name] = df[fieldname_name].str.replace(r'[\\'\\\"”“’‘`]', '', regex=True)\n",
    "    df[fieldname_name] = df[fieldname_name].str.replace(r'[!)?,]', '', regex=True)\n",
    "    df[fieldname_name] = df[fieldname_name].str.replace('n/a', '')\n",
    "    # df[fieldname_name] = df[fieldname_name].str.replace(r'[0-9]', ' ', regex=True)\n",
    "    df = df.loc[~df[fieldname_name].str.contains(r'[^a-z ]')]\n",
    "\n",
    "    # удаление лищних пробелов\n",
    "    df[fieldname_name] = df[fieldname_name].apply(lambda x: ' '.join(x.split()))\n",
    "\n",
    "    # длина клички > 2 и число слов < 5\n",
    "    df['len_name'] = df[fieldname_name].apply(lambda x: len(x))\n",
    "    df['len_words'] = df[fieldname_name].apply(lambda x: len(x.split()))\n",
    "    df = df.loc[df['len_name'] > 2]\n",
    "    df = df.loc[df['len_words'] < 3]\n",
    "    df = df.loc[~((df['len_name'] < 5) & (df['len_words'] > 1))]\n",
    "\n",
    "    return df"
   ]
  },
  {
   "cell_type": "code",
   "execution_count": null,
   "metadata": {
    "id": "Sl6mjsGiFy-I",
    "outputId": "1f9ddefb-ba7d-45e9-c6b2-659fbc15e23a"
   },
   "outputs": [
    {
     "data": {
      "text/html": [
       "<div>\n",
       "<style scoped>\n",
       "    .dataframe tbody tr th:only-of-type {\n",
       "        vertical-align: middle;\n",
       "    }\n",
       "\n",
       "    .dataframe tbody tr th {\n",
       "        vertical-align: top;\n",
       "    }\n",
       "\n",
       "    .dataframe thead th {\n",
       "        text-align: right;\n",
       "    }\n",
       "</style>\n",
       "<table border=\"1\" class=\"dataframe\">\n",
       "  <thead>\n",
       "    <tr style=\"text-align: right;\">\n",
       "      <th></th>\n",
       "      <th>AnimalName</th>\n",
       "      <th>AnimalGender</th>\n",
       "      <th>len_name</th>\n",
       "      <th>len_words</th>\n",
       "    </tr>\n",
       "  </thead>\n",
       "  <tbody>\n",
       "    <tr>\n",
       "      <th>307179</th>\n",
       "      <td>max</td>\n",
       "      <td>m</td>\n",
       "      <td>3</td>\n",
       "      <td>1</td>\n",
       "    </tr>\n",
       "    <tr>\n",
       "      <th>395687</th>\n",
       "      <td>mia</td>\n",
       "      <td>f</td>\n",
       "      <td>3</td>\n",
       "      <td>1</td>\n",
       "    </tr>\n",
       "    <tr>\n",
       "      <th>395649</th>\n",
       "      <td>ida</td>\n",
       "      <td>f</td>\n",
       "      <td>3</td>\n",
       "      <td>1</td>\n",
       "    </tr>\n",
       "    <tr>\n",
       "      <th>71314</th>\n",
       "      <td>eva</td>\n",
       "      <td>f</td>\n",
       "      <td>3</td>\n",
       "      <td>1</td>\n",
       "    </tr>\n",
       "    <tr>\n",
       "      <th>71316</th>\n",
       "      <td>tim</td>\n",
       "      <td>m</td>\n",
       "      <td>3</td>\n",
       "      <td>1</td>\n",
       "    </tr>\n",
       "    <tr>\n",
       "      <th>...</th>\n",
       "      <td>...</td>\n",
       "      <td>...</td>\n",
       "      <td>...</td>\n",
       "      <td>...</td>\n",
       "    </tr>\n",
       "    <tr>\n",
       "      <th>169357</th>\n",
       "      <td>piplongfellowbutterfieldfroude</td>\n",
       "      <td>m</td>\n",
       "      <td>30</td>\n",
       "      <td>1</td>\n",
       "    </tr>\n",
       "    <tr>\n",
       "      <th>39470</th>\n",
       "      <td>jeffersonbarnardramseydonnelly</td>\n",
       "      <td>m</td>\n",
       "      <td>30</td>\n",
       "      <td>1</td>\n",
       "    </tr>\n",
       "    <tr>\n",
       "      <th>478431</th>\n",
       "      <td>piplongfellowbutterfieldfroude</td>\n",
       "      <td>m</td>\n",
       "      <td>30</td>\n",
       "      <td>1</td>\n",
       "    </tr>\n",
       "    <tr>\n",
       "      <th>564879</th>\n",
       "      <td>abberannuptothemountain millie</td>\n",
       "      <td>f</td>\n",
       "      <td>30</td>\n",
       "      <td>2</td>\n",
       "    </tr>\n",
       "    <tr>\n",
       "      <th>18745</th>\n",
       "      <td>carlyapplewhitecrawfordcoleman</td>\n",
       "      <td>f</td>\n",
       "      <td>30</td>\n",
       "      <td>1</td>\n",
       "    </tr>\n",
       "  </tbody>\n",
       "</table>\n",
       "<p>602328 rows × 4 columns</p>\n",
       "</div>"
      ],
      "text/plain": [
       "                            AnimalName AnimalGender  len_name  len_words\n",
       "307179                             max            m         3          1\n",
       "395687                             mia            f         3          1\n",
       "395649                             ida            f         3          1\n",
       "71314                              eva            f         3          1\n",
       "71316                              tim            m         3          1\n",
       "...                                ...          ...       ...        ...\n",
       "169357  piplongfellowbutterfieldfroude            m        30          1\n",
       "39470   jeffersonbarnardramseydonnelly            m        30          1\n",
       "478431  piplongfellowbutterfieldfroude            m        30          1\n",
       "564879  abberannuptothemountain millie            f        30          2\n",
       "18745   carlyapplewhitecrawfordcoleman            f        30          1\n",
       "\n",
       "[602328 rows x 4 columns]"
      ]
     },
     "execution_count": 6,
     "metadata": {},
     "output_type": "execute_result"
    }
   ],
   "source": [
    "df_filter = get_clear_data(df, fieldname_name, fieldname_gender)\n",
    "df_filter.sort_values('len_name')"
   ]
  },
  {
   "cell_type": "code",
   "execution_count": null,
   "metadata": {
    "id": "dj9LpbaWFy-I",
    "outputId": "fbc25dc8-1f80-4004-b846-132abb9728c7"
   },
   "outputs": [
    {
     "data": {
      "text/plain": [
       "(14562, 0.02360550503331226)"
      ]
     },
     "execution_count": 7,
     "metadata": {},
     "output_type": "execute_result"
    }
   ],
   "source": [
    "len(df) - len(df_filter), (len(df) - len(df_filter)) / len(df)"
   ]
  },
  {
   "cell_type": "markdown",
   "metadata": {
    "id": "pFJ0Mx9wFy-I"
   },
   "source": [
    "Всего из датасета удалено 14562 строки (примерно 2,4%). Кроме того, после обработки остались строки с довольно длинными кличками, которые либо являются исключением, либо они изначально были некорректно добавлены в датасет. Для понимания, какая длина клички является максимальной, стоит посмотреть на их распределение."
   ]
  },
  {
   "cell_type": "code",
   "execution_count": null,
   "metadata": {
    "id": "2HNW2EUNFy-I",
    "outputId": "6a574841-424f-48ff-8c0e-baf9cc9733e1"
   },
   "outputs": [
    {
     "data": {
      "text/html": [
       "<div>\n",
       "<style scoped>\n",
       "    .dataframe tbody tr th:only-of-type {\n",
       "        vertical-align: middle;\n",
       "    }\n",
       "\n",
       "    .dataframe tbody tr th {\n",
       "        vertical-align: top;\n",
       "    }\n",
       "\n",
       "    .dataframe thead th {\n",
       "        text-align: right;\n",
       "    }\n",
       "</style>\n",
       "<table border=\"1\" class=\"dataframe\">\n",
       "  <thead>\n",
       "    <tr style=\"text-align: right;\">\n",
       "      <th></th>\n",
       "      <th>AnimalName</th>\n",
       "      <th>AnimalGender</th>\n",
       "      <th>len_name</th>\n",
       "      <th>len_words</th>\n",
       "    </tr>\n",
       "  </thead>\n",
       "  <tbody>\n",
       "    <tr>\n",
       "      <th>20192</th>\n",
       "      <td>rhu</td>\n",
       "      <td>m</td>\n",
       "      <td>3</td>\n",
       "      <td>1</td>\n",
       "    </tr>\n",
       "    <tr>\n",
       "      <th>10125</th>\n",
       "      <td>tum</td>\n",
       "      <td>f</td>\n",
       "      <td>3</td>\n",
       "      <td>1</td>\n",
       "    </tr>\n",
       "    <tr>\n",
       "      <th>31261</th>\n",
       "      <td>bts</td>\n",
       "      <td>m</td>\n",
       "      <td>3</td>\n",
       "      <td>1</td>\n",
       "    </tr>\n",
       "    <tr>\n",
       "      <th>31263</th>\n",
       "      <td>owl</td>\n",
       "      <td>f</td>\n",
       "      <td>3</td>\n",
       "      <td>1</td>\n",
       "    </tr>\n",
       "    <tr>\n",
       "      <th>26598</th>\n",
       "      <td>cen</td>\n",
       "      <td>f</td>\n",
       "      <td>3</td>\n",
       "      <td>1</td>\n",
       "    </tr>\n",
       "    <tr>\n",
       "      <th>...</th>\n",
       "      <td>...</td>\n",
       "      <td>...</td>\n",
       "      <td>...</td>\n",
       "      <td>...</td>\n",
       "    </tr>\n",
       "    <tr>\n",
       "      <th>22166</th>\n",
       "      <td>budereauxbuderonimusbuderowski</td>\n",
       "      <td>m</td>\n",
       "      <td>30</td>\n",
       "      <td>1</td>\n",
       "    </tr>\n",
       "    <tr>\n",
       "      <th>15381</th>\n",
       "      <td>piplongfellowbutterfieldfroude</td>\n",
       "      <td>m</td>\n",
       "      <td>30</td>\n",
       "      <td>1</td>\n",
       "    </tr>\n",
       "    <tr>\n",
       "      <th>9581</th>\n",
       "      <td>jeffersonbarnardramseydonnelly</td>\n",
       "      <td>m</td>\n",
       "      <td>30</td>\n",
       "      <td>1</td>\n",
       "    </tr>\n",
       "    <tr>\n",
       "      <th>35225</th>\n",
       "      <td>abberannuptothemountain millie</td>\n",
       "      <td>f</td>\n",
       "      <td>30</td>\n",
       "      <td>2</td>\n",
       "    </tr>\n",
       "    <tr>\n",
       "      <th>5864</th>\n",
       "      <td>carlyapplewhitecrawfordcoleman</td>\n",
       "      <td>f</td>\n",
       "      <td>30</td>\n",
       "      <td>1</td>\n",
       "    </tr>\n",
       "  </tbody>\n",
       "</table>\n",
       "<p>37276 rows × 4 columns</p>\n",
       "</div>"
      ],
      "text/plain": [
       "                           AnimalName AnimalGender  len_name  len_words\n",
       "20192                             rhu            m         3          1\n",
       "10125                             tum            f         3          1\n",
       "31261                             bts            m         3          1\n",
       "31263                             owl            f         3          1\n",
       "26598                             cen            f         3          1\n",
       "...                               ...          ...       ...        ...\n",
       "22166  budereauxbuderonimusbuderowski            m        30          1\n",
       "15381  piplongfellowbutterfieldfroude            m        30          1\n",
       "9581   jeffersonbarnardramseydonnelly            m        30          1\n",
       "35225  abberannuptothemountain millie            f        30          2\n",
       "5864   carlyapplewhitecrawfordcoleman            f        30          1\n",
       "\n",
       "[37276 rows x 4 columns]"
      ]
     },
     "execution_count": 8,
     "metadata": {},
     "output_type": "execute_result"
    }
   ],
   "source": [
    "df_unique = df_filter.drop_duplicates(subset=['AnimalName', 'AnimalGender'])\n",
    "df_unique = df_unique.reset_index(drop=True)\n",
    "df_unique.sort_values('len_name')"
   ]
  },
  {
   "cell_type": "code",
   "execution_count": null,
   "metadata": {
    "id": "TnZoI-_nFy-I",
    "outputId": "245c7981-af77-48b7-aad0-35b37f2ffd75"
   },
   "outputs": [
    {
     "data": {
      "text/plain": [
       "len_name\n",
       "5     9278\n",
       "6     8846\n",
       "7     5712\n",
       "4     5547\n",
       "8     3280\n",
       "9     1622\n",
       "3     1434\n",
       "10     893\n",
       "11     341\n",
       "12     170\n",
       "13      62\n",
       "14      36\n",
       "15      23\n",
       "16       9\n",
       "30       5\n",
       "17       5\n",
       "18       5\n",
       "19       1\n",
       "26       1\n",
       "27       1\n",
       "23       1\n",
       "21       1\n",
       "25       1\n",
       "20       1\n",
       "24       1\n",
       "Name: count, dtype: int64"
      ]
     },
     "execution_count": 9,
     "metadata": {},
     "output_type": "execute_result"
    }
   ],
   "source": [
    "df_unique['len_name'].value_counts()"
   ]
  },
  {
   "cell_type": "markdown",
   "metadata": {
    "id": "Aov2yctRFy-I"
   },
   "source": [
    "В данном случае можно ограничиться длиной кличики, равной 15."
   ]
  },
  {
   "cell_type": "code",
   "execution_count": null,
   "metadata": {
    "id": "OLrSUHIjFy-I",
    "outputId": "6088cb26-92c3-4aaf-eb5f-6bd7211b871f"
   },
   "outputs": [
    {
     "data": {
      "text/html": [
       "<div>\n",
       "<style scoped>\n",
       "    .dataframe tbody tr th:only-of-type {\n",
       "        vertical-align: middle;\n",
       "    }\n",
       "\n",
       "    .dataframe tbody tr th {\n",
       "        vertical-align: top;\n",
       "    }\n",
       "\n",
       "    .dataframe thead th {\n",
       "        text-align: right;\n",
       "    }\n",
       "</style>\n",
       "<table border=\"1\" class=\"dataframe\">\n",
       "  <thead>\n",
       "    <tr style=\"text-align: right;\">\n",
       "      <th></th>\n",
       "      <th>AnimalName</th>\n",
       "      <th>AnimalGender</th>\n",
       "      <th>len_name</th>\n",
       "      <th>len_words</th>\n",
       "    </tr>\n",
       "  </thead>\n",
       "  <tbody>\n",
       "    <tr>\n",
       "      <th>0</th>\n",
       "      <td>paige</td>\n",
       "      <td>f</td>\n",
       "      <td>5</td>\n",
       "      <td>1</td>\n",
       "    </tr>\n",
       "    <tr>\n",
       "      <th>1</th>\n",
       "      <td>yogi</td>\n",
       "      <td>m</td>\n",
       "      <td>4</td>\n",
       "      <td>1</td>\n",
       "    </tr>\n",
       "    <tr>\n",
       "      <th>2</th>\n",
       "      <td>ali</td>\n",
       "      <td>m</td>\n",
       "      <td>3</td>\n",
       "      <td>1</td>\n",
       "    </tr>\n",
       "    <tr>\n",
       "      <th>3</th>\n",
       "      <td>queen</td>\n",
       "      <td>f</td>\n",
       "      <td>5</td>\n",
       "      <td>1</td>\n",
       "    </tr>\n",
       "    <tr>\n",
       "      <th>4</th>\n",
       "      <td>lola</td>\n",
       "      <td>f</td>\n",
       "      <td>4</td>\n",
       "      <td>1</td>\n",
       "    </tr>\n",
       "    <tr>\n",
       "      <th>...</th>\n",
       "      <td>...</td>\n",
       "      <td>...</td>\n",
       "      <td>...</td>\n",
       "      <td>...</td>\n",
       "    </tr>\n",
       "    <tr>\n",
       "      <th>37271</th>\n",
       "      <td>brax</td>\n",
       "      <td>m</td>\n",
       "      <td>4</td>\n",
       "      <td>1</td>\n",
       "    </tr>\n",
       "    <tr>\n",
       "      <th>37272</th>\n",
       "      <td>cottonball</td>\n",
       "      <td>m</td>\n",
       "      <td>10</td>\n",
       "      <td>1</td>\n",
       "    </tr>\n",
       "    <tr>\n",
       "      <th>37273</th>\n",
       "      <td>oren</td>\n",
       "      <td>f</td>\n",
       "      <td>4</td>\n",
       "      <td>1</td>\n",
       "    </tr>\n",
       "    <tr>\n",
       "      <th>37274</th>\n",
       "      <td>cocobear</td>\n",
       "      <td>m</td>\n",
       "      <td>8</td>\n",
       "      <td>1</td>\n",
       "    </tr>\n",
       "    <tr>\n",
       "      <th>37275</th>\n",
       "      <td>weayaya</td>\n",
       "      <td>f</td>\n",
       "      <td>7</td>\n",
       "      <td>1</td>\n",
       "    </tr>\n",
       "  </tbody>\n",
       "</table>\n",
       "<p>37244 rows × 4 columns</p>\n",
       "</div>"
      ],
      "text/plain": [
       "       AnimalName AnimalGender  len_name  len_words\n",
       "0           paige            f         5          1\n",
       "1            yogi            m         4          1\n",
       "2             ali            m         3          1\n",
       "3           queen            f         5          1\n",
       "4            lola            f         4          1\n",
       "...           ...          ...       ...        ...\n",
       "37271        brax            m         4          1\n",
       "37272  cottonball            m        10          1\n",
       "37273        oren            f         4          1\n",
       "37274    cocobear            m         8          1\n",
       "37275     weayaya            f         7          1\n",
       "\n",
       "[37244 rows x 4 columns]"
      ]
     },
     "execution_count": 10,
     "metadata": {},
     "output_type": "execute_result"
    }
   ],
   "source": [
    "df_unique = df_unique.loc[(df_unique['len_name'] < 16)]\n",
    "df_unique"
   ]
  },
  {
   "cell_type": "markdown",
   "metadata": {
    "id": "qfQuWPX_Fy-J"
   },
   "source": [
    "# 2. Метрика качества"
   ]
  },
  {
   "cell_type": "code",
   "execution_count": null,
   "metadata": {
    "id": "iH4_PwirFy-J"
   },
   "outputs": [],
   "source": [
    "def test_pets_name(pets_name, print_names=False, print_acc=False):\n",
    "    acc = 0\n",
    "    for name in pets_name:\n",
    "        correct = True\n",
    "        name = name[1:-1]\n",
    "\n",
    "        if re.findall(r'[aeiouy]{4,}', name): correct = False\n",
    "        if re.findall(r'[bcdfghjklmnpqrstvwxz]{4,}', name): correct = False\n",
    "        if not re.findall(r'[aeiouy]', name): correct = False\n",
    "        if not re.findall(r'[bcdfghjklmnpqrstvwxz]', name): correct = False\n",
    "        if re.findall(r'^\\s', name): correct = False\n",
    "        if re.findall(r'\\s$', name): correct = False\n",
    "        if re.findall(r'\\s{2,}', name): correct = False\n",
    "        if re.findall(r'(.)\\1\\1', name): correct = False\n",
    "        if len(name) == 3 and len(name.split()) == 2: correct = False\n",
    "        if len(name) < 3: correct = False\n",
    "        if len(re.findall(r'\\s', name)) > 2: correct = False\n",
    "\n",
    "        if correct: acc += 1\n",
    "        if print_names: print(f'\\'{name}\\' - {correct}')\n",
    "\n",
    "    acc = acc/len(pets_name)\n",
    "    if print_acc:\n",
    "        print(f'accuracy = {acc}')\n",
    "    else:\n",
    "        return acc"
   ]
  },
  {
   "cell_type": "markdown",
   "metadata": {
    "id": "Z34Cvz9VFy-J"
   },
   "source": [
    "# 3. Baseline-модель"
   ]
  },
  {
   "cell_type": "code",
   "execution_count": null,
   "metadata": {
    "id": "Ov7aeJmTFy-J"
   },
   "outputs": [],
   "source": [
    "def get_pet_name(df, gender, N):\n",
    "    df = df.loc[df['AnimalGender'] == gender]\n",
    "    letters = sorted(set(' '.join(df['AnimalName'].values)))\n",
    "    min_len_name = df['len_name'].min()\n",
    "    max_len_name = df['len_name'].max()\n",
    "\n",
    "    pets_name = []\n",
    "    for i in range(N):\n",
    "        len_name = random.randint(min_len_name, max_len_name)\n",
    "        pet_name = '<'\n",
    "        for i in range(len_name):\n",
    "            pet_name += random.choice(letters)\n",
    "        pets_name.append(pet_name + '>')\n",
    "\n",
    "    return pets_name"
   ]
  },
  {
   "cell_type": "markdown",
   "metadata": {
    "id": "WyPa5eCWFy-J"
   },
   "source": [
    "**Пример сгенерированных baseline-моделью кличек:**"
   ]
  },
  {
   "cell_type": "code",
   "execution_count": null,
   "metadata": {
    "id": "f5muBXfYFy-J",
    "outputId": "cb7722b4-f23f-479c-fa7b-8abc7b01dfc0"
   },
   "outputs": [
    {
     "name": "stdout",
     "output_type": "stream",
     "text": [
      "['<jcuzsjvkw>', '<oaafsymioh>', '<pq aygxfgzv>', '<vzjntehtj>', '<aopd>', '<nxakqvowiapg>', '<sqrzuyrvrw>', '<pekrno>', '<xkpzevfe>', '<hiljgkqa >']\n"
     ]
    }
   ],
   "source": [
    "N = 10\n",
    "gender = 'm'\n",
    "\n",
    "pets_name = get_pet_name(df_unique, gender, N)\n",
    "print(pets_name)"
   ]
  },
  {
   "cell_type": "markdown",
   "metadata": {
    "id": "7uOTChgcFy-J"
   },
   "source": [
    "**Оценка качества baseline-модели:**"
   ]
  },
  {
   "cell_type": "code",
   "execution_count": null,
   "metadata": {
    "id": "ybfXc4EnFy-J",
    "outputId": "abecc506-2edd-4922-cdbd-f3f0b0499ba4"
   },
   "outputs": [
    {
     "name": "stdout",
     "output_type": "stream",
     "text": [
      "accuracy = 0.29\n"
     ]
    }
   ],
   "source": [
    "N = 100\n",
    "gender = 'f'\n",
    "pets_name = get_pet_name(df_unique, gender, N)\n",
    "\n",
    "test_pets_name(pets_name, print_names=False, print_acc=True)"
   ]
  },
  {
   "cell_type": "markdown",
   "metadata": {
    "id": "WCvfG3bsFy-J"
   },
   "source": [
    "# 4. Подготовка данных для обучения"
   ]
  },
  {
   "cell_type": "code",
   "execution_count": null,
   "metadata": {
    "id": "S-mEezloFy-J"
   },
   "outputs": [],
   "source": [
    "class PetNamesDataset(Dataset):\n",
    "    def __init__(self, df, name_field, gender_field):\n",
    "        super().__init__()\n",
    "        self.names = df[name_field].values\n",
    "        self.genders = df[gender_field].values\n",
    "        self.genders_vocab = list(set(self.genders))\n",
    "        self.genders_size = len(self.genders_vocab)\n",
    "\n",
    "        self.vocab = sorted(set(' '.join(self.names))) + ['<', '>']\n",
    "        self.vocab_size = len(self.vocab)\n",
    "        self.char_to_index = {c:i for i, c in enumerate(self.vocab)}\n",
    "        self.index_to_char = {i:c for i, c in enumerate(self.vocab)}\n",
    "\n",
    "    def __getitem__(self, index):\n",
    "        line = self.names[index]\n",
    "        x_str = '<' + line\n",
    "        y_str = line + '>'\n",
    "\n",
    "        cat = torch.zeros([1, self.genders_size], dtype=torch.long)\n",
    "        cat[0][self.genders_vocab.index(self.genders[index])] = 1\n",
    "        x = torch.zeros([len(x_str), self.vocab_size], dtype=torch.float)\n",
    "        y = torch.empty(len(x_str), dtype=torch.long)\n",
    "        for i, (x_ch, y_ch) in enumerate(zip(x_str, y_str)):\n",
    "            x[i][self.char_to_index[x_ch]] = 1\n",
    "            y[i] = self.char_to_index[y_ch]\n",
    "\n",
    "        return cat, x, y\n",
    "\n",
    "    def __len__(self):\n",
    "        return len(self.names)"
   ]
  },
  {
   "cell_type": "code",
   "execution_count": null,
   "metadata": {
    "id": "jEEAm7r6Fy-K",
    "outputId": "722c2d44-b46a-4edf-f05c-7939736cee3f"
   },
   "outputs": [
    {
     "data": {
      "text/plain": [
       "37244"
      ]
     },
     "execution_count": 16,
     "metadata": {},
     "output_type": "execute_result"
    }
   ],
   "source": [
    "names_dataset = PetNamesDataset(df_unique, 'AnimalName', 'AnimalGender')\n",
    "names_dataloader = DataLoader(names_dataset, shuffle=True)\n",
    "len(names_dataset)"
   ]
  },
  {
   "cell_type": "code",
   "execution_count": null,
   "metadata": {
    "id": "OkBibbsAFy-K",
    "outputId": "91bde67e-1f22-4757-9d3a-b8e0e46d15e0"
   },
   "outputs": [
    {
     "data": {
      "text/plain": [
       "(tensor([[0, 1]]),\n",
       " tensor([[0., 0., 0., 0., 0., 0., 0., 0., 0., 0., 0., 0., 0., 0., 0., 0., 0., 0.,\n",
       "          0., 0., 0., 0., 0., 0., 0., 0., 0., 1., 0.],\n",
       "         [0., 0., 0., 0., 0., 0., 0., 0., 0., 0., 0., 0., 0., 0., 0., 0., 1., 0.,\n",
       "          0., 0., 0., 0., 0., 0., 0., 0., 0., 0., 0.],\n",
       "         [0., 1., 0., 0., 0., 0., 0., 0., 0., 0., 0., 0., 0., 0., 0., 0., 0., 0.,\n",
       "          0., 0., 0., 0., 0., 0., 0., 0., 0., 0., 0.],\n",
       "         [0., 0., 0., 0., 0., 0., 0., 0., 0., 1., 0., 0., 0., 0., 0., 0., 0., 0.,\n",
       "          0., 0., 0., 0., 0., 0., 0., 0., 0., 0., 0.],\n",
       "         [0., 0., 0., 0., 0., 0., 0., 1., 0., 0., 0., 0., 0., 0., 0., 0., 0., 0.,\n",
       "          0., 0., 0., 0., 0., 0., 0., 0., 0., 0., 0.],\n",
       "         [0., 0., 0., 0., 0., 1., 0., 0., 0., 0., 0., 0., 0., 0., 0., 0., 0., 0.,\n",
       "          0., 0., 0., 0., 0., 0., 0., 0., 0., 0., 0.]]),\n",
       " tensor([16,  1,  9,  7,  5, 28]))"
      ]
     },
     "execution_count": 17,
     "metadata": {},
     "output_type": "execute_result"
    }
   ],
   "source": [
    "names_dataset[0]"
   ]
  },
  {
   "cell_type": "markdown",
   "metadata": {
    "id": "sm84S06zFy-K"
   },
   "source": [
    "# 5. Эксперементальная часть обучения"
   ]
  },
  {
   "cell_type": "markdown",
   "metadata": {
    "id": "O1ukDi00Fy-K"
   },
   "source": [
    "Датасет df_result будет хранить результаты экспериментов. Обучение будет длиться 10 эпох."
   ]
  },
  {
   "cell_type": "code",
   "execution_count": null,
   "metadata": {
    "id": "17WUh948Fy-K"
   },
   "outputs": [],
   "source": [
    "hidden_size = 50\n",
    "learning_rate = 1e-4\n",
    "max_name_len = df_unique['len_name'].max()\n",
    "\n",
    "epochs = 10\n",
    "epochs_print = 2"
   ]
  },
  {
   "cell_type": "code",
   "execution_count": null,
   "metadata": {
    "id": "IPN-Tg0PFy-K"
   },
   "outputs": [],
   "source": [
    "df_result = pd.DataFrame(columns=['Model', 'Epochs', 'Train loss', 'Time', 'Test accuracy'])\n",
    "\n",
    "# добавление в сводную таблицу результатов оценки качества baseline-модели\n",
    "\n",
    "df_result.loc[len(df_result)] = ['Baseline-model', '', '', '',\n",
    "                                 test_pets_name(pets_name, print_names=False, print_acc=False)]"
   ]
  },
  {
   "cell_type": "markdown",
   "metadata": {
    "id": "vXWbs_ydFy-K"
   },
   "source": [
    "Для ускорения процесса проведем обучение эксперементальных моделей на неполном наборе данных (примерно 1/3):"
   ]
  },
  {
   "cell_type": "code",
   "execution_count": null,
   "metadata": {
    "id": "J7XJFVj7Fy-K"
   },
   "outputs": [],
   "source": [
    "names_dataset = PetNamesDataset(df_unique[:10000], 'AnimalName', 'AnimalGender')\n",
    "names_dataloader = DataLoader(names_dataset, shuffle=True)"
   ]
  },
  {
   "cell_type": "code",
   "execution_count": null,
   "metadata": {
    "id": "i2knAkrrFy-K"
   },
   "outputs": [],
   "source": [
    "def generate_one_name(model, dataset, category, max_name_len, device='cpu'):\n",
    "    cat = torch.zeros([1, dataset.genders_size], dtype=torch.long, device=device)\n",
    "    cat[0][dataset.genders_vocab.index(category)] = 1\n",
    "\n",
    "    end_char_idx = dataset.char_to_index['>']\n",
    "    start_char_idx = dataset.char_to_index['<']\n",
    "    pet_name = [start_char_idx]\n",
    "\n",
    "    model.eval()\n",
    "    hidden = model.init_hidden(device)\n",
    "\n",
    "    x = torch.zeros([1, dataset.vocab_size], dtype=torch.float, device=device)\n",
    "    x[0, start_char_idx] = 1\n",
    "\n",
    "    for i in range(max_name_len):\n",
    "        output, hidden = model(cat, x, hidden)\n",
    "\n",
    "        y_softmax_scores = torch.softmax(output, dim=1)\n",
    "        for ind in pet_name:\n",
    "            y_softmax_scores[0][ind] = 0\n",
    "        y_softmax_scores = y_softmax_scores / y_softmax_scores.sum()\n",
    "\n",
    "        predicted_char_idx = np.random.choice(\n",
    "            np.arange(dataset.vocab_size),\n",
    "            p=y_softmax_scores.detach().numpy().ravel())\n",
    "\n",
    "        pet_name.append(predicted_char_idx)\n",
    "\n",
    "        if predicted_char_idx == end_char_idx: break\n",
    "\n",
    "        x = torch.zeros((1, dataset.vocab_size), dtype=torch.float, device=device)\n",
    "        x[0][predicted_char_idx] = 1\n",
    "\n",
    "    return ''.join(dataset.index_to_char[x] for x in pet_name)"
   ]
  },
  {
   "cell_type": "code",
   "execution_count": null,
   "metadata": {
    "id": "_ysQHeXtFy-L"
   },
   "outputs": [],
   "source": [
    "def train_model(model, model_name, criterion, optimizer, dataset, dataloader, max_name_len, epochs=10, epochs_print=1, device='cpu'):\n",
    "    start = time.time()\n",
    "\n",
    "    model_loss = 0\n",
    "    loss_print = {}\n",
    "    for e in range(1, epochs+1):\n",
    "        start_epoch = time.time()\n",
    "        model.train()\n",
    "        for line, (cat, x, y) in enumerate(dataloader):\n",
    "            cat, x, y = cat.to(device), x.to(device), y.to(device),\n",
    "            hidden = model.init_hidden(device)\n",
    "            optimizer.zero_grad()\n",
    "            loss = 0\n",
    "\n",
    "            for i in range(x.shape[1]):\n",
    "                output, hidden = model(cat[0], x[:, i], hidden)\n",
    "                loss += criterion(output, y[:, i])\n",
    "\n",
    "            model_loss = loss.item() / x.shape[1]\n",
    "            loss.backward()\n",
    "            optimizer.step()\n",
    "\n",
    "        model_loss = model_loss / len(dataloader)\n",
    "\n",
    "        if e % epochs_print == 0:\n",
    "            loss_print[e] = model_loss\n",
    "            pets_names = []\n",
    "            for i in range(5):\n",
    "                pets_names.append(generate_one_name(model, dataset, random.choice(dataset.genders), max_name_len, device))\n",
    "            print(f'Epoch: {e}. Loss: {model_loss}. Time: {time.time() - start_epoch}')\n",
    "            print(pets_names, '\\n')\n",
    "\n",
    "    return (model_name, epochs, model_loss, time.time() - start), loss_print"
   ]
  },
  {
   "cell_type": "markdown",
   "metadata": {
    "id": "y0DUmvj2Fy-L"
   },
   "source": [
    "## 5.1. Простая рекуррентная сеть с разными рекуррентными слоями"
   ]
  },
  {
   "cell_type": "markdown",
   "metadata": {
    "id": "LtEHjJLKFy-L"
   },
   "source": [
    "В данном разделе обучим 3 нейросети (RNN, GRU и LSTM)."
   ]
  },
  {
   "cell_type": "code",
   "execution_count": null,
   "metadata": {
    "id": "JFJhitjxFy-L"
   },
   "outputs": [],
   "source": [
    "class BaseRNNModel(nn.Module):\n",
    "    def __init__(self, rnnClass, input_size, hidden_size, output_size, categories_count, drop=0.1):\n",
    "        super(BaseRNNModel, self).__init__()\n",
    "        self.rnnClass = rnnClass\n",
    "        self.input_size = input_size\n",
    "        self.hidden_size = hidden_size\n",
    "        self.output_size = output_size\n",
    "        self.categories_count = categories_count\n",
    "\n",
    "        self.rnn = rnnClass(self.categories_count + self.input_size, self.hidden_size)\n",
    "        self.out = nn.Linear(self.hidden_size, self.output_size)\n",
    "        self.softmax = nn.LogSoftmax(dim=1)\n",
    "\n",
    "    def forward(self, category, input, hidden):\n",
    "        input = torch.cat((category, input), 1)\n",
    "        output, hidden = self.rnn(input, hidden)\n",
    "\n",
    "        output = self.out(output)\n",
    "        output = self.softmax(output)\n",
    "\n",
    "        return output, hidden\n",
    "\n",
    "    def init_hidden(self, device):\n",
    "        hidden = torch.zeros(1, self.hidden_size, device=device)\n",
    "        if 'LSTM' in str(self.rnnClass): hidden = tuple([hidden, hidden])\n",
    "\n",
    "        return hidden"
   ]
  },
  {
   "cell_type": "code",
   "execution_count": null,
   "metadata": {
    "id": "sxdWVA-7Fy-L"
   },
   "outputs": [],
   "source": [
    "def test_train_base(model_name, class_name, names_dataset, names_dataloader, hidden_size, learning_rate, device, max_name_len, epochs, epochs_print, df_result):\n",
    "    model = class_name(model_name, names_dataset.vocab_size, hidden_size, names_dataset.vocab_size, len(names_dataset.genders_vocab)).to(device)\n",
    "    criterion = nn.CrossEntropyLoss()\n",
    "    optimizer = optim.SGD(model.parameters(), lr=learning_rate)\n",
    "\n",
    "    print(model_name, '\\n')\n",
    "    df_result.loc[len(df_result), df_result.columns[:-1]], _ = train_model(model, model_name.__name__, criterion, optimizer,\n",
    "                                                   names_dataset, names_dataloader, max_name_len, epochs=epochs, epochs_print=epochs_print)\n",
    "\n",
    "    pets_names = [generate_one_name(model, names_dataset, random.choice(names_dataset.genders), max_name_len) for i in range(100)]\n",
    "    df_result.loc[len(df_result)-1, df_result.columns[-1]] = test_pets_name(pets_names, print_names=False, print_acc=False)\n",
    "\n",
    "    return df_result"
   ]
  },
  {
   "cell_type": "code",
   "execution_count": null,
   "metadata": {
    "id": "qqjpfsrrFy-L",
    "outputId": "58401882-e406-4168-91f4-c6f8790a8d3b"
   },
   "outputs": [
    {
     "name": "stdout",
     "output_type": "stream",
     "text": [
      "<class 'torch.nn.modules.rnn.RNN'> \n",
      "\n",
      "Epoch: 2. Loss: 0.00025342259407043456. Time: 15.24247670173645\n",
      "['<adeczio>', '<doxyt>', '<>', '<nogeatd>', '<vkih>'] \n",
      "\n",
      "Epoch: 4. Loss: 0.00026351470947265625. Time: 15.769515037536621\n",
      "['<bua>', '<lenaiyu>', '<goslei>', '<algiy>', '<milob>'] \n",
      "\n",
      "Epoch: 6. Loss: 0.0002436138470967611. Time: 15.25282907485962\n",
      "['<oaubnd>', '<bopr>', '<xhiel>', '<wreasin>', '<kaupmrt>'] \n",
      "\n",
      "Epoch: 8. Loss: 0.00024292192459106446. Time: 15.393764019012451\n",
      "['<rizne>', '<soina>', '<dista>', '<voaz>', '<pube>'] \n",
      "\n",
      "Epoch: 10. Loss: 0.00020589665004185268. Time: 15.210447072982788\n",
      "['<cualey>', '<sireuof>', '<bkeyoa>', '<loeir>', '<amr>'] \n",
      "\n"
     ]
    }
   ],
   "source": [
    "df_result = test_train_base(nn.RNN, BaseRNNModel, names_dataset, names_dataloader, hidden_size, learning_rate, device, max_name_len, epochs, epochs_print, df_result)"
   ]
  },
  {
   "cell_type": "code",
   "execution_count": null,
   "metadata": {
    "id": "rtwKXRyrFy-M",
    "outputId": "2c876b8e-4bbf-47ba-c6fc-c37eacb5cfe1"
   },
   "outputs": [
    {
     "name": "stdout",
     "output_type": "stream",
     "text": [
      "<class 'torch.nn.modules.rnn.GRU'> \n",
      "\n",
      "Epoch: 2. Loss: 0.0002798629488263811. Time: 20.40805411338806\n",
      "['<igqelay>', '<yap>', '<w>', '<epldsynaikug>', '<zl>'] \n",
      "\n",
      "Epoch: 4. Loss: 0.0003057645161946615. Time: 20.171867847442627\n",
      "['<iralf>', '<oeas>', '<cms>', '<ux>', '<ym>'] \n",
      "\n",
      "Epoch: 6. Loss: 0.00028279037475585937. Time: 20.233448266983032\n",
      "['<qerzkan>', '<tihyk>', '<hyaen>', '<vdnhw>', '<heqzg>'] \n",
      "\n",
      "Epoch: 8. Loss: 0.0003048119650946723. Time: 21.27648115158081\n",
      "['<iafk>', '<otsemir>', '<runia>', '<odaly>', '<diegn>'] \n",
      "\n",
      "Epoch: 10. Loss: 0.00027655724116734095. Time: 20.862308025360107\n",
      "['<znvre>', '<ohike>', '<ieabln>', '<pfrhgy>', '<smoea>'] \n",
      "\n"
     ]
    }
   ],
   "source": [
    "df_result = test_train_base(nn.GRU, BaseRNNModel, names_dataset, names_dataloader, hidden_size, learning_rate, device, max_name_len, epochs, epochs_print, df_result)"
   ]
  },
  {
   "cell_type": "code",
   "execution_count": null,
   "metadata": {
    "id": "JVaQmxm6Fy-M",
    "outputId": "1d6060cf-bdce-48a1-e9f3-c3a821855a81"
   },
   "outputs": [
    {
     "name": "stdout",
     "output_type": "stream",
     "text": [
      "<class 'torch.nn.modules.rnn.LSTM'> \n",
      "\n"
     ]
    },
    {
     "name": "stdout",
     "output_type": "stream",
     "text": [
      "Epoch: 2. Loss: 0.000296295166015625. Time: 21.867918014526367\n",
      "['<e>', '<ynm>', '<>', '<zts>', '<xmuko>'] \n",
      "\n",
      "Epoch: 4. Loss: 0.00028983968098958337. Time: 21.75413417816162\n",
      "['<in>', '<m>', '<ave>', '<ois>', '<en>'] \n",
      "\n",
      "Epoch: 6. Loss: 0.00032678933143615724. Time: 21.997129917144775\n",
      "['<ried>', '<>', '<jzare>', '<sj>', '<aubcr>'] \n",
      "\n",
      "Epoch: 8. Loss: 0.00027604519526163736. Time: 21.73138999938965\n",
      "['<gktsiycr>', '<moye>', '<ero>', '<prls>', '<eoy>'] \n",
      "\n",
      "Epoch: 10. Loss: 0.000295546555519104. Time: 22.207648992538452\n",
      "['<>', '<atou>', '<gdicoa>', '<bulofnie>', '<mral>'] \n",
      "\n"
     ]
    }
   ],
   "source": [
    "df_result = test_train_base(nn.LSTM, BaseRNNModel, names_dataset, names_dataloader, hidden_size, learning_rate, device, max_name_len, epochs, epochs_print, df_result)"
   ]
  },
  {
   "cell_type": "code",
   "execution_count": null,
   "metadata": {
    "id": "MNjlpQv3Fy-M",
    "outputId": "1f1e3aab-85f5-4324-ccce-ab69ee6d1da1"
   },
   "outputs": [
    {
     "data": {
      "text/html": [
       "<div>\n",
       "<style scoped>\n",
       "    .dataframe tbody tr th:only-of-type {\n",
       "        vertical-align: middle;\n",
       "    }\n",
       "\n",
       "    .dataframe tbody tr th {\n",
       "        vertical-align: top;\n",
       "    }\n",
       "\n",
       "    .dataframe thead th {\n",
       "        text-align: right;\n",
       "    }\n",
       "</style>\n",
       "<table border=\"1\" class=\"dataframe\">\n",
       "  <thead>\n",
       "    <tr style=\"text-align: right;\">\n",
       "      <th></th>\n",
       "      <th>Model</th>\n",
       "      <th>Epochs</th>\n",
       "      <th>Train loss</th>\n",
       "      <th>Time</th>\n",
       "      <th>Test accuracy</th>\n",
       "    </tr>\n",
       "  </thead>\n",
       "  <tbody>\n",
       "    <tr>\n",
       "      <th>0</th>\n",
       "      <td>Baseline-model</td>\n",
       "      <td></td>\n",
       "      <td></td>\n",
       "      <td></td>\n",
       "      <td>0.37</td>\n",
       "    </tr>\n",
       "    <tr>\n",
       "      <th>1</th>\n",
       "      <td>RNN</td>\n",
       "      <td>10</td>\n",
       "      <td>0.000206</td>\n",
       "      <td>153.87147</td>\n",
       "      <td>0.83</td>\n",
       "    </tr>\n",
       "    <tr>\n",
       "      <th>2</th>\n",
       "      <td>GRU</td>\n",
       "      <td>10</td>\n",
       "      <td>0.000277</td>\n",
       "      <td>205.352433</td>\n",
       "      <td>0.82</td>\n",
       "    </tr>\n",
       "    <tr>\n",
       "      <th>3</th>\n",
       "      <td>LSTM</td>\n",
       "      <td>10</td>\n",
       "      <td>0.000296</td>\n",
       "      <td>219.111894</td>\n",
       "      <td>0.71</td>\n",
       "    </tr>\n",
       "  </tbody>\n",
       "</table>\n",
       "</div>"
      ],
      "text/plain": [
       "            Model Epochs Train loss        Time  Test accuracy\n",
       "0  Baseline-model                                         0.37\n",
       "1             RNN     10   0.000206   153.87147           0.83\n",
       "2             GRU     10   0.000277  205.352433           0.82\n",
       "3            LSTM     10   0.000296  219.111894           0.71"
      ]
     },
     "execution_count": 29,
     "metadata": {},
     "output_type": "execute_result"
    }
   ],
   "source": [
    "df_result"
   ]
  },
  {
   "cell_type": "markdown",
   "metadata": {
    "id": "-SvQIqYzFy-M"
   },
   "source": [
    "Простая рекуррентная сеть (torch.nn.RNN) показала в данном случае лучшие результаты - метрика на тестовых данных составила 0.83, что уже можно считать хорошим результатом по сравнению с baseline-моделью."
   ]
  },
  {
   "cell_type": "markdown",
   "metadata": {
    "id": "71GkOlXrFy-M"
   },
   "source": [
    "## 5.2. Добавление дополнительных слоев для усложнения модели"
   ]
  },
  {
   "cell_type": "markdown",
   "metadata": {
    "id": "cXvIU3A2Fy-M"
   },
   "source": [
    "Для улучшения результата можно изменить архитектуру рекуррентной сети. Для различных экспериментов удобно вместо готовых рекуррентных ячеек torch.nn использовать линейные слои, в которые согласно той или иной архитектуре будут передаваться признаки и скрытые состояния."
   ]
  },
  {
   "cell_type": "code",
   "execution_count": null,
   "metadata": {
    "id": "2eHyGdG6Fy-M"
   },
   "outputs": [],
   "source": [
    "def test_train(class_name, names_dataset, names_dataloader, hidden_size, learning_rate, device, max_name_len, epochs, epochs_print, df_result):\n",
    "    model = class_name(names_dataset.vocab_size, hidden_size, names_dataset.vocab_size, len(names_dataset.genders_vocab)).to(device)\n",
    "    criterion = nn.CrossEntropyLoss()\n",
    "    optimizer = optim.SGD(model.parameters(), lr=learning_rate)\n",
    "\n",
    "    print(class_name.__name__, '\\n')\n",
    "    df_result.loc[len(df_result), df_result.columns[:-1]], _ = train_model(model, class_name.__name__, criterion, optimizer,\n",
    "                                                   names_dataset, names_dataloader, max_name_len, epochs=epochs, epochs_print=epochs_print)\n",
    "\n",
    "    pets_names = [generate_one_name(model, names_dataset, random.choice(names_dataset.genders), max_name_len) for i in range(100)]\n",
    "    df_result.loc[len(df_result)-1, df_result.columns[-1]] = test_pets_name(pets_names, print_names=False, print_acc=False)\n",
    "\n",
    "    return df_result, model"
   ]
  },
  {
   "cell_type": "code",
   "execution_count": null,
   "metadata": {
    "id": "FFURUWqyFy-M"
   },
   "outputs": [],
   "source": [
    "class RNNLinear_v1(nn.Module):\n",
    "    def __init__(self, input_size, hidden_size, output_size, categories_count):\n",
    "        super(RNNLinear_v1, self).__init__()\n",
    "        self.input_size = input_size\n",
    "        self.hidden_size = hidden_size\n",
    "        self.output_size = output_size\n",
    "        self.categories_count = categories_count\n",
    "\n",
    "        self.i2h = nn.Linear(self.categories_count + self.input_size + self.hidden_size, self.hidden_size)\n",
    "        self.i2o = nn.Linear(self.categories_count + self.input_size + self.hidden_size, self.output_size)\n",
    "        self.softmax = nn.LogSoftmax(dim=1)\n",
    "\n",
    "    def forward(self, category, input, hidden):\n",
    "        input = torch.cat((category, input, hidden), 1)\n",
    "        hidden = self.i2h(input)\n",
    "        output = self.i2o(input)\n",
    "        output = self.softmax(output)\n",
    "\n",
    "        return output, hidden\n",
    "\n",
    "    def init_hidden(self, device):\n",
    "        return torch.zeros(1, self.hidden_size, device=device)"
   ]
  },
  {
   "cell_type": "code",
   "execution_count": null,
   "metadata": {
    "id": "uDkjJrbAFy-M",
    "outputId": "48ceef02-578a-461f-b0da-6a048ebc026c"
   },
   "outputs": [
    {
     "name": "stdout",
     "output_type": "stream",
     "text": [
      "RNNLinear_v1 \n",
      "\n",
      "Epoch: 2. Loss: 0.0002682645525251116. Time: 9.567900896072388\n",
      "['<lki>', '<ualsr>', '<esoac>', '<vdjmgnziy>', '<acrlioy>'] \n",
      "\n",
      "Epoch: 4. Loss: 0.0002521319580078125. Time: 9.244770050048828\n",
      "['<gaire>', '<varhs>', '<dinuwc>', '<iakrf>', '<ruie>'] \n",
      "\n",
      "Epoch: 6. Loss: 0.0002778871536254883. Time: 9.216722965240479\n",
      "['<mfcuet>', '<solyae>', '<hol>', '<syri>', '<teosnu>'] \n",
      "\n",
      "Epoch: 8. Loss: 0.00024700625283377516. Time: 9.199079275131226\n",
      "['<aoblhiy>', '< elt>', '<jolyea>', '<ions>', '<tauslg>'] \n",
      "\n",
      "Epoch: 10. Loss: 0.00023022422790527344. Time: 9.590569257736206\n",
      "['<irnd>', '<comay>', '<noa>', '<nhalmoed>', '<hegsn>'] \n",
      "\n"
     ]
    }
   ],
   "source": [
    "df_result, model = test_train(RNNLinear_v1, names_dataset, names_dataloader, hidden_size, learning_rate, device, max_name_len, epochs, epochs_print, df_result)"
   ]
  },
  {
   "cell_type": "code",
   "execution_count": null,
   "metadata": {
    "id": "LL5R6CjGFy-M"
   },
   "outputs": [],
   "source": [
    "class RNNLinear_v2(nn.Module):\n",
    "    def __init__(self, input_size, hidden_size, output_size, categories_count):\n",
    "        super(RNNLinear_v2, self).__init__()\n",
    "        self.input_size = input_size\n",
    "        self.hidden_size = hidden_size\n",
    "        self.output_size = output_size\n",
    "        self.categories_count = categories_count\n",
    "\n",
    "        self.init_h = nn.Linear(self.categories_count + self.input_size + self.hidden_size, self.hidden_size)\n",
    "        self.init_o = nn.Linear(self.categories_count + self.input_size + self.hidden_size, self.output_size)\n",
    "        self.out = nn.Linear(self.hidden_size + self.output_size, self.output_size)\n",
    "        self.softmax = nn.LogSoftmax(dim=1)\n",
    "\n",
    "    def forward(self, category, input, hidden):\n",
    "        input = torch.cat((category, input, hidden), 1)\n",
    "\n",
    "        hidden = self.init_h(input)\n",
    "        output = self.init_o(input)\n",
    "\n",
    "        output = torch.cat((hidden, output), 1)\n",
    "        output = self.out(output)\n",
    "        output = self.softmax(output)\n",
    "\n",
    "        return output, hidden\n",
    "\n",
    "    def init_hidden(self, device):\n",
    "        return torch.zeros(1, self.hidden_size, device=device)"
   ]
  },
  {
   "cell_type": "code",
   "execution_count": null,
   "metadata": {
    "id": "1v3WgnZXFy-M",
    "outputId": "87dc1808-d5a8-49d1-b7b5-9a7d97b2d3d1"
   },
   "outputs": [
    {
     "name": "stdout",
     "output_type": "stream",
     "text": [
      "RNNLinear_v2 \n",
      "\n",
      "Epoch: 2. Loss: 0.0002563673291887556. Time: 12.099187850952148\n",
      "['<nvfial>', '<tuda>', '<atr>', '<ecs>', '<qubnt>'] \n",
      "\n",
      "Epoch: 4. Loss: 0.0002522024472554525. Time: 12.02797794342041\n",
      "['<nais>', '<sofdienl>', '<ouli>', '<sorith>', '<fnzkbgps>'] \n",
      "\n",
      "Epoch: 6. Loss: 0.0002525981630597796. Time: 12.114759922027588\n",
      "['<jeadin>', '<eirznl>', '<iatndse>', '<ceyli>', '<mica>'] \n",
      "\n",
      "Epoch: 8. Loss: 0.00024168979644775392. Time: 12.390651226043701\n",
      "['<bio>', '<manis>', '<fincl>', '<bszjth>', '<kbai>'] \n",
      "\n",
      "Epoch: 10. Loss: 0.00023237616221110025. Time: 12.740334033966064\n",
      "['<vaft>', '<ftla>', '<ueld>', '<harck>', '<noei>'] \n",
      "\n"
     ]
    }
   ],
   "source": [
    "df_result, model = test_train(RNNLinear_v2, names_dataset, names_dataloader, hidden_size, learning_rate, device, max_name_len, epochs, epochs_print, df_result)"
   ]
  },
  {
   "cell_type": "code",
   "execution_count": null,
   "metadata": {
    "id": "-YW5yB9hFy-M",
    "outputId": "ea93e9fc-4d05-4f21-c9d5-aebad05a280b"
   },
   "outputs": [
    {
     "data": {
      "text/html": [
       "<div>\n",
       "<style scoped>\n",
       "    .dataframe tbody tr th:only-of-type {\n",
       "        vertical-align: middle;\n",
       "    }\n",
       "\n",
       "    .dataframe tbody tr th {\n",
       "        vertical-align: top;\n",
       "    }\n",
       "\n",
       "    .dataframe thead th {\n",
       "        text-align: right;\n",
       "    }\n",
       "</style>\n",
       "<table border=\"1\" class=\"dataframe\">\n",
       "  <thead>\n",
       "    <tr style=\"text-align: right;\">\n",
       "      <th></th>\n",
       "      <th>Model</th>\n",
       "      <th>Epochs</th>\n",
       "      <th>Train loss</th>\n",
       "      <th>Time</th>\n",
       "      <th>Test accuracy</th>\n",
       "    </tr>\n",
       "  </thead>\n",
       "  <tbody>\n",
       "    <tr>\n",
       "      <th>0</th>\n",
       "      <td>Baseline-model</td>\n",
       "      <td></td>\n",
       "      <td></td>\n",
       "      <td></td>\n",
       "      <td>0.37</td>\n",
       "    </tr>\n",
       "    <tr>\n",
       "      <th>1</th>\n",
       "      <td>RNN</td>\n",
       "      <td>10</td>\n",
       "      <td>0.000206</td>\n",
       "      <td>153.87147</td>\n",
       "      <td>0.83</td>\n",
       "    </tr>\n",
       "    <tr>\n",
       "      <th>2</th>\n",
       "      <td>GRU</td>\n",
       "      <td>10</td>\n",
       "      <td>0.000277</td>\n",
       "      <td>205.352433</td>\n",
       "      <td>0.82</td>\n",
       "    </tr>\n",
       "    <tr>\n",
       "      <th>3</th>\n",
       "      <td>LSTM</td>\n",
       "      <td>10</td>\n",
       "      <td>0.000296</td>\n",
       "      <td>219.111894</td>\n",
       "      <td>0.71</td>\n",
       "    </tr>\n",
       "    <tr>\n",
       "      <th>4</th>\n",
       "      <td>RNNLinear_v1</td>\n",
       "      <td>10</td>\n",
       "      <td>0.00023</td>\n",
       "      <td>93.317316</td>\n",
       "      <td>0.81</td>\n",
       "    </tr>\n",
       "    <tr>\n",
       "      <th>5</th>\n",
       "      <td>RNNLinear_v2</td>\n",
       "      <td>10</td>\n",
       "      <td>0.000232</td>\n",
       "      <td>123.303223</td>\n",
       "      <td>0.94</td>\n",
       "    </tr>\n",
       "  </tbody>\n",
       "</table>\n",
       "</div>"
      ],
      "text/plain": [
       "            Model Epochs Train loss        Time  Test accuracy\n",
       "0  Baseline-model                                         0.37\n",
       "1             RNN     10   0.000206   153.87147           0.83\n",
       "2             GRU     10   0.000277  205.352433           0.82\n",
       "3            LSTM     10   0.000296  219.111894           0.71\n",
       "4    RNNLinear_v1     10    0.00023   93.317316           0.81\n",
       "5    RNNLinear_v2     10   0.000232  123.303223           0.94"
      ]
     },
     "execution_count": 35,
     "metadata": {},
     "output_type": "execute_result"
    }
   ],
   "source": [
    "df_result"
   ]
  },
  {
   "cell_type": "markdown",
   "metadata": {
    "id": "AXkyO65vFy-M"
   },
   "source": [
    "Метрика качества у последнего варианта RNN-модели получилась достаточно высокой. Именно на этой модели и будет осуществляться полноценное обучение."
   ]
  },
  {
   "cell_type": "markdown",
   "metadata": {
    "id": "Rx4fjceuFy-M"
   },
   "source": [
    "# 6. Обучение итоговой модели"
   ]
  },
  {
   "cell_type": "markdown",
   "metadata": {
    "id": "uobkpviIFy-M"
   },
   "source": [
    "В данном разделе модель уже будет обучаться на всех данных (37244 строк). Для начала обучение будет длиться 40 эпох, все остальные параметры останутся пока неизменными. В дальнейшем, при необходимости, можно провести еще несколько экспериментов:\n",
    "\n",
    "1. Добавление дополнительных слоев (например, Dropout).\n",
    "2. Использование другого оптимизатора.\n",
    "3. Использование другой функции потерь.\n",
    "4. Изменение скорости обучения.\n",
    "5. Изменение количества эпох.\n",
    "\n",
    "Дополнительно в функцию train_model добавлено вычисление метрики качества на тестовых данных на этапе вывода результатов обучения."
   ]
  },
  {
   "cell_type": "code",
   "execution_count": null,
   "metadata": {
    "id": "iaRW7dIjFy-N"
   },
   "outputs": [],
   "source": [
    "df_result = pd.DataFrame(columns=['Model', 'Epochs', 'Train loss', 'Time', 'Test accuracy'])"
   ]
  },
  {
   "cell_type": "code",
   "execution_count": null,
   "metadata": {
    "id": "gGn_6oSyFy-N"
   },
   "outputs": [],
   "source": [
    "hidden_size = 50\n",
    "learning_rate = 1e-4\n",
    "max_name_len = df_unique['len_name'].max()\n",
    "\n",
    "epochs = 40\n",
    "epochs_print = 2"
   ]
  },
  {
   "cell_type": "code",
   "execution_count": null,
   "metadata": {
    "id": "aUn2o2snFy-N",
    "outputId": "48da59ef-06d3-4d8f-eb33-1115b5d05dc7"
   },
   "outputs": [
    {
     "data": {
      "text/plain": [
       "37244"
      ]
     },
     "execution_count": 25,
     "metadata": {},
     "output_type": "execute_result"
    }
   ],
   "source": [
    "names_dataset = PetNamesDataset(df_unique, 'AnimalName', 'AnimalGender')\n",
    "names_dataloader = DataLoader(names_dataset, shuffle=True)\n",
    "len(names_dataset)"
   ]
  },
  {
   "cell_type": "code",
   "execution_count": null,
   "metadata": {
    "id": "EN543yjQFy-N"
   },
   "outputs": [],
   "source": [
    "def train_model(model, model_name, criterion, optimizer, dataset, dataloader, max_name_len, epochs=10, epochs_print=1, device='cpu'):\n",
    "    start = time.time()\n",
    "\n",
    "    model_loss = 0\n",
    "    loss_print, acc_print = {}, {}\n",
    "    for e in range(1, epochs+1):\n",
    "        start_epoch = time.time()\n",
    "        model.train()\n",
    "        for line, (cat, x, y) in enumerate(dataloader):\n",
    "            cat, x, y = cat.to(device), x.to(device), y.to(device),\n",
    "            hidden = model.init_hidden(device)\n",
    "            optimizer.zero_grad()\n",
    "            loss = 0\n",
    "\n",
    "            for i in range(x.shape[1]):\n",
    "                output, hidden = model(cat[0], x[:, i], hidden)\n",
    "                loss += criterion(output, y[:, i])\n",
    "\n",
    "            model_loss = loss.item() / x.shape[1]\n",
    "            loss.backward()\n",
    "            optimizer.step()\n",
    "\n",
    "        model_loss = model_loss / len(dataloader)\n",
    "\n",
    "        if e % epochs_print == 0:\n",
    "            loss_print[e] = model_loss\n",
    "            pets_names = []\n",
    "            for i in range(5):\n",
    "                pets_names.append(generate_one_name(model, dataset, random.choice(dataset.genders), max_name_len, device))\n",
    "\n",
    "            test_names = [generate_one_name(model, dataset, random.choice(dataset.genders), max_name_len, device) for i in range(100)]\n",
    "            test_acc = test_pets_name(test_names, print_names=False, print_acc=False)\n",
    "            acc_print[e] = test_acc\n",
    "\n",
    "            print(f'Epoch: {e}. Loss: {model_loss}. Accuracy: {test_acc}. Time: {time.time() - start_epoch}')\n",
    "            print(pets_names, '\\n')\n",
    "\n",
    "    return (model_name, epochs, model_loss, time.time() - start), loss_print, acc_print"
   ]
  },
  {
   "cell_type": "code",
   "execution_count": null,
   "metadata": {
    "id": "DHJ-NdbtFy-N"
   },
   "outputs": [],
   "source": [
    "class RNNModel(nn.Module):\n",
    "    def __init__(self, input_size, hidden_size, output_size, categories_count):\n",
    "        super(RNNModel, self).__init__()\n",
    "        self.input_size = input_size\n",
    "        self.hidden_size = hidden_size\n",
    "        self.output_size = output_size\n",
    "        self.categories_count = categories_count\n",
    "\n",
    "        self.init_h = nn.Linear(self.categories_count + self.input_size + self.hidden_size, self.hidden_size)\n",
    "        self.init_o = nn.Linear(self.categories_count + self.input_size + self.hidden_size, self.output_size)\n",
    "        self.out = nn.Linear(self.hidden_size + self.output_size, self.output_size)\n",
    "        self.softmax = nn.LogSoftmax(dim=1)\n",
    "\n",
    "    def forward(self, category, input, hidden):\n",
    "        input = torch.cat((category, input, hidden), 1)\n",
    "\n",
    "        hidden = self.init_h(input)\n",
    "        output = self.init_o(input)\n",
    "\n",
    "        output = torch.cat((hidden, output), 1)\n",
    "        output = self.out(output)\n",
    "        output = self.softmax(output)\n",
    "\n",
    "        return output, hidden\n",
    "\n",
    "    def init_hidden(self, device):\n",
    "        return torch.zeros(1, self.hidden_size, device=device)"
   ]
  },
  {
   "cell_type": "code",
   "execution_count": null,
   "metadata": {
    "id": "obtBTfU8Fy-N",
    "outputId": "b42393f4-1a32-451d-9ce4-bee03ae43331"
   },
   "outputs": [
    {
     "name": "stdout",
     "output_type": "stream",
     "text": [
      "Epoch: 2. Loss: 6.273399059332469e-05. Accuracy: 0.81. Time: 47.9957058429718\n",
      "['<paly>', '<bsne>', '<menga>', '<kaxli>', '<capi>'] \n",
      "\n",
      "Epoch: 4. Loss: 8.942056401256536e-05. Accuracy: 0.91. Time: 47.15560293197632\n",
      "['<olkes>', '<irbes>', '<hdelo>', '<lih>', '<sirlo>'] \n",
      "\n",
      "Epoch: 6. Loss: 6.083852259031246e-05. Accuracy: 0.95. Time: 48.108388900756836\n",
      "['<pus>', '<fopki>', '<sera>', '<podher>', '<jridy>'] \n",
      "\n",
      "Epoch: 8. Loss: 8.174507846613087e-05. Accuracy: 0.98. Time: 46.81640291213989\n",
      "['<bisary>', '<carpts>', '<candie>', '<lamor>', '<senli>'] \n",
      "\n",
      "Epoch: 10. Loss: 7.94658265530186e-05. Accuracy: 1.0. Time: 46.98109006881714\n",
      "['<lensry>', '<etona>', '<rischa>', '<danye>', '<pangbo>'] \n",
      "\n",
      "Epoch: 12. Loss: 6.85395075641291e-05. Accuracy: 0.96. Time: 46.81837224960327\n",
      "['<bolze>', '<sai>', '<gakdo>', '<ctorin>', '<auno>'] \n",
      "\n",
      "Epoch: 14. Loss: 6.215875917724964e-05. Accuracy: 0.99. Time: 46.8684618473053\n",
      "['<niar>', '<kanew>', '<lef>', '<gatru>', '<budsel>'] \n",
      "\n",
      "Epoch: 16. Loss: 6.349741794463863e-05. Accuracy: 0.98. Time: 46.86492395401001\n",
      "['<kedo>', '<mukshiewn>', '<mickeutr>', '<iajyr>', '<pbury>'] \n",
      "\n",
      "Epoch: 18. Loss: 6.593974726679706e-05. Accuracy: 0.97. Time: 46.76624798774719\n",
      "['<brah>', '<orpy>', '<jiex>', '<lotin>', '<nekr>'] \n",
      "\n",
      "Epoch: 20. Loss: 6.718451138118806e-05. Accuracy: 1.0. Time: 46.670284032821655\n",
      "['<lime>', '<righend>', '<alido>', '<lumgats>', '<pond>'] \n",
      "\n",
      "Epoch: 22. Loss: 6.924912711000907e-05. Accuracy: 0.99. Time: 46.83523893356323\n",
      "['<kitcr>', '<kduatle>', '<tarce>', '<elui>', '<cery>'] \n",
      "\n",
      "Epoch: 24. Loss: 8.133706202189673e-05. Accuracy: 1.0. Time: 49.60603404045105\n",
      "['<jisgy>', '<pogy>', '<chues>', '<peyr>', '<katmeochi>'] \n",
      "\n",
      "Epoch: 26. Loss: 6.521437491746108e-05. Accuracy: 0.99. Time: 48.73846912384033\n",
      "['<harjes>', '<nabi>', '<cablir>', '<celko>', '<wilube>'] \n",
      "\n",
      "Epoch: 28. Loss: 5.738935694890662e-05. Accuracy: 0.99. Time: 46.85725688934326\n",
      "['<bondce>', '<diegm>', '<vajel>', '<nami>', '<timpo>'] \n",
      "\n",
      "Epoch: 30. Loss: 7.377186544650019e-05. Accuracy: 0.99. Time: 46.944772720336914\n",
      "['<baid>', '<talby>', '<eofrind>', '<frisky>', '<topa>'] \n",
      "\n",
      "Epoch: 32. Loss: 6.29460487697578e-05. Accuracy: 0.99. Time: 48.64331293106079\n",
      "['<binavos>', '<iref>', '<cel madbi>', '<argshu>', '<petul>'] \n",
      "\n",
      "Epoch: 34. Loss: 8.732553959422014e-05. Accuracy: 0.99. Time: 48.48069095611572\n",
      "['<mothy>', '<lea>', '<alexy>', '<paodi>', '<daesti>'] \n",
      "\n",
      "Epoch: 36. Loss: 5.9170016744648675e-05. Accuracy: 0.99. Time: 48.02142405509949\n",
      "['<taishey>', '<mapidhro>', '<chat>', '<stacky>', '<bondy>'] \n",
      "\n",
      "Epoch: 38. Loss: 5.942176586958638e-05. Accuracy: 0.98. Time: 46.54048681259155\n",
      "['<joufi>', '<aming>', '<oul>', '<wino>', '<swiegby>'] \n",
      "\n",
      "Epoch: 40. Loss: 7.355323698365914e-05. Accuracy: 0.99. Time: 46.09481191635132\n",
      "['<funche>', '<bait>', '<lanice>', '<chiptor>', '<fidy>'] \n",
      "\n"
     ]
    }
   ],
   "source": [
    "model = RNNModel(names_dataset.vocab_size, hidden_size, names_dataset.vocab_size, len(names_dataset.genders_vocab)).to(device)\n",
    "criterion = nn.CrossEntropyLoss()\n",
    "optimizer = optim.SGD(model.parameters(), lr=learning_rate)\n",
    "\n",
    "df_result.loc[len(df_result), df_result.columns[:-1]], train_loss, test_acc = train_model(model, model.__class__.__name__, criterion, optimizer,\n",
    "                                                   names_dataset, names_dataloader, max_name_len, epochs=epochs, epochs_print=epochs_print, device=device)\n",
    "\n",
    "pets_names = [generate_one_name(model, names_dataset, random.choice(names_dataset.genders), max_name_len) for i in range(100)]\n",
    "df_result.loc[len(df_result)-1, df_result.columns[-1]] = test_pets_name(pets_names, print_names=False, print_acc=False)"
   ]
  },
  {
   "cell_type": "code",
   "execution_count": null,
   "metadata": {
    "id": "1EK-Z9ztFy-N",
    "outputId": "5f4a1b4e-8cc0-4690-b2a6-65b063ab1204"
   },
   "outputs": [
    {
     "data": {
      "text/html": [
       "<div>\n",
       "<style scoped>\n",
       "    .dataframe tbody tr th:only-of-type {\n",
       "        vertical-align: middle;\n",
       "    }\n",
       "\n",
       "    .dataframe tbody tr th {\n",
       "        vertical-align: top;\n",
       "    }\n",
       "\n",
       "    .dataframe thead th {\n",
       "        text-align: right;\n",
       "    }\n",
       "</style>\n",
       "<table border=\"1\" class=\"dataframe\">\n",
       "  <thead>\n",
       "    <tr style=\"text-align: right;\">\n",
       "      <th></th>\n",
       "      <th>Model</th>\n",
       "      <th>Epochs</th>\n",
       "      <th>Train loss</th>\n",
       "      <th>Time</th>\n",
       "      <th>Test accuracy</th>\n",
       "    </tr>\n",
       "  </thead>\n",
       "  <tbody>\n",
       "    <tr>\n",
       "      <th>0</th>\n",
       "      <td>RNNModel</td>\n",
       "      <td>40</td>\n",
       "      <td>0.000074</td>\n",
       "      <td>1894.816932</td>\n",
       "      <td>1.0</td>\n",
       "    </tr>\n",
       "  </tbody>\n",
       "</table>\n",
       "</div>"
      ],
      "text/plain": [
       "      Model Epochs Train loss         Time Test accuracy\n",
       "0  RNNModel     40   0.000074  1894.816932           1.0"
      ]
     },
     "execution_count": 30,
     "metadata": {},
     "output_type": "execute_result"
    }
   ],
   "source": [
    "df_result"
   ]
  },
  {
   "cell_type": "code",
   "execution_count": null,
   "metadata": {
    "id": "CI1yCwVdFy-N",
    "outputId": "cd7dbaea-1647-4203-f5b2-edff4c8a44b6"
   },
   "outputs": [
    {
     "data": {
      "image/png": "[encoded data removed]",
      "text/plain": [
       "<Figure size 640x480 with 1 Axes>"
      ]
     },
     "metadata": {},
     "output_type": "display_data"
    }
   ],
   "source": [
    "plt.plot(train_loss.keys(), train_loss.values())\n",
    "plt.xlabel('Epoch')\n",
    "plt.ylabel('Loss')\n",
    "plt.title('Train loss')\n",
    "plt.show()"
   ]
  },
  {
   "cell_type": "code",
   "execution_count": null,
   "metadata": {
    "id": "4ij7dGCCFy-N",
    "outputId": "010bdd7d-929c-4e44-a87a-0a4a859ff49b"
   },
   "outputs": [
    {
     "data": {
      "image/png": "[encoded data removed]",
      "text/plain": [
       "<Figure size 640x480 with 1 Axes>"
      ]
     },
     "metadata": {},
     "output_type": "display_data"
    }
   ],
   "source": [
    "plt.plot(train_loss.keys(), test_acc.values())\n",
    "plt.xlabel('Epoch')\n",
    "plt.ylabel('Accuracy')\n",
    "plt.title('Test accuracy')\n",
    "plt.show()"
   ]
  },
  {
   "cell_type": "markdown",
   "metadata": {
    "id": "uBGeQ7yZFy-O"
   },
   "source": [
    "## 6.1. Добавление слоя Dropout"
   ]
  },
  {
   "cell_type": "code",
   "execution_count": null,
   "metadata": {
    "id": "dAU2jfkKFy-O"
   },
   "outputs": [],
   "source": [
    "class RNNModel_Dropout(nn.Module):\n",
    "    def __init__(self, input_size, hidden_size, output_size, categories_count, drop=0.2):\n",
    "        super(RNNModel_Dropout, self).__init__()\n",
    "        self.input_size = input_size\n",
    "        self.hidden_size = hidden_size\n",
    "        self.output_size = output_size\n",
    "        self.categories_count = categories_count\n",
    "\n",
    "        self.init_h = nn.Linear(self.categories_count + self.input_size + self.hidden_size, self.hidden_size)\n",
    "        self.init_o = nn.Linear(self.categories_count + self.input_size + self.hidden_size, self.output_size)\n",
    "        self.out = nn.Linear(self.hidden_size + self.output_size, self.output_size)\n",
    "        self.dropout = nn.Dropout(drop)\n",
    "        self.softmax = nn.LogSoftmax(dim=1) \n",
    "\n",
    "    def forward(self, category, input, hidden):\n",
    "        input = torch.cat((category, input, hidden), 1)\n",
    "\n",
    "        hidden = self.init_h(input)\n",
    "        output = self.init_o(input)\n",
    "\n",
    "        output = torch.cat((hidden, output), 1)\n",
    "        output = self.dropout(output)\n",
    "        output = self.out(output)\n",
    "        output = self.softmax(output)\n",
    "\n",
    "        return output, hidden\n",
    "\n",
    "    def init_hidden(self, device):\n",
    "        return torch.zeros(1, self.hidden_size, device=device)"
   ]
  },
  {
   "cell_type": "code",
   "execution_count": null,
   "metadata": {
    "id": "sX6CQ3P8Fy-O",
    "outputId": "a309a15a-d011-4f88-cf7f-6e2b1f1b77fe"
   },
   "outputs": [
    {
     "name": "stdout",
     "output_type": "stream",
     "text": [
      "Epoch: 2. Loss: 6.978548000285028e-05. Accuracy: 0.83. Time: 53.23875403404236\n",
      "['<saz ieh>', '<oihnmk>', '<dably>', '<neritasy>', '<fumnqa>'] \n",
      "\n",
      "Epoch: 4. Loss: 6.358137756550867e-05. Accuracy: 0.93. Time: 52.39021420478821\n",
      "['<chin>', '<mbrka>', '<mcxiel>', '<punla>', '<kulronpy>'] \n",
      "\n",
      "Epoch: 6. Loss: 6.815798776337727e-05. Accuracy: 0.96. Time: 51.72907304763794\n",
      "['<pausol>', '<pin esyo>', '<marspouxte>', '<nivak>', '<bukore>'] \n",
      "\n",
      "Epoch: 8. Loss: 6.752315434442805e-05. Accuracy: 0.97. Time: 52.67322516441345\n",
      "['<wochle>', '<chamblie>', '<kanbedi>', '<irlon>', '<vecnu>'] \n",
      "\n",
      "Epoch: 10. Loss: 5.556662373813698e-05. Accuracy: 0.96. Time: 52.10756778717041\n",
      "['<prghom>', '<beriph>', '<qipas>', '<blay>', '<dyues>'] \n",
      "\n",
      "Epoch: 12. Loss: 6.178089180493873e-05. Accuracy: 0.97. Time: 52.7323100566864\n",
      "['<laite>', '<judey>', '<eloin>', '<buro>', '<jalein>'] \n",
      "\n",
      "Epoch: 14. Loss: 7.941699568304259e-05. Accuracy: 0.97. Time: 54.05173397064209\n",
      "['<matsi>', '<mofgi>', '<eruo>', '<cerxais>', '<toucy>'] \n",
      "\n",
      "Epoch: 16. Loss: 6.421504196348898e-05. Accuracy: 0.95. Time: 52.497546911239624\n",
      "['<dorkpi>', '<anlih>', '<pondas>', '<hitul>', '<ious>'] \n",
      "\n",
      "Epoch: 18. Loss: 6.005839984583072e-05. Accuracy: 0.97. Time: 51.72223615646362\n",
      "['<mukahi>', '<prace>', '<mapio>', '<zusgya>', '<romikes>'] \n",
      "\n",
      "Epoch: 20. Loss: 5.4509711949247355e-05. Accuracy: 0.98. Time: 51.500239849090576\n",
      "['<robav>', '<mudon>', '<diklec>', '<vizun>', '<meln>'] \n",
      "\n",
      "Epoch: 22. Loss: 6.227343892715342e-05. Accuracy: 0.99. Time: 51.43854784965515\n",
      "['<baig>', '<sichy>', '<pogcieta>', '<hanig>', '<piaz>'] \n",
      "\n",
      "Epoch: 24. Loss: 6.092696399338429e-05. Accuracy: 0.98. Time: 52.369990825653076\n",
      "['<mator ke>', '<erka>', '<msolecwan>', '<perwond>', '<maroitey>'] \n",
      "\n",
      "Epoch: 26. Loss: 5.512017336200022e-05. Accuracy: 0.98. Time: 54.44453501701355\n",
      "['<arqinuko>', '<zeisha>', '<suly>', '<chape>', '<darbe>'] \n",
      "\n",
      "Epoch: 28. Loss: 6.232983823446409e-05. Accuracy: 0.97. Time: 54.334954023361206\n",
      "['<bersa>', '<maobley>', '<gler>', '<koch>', '<saven>'] \n",
      "\n",
      "Epoch: 30. Loss: 5.4999051295319276e-05. Accuracy: 0.94. Time: 53.8043429851532\n",
      "['<dowetg>', '<elsy>', '<brenlicdto>', '<maupden>', '<ranish>'] \n",
      "\n",
      "Epoch: 32. Loss: 6.731567801728616e-05. Accuracy: 0.98. Time: 52.786405086517334\n",
      "['<orish>', '<khencita>', '<herlni>', '<del>', '<fley>'] \n",
      "\n",
      "Epoch: 34. Loss: 5.886868222274565e-05. Accuracy: 0.98. Time: 52.86200785636902\n",
      "['<riel>', '<rhpiwsnd>', '<porsima>', '<mey>', '<kina>'] \n",
      "\n",
      "Epoch: 36. Loss: 6.165905301077828e-05. Accuracy: 0.99. Time: 52.60845422744751\n",
      "['<nerdais>', '<sizu>', '<bink>', '<caine>', '<hangit>'] \n",
      "\n",
      "Epoch: 38. Loss: 5.670303978470705e-05. Accuracy: 1.0. Time: 54.014962911605835\n",
      "['<ropylsh>', '<huabger>', '<bectari>', '<gonj>', '<kivam>'] \n",
      "\n",
      "Epoch: 40. Loss: 5.8093419153952216e-05. Accuracy: 0.99. Time: 52.01847696304321\n",
      "['<sablou>', '<kucar>', '<klove>', '<kabi>', '<sion>'] \n",
      "\n"
     ]
    }
   ],
   "source": [
    "model = RNNModel_Dropout(names_dataset.vocab_size, hidden_size, names_dataset.vocab_size, len(names_dataset.genders_vocab), drop=0.2).to(device)\n",
    "criterion = nn.CrossEntropyLoss()\n",
    "optimizer = optim.SGD(model.parameters(), lr=learning_rate)\n",
    "\n",
    "df_result.loc[len(df_result), df_result.columns[:-1]], train_loss, test_acc = train_model(model, model.__class__.__name__ + ' (drop=0.2)', criterion, optimizer,\n",
    "                                                   names_dataset, names_dataloader, max_name_len, epochs=epochs, epochs_print=epochs_print)\n",
    "\n",
    "pets_names = [generate_one_name(model, names_dataset, random.choice(names_dataset.genders), max_name_len) for i in range(100)]\n",
    "df_result.loc[len(df_result)-1, df_result.columns[-1]] = test_pets_name(pets_names, print_names=False, print_acc=False)"
   ]
  },
  {
   "cell_type": "code",
   "execution_count": null,
   "metadata": {
    "id": "ZRKe5aSPFy-O",
    "outputId": "68188a3b-9457-4f2b-f3a7-a40c6e6c3f00"
   },
   "outputs": [
    {
     "data": {
      "text/html": [
       "<div>\n",
       "<style scoped>\n",
       "    .dataframe tbody tr th:only-of-type {\n",
       "        vertical-align: middle;\n",
       "    }\n",
       "\n",
       "    .dataframe tbody tr th {\n",
       "        vertical-align: top;\n",
       "    }\n",
       "\n",
       "    .dataframe thead th {\n",
       "        text-align: right;\n",
       "    }\n",
       "</style>\n",
       "<table border=\"1\" class=\"dataframe\">\n",
       "  <thead>\n",
       "    <tr style=\"text-align: right;\">\n",
       "      <th></th>\n",
       "      <th>Model</th>\n",
       "      <th>Epochs</th>\n",
       "      <th>Train loss</th>\n",
       "      <th>Time</th>\n",
       "      <th>Test accuracy</th>\n",
       "    </tr>\n",
       "  </thead>\n",
       "  <tbody>\n",
       "    <tr>\n",
       "      <th>0</th>\n",
       "      <td>RNNModel</td>\n",
       "      <td>40</td>\n",
       "      <td>0.000074</td>\n",
       "      <td>1894.816932</td>\n",
       "      <td>1.0</td>\n",
       "    </tr>\n",
       "    <tr>\n",
       "      <th>1</th>\n",
       "      <td>RNNModel_Dropout (drop=0.2)</td>\n",
       "      <td>40</td>\n",
       "      <td>0.000058</td>\n",
       "      <td>2104.176277</td>\n",
       "      <td>0.97</td>\n",
       "    </tr>\n",
       "  </tbody>\n",
       "</table>\n",
       "</div>"
      ],
      "text/plain": [
       "                         Model Epochs Train loss         Time Test accuracy\n",
       "0                     RNNModel     40   0.000074  1894.816932           1.0\n",
       "1  RNNModel_Dropout (drop=0.2)     40   0.000058  2104.176277          0.97"
      ]
     },
     "execution_count": 36,
     "metadata": {},
     "output_type": "execute_result"
    }
   ],
   "source": [
    "df_result"
   ]
  },
  {
   "cell_type": "code",
   "execution_count": null,
   "metadata": {
    "id": "LCEH-1dcFy-O",
    "outputId": "f1d6721a-ecd5-438b-c2d9-80e82c6a75d9"
   },
   "outputs": [
    {
     "data": {
      "image/png": "[encoded data removed]",
      "text/plain": [
       "<Figure size 1200x400 with 2 Axes>"
      ]
     },
     "metadata": {},
     "output_type": "display_data"
    }
   ],
   "source": [
    "fig, ax = plt.subplots(1, 2, figsize=(12, 4))\n",
    "ax[0].plot(train_loss.keys(), train_loss.values())\n",
    "ax[1].plot(train_loss.keys(), test_acc.values())\n",
    "ax[0].set_title('Train loss')\n",
    "ax[1].set_title('Test accuracy')\n",
    "ax[0].set_xlabel('Epoch')\n",
    "ax[1].set_xlabel('Epoch')\n",
    "plt.show()"
   ]
  },
  {
   "cell_type": "code",
   "execution_count": null,
   "metadata": {
    "id": "LydJOW5sFy-O",
    "outputId": "0dedaa5f-fe1b-4415-98b2-1a19cee18faa"
   },
   "outputs": [
    {
     "name": "stdout",
     "output_type": "stream",
     "text": [
      "Epoch: 2. Loss: 9.266378390214174e-05. Accuracy: 0.79. Time: 52.339441776275635\n",
      "['<lienkay>', '<mercdy>', '<csbilenk>', '<manc>', '<jgsihp>'] \n",
      "\n",
      "Epoch: 4. Loss: 6.763012500624052e-05. Accuracy: 0.91. Time: 51.788777112960815\n",
      "['<turaney>', '<hotmean>', '<teyvim>', '<>', '<sroniu>'] \n",
      "\n",
      "Epoch: 6. Loss: 6.518001882106325e-05. Accuracy: 0.94. Time: 51.47011995315552\n",
      "['<letdiy>', '<thima>', '<kondi>', '<tuibe>', '<terla>'] \n",
      "\n",
      "Epoch: 8. Loss: 5.569108654988148e-05. Accuracy: 0.96. Time: 51.955981731414795\n",
      "['<lenbcu>', '<galpe>', '<ywdi>', '<depiark>', '<toskel>'] \n",
      "\n",
      "Epoch: 10. Loss: 8.060237123985593e-05. Accuracy: 0.98. Time: 52.019246101379395\n",
      "['<wlemnai y>', '<vadumen>', '<gnyrdlape>', '<me bindurwy>', '<shiwl>'] \n",
      "\n",
      "Epoch: 12. Loss: 6.84744552174201e-05. Accuracy: 0.96. Time: 52.00345587730408\n",
      "['<nisha>', '<ratcil>', '<dorags>', '<bary>', '<curita>'] \n",
      "\n",
      "Epoch: 14. Loss: 5.469265700419377e-05. Accuracy: 0.98. Time: 52.286683320999146\n",
      "['<pagke>', '<fan>', '<mdowus>', '<diwre>', '<darkfetn>'] \n",
      "\n",
      "Epoch: 16. Loss: 6.416883316015457e-05. Accuracy: 0.98. Time: 53.54388499259949\n",
      "['<chgekali>', '<dinobl>', '<kobulta>', '<schy>', '<tseochabl>'] \n",
      "\n",
      "Epoch: 18. Loss: 6.119009247784865e-05. Accuracy: 0.99. Time: 52.047327280044556\n",
      "['<zo>', '<praky>', '<grin>', '<tonea>', '<maritoe>'] \n",
      "\n",
      "Epoch: 20. Loss: 5.3834002120070104e-05. Accuracy: 0.97. Time: 51.998499155044556\n",
      "['<wegty>', '<pime>', '<arelis>', '<kusil>', '<kelnambi>'] \n",
      "\n",
      "Epoch: 22. Loss: 6.047193136047966e-05. Accuracy: 0.98. Time: 51.90737009048462\n",
      "['<melio>', '<samk>', '<aper>', '<brlote>', '<hato>'] \n",
      "\n",
      "Epoch: 24. Loss: 7.064606327164362e-05. Accuracy: 0.97. Time: 52.54481816291809\n",
      "['<gihpe>', '<rlist>', '<pekblo>', '<sharle>', '<guislyr>'] \n",
      "\n",
      "Epoch: 26. Loss: 4.8657264143504255e-05. Accuracy: 0.97. Time: 51.43348789215088\n",
      "['<mugce>', '<sochie>', '<garn>', '<dwarliy>', '<nida>'] \n",
      "\n",
      "Epoch: 28. Loss: 6.204354230850488e-05. Accuracy: 0.98. Time: 51.59484124183655\n",
      "['<tanku>', '<bul>', '<oardu>', '<dabornt>', '<muzle>'] \n",
      "\n",
      "Epoch: 30. Loss: 7.020994411120673e-05. Accuracy: 0.99. Time: 51.58613896369934\n",
      "['<axolis>', '<wuba>', '<zrog>', '<tumy>', '<shar>'] \n",
      "\n",
      "Epoch: 32. Loss: 5.333025780757925e-05. Accuracy: 1.0. Time: 51.87012600898743\n",
      "['<rysoka>', '<pret>', '<mansuc>', '<docare>', '<the>'] \n",
      "\n",
      "Epoch: 34. Loss: 6.586438931050775e-05. Accuracy: 0.97. Time: 52.26313781738281\n",
      "['<snalfe>', '<balontch>', '<tanpy>', '<pyade>', '<loche>'] \n",
      "\n",
      "Epoch: 36. Loss: 6.06875915863296e-05. Accuracy: 0.97. Time: 52.13998508453369\n",
      "['<mucha>', '<alimhe>', '<botdi>', '<fejun>', '<stave>'] \n",
      "\n",
      "Epoch: 38. Loss: 6.158146707822056e-05. Accuracy: 0.99. Time: 52.501375913619995\n",
      "['<podger>', '<pilunrah>', '<sarey>', '<lastey>', '<jiopy>'] \n",
      "\n",
      "Epoch: 40. Loss: 6.94416526132947e-05. Accuracy: 1.0. Time: 51.92547011375427\n",
      "['<pialey>', '<tckquis>', '<rkazt>', '<cuvelo>', '<ruavi>'] \n",
      "\n"
     ]
    }
   ],
   "source": [
    "model = RNNModel_Dropout(names_dataset.vocab_size, hidden_size, names_dataset.vocab_size, len(names_dataset.genders_vocab), drop=0.5).to(device)\n",
    "criterion = nn.CrossEntropyLoss()\n",
    "optimizer = optim.SGD(model.parameters(), lr=learning_rate)\n",
    "\n",
    "df_result.loc[len(df_result), df_result.columns[:-1]], train_loss, test_acc = train_model(model, model.__class__.__name__ + ' (drop=0.5)', criterion, optimizer,\n",
    "                                                   names_dataset, names_dataloader, max_name_len, epochs=epochs, epochs_print=epochs_print)\n",
    "\n",
    "pets_names = [generate_one_name(model, names_dataset, random.choice(names_dataset.genders), max_name_len) for i in range(100)]\n",
    "df_result.loc[len(df_result)-1, df_result.columns[-1]] = test_pets_name(pets_names, print_names=False, print_acc=False)"
   ]
  },
  {
   "cell_type": "code",
   "execution_count": null,
   "metadata": {
    "id": "QHrSFKz_Fy-O",
    "outputId": "ef26e91f-a905-4d90-cadf-70ae74680865"
   },
   "outputs": [
    {
     "data": {
      "text/html": [
       "<div>\n",
       "<style scoped>\n",
       "    .dataframe tbody tr th:only-of-type {\n",
       "        vertical-align: middle;\n",
       "    }\n",
       "\n",
       "    .dataframe tbody tr th {\n",
       "        vertical-align: top;\n",
       "    }\n",
       "\n",
       "    .dataframe thead th {\n",
       "        text-align: right;\n",
       "    }\n",
       "</style>\n",
       "<table border=\"1\" class=\"dataframe\">\n",
       "  <thead>\n",
       "    <tr style=\"text-align: right;\">\n",
       "      <th></th>\n",
       "      <th>Model</th>\n",
       "      <th>Epochs</th>\n",
       "      <th>Train loss</th>\n",
       "      <th>Time</th>\n",
       "      <th>Test accuracy</th>\n",
       "    </tr>\n",
       "  </thead>\n",
       "  <tbody>\n",
       "    <tr>\n",
       "      <th>0</th>\n",
       "      <td>RNNModel</td>\n",
       "      <td>40</td>\n",
       "      <td>0.000074</td>\n",
       "      <td>1894.816932</td>\n",
       "      <td>1.0</td>\n",
       "    </tr>\n",
       "    <tr>\n",
       "      <th>1</th>\n",
       "      <td>RNNModel_Dropout (drop=0.2)</td>\n",
       "      <td>40</td>\n",
       "      <td>0.000058</td>\n",
       "      <td>2104.176277</td>\n",
       "      <td>0.97</td>\n",
       "    </tr>\n",
       "    <tr>\n",
       "      <th>2</th>\n",
       "      <td>RNNModel_Dropout (drop=0.5)</td>\n",
       "      <td>40</td>\n",
       "      <td>0.000069</td>\n",
       "      <td>2084.027942</td>\n",
       "      <td>0.98</td>\n",
       "    </tr>\n",
       "  </tbody>\n",
       "</table>\n",
       "</div>"
      ],
      "text/plain": [
       "                         Model Epochs Train loss         Time Test accuracy\n",
       "0                     RNNModel     40   0.000074  1894.816932           1.0\n",
       "1  RNNModel_Dropout (drop=0.2)     40   0.000058  2104.176277          0.97\n",
       "2  RNNModel_Dropout (drop=0.5)     40   0.000069  2084.027942          0.98"
      ]
     },
     "execution_count": 53,
     "metadata": {},
     "output_type": "execute_result"
    }
   ],
   "source": [
    "df_result"
   ]
  },
  {
   "cell_type": "code",
   "execution_count": null,
   "metadata": {
    "id": "gGhq7vNEFy-O",
    "outputId": "0b8304bc-1282-49bc-c8f4-26cc95019ddf"
   },
   "outputs": [
    {
     "data": {
      "image/png": "[encoded data removed]",
      "text/plain": [
       "<Figure size 1200x400 with 2 Axes>"
      ]
     },
     "metadata": {},
     "output_type": "display_data"
    }
   ],
   "source": [
    "fig, ax = plt.subplots(1, 2, figsize=(12, 4))\n",
    "ax[0].plot(train_loss.keys(), train_loss.values())\n",
    "ax[1].plot(train_loss.keys(), test_acc.values())\n",
    "ax[0].set_title('Train loss')\n",
    "ax[1].set_title('Test accuracy')\n",
    "ax[0].set_xlabel('Epoch')\n",
    "ax[1].set_xlabel('Epoch')\n",
    "plt.show()"
   ]
  },
  {
   "cell_type": "markdown",
   "metadata": {
    "id": "HyHmU6piFy-O"
   },
   "source": [
    "Добавление слоя Dropout по идее должно снизить вероятность переобучения модели, в случае задачи генерации новых кличек это важно, потому что модель должна скорее научиться закономерностям построения кличек (правилам), а не просто дублировать уже имещиеся из набора данных.\n",
    "\n",
    "Train loss при добавлении слоя Dropout в случае 40 эпох уменьшается заметнее, чем в изначальном варианте, а график Test Accuracy немного более гладкий. Дальнейшие эксперименты можно проводить используя 2 варианта RNN-модели - со слоем Dropout и без него."
   ]
  },
  {
   "cell_type": "markdown",
   "metadata": {
    "id": "oBoZtq2IFy-O"
   },
   "source": [
    "## 6.2. Использование оптимизатора Adam"
   ]
  },
  {
   "cell_type": "code",
   "execution_count": null,
   "metadata": {
    "id": "ABrrRxFEFy-O",
    "outputId": "4d39830d-0857-48fd-e738-47403e6e1c29"
   },
   "outputs": [
    {
     "name": "stdout",
     "output_type": "stream",
     "text": [
      "Epoch: 2. Loss: 6.807854833388838e-05. Accuracy: 0.98. Time: 64.35667681694031\n",
      "['<caevin>', '<chin>', '<stid>', '<goad>', '<waromi>'] \n",
      "\n",
      "Epoch: 4. Loss: 6.694314098552761e-05. Accuracy: 0.99. Time: 64.97548699378967\n",
      "['<iahue>', '<rashio>', '<mayfko>', '<kichordy>', '<avon>'] \n",
      "\n",
      "Epoch: 6. Loss: 7.61290931148568e-05. Accuracy: 1.0. Time: 71.40609192848206\n",
      "['<yumied>', '<geksibulfy>', '<suckoy>', '<scole>', '<olyu>'] \n",
      "\n",
      "Epoch: 8. Loss: 6.198271497152112e-05. Accuracy: 0.99. Time: 83.48323726654053\n",
      "['<apelo>', '<krdon>', '<nilamed>', '<fbet>', '<bageru>'] \n",
      "\n",
      "Epoch: 10. Loss: 7.019835222088781e-05. Accuracy: 0.98. Time: 77.63418912887573\n",
      "['<kizhoe>', '<dambi>', '<frinkablo>', '<siruke>', '<arglis>'] \n",
      "\n",
      "Epoch: 12. Loss: 5.7138557811004114e-05. Accuracy: 0.98. Time: 80.14419102668762\n",
      "['<chanite>', '<rems>', '<phmiltaron>', '<flokvy>', '<kamied>'] \n",
      "\n",
      "Epoch: 14. Loss: 6.1027282368239315e-05. Accuracy: 0.99. Time: 87.01045417785645\n",
      "['<oudise>', '<miro>', '<nertom>', '<eas>', '<monges>'] \n",
      "\n",
      "Epoch: 16. Loss: 5.7244177567109626e-05. Accuracy: 0.97. Time: 82.6995120048523\n",
      "['<sothi>', '<firne>', '<fale>', '<dosn>', '<dref>'] \n",
      "\n",
      "Epoch: 18. Loss: 6.029972573561672e-05. Accuracy: 0.99. Time: 76.40523386001587\n",
      "['<vard>', '<pas>', '<fentosar>', '<terusca>', '<monde>'] \n",
      "\n",
      "Epoch: 20. Loss: 5.841290183018328e-05. Accuracy: 0.99. Time: 77.95119309425354\n",
      "['<lora>', '<sonde>', '<phermy>', '<questy>', '<bacheoj>'] \n",
      "\n",
      "Epoch: 22. Loss: 6.67379890234041e-05. Accuracy: 1.0. Time: 75.99224281311035\n",
      "['<tokride>', '<chelko>', '<oupse>', '<shi>', '<neha>'] \n",
      "\n",
      "Epoch: 24. Loss: 5.787458559828698e-05. Accuracy: 0.99. Time: 76.4776246547699\n",
      "['<akiote>', '<rocky>', '<janke>', '<flyok>', '<karsy>'] \n",
      "\n",
      "Epoch: 26. Loss: 5.8549206618680916e-05. Accuracy: 0.97. Time: 80.26775217056274\n",
      "['<lmatzi>', '<soma>', '<hlitow>', '<nozmey>', '<baimol>'] \n",
      "\n",
      "Epoch: 28. Loss: 5.239839563734041e-05. Accuracy: 0.99. Time: 81.45801997184753\n",
      "['<noxsi>', '<dahi>', '<hanty>', '<kizoy>', '<doks>'] \n",
      "\n",
      "Epoch: 30. Loss: 5.297518628319502e-05. Accuracy: 1.0. Time: 84.44567084312439\n",
      "['<bhal>', '<fine>', '<furdo>', '<marny>', '<over>'] \n",
      "\n",
      "Epoch: 32. Loss: 6.038618195314257e-05. Accuracy: 1.0. Time: 77.5784649848938\n",
      "['<cobita>', '<chole>', '<ptanki>', '<kaldi>', '<ruchow>'] \n",
      "\n",
      "Epoch: 34. Loss: 6.190644287676398e-05. Accuracy: 0.99. Time: 78.39702296257019\n",
      "['<einal>', '<ta>', '<mangi>', '<flev>', '<jondi>'] \n",
      "\n",
      "Epoch: 36. Loss: 7.811091572380937e-05. Accuracy: 0.98. Time: 75.13321280479431\n",
      "['<gely>', '<gaentro>', '<blit>', '<tabro>', '<mare>'] \n",
      "\n",
      "Epoch: 38. Loss: 6.801313622119975e-05. Accuracy: 1.0. Time: 77.46897315979004\n",
      "['<bamp>', '<macjesto>', '<ongesti>', '<faely>', '<kalben>'] \n",
      "\n",
      "Epoch: 40. Loss: 6.12288153321335e-05. Accuracy: 0.98. Time: 78.5530731678009\n",
      "['<dol>', '<iolay>', '<doul>', '<chis>', '<both>'] \n",
      "\n"
     ]
    }
   ],
   "source": [
    "model = RNNModel(names_dataset.vocab_size, hidden_size, names_dataset.vocab_size, len(names_dataset.genders_vocab)).to(device)\n",
    "criterion = nn.CrossEntropyLoss()\n",
    "optimizer = optim.Adam(model.parameters(), lr=learning_rate)\n",
    "\n",
    "df_result.loc[len(df_result), df_result.columns[:-1]], train_loss, test_acc = train_model(model, model.__class__.__name__ + ' (Adam)', criterion, optimizer,\n",
    "                                                   names_dataset, names_dataloader, max_name_len, epochs=epochs, epochs_print=epochs_print)\n",
    "\n",
    "pets_names = [generate_one_name(model, names_dataset, random.choice(names_dataset.genders), max_name_len) for i in range(100)]\n",
    "df_result.loc[len(df_result)-1, df_result.columns[-1]] = test_pets_name(pets_names, print_names=False, print_acc=False)"
   ]
  },
  {
   "cell_type": "code",
   "execution_count": null,
   "metadata": {
    "id": "XmaunqFuFy-O",
    "outputId": "8e6439cb-be2a-452f-aeb7-e04321201639"
   },
   "outputs": [
    {
     "data": {
      "text/html": [
       "<div>\n",
       "<style scoped>\n",
       "    .dataframe tbody tr th:only-of-type {\n",
       "        vertical-align: middle;\n",
       "    }\n",
       "\n",
       "    .dataframe tbody tr th {\n",
       "        vertical-align: top;\n",
       "    }\n",
       "\n",
       "    .dataframe thead th {\n",
       "        text-align: right;\n",
       "    }\n",
       "</style>\n",
       "<table border=\"1\" class=\"dataframe\">\n",
       "  <thead>\n",
       "    <tr style=\"text-align: right;\">\n",
       "      <th></th>\n",
       "      <th>Model</th>\n",
       "      <th>Epochs</th>\n",
       "      <th>Train loss</th>\n",
       "      <th>Time</th>\n",
       "      <th>Test accuracy</th>\n",
       "    </tr>\n",
       "  </thead>\n",
       "  <tbody>\n",
       "    <tr>\n",
       "      <th>0</th>\n",
       "      <td>RNNModel</td>\n",
       "      <td>40</td>\n",
       "      <td>0.000074</td>\n",
       "      <td>1894.816932</td>\n",
       "      <td>1.0</td>\n",
       "    </tr>\n",
       "    <tr>\n",
       "      <th>1</th>\n",
       "      <td>RNNModel_Dropout (drop=0.2)</td>\n",
       "      <td>40</td>\n",
       "      <td>0.000058</td>\n",
       "      <td>2104.176277</td>\n",
       "      <td>0.97</td>\n",
       "    </tr>\n",
       "    <tr>\n",
       "      <th>2</th>\n",
       "      <td>RNNModel_Dropout (drop=0.5)</td>\n",
       "      <td>40</td>\n",
       "      <td>0.000069</td>\n",
       "      <td>2084.027942</td>\n",
       "      <td>0.98</td>\n",
       "    </tr>\n",
       "    <tr>\n",
       "      <th>3</th>\n",
       "      <td>RNNModel (Adam)</td>\n",
       "      <td>40</td>\n",
       "      <td>0.000061</td>\n",
       "      <td>3088.182912</td>\n",
       "      <td>1.0</td>\n",
       "    </tr>\n",
       "  </tbody>\n",
       "</table>\n",
       "</div>"
      ],
      "text/plain": [
       "                         Model Epochs Train loss         Time Test accuracy\n",
       "0                     RNNModel     40   0.000074  1894.816932           1.0\n",
       "1  RNNModel_Dropout (drop=0.2)     40   0.000058  2104.176277          0.97\n",
       "2  RNNModel_Dropout (drop=0.5)     40   0.000069  2084.027942          0.98\n",
       "3              RNNModel (Adam)     40   0.000061  3088.182912           1.0"
      ]
     },
     "execution_count": 65,
     "metadata": {},
     "output_type": "execute_result"
    }
   ],
   "source": [
    "df_result"
   ]
  },
  {
   "cell_type": "code",
   "execution_count": null,
   "metadata": {
    "id": "JZRJx_R7Fy-O",
    "outputId": "30cc06d7-b0a3-4865-d306-66f239301152"
   },
   "outputs": [
    {
     "data": {
      "image/png": "[encoded data removed]",
      "text/plain": [
       "<Figure size 1200x400 with 2 Axes>"
      ]
     },
     "metadata": {},
     "output_type": "display_data"
    }
   ],
   "source": [
    "fig, ax = plt.subplots(1, 2, figsize=(12, 4))\n",
    "ax[0].plot(train_loss.keys(), train_loss.values())\n",
    "ax[1].plot(train_loss.keys(), test_acc.values())\n",
    "ax[0].set_title('Train loss')\n",
    "ax[1].set_title('Test accuracy')\n",
    "ax[0].set_xlabel('Epoch')\n",
    "ax[1].set_xlabel('Epoch')\n",
    "plt.show()"
   ]
  },
  {
   "cell_type": "code",
   "execution_count": null,
   "metadata": {
    "id": "QBpgZ2_BFy-O",
    "outputId": "9f558b39-b390-43d5-8594-3cfc1fca61a2"
   },
   "outputs": [
    {
     "name": "stdout",
     "output_type": "stream",
     "text": [
      "Epoch: 2. Loss: 7.198552109221871e-05. Accuracy: 0.95. Time: 79.99462413787842\n",
      "['<luconik>', '<yailo>', '<lowina>', '<fetra>', '<frocha>'] \n",
      "\n",
      "Epoch: 4. Loss: 6.24629534759374e-05. Accuracy: 0.98. Time: 82.43247389793396\n",
      "['<sidorn>', '<>', '<lyesan>', '<riglon>', '<motisuba>'] \n",
      "\n",
      "Epoch: 6. Loss: 5.773202444221366e-05. Accuracy: 0.97. Time: 91.33924627304077\n",
      "['<namprest>', '<chupfer>', '<cimby>', '<mkeszona>', '<tinus>'] \n",
      "\n",
      "Epoch: 8. Loss: 5.9487454101597465e-05. Accuracy: 0.95. Time: 85.99546980857849\n",
      "['<mor>', '<oranictey>', '<mushen>', '<proesk>', '<ina>'] \n",
      "\n",
      "Epoch: 10. Loss: 6.466186874958309e-05. Accuracy: 0.98. Time: 88.74759602546692\n",
      "['<dacbe>', '<bucki>', '<aphe>', '<miaber>', '<fyre>'] \n",
      "\n",
      "Epoch: 12. Loss: 6.6955835219293e-05. Accuracy: 0.97. Time: 94.0701949596405\n",
      "['<caitouk>', '<fingeltor>', '<curin>', '<erzin>', '<bongeari>'] \n",
      "\n",
      "Epoch: 14. Loss: 5.599854227562916e-05. Accuracy: 0.99. Time: 72.36388611793518\n",
      "['<vikgroud>', '<iav>', '<hondi>', '<nowyim>', '<zalnshy>'] \n",
      "\n",
      "Epoch: 16. Loss: 6.071036822966661e-05. Accuracy: 1.0. Time: 73.62653088569641\n",
      "['<ugor>', '<flartby>', '<gulebi>', '<mytie>', '<dao>'] \n",
      "\n",
      "Epoch: 18. Loss: 7.342956430360352e-05. Accuracy: 1.0. Time: 73.98417687416077\n",
      "['<peincha>', '<vatjin>', '<gunzo>', '<psera>', '<evicy>'] \n",
      "\n",
      "Epoch: 20. Loss: 6.262835620515086e-05. Accuracy: 0.96. Time: 83.27630996704102\n",
      "['<padi>', '<borazi>', '<minhe>', '<goje>', '<ron>'] \n",
      "\n",
      "Epoch: 22. Loss: 5.261958068831737e-05. Accuracy: 0.97. Time: 79.66285800933838\n",
      "['<almo>', '<mosterin>', '<sarnue>', '<morine>', '<chamiely>'] \n",
      "\n",
      "Epoch: 24. Loss: 5.425847537346925e-05. Accuracy: 0.98. Time: 79.90762209892273\n",
      "['<are>', '<iare>', '<chiuks>', '<dporgen>', '<viasmo>'] \n",
      "\n",
      "Epoch: 26. Loss: 5.760275834921082e-05. Accuracy: 0.97. Time: 80.00319004058838\n",
      "['<kiglerduna>', '<tespamu>', '<longepbad>', '<boymark>', '<mieck>'] \n",
      "\n",
      "Epoch: 28. Loss: 6.018742298553263e-05. Accuracy: 0.99. Time: 80.72969079017639\n",
      "['<fliba>', '<xya>', '<mangi>', '<fore>', '<louvi>'] \n",
      "\n",
      "Epoch: 30. Loss: 8.591223756578962e-05. Accuracy: 0.99. Time: 80.72615599632263\n",
      "['<nubia>', '<zeita>', '<scadol>', '<tilena>', '<shonkai>'] \n",
      "\n",
      "Epoch: 32. Loss: 6.899819851894663e-05. Accuracy: 0.96. Time: 81.17442870140076\n",
      "['<valonie>', '<goy>', '<torudi>', '<doeg>', '<shezow>'] \n",
      "\n",
      "Epoch: 34. Loss: 7.8872532763116e-05. Accuracy: 0.98. Time: 77.67531418800354\n",
      "['<biapher>', '<puchy>', '<baxslyucke>', '<tamil>', '<yorle>'] \n",
      "\n",
      "Epoch: 36. Loss: 7.582164897282987e-05. Accuracy: 0.99. Time: 94.4814031124115\n",
      "['<hinga>', '<yzurtla>', '<maryco>', '<bonthave>', '<corely>'] \n",
      "\n",
      "Epoch: 38. Loss: 6.817853382918929e-05. Accuracy: 0.98. Time: 91.98963403701782\n",
      "['<kaluret>', '<eavidy>', '<mavil>', '<hera>', '<tale>'] \n",
      "\n",
      "Epoch: 40. Loss: 6.053033800466196e-05. Accuracy: 1.0. Time: 90.97432613372803\n",
      "['<anteo>', '<jackine>', '<ona>', '<daner>', '<myori>'] \n",
      "\n"
     ]
    }
   ],
   "source": [
    "model = RNNModel_Dropout(names_dataset.vocab_size, hidden_size, names_dataset.vocab_size, len(names_dataset.genders_vocab), drop=0.5).to(device)\n",
    "criterion = nn.CrossEntropyLoss()\n",
    "optimizer = optim.Adam(model.parameters(), lr=learning_rate)\n",
    "\n",
    "df_result.loc[len(df_result), df_result.columns[:-1]], train_loss, test_acc = train_model(model, model.__class__.__name__ + ' (Adam)', criterion, optimizer,\n",
    "                                                   names_dataset, names_dataloader, max_name_len, epochs=epochs, epochs_print=epochs_print)\n",
    "\n",
    "pets_names = [generate_one_name(model, names_dataset, random.choice(names_dataset.genders), max_name_len) for i in range(100)]\n",
    "df_result.loc[len(df_result)-1, df_result.columns[-1]] = test_pets_name(pets_names, print_names=False, print_acc=False)"
   ]
  },
  {
   "cell_type": "code",
   "execution_count": null,
   "metadata": {
    "id": "Kp3_nwoHFy-O",
    "outputId": "3fcc0fff-d732-4753-cb79-4751f3adf5e5"
   },
   "outputs": [
    {
     "data": {
      "text/html": [
       "<div>\n",
       "<style scoped>\n",
       "    .dataframe tbody tr th:only-of-type {\n",
       "        vertical-align: middle;\n",
       "    }\n",
       "\n",
       "    .dataframe tbody tr th {\n",
       "        vertical-align: top;\n",
       "    }\n",
       "\n",
       "    .dataframe thead th {\n",
       "        text-align: right;\n",
       "    }\n",
       "</style>\n",
       "<table border=\"1\" class=\"dataframe\">\n",
       "  <thead>\n",
       "    <tr style=\"text-align: right;\">\n",
       "      <th></th>\n",
       "      <th>Model</th>\n",
       "      <th>Epochs</th>\n",
       "      <th>Train loss</th>\n",
       "      <th>Time</th>\n",
       "      <th>Test accuracy</th>\n",
       "    </tr>\n",
       "  </thead>\n",
       "  <tbody>\n",
       "    <tr>\n",
       "      <th>0</th>\n",
       "      <td>RNNModel</td>\n",
       "      <td>40</td>\n",
       "      <td>0.000074</td>\n",
       "      <td>1894.816932</td>\n",
       "      <td>1.0</td>\n",
       "    </tr>\n",
       "    <tr>\n",
       "      <th>1</th>\n",
       "      <td>RNNModel_Dropout (drop=0.2)</td>\n",
       "      <td>40</td>\n",
       "      <td>0.000058</td>\n",
       "      <td>2104.176277</td>\n",
       "      <td>0.97</td>\n",
       "    </tr>\n",
       "    <tr>\n",
       "      <th>2</th>\n",
       "      <td>RNNModel_Dropout (drop=0.5)</td>\n",
       "      <td>40</td>\n",
       "      <td>0.000069</td>\n",
       "      <td>2084.027942</td>\n",
       "      <td>0.98</td>\n",
       "    </tr>\n",
       "    <tr>\n",
       "      <th>3</th>\n",
       "      <td>RNNModel (Adam)</td>\n",
       "      <td>40</td>\n",
       "      <td>0.000061</td>\n",
       "      <td>3088.182912</td>\n",
       "      <td>1.0</td>\n",
       "    </tr>\n",
       "    <tr>\n",
       "      <th>4</th>\n",
       "      <td>RNNModel_Dropout (Adam)</td>\n",
       "      <td>40</td>\n",
       "      <td>0.000061</td>\n",
       "      <td>3301.221426</td>\n",
       "      <td>1.0</td>\n",
       "    </tr>\n",
       "  </tbody>\n",
       "</table>\n",
       "</div>"
      ],
      "text/plain": [
       "                         Model Epochs Train loss         Time Test accuracy\n",
       "0                     RNNModel     40   0.000074  1894.816932           1.0\n",
       "1  RNNModel_Dropout (drop=0.2)     40   0.000058  2104.176277          0.97\n",
       "2  RNNModel_Dropout (drop=0.5)     40   0.000069  2084.027942          0.98\n",
       "3              RNNModel (Adam)     40   0.000061  3088.182912           1.0\n",
       "4      RNNModel_Dropout (Adam)     40   0.000061  3301.221426           1.0"
      ]
     },
     "execution_count": 68,
     "metadata": {},
     "output_type": "execute_result"
    }
   ],
   "source": [
    "df_result"
   ]
  },
  {
   "cell_type": "code",
   "execution_count": null,
   "metadata": {
    "id": "mWbXd_h4Fy-O",
    "outputId": "a3d43739-885f-4456-cc6e-557ed40c37cd"
   },
   "outputs": [
    {
     "data": {
      "image/png": "[encoded data removed]",
      "text/plain": [
       "<Figure size 1200x400 with 2 Axes>"
      ]
     },
     "metadata": {},
     "output_type": "display_data"
    }
   ],
   "source": [
    "fig, ax = plt.subplots(1, 2, figsize=(12, 4))\n",
    "ax[0].plot(train_loss.keys(), train_loss.values())\n",
    "ax[1].plot(train_loss.keys(), test_acc.values())\n",
    "ax[0].set_title('Train loss')\n",
    "ax[1].set_title('Test accuracy')\n",
    "ax[0].set_xlabel('Epoch')\n",
    "ax[1].set_xlabel('Epoch')\n",
    "plt.show()"
   ]
  },
  {
   "cell_type": "markdown",
   "metadata": {
    "id": "Lov1Kn_vFy-P"
   },
   "source": [
    "## 6.3. Использование функции потерь NLLLoss"
   ]
  },
  {
   "cell_type": "code",
   "execution_count": null,
   "metadata": {
    "id": "bMAppvdGFy-P",
    "outputId": "1420238c-a7e0-4704-dfd2-8648a17ece26"
   },
   "outputs": [
    {
     "name": "stdout",
     "output_type": "stream",
     "text": [
      "Epoch: 2. Loss: 8.815669716396748e-05. Accuracy: 0.87. Time: 47.8867871761322\n",
      "['<kebt>', '<eincy>', '<fatsy>', '<tgea>', '<kudbo>'] \n",
      "\n",
      "Epoch: 4. Loss: 6.979996879882725e-05. Accuracy: 0.89. Time: 46.30733919143677\n",
      "['<qherdias>', '<ucotey>', '<mcyaj>', '<wbkmo>', '<dohcre>'] \n",
      "\n",
      "Epoch: 6. Loss: 5.894580663548201e-05. Accuracy: 0.99. Time: 47.135401010513306\n",
      "['<monkaw>', '<yafout>', '<raugio>', '<ulra>', '<tadiero>'] \n",
      "\n",
      "Epoch: 8. Loss: 6.970363004171848e-05. Accuracy: 0.97. Time: 47.622090339660645\n",
      "['<sae>', '<mejnos>', '<monie>', '<lorwiet>', '<bleyk>'] \n",
      "\n",
      "Epoch: 10. Loss: 5.5738318256724835e-05. Accuracy: 0.98. Time: 45.935579776763916\n",
      "['<berdil>', '<rastemi>', '<lechonma>', '<tuanbe>', '<shinegl>'] \n",
      "\n",
      "Epoch: 12. Loss: 4.949378680496617e-05. Accuracy: 0.97. Time: 46.90618705749512\n",
      "['<uranilo>', '<arzie>', '<anberuc>', '<kuawoe>', '<fegon>'] \n",
      "\n",
      "Epoch: 14. Loss: 6.963233406952661e-05. Accuracy: 0.99. Time: 46.274008989334106\n",
      "['<irat>', '<paly>', '<warlien>', '<relfnago>', '<lacku>'] \n",
      "\n",
      "Epoch: 16. Loss: 6.396851282892178e-05. Accuracy: 0.99. Time: 45.752249002456665\n",
      "['<ahlis>', '<elsam>', '<bolim>', '<atrely>', '<chanbe>'] \n",
      "\n",
      "Epoch: 18. Loss: 5.2399283316151366e-05. Accuracy: 0.99. Time: 45.56519293785095\n",
      "['<cay>', '<munyp>', '<brpin>', '<eanopi>', '<maler>'] \n",
      "\n",
      "Epoch: 20. Loss: 6.90919809317873e-05. Accuracy: 0.98. Time: 46.420544147491455\n",
      "['<iludka>', '<dochiankel>', '<blep>', '<tuchiy>', '<badel>'] \n",
      "\n",
      "Epoch: 22. Loss: 6.396377935482267e-05. Accuracy: 0.99. Time: 45.893563985824585\n",
      "['<hogi>', '<wok>', '<letai>', '<myrapi>', '<karqeis>'] \n",
      "\n",
      "Epoch: 24. Loss: 6.110312513372539e-05. Accuracy: 1.0. Time: 46.42954087257385\n",
      "['<zatie>', '<cuzt>', '<akul>', '<camely>', '<jilmu>'] \n",
      "\n",
      "Epoch: 26. Loss: 6.71494046800081e-05. Accuracy: 0.98. Time: 46.051291942596436\n",
      "['<lyikhr>', '<gazinosh>', '<manty>', '<swolay>', '<min>'] \n",
      "\n",
      "Epoch: 28. Loss: 5.122129796995172e-05. Accuracy: 0.98. Time: 44.67443871498108\n",
      "['<panckilbu>', '<shymbe>', '<slinda>', '<tordie>', '<malgisho>'] \n",
      "\n",
      "Epoch: 30. Loss: 7.659275165686643e-05. Accuracy: 0.99. Time: 44.595571994781494\n",
      "['<ans>', '<morliw>', '<fres>', '<tokel>', '<gantom>'] \n",
      "\n",
      "Epoch: 32. Loss: 5.452222267248934e-05. Accuracy: 0.99. Time: 44.78961205482483\n",
      "['<ralie>', '<bonga>', '<cowtilvar>', '<melipa>', '<cabey>'] \n",
      "\n",
      "Epoch: 34. Loss: 4.9918471613686335e-05. Accuracy: 0.98. Time: 45.424344062805176\n",
      "['<sey>', '<rado>', '<cebrlinskw>', '<pufkiez>', '<skate>'] \n",
      "\n",
      "Epoch: 36. Loss: 7.199393293527279e-05. Accuracy: 0.98. Time: 45.32671809196472\n",
      "['<mirvates>', '<capironel>', '<phitcy>', '<fiskat>', '<atle>'] \n",
      "\n",
      "Epoch: 38. Loss: 6.955002575885493e-05. Accuracy: 0.99. Time: 45.865615129470825\n",
      "['<bilon>', '<nimb>', '<vamoke>', '<maidelo>', '<cohpe muva>'] \n",
      "\n",
      "Epoch: 40. Loss: 8.928052780278023e-05. Accuracy: 0.99. Time: 44.79866623878479\n",
      "['<takieno>', '<tokien>', '<scortina>', '<jely>', '<rave>'] \n",
      "\n"
     ]
    }
   ],
   "source": [
    "model = RNNModel(names_dataset.vocab_size, hidden_size, names_dataset.vocab_size, len(names_dataset.genders_vocab)).to(device)\n",
    "criterion = nn.NLLLoss()\n",
    "optimizer = optim.SGD(model.parameters(), lr=learning_rate)\n",
    "\n",
    "df_result.loc[len(df_result), df_result.columns[:-1]], train_loss, test_acc = train_model(model, model.__class__.__name__ + ' (NLLLoss)', criterion, optimizer,\n",
    "                                                   names_dataset, names_dataloader, max_name_len, epochs=epochs, epochs_print=epochs_print)\n",
    "\n",
    "pets_names = [generate_one_name(model, names_dataset, random.choice(names_dataset.genders), max_name_len) for i in range(100)]\n",
    "df_result.loc[len(df_result)-1, df_result.columns[-1]] = test_pets_name(pets_names, print_names=False, print_acc=False)"
   ]
  },
  {
   "cell_type": "code",
   "execution_count": null,
   "metadata": {
    "id": "NWlsOo8DFy-P",
    "outputId": "f2714c8a-73bd-479a-f81f-8f88168f7d80"
   },
   "outputs": [
    {
     "data": {
      "text/html": [
       "<div>\n",
       "<style scoped>\n",
       "    .dataframe tbody tr th:only-of-type {\n",
       "        vertical-align: middle;\n",
       "    }\n",
       "\n",
       "    .dataframe tbody tr th {\n",
       "        vertical-align: top;\n",
       "    }\n",
       "\n",
       "    .dataframe thead th {\n",
       "        text-align: right;\n",
       "    }\n",
       "</style>\n",
       "<table border=\"1\" class=\"dataframe\">\n",
       "  <thead>\n",
       "    <tr style=\"text-align: right;\">\n",
       "      <th></th>\n",
       "      <th>Model</th>\n",
       "      <th>Epochs</th>\n",
       "      <th>Train loss</th>\n",
       "      <th>Time</th>\n",
       "      <th>Test accuracy</th>\n",
       "    </tr>\n",
       "  </thead>\n",
       "  <tbody>\n",
       "    <tr>\n",
       "      <th>0</th>\n",
       "      <td>RNNModel</td>\n",
       "      <td>40</td>\n",
       "      <td>0.000074</td>\n",
       "      <td>1894.816932</td>\n",
       "      <td>1.0</td>\n",
       "    </tr>\n",
       "    <tr>\n",
       "      <th>1</th>\n",
       "      <td>RNNModel_Dropout (drop=0.2)</td>\n",
       "      <td>40</td>\n",
       "      <td>0.000058</td>\n",
       "      <td>2104.176277</td>\n",
       "      <td>0.97</td>\n",
       "    </tr>\n",
       "    <tr>\n",
       "      <th>2</th>\n",
       "      <td>RNNModel_Dropout (drop=0.5)</td>\n",
       "      <td>40</td>\n",
       "      <td>0.000069</td>\n",
       "      <td>2084.027942</td>\n",
       "      <td>0.98</td>\n",
       "    </tr>\n",
       "    <tr>\n",
       "      <th>3</th>\n",
       "      <td>RNNModel (Adam)</td>\n",
       "      <td>40</td>\n",
       "      <td>0.000061</td>\n",
       "      <td>3088.182912</td>\n",
       "      <td>1.0</td>\n",
       "    </tr>\n",
       "    <tr>\n",
       "      <th>4</th>\n",
       "      <td>RNNModel_Dropout (Adam)</td>\n",
       "      <td>40</td>\n",
       "      <td>0.000061</td>\n",
       "      <td>3301.221426</td>\n",
       "      <td>1.0</td>\n",
       "    </tr>\n",
       "    <tr>\n",
       "      <th>5</th>\n",
       "      <td>RNNModel (NLLLoss)</td>\n",
       "      <td>40</td>\n",
       "      <td>0.000089</td>\n",
       "      <td>1838.172887</td>\n",
       "      <td>0.95</td>\n",
       "    </tr>\n",
       "  </tbody>\n",
       "</table>\n",
       "</div>"
      ],
      "text/plain": [
       "                         Model Epochs Train loss         Time Test accuracy\n",
       "0                     RNNModel     40   0.000074  1894.816932           1.0\n",
       "1  RNNModel_Dropout (drop=0.2)     40   0.000058  2104.176277          0.97\n",
       "2  RNNModel_Dropout (drop=0.5)     40   0.000069  2084.027942          0.98\n",
       "3              RNNModel (Adam)     40   0.000061  3088.182912           1.0\n",
       "4      RNNModel_Dropout (Adam)     40   0.000061  3301.221426           1.0\n",
       "5           RNNModel (NLLLoss)     40   0.000089  1838.172887          0.95"
      ]
     },
     "execution_count": 71,
     "metadata": {},
     "output_type": "execute_result"
    }
   ],
   "source": [
    "df_result"
   ]
  },
  {
   "cell_type": "code",
   "execution_count": null,
   "metadata": {
    "id": "4GJMordbFy-P",
    "outputId": "3fd62980-d18f-4484-b650-9cf6958510cc"
   },
   "outputs": [
    {
     "data": {
      "image/png": "[encoded data removed]",
      "text/plain": [
       "<Figure size 1200x400 with 2 Axes>"
      ]
     },
     "metadata": {},
     "output_type": "display_data"
    }
   ],
   "source": [
    "fig, ax = plt.subplots(1, 2, figsize=(12, 4))\n",
    "ax[0].plot(train_loss.keys(), train_loss.values())\n",
    "ax[1].plot(train_loss.keys(), test_acc.values())\n",
    "ax[0].set_title('Train loss')\n",
    "ax[1].set_title('Test accuracy')\n",
    "ax[0].set_xlabel('Epoch')\n",
    "ax[1].set_xlabel('Epoch')\n",
    "plt.show()"
   ]
  },
  {
   "cell_type": "code",
   "execution_count": null,
   "metadata": {
    "id": "gUJgzekqFy-P",
    "outputId": "0776736d-4991-498d-d143-95c785b57684"
   },
   "outputs": [
    {
     "name": "stdout",
     "output_type": "stream",
     "text": [
      "Epoch: 2. Loss: 7.032059583560491e-05. Accuracy: 0.85. Time: 50.85685682296753\n",
      "['<dirsanvy>', '<fabey>', '<deniu>', '<boha>', '<muichpl>'] \n",
      "\n",
      "Epoch: 4. Loss: 8.56954808493205e-05. Accuracy: 0.92. Time: 49.30042791366577\n",
      "['<kyso>', '<bre>', '<miyke>', '<bauo>', '< alen>'] \n",
      "\n",
      "Epoch: 6. Loss: 7.105505274842053e-05. Accuracy: 0.98. Time: 49.61401891708374\n",
      "['<vansr>', '<wamoul>', '<apoi>', '<aseu>', '<diuypo>'] \n",
      "\n",
      "Epoch: 8. Loss: 6.956378079725068e-05. Accuracy: 0.95. Time: 50.000903844833374\n",
      "['<ceugwos>', '<dazl>', '<phuabe>', '<fole>', '<sinbky>'] \n",
      "\n",
      "Epoch: 10. Loss: 6.70495369728571e-05. Accuracy: 0.98. Time: 49.51948118209839\n",
      "['<isluta>', '<bakey>', '<tkiymo>', '<elibs>', '<chzily>'] \n",
      "\n",
      "Epoch: 12. Loss: 6.973750352372982e-05. Accuracy: 1.0. Time: 51.66207480430603\n",
      "['<barins>', '<mex hla>', '<yneim>', '<tel>', '<ytazni>'] \n",
      "\n",
      "Epoch: 14. Loss: 6.0642435194508577e-05. Accuracy: 0.97. Time: 49.72632026672363\n",
      "['<bayter>', '<jumo>', '<dielar>', '<bume>', '<ehbay>'] \n",
      "\n",
      "Epoch: 16. Loss: 7.487020848551933e-05. Accuracy: 0.97. Time: 51.235493183135986\n",
      "['<nalduts>', '<uaneli>', '<jwgenshic>', '<duskero>', '<dinos>'] \n",
      "\n",
      "Epoch: 18. Loss: 7.69009420343773e-05. Accuracy: 0.96. Time: 49.669342041015625\n",
      "['<pewnog>', '<pankevi>', '<tporeblan>', '<mlafi>', '<saype>'] \n",
      "\n",
      "Epoch: 20. Loss: 6.472454996962205e-05. Accuracy: 0.98. Time: 49.663135051727295\n",
      "['<tbufgryo>', '<datroie>', '<ketaip>', '<cheluni>', '<chado>'] \n",
      "\n",
      "Epoch: 22. Loss: 6.8224330373999e-05. Accuracy: 0.99. Time: 50.148648262023926\n",
      "['<pohbely>', '<boxicen>', '<ahy>', '<yutie>', '<chimzre>'] \n",
      "\n",
      "Epoch: 24. Loss: 7.880184066857678e-05. Accuracy: 0.94. Time: 49.42578196525574\n",
      "['<redoit>', '<pusri>', '<brane>', '<bain>', '<mockia>'] \n",
      "\n",
      "Epoch: 26. Loss: 5.497546805921654e-05. Accuracy: 0.99. Time: 49.325517892837524\n",
      "['<duic>', '<hounceri>', '<jahs>', '<tis>', '<beniad>'] \n",
      "\n",
      "Epoch: 28. Loss: 7.949239107304002e-05. Accuracy: 0.99. Time: 49.74604296684265\n",
      "['<ruinta>', '<bruy>', '<sonle>', '<jyiga>', '<fayderti>'] \n",
      "\n",
      "Epoch: 30. Loss: 6.405430979048089e-05. Accuracy: 1.0. Time: 49.19937515258789\n",
      "['<unkta>', '<delaci>', '<bom>', '<xiva>', '<pabehrig>'] \n",
      "\n",
      "Epoch: 32. Loss: 8.061684490494408e-05. Accuracy: 0.96. Time: 49.39936399459839\n",
      "['<meshywr>', '<brichaun>', '<mhis>', '<pavyen>', '<sonka>'] \n",
      "\n",
      "Epoch: 34. Loss: 7.672673994508239e-05. Accuracy: 0.99. Time: 50.695476055145264\n",
      "['<mousni>', '<dumsna>', '<sayedon>', '<gricok>', '<flbitey>'] \n",
      "\n",
      "Epoch: 36. Loss: 7.620113410319358e-05. Accuracy: 0.97. Time: 50.75911092758179\n",
      "['<sel>', '<beri>', '<hoan>', '<duriso>', '<tacke>'] \n",
      "\n",
      "Epoch: 38. Loss: 6.229766231624482e-05. Accuracy: 0.97. Time: 51.20897603034973\n",
      "['<pely>', '<jingorly>', '<zreufy nas>', '<came>', '<bradys>'] \n",
      "\n",
      "Epoch: 40. Loss: 7.635124327267287e-05. Accuracy: 0.96. Time: 49.92615818977356\n",
      "['<posc>', '<lichaone>', '<loan>', '<sobue>', '<mathe>'] \n",
      "\n"
     ]
    }
   ],
   "source": [
    "model = RNNModel_Dropout(names_dataset.vocab_size, hidden_size, names_dataset.vocab_size, len(names_dataset.genders_vocab), drop=0.5).to(device)\n",
    "criterion = nn.NLLLoss()\n",
    "optimizer = optim.SGD(model.parameters(), lr=learning_rate)\n",
    "\n",
    "df_result.loc[len(df_result), df_result.columns[:-1]], train_loss, test_acc = train_model(model, model.__class__.__name__ + ' (NLLLoss)', criterion, optimizer,\n",
    "                                                   names_dataset, names_dataloader, max_name_len, epochs=epochs, epochs_print=epochs_print)\n",
    "\n",
    "pets_names = [generate_one_name(model, names_dataset, random.choice(names_dataset.genders), max_name_len) for i in range(100)]\n",
    "df_result.loc[len(df_result)-1, df_result.columns[-1]] = test_pets_name(pets_names, print_names=False, print_acc=False)"
   ]
  },
  {
   "cell_type": "code",
   "execution_count": null,
   "metadata": {
    "id": "eXp6g0_6Fy-P",
    "outputId": "c1a0b0fe-4197-4faa-c5c5-ac36416f876d"
   },
   "outputs": [
    {
     "data": {
      "text/html": [
       "<div>\n",
       "<style scoped>\n",
       "    .dataframe tbody tr th:only-of-type {\n",
       "        vertical-align: middle;\n",
       "    }\n",
       "\n",
       "    .dataframe tbody tr th {\n",
       "        vertical-align: top;\n",
       "    }\n",
       "\n",
       "    .dataframe thead th {\n",
       "        text-align: right;\n",
       "    }\n",
       "</style>\n",
       "<table border=\"1\" class=\"dataframe\">\n",
       "  <thead>\n",
       "    <tr style=\"text-align: right;\">\n",
       "      <th></th>\n",
       "      <th>Model</th>\n",
       "      <th>Epochs</th>\n",
       "      <th>Train loss</th>\n",
       "      <th>Time</th>\n",
       "      <th>Test accuracy</th>\n",
       "    </tr>\n",
       "  </thead>\n",
       "  <tbody>\n",
       "    <tr>\n",
       "      <th>0</th>\n",
       "      <td>RNNModel</td>\n",
       "      <td>40</td>\n",
       "      <td>0.000074</td>\n",
       "      <td>1894.816932</td>\n",
       "      <td>1.0</td>\n",
       "    </tr>\n",
       "    <tr>\n",
       "      <th>1</th>\n",
       "      <td>RNNModel_Dropout (drop=0.2)</td>\n",
       "      <td>40</td>\n",
       "      <td>0.000058</td>\n",
       "      <td>2104.176277</td>\n",
       "      <td>0.97</td>\n",
       "    </tr>\n",
       "    <tr>\n",
       "      <th>2</th>\n",
       "      <td>RNNModel_Dropout (drop=0.5)</td>\n",
       "      <td>40</td>\n",
       "      <td>0.000069</td>\n",
       "      <td>2084.027942</td>\n",
       "      <td>0.98</td>\n",
       "    </tr>\n",
       "    <tr>\n",
       "      <th>3</th>\n",
       "      <td>RNNModel (Adam)</td>\n",
       "      <td>40</td>\n",
       "      <td>0.000061</td>\n",
       "      <td>3088.182912</td>\n",
       "      <td>1.0</td>\n",
       "    </tr>\n",
       "    <tr>\n",
       "      <th>4</th>\n",
       "      <td>RNNModel_Dropout (Adam)</td>\n",
       "      <td>40</td>\n",
       "      <td>0.000061</td>\n",
       "      <td>3301.221426</td>\n",
       "      <td>1.0</td>\n",
       "    </tr>\n",
       "    <tr>\n",
       "      <th>5</th>\n",
       "      <td>RNNModel (NLLLoss)</td>\n",
       "      <td>40</td>\n",
       "      <td>0.000089</td>\n",
       "      <td>1838.172887</td>\n",
       "      <td>0.95</td>\n",
       "    </tr>\n",
       "    <tr>\n",
       "      <th>6</th>\n",
       "      <td>RNNModel_Dropout (NLLLoss)</td>\n",
       "      <td>40</td>\n",
       "      <td>0.000076</td>\n",
       "      <td>1998.322957</td>\n",
       "      <td>1.0</td>\n",
       "    </tr>\n",
       "  </tbody>\n",
       "</table>\n",
       "</div>"
      ],
      "text/plain": [
       "                         Model Epochs Train loss         Time Test accuracy\n",
       "0                     RNNModel     40   0.000074  1894.816932           1.0\n",
       "1  RNNModel_Dropout (drop=0.2)     40   0.000058  2104.176277          0.97\n",
       "2  RNNModel_Dropout (drop=0.5)     40   0.000069  2084.027942          0.98\n",
       "3              RNNModel (Adam)     40   0.000061  3088.182912           1.0\n",
       "4      RNNModel_Dropout (Adam)     40   0.000061  3301.221426           1.0\n",
       "5           RNNModel (NLLLoss)     40   0.000089  1838.172887          0.95\n",
       "6   RNNModel_Dropout (NLLLoss)     40   0.000076  1998.322957           1.0"
      ]
     },
     "execution_count": 74,
     "metadata": {},
     "output_type": "execute_result"
    }
   ],
   "source": [
    "df_result"
   ]
  },
  {
   "cell_type": "code",
   "execution_count": null,
   "metadata": {
    "id": "k8YStrrZFy-P",
    "outputId": "4426d30a-8764-4acd-b0b0-ac88f99b95c5"
   },
   "outputs": [
    {
     "data": {
      "image/png": "[encoded data removed]",
      "text/plain": [
       "<Figure size 1200x400 with 2 Axes>"
      ]
     },
     "metadata": {},
     "output_type": "display_data"
    }
   ],
   "source": [
    "fig, ax = plt.subplots(1, 2, figsize=(12, 4))\n",
    "ax[0].plot(train_loss.keys(), train_loss.values())\n",
    "ax[1].plot(train_loss.keys(), test_acc.values())\n",
    "ax[0].set_title('Train loss')\n",
    "ax[1].set_title('Test accuracy')\n",
    "ax[0].set_xlabel('Epoch')\n",
    "ax[1].set_xlabel('Epoch')\n",
    "plt.show()"
   ]
  },
  {
   "cell_type": "markdown",
   "metadata": {
    "id": "Yi635gKvFy-P"
   },
   "source": [
    "## 6.4. Изменение скорости обучения\n"
   ]
  },
  {
   "cell_type": "code",
   "execution_count": null,
   "metadata": {
    "id": "LcLdpam_Fy-P"
   },
   "outputs": [],
   "source": [
    "learning_rate = 1e-3"
   ]
  },
  {
   "cell_type": "code",
   "execution_count": null,
   "metadata": {
    "id": "ub90YXisFy-P",
    "outputId": "52d71224-eafa-4224-980e-4c6914df82bb"
   },
   "outputs": [
    {
     "name": "stdout",
     "output_type": "stream",
     "text": [
      "Epoch: 2. Loss: 6.174747581892997e-05. Accuracy: 0.98. Time: 46.81344819068909\n",
      "['<hatylei>', '<jorie >', '<valboshi>', '<gizel>', '<vetaif>'] \n",
      "\n",
      "Epoch: 4. Loss: 7.440104877355978e-05. Accuracy: 0.99. Time: 46.692888021469116\n",
      "['<karsi>', '<kritzungelad>', '<ckabroles>', '<khare>', '<modsi>'] \n",
      "\n",
      "Epoch: 6. Loss: 6.533587229669424e-05. Accuracy: 0.97. Time: 47.15199899673462\n",
      "['<begla>', '<ahi>', '<ckag>', '<ber>', '<mado necki>'] \n",
      "\n",
      "Epoch: 8. Loss: 6.589985805376683e-05. Accuracy: 0.97. Time: 46.21047401428223\n",
      "['<bigoe>', '<chagbor>', '<bhine>', '<jarto>', '<dlambfes>'] \n",
      "\n",
      "Epoch: 10. Loss: 5.951833020441496e-05. Accuracy: 0.93. Time: 46.94016098976135\n",
      "['<bamfindge>', '<cerli>', '<donbila>', '<yave>', '<jargyle>'] \n",
      "\n",
      "Epoch: 12. Loss: 5.774498936924284e-05. Accuracy: 1.0. Time: 46.16986107826233\n",
      "['<medto>', '<tably>', '<fond>', '<semfa>', '<cale>'] \n",
      "\n",
      "Epoch: 14. Loss: 6.612263982919841e-05. Accuracy: 0.97. Time: 46.53076934814453\n",
      "['<lakie>', '<sonfy>', '<sa ryn>', '<tarose>', '<fand>'] \n",
      "\n",
      "Epoch: 16. Loss: 5.895336336716201e-05. Accuracy: 0.96. Time: 46.79831409454346\n",
      "['<mboradel>', '<brat>', '<monches>', '<melich>', '<theami>'] \n",
      "\n",
      "Epoch: 18. Loss: 6.116549651971784e-05. Accuracy: 0.97. Time: 46.297478914260864\n",
      "['<sxivo>', '<kay>', '<conke>', '<tondry>', '<impa>'] \n",
      "\n",
      "Epoch: 20. Loss: 6.413656304799554e-05. Accuracy: 0.99. Time: 46.34164214134216\n",
      "['<colika>', '<patce>', '<ptio>', '<covilfag>', '<tispy>'] \n",
      "\n",
      "Epoch: 22. Loss: 5.399847083558962e-05. Accuracy: 0.99. Time: 46.15151500701904\n",
      "['<sandreck>', '<ludy>', '<dagisty>', '<cayligton>', '<dagry>'] \n",
      "\n",
      "Epoch: 24. Loss: 7.193386970817461e-05. Accuracy: 0.98. Time: 46.19677805900574\n",
      "['<chtel>', '<achin>', '<argenmo>', '<eramoc>', '<mindoupy>'] \n",
      "\n",
      "Epoch: 26. Loss: 5.947331098823437e-05. Accuracy: 0.96. Time: 46.33331894874573\n",
      "['<ormanse>', '<dova>', '<aphy stu>', '<kaile>', '<spev>'] \n",
      "\n",
      "Epoch: 28. Loss: 6.945486537098093e-05. Accuracy: 1.0. Time: 46.504810094833374\n",
      "['<surto>', '<velanio>', '<gripo>', '<miqueza>', '<smandeto>'] \n",
      "\n",
      "Epoch: 30. Loss: 7.072869665809965e-05. Accuracy: 1.0. Time: 46.36727023124695\n",
      "['<atr>', '<sephty>', '<ynelaux>', '<rovicle>', '<jane>'] \n",
      "\n",
      "Epoch: 32. Loss: 5.748370013576536e-05. Accuracy: 0.99. Time: 46.39262390136719\n",
      "['<ndajei>', '<lumategr>', '<anomeky>', '<nge>', '<les>'] \n",
      "\n",
      "Epoch: 34. Loss: 5.9902512228707e-05. Accuracy: 0.98. Time: 46.38914513587952\n",
      "['<rhabon>', '<daibons>', '<muri>', '<alox>', '<torna>'] \n",
      "\n",
      "Epoch: 36. Loss: 5.934818485605971e-05. Accuracy: 0.96. Time: 46.371159076690674\n",
      "['<orhiag>', '<chalsy>', '<manhi>', '<gil masen>', '<lhyna>'] \n",
      "\n",
      "Epoch: 38. Loss: 6.41301167073996e-05. Accuracy: 0.99. Time: 46.3469078540802\n",
      "['<bueast>', '<priny>', '<sharlik>', '<swol>', '<few>'] \n",
      "\n",
      "Epoch: 40. Loss: 7.074339383911618e-05. Accuracy: 0.99. Time: 46.379311084747314\n",
      "['<liwgar>', '<covpey>', '<gid>', '<ncouki>', '<joacse>'] \n",
      "\n"
     ]
    }
   ],
   "source": [
    "model = RNNModel(names_dataset.vocab_size, hidden_size, names_dataset.vocab_size, len(names_dataset.genders_vocab)).to(device)\n",
    "criterion = nn.CrossEntropyLoss()\n",
    "optimizer = optim.SGD(model.parameters(), lr=learning_rate)\n",
    "\n",
    "df_result.loc[len(df_result), df_result.columns[:-1]], train_loss, test_acc = train_model(model, model.__class__.__name__ + ' (lr=1e-3)', criterion, optimizer,\n",
    "                                                   names_dataset, names_dataloader, max_name_len, epochs=epochs, epochs_print=epochs_print, device=device)\n",
    "\n",
    "pets_names = [generate_one_name(model, names_dataset, random.choice(names_dataset.genders), max_name_len) for i in range(100)]\n",
    "df_result.loc[len(df_result)-1, df_result.columns[-1]] = test_pets_name(pets_names, print_names=False, print_acc=False)"
   ]
  },
  {
   "cell_type": "code",
   "execution_count": null,
   "metadata": {
    "id": "NnqrH7LbFy-P",
    "outputId": "17b5631c-2659-45aa-b98e-aad2709bc14d"
   },
   "outputs": [
    {
     "data": {
      "text/html": [
       "<div>\n",
       "<style scoped>\n",
       "    .dataframe tbody tr th:only-of-type {\n",
       "        vertical-align: middle;\n",
       "    }\n",
       "\n",
       "    .dataframe tbody tr th {\n",
       "        vertical-align: top;\n",
       "    }\n",
       "\n",
       "    .dataframe thead th {\n",
       "        text-align: right;\n",
       "    }\n",
       "</style>\n",
       "<table border=\"1\" class=\"dataframe\">\n",
       "  <thead>\n",
       "    <tr style=\"text-align: right;\">\n",
       "      <th></th>\n",
       "      <th>Model</th>\n",
       "      <th>Epochs</th>\n",
       "      <th>Train loss</th>\n",
       "      <th>Time</th>\n",
       "      <th>Test accuracy</th>\n",
       "    </tr>\n",
       "  </thead>\n",
       "  <tbody>\n",
       "    <tr>\n",
       "      <th>0</th>\n",
       "      <td>RNNModel</td>\n",
       "      <td>40</td>\n",
       "      <td>0.000074</td>\n",
       "      <td>1894.816932</td>\n",
       "      <td>1.0</td>\n",
       "    </tr>\n",
       "    <tr>\n",
       "      <th>1</th>\n",
       "      <td>RNNModel_Dropout (drop=0.2)</td>\n",
       "      <td>40</td>\n",
       "      <td>0.000058</td>\n",
       "      <td>2104.176277</td>\n",
       "      <td>0.97</td>\n",
       "    </tr>\n",
       "    <tr>\n",
       "      <th>2</th>\n",
       "      <td>RNNModel_Dropout (drop=0.5)</td>\n",
       "      <td>40</td>\n",
       "      <td>0.000069</td>\n",
       "      <td>2084.027942</td>\n",
       "      <td>0.98</td>\n",
       "    </tr>\n",
       "    <tr>\n",
       "      <th>3</th>\n",
       "      <td>RNNModel (Adam)</td>\n",
       "      <td>40</td>\n",
       "      <td>0.000061</td>\n",
       "      <td>3088.182912</td>\n",
       "      <td>1.0</td>\n",
       "    </tr>\n",
       "    <tr>\n",
       "      <th>4</th>\n",
       "      <td>RNNModel_Dropout (Adam)</td>\n",
       "      <td>40</td>\n",
       "      <td>0.000061</td>\n",
       "      <td>3301.221426</td>\n",
       "      <td>1.0</td>\n",
       "    </tr>\n",
       "    <tr>\n",
       "      <th>5</th>\n",
       "      <td>RNNModel (NLLLoss)</td>\n",
       "      <td>40</td>\n",
       "      <td>0.000089</td>\n",
       "      <td>1838.172887</td>\n",
       "      <td>0.95</td>\n",
       "    </tr>\n",
       "    <tr>\n",
       "      <th>6</th>\n",
       "      <td>RNNModel_Dropout (NLLLoss)</td>\n",
       "      <td>40</td>\n",
       "      <td>0.000076</td>\n",
       "      <td>1998.322957</td>\n",
       "      <td>1.0</td>\n",
       "    </tr>\n",
       "    <tr>\n",
       "      <th>7</th>\n",
       "      <td>RNNModel (lr=1e-3)</td>\n",
       "      <td>40</td>\n",
       "      <td>0.000071</td>\n",
       "      <td>1859.413833</td>\n",
       "      <td>1.0</td>\n",
       "    </tr>\n",
       "  </tbody>\n",
       "</table>\n",
       "</div>"
      ],
      "text/plain": [
       "                         Model Epochs Train loss         Time Test accuracy\n",
       "0                     RNNModel     40   0.000074  1894.816932           1.0\n",
       "1  RNNModel_Dropout (drop=0.2)     40   0.000058  2104.176277          0.97\n",
       "2  RNNModel_Dropout (drop=0.5)     40   0.000069  2084.027942          0.98\n",
       "3              RNNModel (Adam)     40   0.000061  3088.182912           1.0\n",
       "4      RNNModel_Dropout (Adam)     40   0.000061  3301.221426           1.0\n",
       "5           RNNModel (NLLLoss)     40   0.000089  1838.172887          0.95\n",
       "6   RNNModel_Dropout (NLLLoss)     40   0.000076  1998.322957           1.0\n",
       "7           RNNModel (lr=1e-3)     40   0.000071  1859.413833           1.0"
      ]
     },
     "execution_count": 87,
     "metadata": {},
     "output_type": "execute_result"
    }
   ],
   "source": [
    "df_result"
   ]
  },
  {
   "cell_type": "code",
   "execution_count": null,
   "metadata": {
    "id": "p0y-ZtGuFy-P",
    "outputId": "585eb77a-0d04-4c2b-e6da-0d705e88efb6"
   },
   "outputs": [
    {
     "data": {
      "image/png": "[encoded data removed]",
      "text/plain": [
       "<Figure size 1200x400 with 2 Axes>"
      ]
     },
     "metadata": {},
     "output_type": "display_data"
    }
   ],
   "source": [
    "fig, ax = plt.subplots(1, 2, figsize=(12, 4))\n",
    "ax[0].plot(train_loss.keys(), train_loss.values())\n",
    "ax[1].plot(train_loss.keys(), test_acc.values())\n",
    "ax[0].set_title('Train loss')\n",
    "ax[1].set_title('Test accuracy')\n",
    "ax[0].set_xlabel('Epoch')\n",
    "ax[1].set_xlabel('Epoch')\n",
    "plt.show()"
   ]
  },
  {
   "cell_type": "code",
   "execution_count": null,
   "metadata": {
    "id": "dDqWcTUmFy-P",
    "outputId": "8d9ebd58-b8d6-40c4-f9b8-8f60be996433"
   },
   "outputs": [
    {
     "name": "stdout",
     "output_type": "stream",
     "text": [
      "Epoch: 2. Loss: 8.018949938762007e-05. Accuracy: 0.52. Time: 52.18943786621094\n",
      "['<dyunpre>', '<sekcga>', '<nas>', '<bzni>', '<fnieo>'] \n",
      "\n",
      "Epoch: 4. Loss: 7.705323991740835e-05. Accuracy: 0.68. Time: 51.375449895858765\n",
      "['<a>', '<cgo>', '<h>', '<nekiy>', '<fmaril>'] \n",
      "\n",
      "Epoch: 6. Loss: 7.883026346127389e-05. Accuracy: 0.71. Time: 50.629749059677124\n",
      "['<zony>', '<utebs>', '<hoeri>', '<ocseit>', '<xiemrya>'] \n",
      "\n",
      "Epoch: 8. Loss: 6.942383075409003e-05. Accuracy: 0.73. Time: 50.13435697555542\n",
      "['<nceiyro>', '<bvgny>', '<lutmh>', '<g ynl>', '<npu>'] \n",
      "\n",
      "Epoch: 10. Loss: 6.597330372066163e-05. Accuracy: 0.8. Time: 50.09702396392822\n",
      "['< achr>', '<bmqast>', '<phn>', '<eyungtho>', '<zsae>'] \n",
      "\n",
      "Epoch: 12. Loss: 6.29561566025481e-05. Accuracy: 0.76. Time: 50.14388394355774\n",
      "['<ripth>', '<ikajo>', '<lmaoie>', '<yonzu>', '<yldi>'] \n",
      "\n",
      "Epoch: 14. Loss: 8.832788687619855e-05. Accuracy: 0.84. Time: 50.20328116416931\n",
      "['<paesm>', '<hitl>', '<kornt>', '<cdau>', '<thsicm>'] \n",
      "\n",
      "Epoch: 16. Loss: 9.326030406310726e-05. Accuracy: 0.79. Time: 50.10856103897095\n",
      "['<yera>', '<sknha>', '<>', '<pidor>', '<jour>'] \n",
      "\n",
      "Epoch: 18. Loss: 7.959133750858989e-05. Accuracy: 0.86. Time: 50.17337608337402\n",
      "['<zornut>', '<sabeio>', '<jaoiles>', '<nres>', '<gaom>'] \n",
      "\n",
      "Epoch: 20. Loss: 6.607819827488139e-05. Accuracy: 0.82. Time: 50.25173783302307\n",
      "['<lawsh>', '<mich>', '<soben>', '<midnca>', '<kshdn>'] \n",
      "\n",
      "Epoch: 22. Loss: 6.330173313393653e-05. Accuracy: 0.89. Time: 51.80573916435242\n",
      "['<stae>', '<joxwi>', '<sieaky>', '<fie>', '<yiko>'] \n",
      "\n",
      "Epoch: 24. Loss: 7.518419803943807e-05. Accuracy: 0.91. Time: 52.050281047821045\n",
      "['<iyetasg>', '<sewocigb>', '<pirle>', '<nam>', '<kirct>'] \n",
      "\n",
      "Epoch: 26. Loss: 6.527272028985733e-05. Accuracy: 0.93. Time: 52.17528295516968\n",
      "['< ksn>', '<marfplc>', '<crslain>', '<nidze>', '<aipnwtge>'] \n",
      "\n",
      "Epoch: 28. Loss: 6.799395851796506e-05. Accuracy: 0.88. Time: 50.87965488433838\n",
      "['<tireuy>', '<magiy>', '<canory>', '<naepiu>', '<das>'] \n",
      "\n",
      "Epoch: 30. Loss: 7.376081725945301e-05. Accuracy: 0.88. Time: 51.72081112861633\n",
      "['<karno>', '<pyre>', '<lucwyebot>', '<felijam>', '<kragso>'] \n",
      "\n",
      "Epoch: 32. Loss: 7.202871203146365e-05. Accuracy: 0.85. Time: 50.97161078453064\n",
      "['<rlathbykei>', '<loztnrsye>', '<rhatuei>', '<tonzpr>', '<fianm>'] \n",
      "\n",
      "Epoch: 34. Loss: 6.754519206831528e-05. Accuracy: 0.94. Time: 50.836410999298096\n",
      "['<famyn>', '<gatrie>', '<roenay>', '<suga>', '<cinahl>'] \n",
      "\n",
      "Epoch: 36. Loss: 5.813036817478894e-05. Accuracy: 0.93. Time: 50.89339208602905\n",
      "['<liafsy>', '<cafey>', '<ralemio>', '<sapo>', '<cuasotgel>'] \n",
      "\n",
      "Epoch: 38. Loss: 5.6697744195316946e-05. Accuracy: 0.88. Time: 51.79781198501587\n",
      "['<coras>', '<meusitla>', '<movcks>', '<beargy>', '<wranzt>'] \n",
      "\n",
      "Epoch: 40. Loss: 5.79861374387542e-05. Accuracy: 0.96. Time: 51.15255784988403\n",
      "['<ranli ocst>', '<sriy>', '<fkscei>', '<gatin>', '<taron>'] \n",
      "\n"
     ]
    }
   ],
   "source": [
    "model = RNNModel_Dropout(names_dataset.vocab_size, hidden_size, names_dataset.vocab_size, len(names_dataset.genders_vocab), drop=0.5).to(device)\n",
    "criterion = nn.CrossEntropyLoss()\n",
    "optimizer = optim.SGD(model.parameters(), lr=learning_rate)\n",
    "\n",
    "df_result.loc[len(df_result), df_result.columns[:-1]], train_loss, test_acc = train_model(model, model.__class__.__name__ + ' (lr=1e-3)', criterion, optimizer,\n",
    "                                                   names_dataset, names_dataloader, max_name_len, epochs=epochs, epochs_print=epochs_print)\n",
    "\n",
    "pets_names = [generate_one_name(model, names_dataset, random.choice(names_dataset.genders), max_name_len) for i in range(100)]\n",
    "df_result.loc[len(df_result)-1, df_result.columns[-1]] = test_pets_name(pets_names, print_names=False, print_acc=False)"
   ]
  },
  {
   "cell_type": "code",
   "execution_count": null,
   "metadata": {
    "id": "EYMM1lNeFy-P",
    "outputId": "4e397dd0-6566-408d-ddd8-18c9e87fbb8f"
   },
   "outputs": [
    {
     "data": {
      "text/html": [
       "<div>\n",
       "<style scoped>\n",
       "    .dataframe tbody tr th:only-of-type {\n",
       "        vertical-align: middle;\n",
       "    }\n",
       "\n",
       "    .dataframe tbody tr th {\n",
       "        vertical-align: top;\n",
       "    }\n",
       "\n",
       "    .dataframe thead th {\n",
       "        text-align: right;\n",
       "    }\n",
       "</style>\n",
       "<table border=\"1\" class=\"dataframe\">\n",
       "  <thead>\n",
       "    <tr style=\"text-align: right;\">\n",
       "      <th></th>\n",
       "      <th>Model</th>\n",
       "      <th>Epochs</th>\n",
       "      <th>Train loss</th>\n",
       "      <th>Time</th>\n",
       "      <th>Test accuracy</th>\n",
       "    </tr>\n",
       "  </thead>\n",
       "  <tbody>\n",
       "    <tr>\n",
       "      <th>0</th>\n",
       "      <td>RNNModel</td>\n",
       "      <td>40</td>\n",
       "      <td>0.000074</td>\n",
       "      <td>1894.816932</td>\n",
       "      <td>1.0</td>\n",
       "    </tr>\n",
       "    <tr>\n",
       "      <th>1</th>\n",
       "      <td>RNNModel_Dropout (drop=0.2)</td>\n",
       "      <td>40</td>\n",
       "      <td>0.000058</td>\n",
       "      <td>2104.176277</td>\n",
       "      <td>0.97</td>\n",
       "    </tr>\n",
       "    <tr>\n",
       "      <th>2</th>\n",
       "      <td>RNNModel_Dropout (drop=0.5)</td>\n",
       "      <td>40</td>\n",
       "      <td>0.000069</td>\n",
       "      <td>2084.027942</td>\n",
       "      <td>0.98</td>\n",
       "    </tr>\n",
       "    <tr>\n",
       "      <th>3</th>\n",
       "      <td>RNNModel (Adam)</td>\n",
       "      <td>40</td>\n",
       "      <td>0.000061</td>\n",
       "      <td>3088.182912</td>\n",
       "      <td>1.0</td>\n",
       "    </tr>\n",
       "    <tr>\n",
       "      <th>4</th>\n",
       "      <td>RNNModel_Dropout (Adam)</td>\n",
       "      <td>40</td>\n",
       "      <td>0.000061</td>\n",
       "      <td>3301.221426</td>\n",
       "      <td>1.0</td>\n",
       "    </tr>\n",
       "    <tr>\n",
       "      <th>5</th>\n",
       "      <td>RNNModel (NLLLoss)</td>\n",
       "      <td>40</td>\n",
       "      <td>0.000089</td>\n",
       "      <td>1838.172887</td>\n",
       "      <td>0.95</td>\n",
       "    </tr>\n",
       "    <tr>\n",
       "      <th>6</th>\n",
       "      <td>RNNModel_Dropout (NLLLoss)</td>\n",
       "      <td>40</td>\n",
       "      <td>0.000076</td>\n",
       "      <td>1998.322957</td>\n",
       "      <td>1.0</td>\n",
       "    </tr>\n",
       "    <tr>\n",
       "      <th>7</th>\n",
       "      <td>RNNModel (lr=1e-3)</td>\n",
       "      <td>40</td>\n",
       "      <td>0.000071</td>\n",
       "      <td>1859.413833</td>\n",
       "      <td>1.0</td>\n",
       "    </tr>\n",
       "    <tr>\n",
       "      <th>8</th>\n",
       "      <td>RNNModel_Dropout (lr=1e-3)</td>\n",
       "      <td>40</td>\n",
       "      <td>0.000058</td>\n",
       "      <td>2041.635227</td>\n",
       "      <td>0.91</td>\n",
       "    </tr>\n",
       "  </tbody>\n",
       "</table>\n",
       "</div>"
      ],
      "text/plain": [
       "                         Model Epochs Train loss         Time Test accuracy\n",
       "0                     RNNModel     40   0.000074  1894.816932           1.0\n",
       "1  RNNModel_Dropout (drop=0.2)     40   0.000058  2104.176277          0.97\n",
       "2  RNNModel_Dropout (drop=0.5)     40   0.000069  2084.027942          0.98\n",
       "3              RNNModel (Adam)     40   0.000061  3088.182912           1.0\n",
       "4      RNNModel_Dropout (Adam)     40   0.000061  3301.221426           1.0\n",
       "5           RNNModel (NLLLoss)     40   0.000089  1838.172887          0.95\n",
       "6   RNNModel_Dropout (NLLLoss)     40   0.000076  1998.322957           1.0\n",
       "7           RNNModel (lr=1e-3)     40   0.000071  1859.413833           1.0\n",
       "8   RNNModel_Dropout (lr=1e-3)     40   0.000058  2041.635227          0.91"
      ]
     },
     "execution_count": 89,
     "metadata": {},
     "output_type": "execute_result"
    }
   ],
   "source": [
    "df_result"
   ]
  },
  {
   "cell_type": "code",
   "execution_count": null,
   "metadata": {
    "id": "zqmHdIlAFy-P",
    "outputId": "4ce019b0-ff49-4f97-ef06-f114153fd758"
   },
   "outputs": [
    {
     "data": {
      "image/png": "[encoded data removed]",
      "text/plain": [
       "<Figure size 1200x400 with 2 Axes>"
      ]
     },
     "metadata": {},
     "output_type": "display_data"
    }
   ],
   "source": [
    "fig, ax = plt.subplots(1, 2, figsize=(12, 4))\n",
    "ax[0].plot(train_loss.keys(), train_loss.values())\n",
    "ax[1].plot(train_loss.keys(), test_acc.values())\n",
    "ax[0].set_title('Train loss')\n",
    "ax[1].set_title('Test accuracy')\n",
    "ax[0].set_xlabel('Epoch')\n",
    "ax[1].set_xlabel('Epoch')\n",
    "plt.show()"
   ]
  },
  {
   "cell_type": "code",
   "execution_count": null,
   "metadata": {
    "id": "7ZMMrYTxFy-P"
   },
   "outputs": [],
   "source": [
    "learning_rate = 1e-5"
   ]
  },
  {
   "cell_type": "code",
   "execution_count": null,
   "metadata": {
    "id": "AcD-UOFMFy-P",
    "outputId": "eefd04bb-395f-4b4f-cf6c-51b8b672ce72"
   },
   "outputs": [
    {
     "name": "stdout",
     "output_type": "stream",
     "text": [
      "Epoch: 2. Loss: 8.027824897863074e-05. Accuracy: 0.49. Time: 45.79617476463318\n",
      "['<mreb>', '<vai>', '<atl>', '<zda>', '<iant>'] \n",
      "\n",
      "Epoch: 4. Loss: 7.289116515665344e-05. Accuracy: 0.72. Time: 47.1084201335907\n",
      "['<zjty>', '<dioanylc>', '<dwh>', '<zel>', '<lsmxk>'] \n",
      "\n",
      "Epoch: 6. Loss: 9.158970961162579e-05. Accuracy: 0.74. Time: 46.9635751247406\n",
      "['<enpalo>', '<ikslco>', '<zeilcn>', '<rsonke>', '<lpunew>'] \n",
      "\n",
      "Epoch: 8. Loss: 7.05394763764673e-05. Accuracy: 0.75. Time: 48.63326287269592\n",
      "['<mcaehos>', '<jcgir>', '<oiuyfa>', '<yhctaei>', '<gonsah>'] \n",
      "\n",
      "Epoch: 10. Loss: 7.678327825704203e-05. Accuracy: 0.64. Time: 46.096680879592896\n",
      "['<dneatr>', '<gnlb>', '<via>', '< oln>', '<jreqlon>'] \n",
      "\n",
      "Epoch: 12. Loss: 7.124850820093669e-05. Accuracy: 0.8. Time: 46.00141406059265\n",
      "['<eano>', '<hraiek>', '<ntkcs>', '<uediyaz>', '<zstr>'] \n",
      "\n",
      "Epoch: 14. Loss: 6.536218929089337e-05. Accuracy: 0.82. Time: 45.66371297836304\n",
      "['<calnk>', '<moiay>', '<yisluca>', '<lasyeid>', '<saprcnwel>'] \n",
      "\n",
      "Epoch: 16. Loss: 8.200047855815015e-05. Accuracy: 0.9. Time: 45.50481200218201\n",
      "['<oarbdiz>', '<aibes>', '<rozpi>', '<krsnp>', '<iangry>'] \n",
      "\n",
      "Epoch: 18. Loss: 6.927991277851549e-05. Accuracy: 0.88. Time: 45.295900106430054\n",
      "['<hvinae>', '<pcha>', '<reigath>', '<orlpisa>', '<kior>'] \n",
      "\n",
      "Epoch: 20. Loss: 7.818770989889285e-05. Accuracy: 0.79. Time: 45.79272198677063\n",
      "['<cetbu>', '<tazioy>', '<miade>', '<zeot>', '<geurikbt>'] \n",
      "\n",
      "Epoch: 22. Loss: 6.232729957061188e-05. Accuracy: 0.9. Time: 48.159815073013306\n",
      "['<jruan>', '<uebi>', '<mensa>', '<shaje>', '<amok>'] \n",
      "\n",
      "Epoch: 24. Loss: 8.980345871968066e-05. Accuracy: 0.86. Time: 46.080848932266235\n",
      "['<mateico>', '<selaick>', '<fndbota>', '<aris>', '<terian>'] \n",
      "\n",
      "Epoch: 26. Loss: 6.608016903158223e-05. Accuracy: 0.88. Time: 45.78271007537842\n",
      "['<puminr>', '<docgey>', '<enck>', '<kcdhiob>', '<xilar>'] \n",
      "\n",
      "Epoch: 28. Loss: 7.277486429551454e-05. Accuracy: 0.81. Time: 45.66504788398743\n",
      "['<brus>', '<drobue>', '<matueldcgo>', '<hidvo>', '<pin>'] \n",
      "\n",
      "Epoch: 30. Loss: 6.619220952216415e-05. Accuracy: 0.87. Time: 45.879343032836914\n",
      "['<zangy>', '<pabfs>', '<poatcws>', '<ohanldgy>', '<fie>'] \n",
      "\n",
      "Epoch: 32. Loss: 7.222841562101708e-05. Accuracy: 0.87. Time: 45.83866214752197\n",
      "['<hurs>', '<ruthoy>', '<badcem>', '<cam>', '<reitz>'] \n",
      "\n",
      "Epoch: 34. Loss: 7.073105425010651e-05. Accuracy: 0.95. Time: 45.41822385787964\n",
      "['<dafruo>', '<lonha>', '<torelfi>', '<benltira>', '<pdige>'] \n",
      "\n",
      "Epoch: 36. Loss: 6.834947113824198e-05. Accuracy: 0.94. Time: 46.17373704910278\n",
      "['<bodizh>', '<clis>', '<hrikaltu>', '<soit>', '<bue>'] \n",
      "\n",
      "Epoch: 38. Loss: 7.539220020653494e-05. Accuracy: 0.97. Time: 48.799437046051025\n",
      "['<biegctyrk>', '<ogeatzmd>', '<nidolucke>', '<juonie>', '<saniz>'] \n",
      "\n",
      "Epoch: 40. Loss: 5.9588034939177846e-05. Accuracy: 0.96. Time: 46.201690912246704\n",
      "['<hinyle>', '<meygonri>', '<meqip>', '<lagdie>', '<cukle>'] \n",
      "\n"
     ]
    }
   ],
   "source": [
    "model = RNNModel(names_dataset.vocab_size, hidden_size, names_dataset.vocab_size, len(names_dataset.genders_vocab)).to(device)\n",
    "criterion = nn.CrossEntropyLoss()\n",
    "optimizer = optim.SGD(model.parameters(), lr=learning_rate)\n",
    "\n",
    "df_result.loc[len(df_result), df_result.columns[:-1]], train_loss, test_acc = train_model(model, model.__class__.__name__ + ' (lr=1e-5)', criterion, optimizer,\n",
    "                                                   names_dataset, names_dataloader, max_name_len, epochs=epochs, epochs_print=epochs_print, device=device)\n",
    "\n",
    "pets_names = [generate_one_name(model, names_dataset, random.choice(names_dataset.genders), max_name_len) for i in range(100)]\n",
    "df_result.loc[len(df_result)-1, df_result.columns[-1]] = test_pets_name(pets_names, print_names=False, print_acc=False)"
   ]
  },
  {
   "cell_type": "code",
   "execution_count": null,
   "metadata": {
    "id": "HIQajdrdFy-P",
    "outputId": "e3ef7ec4-05ab-47db-8d28-8a41912c7af1"
   },
   "outputs": [
    {
     "data": {
      "text/html": [
       "<div>\n",
       "<style scoped>\n",
       "    .dataframe tbody tr th:only-of-type {\n",
       "        vertical-align: middle;\n",
       "    }\n",
       "\n",
       "    .dataframe tbody tr th {\n",
       "        vertical-align: top;\n",
       "    }\n",
       "\n",
       "    .dataframe thead th {\n",
       "        text-align: right;\n",
       "    }\n",
       "</style>\n",
       "<table border=\"1\" class=\"dataframe\">\n",
       "  <thead>\n",
       "    <tr style=\"text-align: right;\">\n",
       "      <th></th>\n",
       "      <th>Model</th>\n",
       "      <th>Epochs</th>\n",
       "      <th>Train loss</th>\n",
       "      <th>Time</th>\n",
       "      <th>Test accuracy</th>\n",
       "    </tr>\n",
       "  </thead>\n",
       "  <tbody>\n",
       "    <tr>\n",
       "      <th>0</th>\n",
       "      <td>RNNModel</td>\n",
       "      <td>40</td>\n",
       "      <td>0.000074</td>\n",
       "      <td>1894.816932</td>\n",
       "      <td>1.0</td>\n",
       "    </tr>\n",
       "    <tr>\n",
       "      <th>1</th>\n",
       "      <td>RNNModel_Dropout (drop=0.2)</td>\n",
       "      <td>40</td>\n",
       "      <td>0.000058</td>\n",
       "      <td>2104.176277</td>\n",
       "      <td>0.97</td>\n",
       "    </tr>\n",
       "    <tr>\n",
       "      <th>2</th>\n",
       "      <td>RNNModel_Dropout (drop=0.5)</td>\n",
       "      <td>40</td>\n",
       "      <td>0.000069</td>\n",
       "      <td>2084.027942</td>\n",
       "      <td>0.98</td>\n",
       "    </tr>\n",
       "    <tr>\n",
       "      <th>3</th>\n",
       "      <td>RNNModel (Adam)</td>\n",
       "      <td>40</td>\n",
       "      <td>0.000061</td>\n",
       "      <td>3088.182912</td>\n",
       "      <td>1.0</td>\n",
       "    </tr>\n",
       "    <tr>\n",
       "      <th>4</th>\n",
       "      <td>RNNModel_Dropout (Adam)</td>\n",
       "      <td>40</td>\n",
       "      <td>0.000061</td>\n",
       "      <td>3301.221426</td>\n",
       "      <td>1.0</td>\n",
       "    </tr>\n",
       "    <tr>\n",
       "      <th>5</th>\n",
       "      <td>RNNModel (NLLLoss)</td>\n",
       "      <td>40</td>\n",
       "      <td>0.000089</td>\n",
       "      <td>1838.172887</td>\n",
       "      <td>0.95</td>\n",
       "    </tr>\n",
       "    <tr>\n",
       "      <th>6</th>\n",
       "      <td>RNNModel_Dropout (NLLLoss)</td>\n",
       "      <td>40</td>\n",
       "      <td>0.000076</td>\n",
       "      <td>1998.322957</td>\n",
       "      <td>1.0</td>\n",
       "    </tr>\n",
       "    <tr>\n",
       "      <th>7</th>\n",
       "      <td>RNNModel (lr=1e-3)</td>\n",
       "      <td>40</td>\n",
       "      <td>0.000071</td>\n",
       "      <td>1859.413833</td>\n",
       "      <td>1.0</td>\n",
       "    </tr>\n",
       "    <tr>\n",
       "      <th>8</th>\n",
       "      <td>RNNModel_Dropout (lr=1e-3)</td>\n",
       "      <td>40</td>\n",
       "      <td>0.000058</td>\n",
       "      <td>2041.635227</td>\n",
       "      <td>0.91</td>\n",
       "    </tr>\n",
       "    <tr>\n",
       "      <th>9</th>\n",
       "      <td>RNNModel (lr=1e-5)</td>\n",
       "      <td>40</td>\n",
       "      <td>0.00006</td>\n",
       "      <td>1850.441147</td>\n",
       "      <td>0.92</td>\n",
       "    </tr>\n",
       "  </tbody>\n",
       "</table>\n",
       "</div>"
      ],
      "text/plain": [
       "                         Model Epochs Train loss         Time Test accuracy\n",
       "0                     RNNModel     40   0.000074  1894.816932           1.0\n",
       "1  RNNModel_Dropout (drop=0.2)     40   0.000058  2104.176277          0.97\n",
       "2  RNNModel_Dropout (drop=0.5)     40   0.000069  2084.027942          0.98\n",
       "3              RNNModel (Adam)     40   0.000061  3088.182912           1.0\n",
       "4      RNNModel_Dropout (Adam)     40   0.000061  3301.221426           1.0\n",
       "5           RNNModel (NLLLoss)     40   0.000089  1838.172887          0.95\n",
       "6   RNNModel_Dropout (NLLLoss)     40   0.000076  1998.322957           1.0\n",
       "7           RNNModel (lr=1e-3)     40   0.000071  1859.413833           1.0\n",
       "8   RNNModel_Dropout (lr=1e-3)     40   0.000058  2041.635227          0.91\n",
       "9           RNNModel (lr=1e-5)     40    0.00006  1850.441147          0.92"
      ]
     },
     "execution_count": 92,
     "metadata": {},
     "output_type": "execute_result"
    }
   ],
   "source": [
    "df_result"
   ]
  },
  {
   "cell_type": "code",
   "execution_count": null,
   "metadata": {
    "id": "v9beKgBvFy-P",
    "outputId": "626a0690-7145-46db-ccfe-9f4b81e9fa9a"
   },
   "outputs": [
    {
     "data": {
      "image/png": "[encoded data removed]",
      "text/plain": [
       "<Figure size 1200x400 with 2 Axes>"
      ]
     },
     "metadata": {},
     "output_type": "display_data"
    }
   ],
   "source": [
    "fig, ax = plt.subplots(1, 2, figsize=(12, 4))\n",
    "ax[0].plot(train_loss.keys(), train_loss.values())\n",
    "ax[1].plot(train_loss.keys(), test_acc.values())\n",
    "ax[0].set_title('Train loss')\n",
    "ax[1].set_title('Test accuracy')\n",
    "ax[0].set_xlabel('Epoch')\n",
    "ax[1].set_xlabel('Epoch')\n",
    "plt.show()"
   ]
  },
  {
   "cell_type": "code",
   "execution_count": null,
   "metadata": {
    "id": "3AEgRsLqFy-Q",
    "outputId": "445905a1-cea3-486e-c89a-cd3c2c1e60c4"
   },
   "outputs": [
    {
     "name": "stdout",
     "output_type": "stream",
     "text": [
      "Epoch: 2. Loss: 7.578414667691007e-05. Accuracy: 0.62. Time: 52.01409602165222\n",
      "['<z rteb>', '<ilg>', '<o>', '<aomw>', '<thnr k>'] \n",
      "\n",
      "Epoch: 4. Loss: 8.873078636420989e-05. Accuracy: 0.6. Time: 51.09957790374756\n",
      "['<ieqrl>', '<ahnl>', '<geh>', '<>', '<naliftb>'] \n",
      "\n",
      "Epoch: 6. Loss: 8.352747563708419e-05. Accuracy: 0.69. Time: 52.36677408218384\n",
      "['<raiel>', '<ioemnsd>', '<gwliabt>', '<w>', '<hnlfa>'] \n",
      "\n",
      "Epoch: 8. Loss: 8.011911182300262e-05. Accuracy: 0.72. Time: 52.37792897224426\n",
      "['<zuoblt>', '<jiesbtnoyh>', '<puohec>', '<nadoetk>', '<ugtch>'] \n",
      "\n",
      "Epoch: 10. Loss: 6.641296810931674e-05. Accuracy: 0.75. Time: 53.99169921875\n",
      "['<ialn>', '<oqrny>', '<oira>', '< lorhu>', '<teaniy>'] \n",
      "\n",
      "Epoch: 12. Loss: 7.149829809192735e-05. Accuracy: 0.79. Time: 54.19748902320862\n",
      "['<hopy>', '<cabe>', '<panf>', '<sjnrk>', '<olnme>'] \n",
      "\n",
      "Epoch: 14. Loss: 7.053269278701906e-05. Accuracy: 0.77. Time: 50.83813691139221\n",
      "['<>', '<rtam>', '<cakue>', '<peryolga>', '<alxo>'] \n",
      "\n",
      "Epoch: 16. Loss: 7.478018468522645e-05. Accuracy: 0.81. Time: 50.74475598335266\n",
      "['<foca>', '<aup>', '<xrilea>', '<traneo>', '<baeniv>'] \n",
      "\n",
      "Epoch: 18. Loss: 8.312308163805699e-05. Accuracy: 0.82. Time: 51.01358222961426\n",
      "['<uamirlt>', '<aliteo>', '<haegy>', '<scda>', '<losntc>'] \n",
      "\n",
      "Epoch: 20. Loss: 7.476254572687568e-05. Accuracy: 0.78. Time: 50.78045892715454\n",
      "['<saeo>', '<c ture>', '<lemaro>', '<cokeay>', '<oatp>'] \n",
      "\n",
      "Epoch: 22. Loss: 7.445414562305233e-05. Accuracy: 0.83. Time: 50.68379592895508\n",
      "['<kuysl>', '<caiety>', '<qoarih>', '<mdlnei>', '<htlaeo>'] \n",
      "\n",
      "Epoch: 24. Loss: 7.524516133272322e-05. Accuracy: 0.88. Time: 50.70453715324402\n",
      "['<biye>', '<benysdah>', '<tionra>', '<fgte>', '<uelphir>'] \n",
      "\n",
      "Epoch: 26. Loss: 7.5009520407923e-05. Accuracy: 0.89. Time: 50.993918895721436\n",
      "['<sobuy>', '<kuade>', '<ghka>', '<isbler>', '<ngia>'] \n",
      "\n",
      "Epoch: 28. Loss: 6.68069731288026e-05. Accuracy: 0.85. Time: 50.851075887680054\n",
      "['<zpiel>', '<fopc>', '<canti>', '<uazie>', '<porclevy>'] \n",
      "\n",
      "Epoch: 30. Loss: 6.557528128391971e-05. Accuracy: 0.9. Time: 50.791465044021606\n",
      "['<seolir>', '<>', '<bicfvz>', '<plamei>', '<ahli>'] \n",
      "\n",
      "Epoch: 32. Loss: 7.294443076266719e-05. Accuracy: 0.84. Time: 50.744877099990845\n",
      "['<whoji>', '<cotxe>', '<rothad>', '<alew>', '<yoema>'] \n",
      "\n",
      "Epoch: 34. Loss: 6.806515419952203e-05. Accuracy: 0.89. Time: 50.75547385215759\n",
      "['<grulen>', '<phel>', '<wuri>', '<carlbe>', '<baluih>'] \n",
      "\n",
      "Epoch: 36. Loss: 7.338560865588839e-05. Accuracy: 0.95. Time: 50.64159679412842\n",
      "['<lrisxand>', '<denf>', '<logbaei>', '<hck tunix>', '<eroblyd>'] \n",
      "\n",
      "Epoch: 38. Loss: 7.210086641832987e-05. Accuracy: 0.92. Time: 50.71594429016113\n",
      "['<rantome>', '<gotu fae>', '<yhedrlx>', '<alfi>', '<zarmliog>'] \n",
      "\n",
      "Epoch: 40. Loss: 6.63377636678108e-05. Accuracy: 0.87. Time: 50.76807188987732\n",
      "['<yown>', '<vaiw>', '<jeshmo>', '<srbomi>', '<cei>'] \n",
      "\n"
     ]
    }
   ],
   "source": [
    "model = RNNModel_Dropout(names_dataset.vocab_size, hidden_size, names_dataset.vocab_size, len(names_dataset.genders_vocab), drop=0.5).to(device)\n",
    "criterion = nn.CrossEntropyLoss()\n",
    "optimizer = optim.SGD(model.parameters(), lr=learning_rate)\n",
    "\n",
    "df_result.loc[len(df_result), df_result.columns[:-1]], train_loss, test_acc = train_model(model, model.__class__.__name__ + ' (lr=1e-5)', criterion, optimizer,\n",
    "                                                   names_dataset, names_dataloader, max_name_len, epochs=epochs, epochs_print=epochs_print)\n",
    "\n",
    "pets_names = [generate_one_name(model, names_dataset, random.choice(names_dataset.genders), max_name_len) for i in range(100)]\n",
    "df_result.loc[len(df_result)-1, df_result.columns[-1]] = test_pets_name(pets_names, print_names=False, print_acc=False)"
   ]
  },
  {
   "cell_type": "code",
   "execution_count": null,
   "metadata": {
    "id": "5MGiYLfbFy-Q",
    "outputId": "1e1d4300-bcc5-4ee5-f6db-95078411fd73"
   },
   "outputs": [
    {
     "data": {
      "text/html": [
       "<div>\n",
       "<style scoped>\n",
       "    .dataframe tbody tr th:only-of-type {\n",
       "        vertical-align: middle;\n",
       "    }\n",
       "\n",
       "    .dataframe tbody tr th {\n",
       "        vertical-align: top;\n",
       "    }\n",
       "\n",
       "    .dataframe thead th {\n",
       "        text-align: right;\n",
       "    }\n",
       "</style>\n",
       "<table border=\"1\" class=\"dataframe\">\n",
       "  <thead>\n",
       "    <tr style=\"text-align: right;\">\n",
       "      <th></th>\n",
       "      <th>Model</th>\n",
       "      <th>Epochs</th>\n",
       "      <th>Train loss</th>\n",
       "      <th>Time</th>\n",
       "      <th>Test accuracy</th>\n",
       "    </tr>\n",
       "  </thead>\n",
       "  <tbody>\n",
       "    <tr>\n",
       "      <th>0</th>\n",
       "      <td>RNNModel</td>\n",
       "      <td>40</td>\n",
       "      <td>0.000074</td>\n",
       "      <td>1894.816932</td>\n",
       "      <td>1.0</td>\n",
       "    </tr>\n",
       "    <tr>\n",
       "      <th>1</th>\n",
       "      <td>RNNModel_Dropout (drop=0.2)</td>\n",
       "      <td>40</td>\n",
       "      <td>0.000058</td>\n",
       "      <td>2104.176277</td>\n",
       "      <td>0.97</td>\n",
       "    </tr>\n",
       "    <tr>\n",
       "      <th>2</th>\n",
       "      <td>RNNModel_Dropout (drop=0.5)</td>\n",
       "      <td>40</td>\n",
       "      <td>0.000069</td>\n",
       "      <td>2084.027942</td>\n",
       "      <td>0.98</td>\n",
       "    </tr>\n",
       "    <tr>\n",
       "      <th>3</th>\n",
       "      <td>RNNModel (Adam)</td>\n",
       "      <td>40</td>\n",
       "      <td>0.000061</td>\n",
       "      <td>3088.182912</td>\n",
       "      <td>1.0</td>\n",
       "    </tr>\n",
       "    <tr>\n",
       "      <th>4</th>\n",
       "      <td>RNNModel_Dropout (Adam)</td>\n",
       "      <td>40</td>\n",
       "      <td>0.000061</td>\n",
       "      <td>3301.221426</td>\n",
       "      <td>1.0</td>\n",
       "    </tr>\n",
       "    <tr>\n",
       "      <th>5</th>\n",
       "      <td>RNNModel (NLLLoss)</td>\n",
       "      <td>40</td>\n",
       "      <td>0.000089</td>\n",
       "      <td>1838.172887</td>\n",
       "      <td>0.95</td>\n",
       "    </tr>\n",
       "    <tr>\n",
       "      <th>6</th>\n",
       "      <td>RNNModel_Dropout (NLLLoss)</td>\n",
       "      <td>40</td>\n",
       "      <td>0.000076</td>\n",
       "      <td>1998.322957</td>\n",
       "      <td>1.0</td>\n",
       "    </tr>\n",
       "    <tr>\n",
       "      <th>7</th>\n",
       "      <td>RNNModel (lr=1e-3)</td>\n",
       "      <td>40</td>\n",
       "      <td>0.000071</td>\n",
       "      <td>1859.413833</td>\n",
       "      <td>1.0</td>\n",
       "    </tr>\n",
       "    <tr>\n",
       "      <th>8</th>\n",
       "      <td>RNNModel_Dropout (lr=1e-3)</td>\n",
       "      <td>40</td>\n",
       "      <td>0.000058</td>\n",
       "      <td>2041.635227</td>\n",
       "      <td>0.91</td>\n",
       "    </tr>\n",
       "    <tr>\n",
       "      <th>9</th>\n",
       "      <td>RNNModel (lr=1e-5)</td>\n",
       "      <td>40</td>\n",
       "      <td>0.00006</td>\n",
       "      <td>1850.441147</td>\n",
       "      <td>0.92</td>\n",
       "    </tr>\n",
       "    <tr>\n",
       "      <th>10</th>\n",
       "      <td>RNNModel_Dropout (lr=1e-5)</td>\n",
       "      <td>40</td>\n",
       "      <td>0.000066</td>\n",
       "      <td>2051.065685</td>\n",
       "      <td>0.89</td>\n",
       "    </tr>\n",
       "  </tbody>\n",
       "</table>\n",
       "</div>"
      ],
      "text/plain": [
       "                          Model Epochs Train loss         Time Test accuracy\n",
       "0                      RNNModel     40   0.000074  1894.816932           1.0\n",
       "1   RNNModel_Dropout (drop=0.2)     40   0.000058  2104.176277          0.97\n",
       "2   RNNModel_Dropout (drop=0.5)     40   0.000069  2084.027942          0.98\n",
       "3               RNNModel (Adam)     40   0.000061  3088.182912           1.0\n",
       "4       RNNModel_Dropout (Adam)     40   0.000061  3301.221426           1.0\n",
       "5            RNNModel (NLLLoss)     40   0.000089  1838.172887          0.95\n",
       "6    RNNModel_Dropout (NLLLoss)     40   0.000076  1998.322957           1.0\n",
       "7            RNNModel (lr=1e-3)     40   0.000071  1859.413833           1.0\n",
       "8    RNNModel_Dropout (lr=1e-3)     40   0.000058  2041.635227          0.91\n",
       "9            RNNModel (lr=1e-5)     40    0.00006  1850.441147          0.92\n",
       "10   RNNModel_Dropout (lr=1e-5)     40   0.000066  2051.065685          0.89"
      ]
     },
     "execution_count": 95,
     "metadata": {},
     "output_type": "execute_result"
    }
   ],
   "source": [
    "df_result"
   ]
  },
  {
   "cell_type": "code",
   "execution_count": null,
   "metadata": {
    "id": "c9iGO3FoFy-Q",
    "outputId": "4af3e6f5-759b-49a5-eadd-812815c0b4ec"
   },
   "outputs": [
    {
     "data": {
      "image/png": "[encoded data removed]",
      "text/plain": [
       "<Figure size 1200x400 with 2 Axes>"
      ]
     },
     "metadata": {},
     "output_type": "display_data"
    }
   ],
   "source": [
    "fig, ax = plt.subplots(1, 2, figsize=(12, 4))\n",
    "ax[0].plot(train_loss.keys(), train_loss.values())\n",
    "ax[1].plot(train_loss.keys(), test_acc.values())\n",
    "ax[0].set_title('Train loss')\n",
    "ax[1].set_title('Test accuracy')\n",
    "ax[0].set_xlabel('Epoch')\n",
    "ax[1].set_xlabel('Epoch')\n",
    "plt.show()"
   ]
  },
  {
   "cell_type": "markdown",
   "metadata": {
    "id": "ylX3i6mnFy-Q"
   },
   "source": [
    "## 6.5. Результаты"
   ]
  },
  {
   "cell_type": "markdown",
   "metadata": {
    "id": "EiLwZnV3Fy-Q"
   },
   "source": [
    "Лучшие показатели получились у изначального варианта итоговой RNN-модели и у варианта RNN-модели со слоем Dropout. Эти две модели обучены заново на 50 эпохах."
   ]
  },
  {
   "cell_type": "code",
   "execution_count": null,
   "metadata": {
    "id": "Z6laCV-NFy-Q"
   },
   "outputs": [],
   "source": [
    "epochs = 50\n",
    "epochs_print = 2\n",
    "learning_rate = 1e-4"
   ]
  },
  {
   "cell_type": "markdown",
   "metadata": {
    "id": "NWCmODvQFy-Q"
   },
   "source": [
    "Итоговая RNN-модель без вненсения изменений:"
   ]
  },
  {
   "cell_type": "code",
   "execution_count": null,
   "metadata": {
    "id": "2zW813MiFy-Q",
    "outputId": "12074194-573d-45fd-fc06-234542532e33"
   },
   "outputs": [
    {
     "name": "stdout",
     "output_type": "stream",
     "text": [
      "Epoch: 2. Loss: 7.292340667531231e-05. Accuracy: 0.9. Time: 45.83901619911194\n",
      "['<koiec>', '<peld>', '<dioayne>', '<fuseglo>', '<dant>'] \n",
      "\n",
      "Epoch: 4. Loss: 6.539327170587408e-05. Accuracy: 0.94. Time: 46.18445110321045\n",
      "['<nha ielv>', '<gami>', '<mosce>', '<brkpen >', '<ronay>'] \n",
      "\n",
      "Epoch: 6. Loss: 9.280125218393803e-05. Accuracy: 0.97. Time: 47.393441915512085\n",
      "['<lasge>', '<guabsi>', '<rekinsa>', '<rabuito>', '<tayne>'] \n",
      "\n",
      "Epoch: 8. Loss: 5.488776197854436e-05. Accuracy: 0.95. Time: 47.13308310508728\n",
      "['<koanme>', '<folhuca>', '<rona>', '<onidbe>', '<adont>'] \n",
      "\n",
      "Epoch: 10. Loss: 5.72219807194795e-05. Accuracy: 0.97. Time: 47.170369148254395\n",
      "['<camero>', '<kexr>', '<cieja>', '<alitby>', '<wohia>'] \n",
      "\n",
      "Epoch: 12. Loss: 4.8324571148265015e-05. Accuracy: 0.97. Time: 46.802260875701904\n",
      "['<jondewci>', '<phacentou>', '<hopublan>', '<zian>', '<shielo>'] \n",
      "\n",
      "Epoch: 14. Loss: 5.8823738605584655e-05. Accuracy: 0.99. Time: 47.18480682373047\n",
      "['<meosra>', '<melbou>', '<haun er>', '<moreyi>', '<chuti>'] \n",
      "\n",
      "Epoch: 16. Loss: 6.469651980409134e-05. Accuracy: 0.98. Time: 46.13734292984009\n",
      "['<reila>', '<pobleins>', '<fougte>', '<oab>', '<todne>'] \n",
      "\n",
      "Epoch: 18. Loss: 7.408726967755695e-05. Accuracy: 0.98. Time: 46.06526470184326\n",
      "['<pe>', '<scar>', '<mligo>', '<cilet>', '<koni>'] \n",
      "\n",
      "Epoch: 20. Loss: 6.241596990458584e-05. Accuracy: 0.98. Time: 46.11858105659485\n",
      "['<brantey>', '<hotbi>', '<leposti>', '<sdefjapcryli>', '<bolian>'] \n",
      "\n",
      "Epoch: 22. Loss: 7.280847872894979e-05. Accuracy: 0.97. Time: 46.14065170288086\n",
      "['<supil>', '<rang>', '<bues>', '<jilva>', '<mons>'] \n",
      "\n",
      "Epoch: 24. Loss: 6.270129523668033e-05. Accuracy: 0.98. Time: 46.11096382141113\n",
      "['<nelswy>', '<tive>', '<smhila>', '<goleni>', '<tarisu>'] \n",
      "\n",
      "Epoch: 26. Loss: 6.496773677398495e-05. Accuracy: 1.0. Time: 46.06674408912659\n",
      "['<yalgoni>', '<rastie>', '<son>', '<nalder>', '<aledi>'] \n",
      "\n",
      "Epoch: 28. Loss: 5.717046943748949e-05. Accuracy: 0.98. Time: 46.03030872344971\n",
      "['<gotby>', '<krien>', '<corenim>', '<srado>', '<nahi>'] \n",
      "\n",
      "Epoch: 30. Loss: 6.734914165912851e-05. Accuracy: 0.99. Time: 46.194494009017944\n",
      "['<corsiubka>', '<kaveqo>', '<rgwolect>', '<mpal>', '<seogui>'] \n",
      "\n",
      "Epoch: 32. Loss: 7.195258869606769e-05. Accuracy: 0.97. Time: 46.107434034347534\n",
      "['<maves>', '<foner>', '<doni>', '<kuhferalto>', '<crilowen>'] \n",
      "\n",
      "Epoch: 34. Loss: 8.438122847348838e-05. Accuracy: 1.0. Time: 46.04964280128479\n",
      "['<ekbya>', '<pilge>', '<salbi>', '<peshio>', '<shinke>'] \n",
      "\n",
      "Epoch: 36. Loss: 6.0499455744182374e-05. Accuracy: 0.98. Time: 46.14954710006714\n",
      "['<juchertald>', '<chunila>', '<motin>', '<zarviebon>', '<micas>'] \n",
      "\n",
      "Epoch: 38. Loss: 5.3274965660104226e-05. Accuracy: 0.99. Time: 46.05936884880066\n",
      "['<lasno>', '<brist>', '<ckemp>', '<racubey>', '<oviles>'] \n",
      "\n",
      "Epoch: 40. Loss: 5.9127244282557464e-05. Accuracy: 0.99. Time: 46.09244513511658\n",
      "['<parusg>', '<flynceto>', '<kimseo>', '<hocpials>', '<yugci>'] \n",
      "\n",
      "Epoch: 42. Loss: 7.167467816459058e-05. Accuracy: 0.98. Time: 46.06910800933838\n",
      "['<dengiuskarp>', '<zulbora>', '<bitano>', '<siw>', '<bea>'] \n",
      "\n",
      "Epoch: 44. Loss: 5.794532128419638e-05. Accuracy: 0.98. Time: 46.08274030685425\n",
      "['<raxein>', '<cinela>', '<tokey>', '<reck>', '<surkebi>'] \n",
      "\n",
      "Epoch: 46. Loss: 6.271834891229858e-05. Accuracy: 1.0. Time: 46.05772304534912\n",
      "['<rilest>', '<morigh>', '<odiane>', '<erdp>', '<falenjy>'] \n",
      "\n",
      "Epoch: 48. Loss: 6.151581969406685e-05. Accuracy: 0.97. Time: 46.05260419845581\n",
      "['<evilhact>', '<rko byte>', '<zies>', '<scuzey>', '<sokwint>'] \n",
      "\n",
      "Epoch: 50. Loss: 6.181992122137705e-05. Accuracy: 0.98. Time: 46.147704124450684\n",
      "['<poyk se>', '<fartshom>', '<catzin>', '<gutory>', '<hiel>'] \n",
      "\n"
     ]
    },
    {
     "data": {
      "text/plain": [
       "1.0"
      ]
     },
     "execution_count": 128,
     "metadata": {},
     "output_type": "execute_result"
    }
   ],
   "source": [
    "model_v1 = RNNModel(names_dataset.vocab_size, hidden_size, names_dataset.vocab_size, len(names_dataset.genders_vocab)).to(device)\n",
    "criterion = nn.CrossEntropyLoss()\n",
    "optimizer = optim.SGD(model_v1.parameters(), lr=learning_rate)\n",
    "train_model(model_v1, '', criterion, optimizer, names_dataset, names_dataloader, max_name_len, epochs=epochs, epochs_print=epochs_print)\n",
    "\n",
    "pets_names = [generate_one_name(model_v1, names_dataset, random.choice(names_dataset.genders), max_name_len) for i in range(100)]\n",
    "test_pets_name(pets_names, print_names=False, print_acc=False)"
   ]
  },
  {
   "cell_type": "code",
   "execution_count": null,
   "metadata": {
    "id": "8LOZmi4DFy-Q",
    "outputId": "d46e3590-3286-45cd-b0e8-62e73861bfae"
   },
   "outputs": [
    {
     "name": "stdout",
     "output_type": "stream",
     "text": [
      "Mean accuracy (for 10 tests): 0.98\n",
      "Names for male pets: ['<ouetin>', '<jubery>', '<sjung>', '<ber>', '<mucle>', '<nary>', '<ckupsah>', '<zankghem>', '<tegli huz>', '<lawey>']\n"
     ]
    }
   ],
   "source": [
    "mean_test_acc = 0\n",
    "test_count = 10\n",
    "for i in range(test_count):\n",
    "    pets_names = [generate_one_name(model_v1, names_dataset, random.choice(names_dataset.genders), max_name_len) for i in range(1000)]\n",
    "    mean_test_acc += test_pets_name(pets_names, print_names=False, print_acc=False)\n",
    "print(f'Mean accuracy (for {test_count} tests): {round(mean_test_acc / test_count, 2)}')\n",
    "\n",
    "N = 10\n",
    "gender = random.choice(names_dataset.genders)\n",
    "pets_names = [generate_one_name(model_v1, names_dataset, gender, max_name_len) for i in range(N)]\n",
    "gender = 'male' if gender == 'm' else 'female'\n",
    "print(f'Names for {gender} pets: {pets_names}')"
   ]
  },
  {
   "cell_type": "markdown",
   "metadata": {
    "id": "csVQk1Y0Fy-Q"
   },
   "source": [
    "Итоговая RNN-модель со слоем Dropout:"
   ]
  },
  {
   "cell_type": "code",
   "execution_count": null,
   "metadata": {
    "id": "PF-inq6SFy-Q",
    "outputId": "ab331aa9-8033-44d7-8192-6dc0737339dd"
   },
   "outputs": [
    {
     "name": "stdout",
     "output_type": "stream",
     "text": [
      "Epoch: 2. Loss: 7.608700518969482e-05. Accuracy: 0.8. Time: 50.62096691131592\n",
      "['<bhe>', '<sudceio>', '<ybstknm>', '<panmlitc>', '<forla>'] \n",
      "\n",
      "Epoch: 4. Loss: 7.339440144816645e-05. Accuracy: 0.89. Time: 549.2646760940552\n",
      "['<kirgcea>', '<lure>', '<ueapzdig>', '<ghraze>', '<aune>'] \n",
      "\n",
      "Epoch: 6. Loss: 5.790771260094657e-05. Accuracy: 0.96. Time: 50.94588017463684\n",
      "['<gesamin>', '<volp>', '<diny>', '<mure>', '<cawor>'] \n",
      "\n",
      "Epoch: 8. Loss: 8.36671847591756e-05. Accuracy: 0.93. Time: 50.90679597854614\n",
      "['<whasne>', '<dorkha>', '<sgye>', '<toia>', '<lmoni>'] \n",
      "\n",
      "Epoch: 10. Loss: 6.068337572164706e-05. Accuracy: 0.97. Time: 50.9087131023407\n",
      "['<bostin>', '<piusha>', '<sidaten>', '<leums>', '<clah>'] \n",
      "\n",
      "Epoch: 12. Loss: 6.201653212006945e-05. Accuracy: 0.97. Time: 51.01781415939331\n",
      "['<nijosda>', '<roglpte>', '<zopbilk>', '<sgak yer>', '<bedkona>'] \n",
      "\n",
      "Epoch: 14. Loss: 5.416765260127955e-05. Accuracy: 0.98. Time: 50.901939868927\n",
      "['<sliwaruk>', '<margiudhe>', '<slayhi>', '<buraocin>', '<purkas>'] \n",
      "\n",
      "Epoch: 16. Loss: 6.214263555247349e-05. Accuracy: 0.97. Time: 50.833126068115234\n",
      "['<shnaro>', '<na>', '<police>', '<meruil>', '<rlifko>'] \n",
      "\n",
      "Epoch: 18. Loss: 7.848268192084287e-05. Accuracy: 0.97. Time: 50.89123511314392\n",
      "['<chefali>', '<lamtrewn>', '<dobepja>', '<caominyz>', '<pugshe>'] \n",
      "\n",
      "Epoch: 20. Loss: 7.927226989536328e-05. Accuracy: 0.98. Time: 50.85179400444031\n",
      "['<pozut>', '<wcomdivetr>', '<koram>', '<lugpon>', '<liajy>'] \n",
      "\n",
      "Epoch: 22. Loss: 6.774476433505558e-05. Accuracy: 0.95. Time: 50.77489614486694\n",
      "['<kacpumin>', '<dritbonsy>', '<mely>', '<niche>', '<raugde>'] \n",
      "\n",
      "Epoch: 24. Loss: 7.430650073774467e-05. Accuracy: 0.97. Time: 50.746520042419434\n",
      "['<tupbrimenw>', '<phbnzy>', '<canty>', '<rohan>', '<lriady>'] \n",
      "\n",
      "Epoch: 26. Loss: 9.06564177663789e-05. Accuracy: 0.98. Time: 50.74161410331726\n",
      "['<minaeh>', '<otlnci>', '<quitbo>', '<amficu>', '<bhan>'] \n",
      "\n",
      "Epoch: 28. Loss: 6.777130690697452e-05. Accuracy: 0.97. Time: 50.778899908065796\n",
      "['<werp>', '<mo>', '<rilde>', '<senoti>', '<nierha>'] \n",
      "\n",
      "Epoch: 30. Loss: 7.008171506604553e-05. Accuracy: 1.0. Time: 50.79510498046875\n",
      "['<necki>', '<xolane>', '<snuler>', '<barley>', '<>'] \n",
      "\n",
      "Epoch: 32. Loss: 7.15742560849514e-05. Accuracy: 1.0. Time: 50.76468205451965\n",
      "['<stemha>', '<kewic>', '<seimalo>', '<beaxo>', '<japire>'] \n",
      "\n",
      "Epoch: 34. Loss: 6.974018989018271e-05. Accuracy: 1.0. Time: 50.75182294845581\n",
      "['<tcordela>', '<baky>', '<melcidno raj>', '<boetri>', '<luiga>'] \n",
      "\n",
      "Epoch: 36. Loss: 6.623906516452955e-05. Accuracy: 0.97. Time: 50.80458402633667\n",
      "['<traneo>', '<zalin>', '<mitporbes>', '<mezah>', '<spemi>'] \n",
      "\n",
      "Epoch: 38. Loss: 6.623936959283972e-05. Accuracy: 0.97. Time: 50.834092140197754\n",
      "['<midry>', '<thurion>', '<wilthenda>', '<unde>', '<tukay>'] \n",
      "\n",
      "Epoch: 40. Loss: 6.554663260866803e-05. Accuracy: 0.97. Time: 52.15799403190613\n",
      "['<rek>', '<neshiar>', '<nably>', '<fgxtie>', '<halzo>'] \n",
      "\n",
      "Epoch: 42. Loss: 7.609402126645067e-05. Accuracy: 0.98. Time: 51.01784610748291\n",
      "['<the>', '<guazleni>', '<shevina>', '<tinky>', '<pheratco>'] \n",
      "\n",
      "Epoch: 44. Loss: 7.170111465401427e-05. Accuracy: 0.98. Time: 51.090433835983276\n",
      "['<caweli>', '<csikon>', '<hodsay>', '<mena>', '<fonadse>'] \n",
      "\n",
      "Epoch: 46. Loss: 5.6875449445633685e-05. Accuracy: 0.97. Time: 51.42426323890686\n",
      "['<orads>', '<ande>', '<tuga>', '<owyler>', '<degs>'] \n",
      "\n",
      "Epoch: 48. Loss: 6.792176114939819e-05. Accuracy: 0.99. Time: 50.99397897720337\n",
      "['<jabfielt>', '<stzan>', '<cethy>', '<hofeia>', '<bothe>'] \n",
      "\n",
      "Epoch: 50. Loss: 7.392403310412326e-05. Accuracy: 0.99. Time: 51.333394050598145\n",
      "['<angle>', '<makodi>', '<fenua>', '<tsoe>', '<gilen>'] \n",
      "\n"
     ]
    },
    {
     "data": {
      "text/plain": [
       "0.99"
      ]
     },
     "execution_count": 130,
     "metadata": {},
     "output_type": "execute_result"
    }
   ],
   "source": [
    "model_dropout = RNNModel_Dropout(names_dataset.vocab_size, hidden_size, names_dataset.vocab_size, len(names_dataset.genders_vocab), drop=0.5).to(device)\n",
    "criterion = nn.CrossEntropyLoss()\n",
    "optimizer = optim.SGD(model_dropout.parameters(), lr=learning_rate)\n",
    "train_model(model_dropout, '', criterion, optimizer, names_dataset, names_dataloader, max_name_len, epochs=epochs, epochs_print=epochs_print)\n",
    "\n",
    "pets_names = [generate_one_name(model_dropout, names_dataset, random.choice(names_dataset.genders), max_name_len) for i in range(100)]\n",
    "test_pets_name(pets_names, print_names=False, print_acc=False)"
   ]
  },
  {
   "cell_type": "code",
   "execution_count": null,
   "metadata": {
    "id": "ZXc6mH9nFy-Q",
    "outputId": "fd974a58-2865-4e3d-b836-c295c6c802a3"
   },
   "outputs": [
    {
     "name": "stdout",
     "output_type": "stream",
     "text": [
      "Mean accuracy (for 10 tests): 0.98\n",
      "Names for male pets: ['<dank>', '<pkoste>', '<tolebi>', '<singarko>', '<humbon>', '<slex>', '<ureyl>', '<kidogl>', '<rastlem>', '<laver>']\n"
     ]
    }
   ],
   "source": [
    "mean_test_acc = 0\n",
    "test_count = 10\n",
    "for i in range(test_count):\n",
    "    pets_names = [generate_one_name(model_dropout, names_dataset, random.choice(names_dataset.genders), max_name_len) for i in range(1000)]\n",
    "    mean_test_acc += test_pets_name(pets_names, print_names=False, print_acc=False)\n",
    "print(f'Mean accuracy (for {test_count} tests): {round(mean_test_acc / test_count, 2)}')\n",
    "\n",
    "N = 10\n",
    "gender = random.choice(names_dataset.genders)\n",
    "pets_names = [generate_one_name(model_dropout, names_dataset, gender, max_name_len) for i in range(N)]\n",
    "gender = 'male' if gender == 'm' else 'female'\n",
    "print(f'Names for {gender} pets: {pets_names}')"
   ]
  },
  {
   "cell_type": "code",
   "execution_count": null,
   "metadata": {
    "id": "Kt2v_yvyFy-Q",
    "outputId": "291564c6-d1aa-48a2-ce6b-6b62c7ee5eed"
   },
   "outputs": [
    {
     "name": "stdout",
     "output_type": "stream",
     "text": [
      "Names for female pets: ['<sera>', '<ilo>', '<harsin>', '<jayli>', '<ienza>', '<byen>', '<ntome>', '<eicua>', '<pasto>', '<orami>']\n"
     ]
    }
   ],
   "source": [
    "N = 10\n",
    "gender = random.choice(names_dataset.genders)\n",
    "pets_names = [generate_one_name(model_dropout, names_dataset, gender, max_name_len) for i in range(N)]\n",
    "gender = 'male' if gender == 'm' else 'female'\n",
    "print(f'Names for {gender} pets: {pets_names}')"
   ]
  },
  {
   "cell_type": "markdown",
   "metadata": {
    "id": "WWnGSiWcFy-Q"
   },
   "source": [
    "В качестве итогового варианта была выбрана RNN-модели со слоем Dropout, который понизил вероятность переобучения модели и разнообразил варианты сгенерированных кличек, отличных от исходного набора данных.\n",
    "\n",
    "Средняя метрика качества такой модели получилась равной 0.98."
   ]
  }
 ],
 "metadata": {
  "colab": {
   "provenance": []
  },
  "kernelspec": {
   "display_name": "base",
   "language": "python",
   "name": "python3"
  },
  "language_info": {
   "codemirror_mode": {
    "name": "ipython",
    "version": 3
   },
   "file_extension": ".py",
   "mimetype": "text/x-python",
   "name": "python",
   "nbconvert_exporter": "python",
   "pygments_lexer": "ipython3",
   "version": "3.12.8"
  }
 },
 "nbformat": 4,
 "nbformat_minor": 0
}
