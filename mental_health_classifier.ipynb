{
  "cells": [
    {
      "cell_type": "code",
      "execution_count": 1,
      "metadata": {
        "id": "szXY3zEMrATk"
      },
      "outputs": [
        {
          "ename": "",
          "evalue": "",
          "output_type": "error",
          "traceback": [
            "\u001b[1;31mThe Kernel crashed while executing code in the current cell or a previous cell. \n",
            "\u001b[1;31mPlease review the code in the cell(s) to identify a possible cause of the failure. \n",
            "\u001b[1;31mClick <a href='https://aka.ms/vscodeJupyterKernelCrash'>here</a> for more info. \n",
            "\u001b[1;31mView Jupyter <a href='command:jupyter.viewOutput'>log</a> for further details."
          ]
        }
      ],
      "source": [
        "import pandas as pd\n",
        "import numpy as np\n",
        "import random\n",
        "import time\n",
        "import re\n",
        "\n",
        "from nltk.corpus import stopwords\n",
        "from nltk.stem import PorterStemmer\n",
        "from collections import Counter\n",
        "from nltk import ngrams\n",
        "\n",
        "from sklearn.model_selection import train_test_split\n",
        "from sklearn.feature_extraction.text import TfidfVectorizer\n",
        "from sklearn.preprocessing import LabelEncoder\n",
        "from sklearn.ensemble import RandomForestClassifier\n",
        "from sklearn.linear_model import LogisticRegression\n",
        "from sklearn.metrics import classification_report\n",
        "from sklearn.metrics import accuracy_score, precision_recall_fscore_support, f1_score\n",
        "from transformers import BertTokenizer, BertForSequenceClassification\n",
        "from transformers import RobertaTokenizer, RobertaForSequenceClassification\n",
        "from transformers import AutoTokenizer, AutoModelForSequenceClassification\n",
        "from transformers import Trainer, TrainingArguments\n",
        "\n",
        "import torch\n",
        "import torch.nn as nn\n",
        "from torch.utils.data import Dataset, DataLoader\n",
        "\n",
        "import seaborn as sns\n",
        "import matplotlib.pyplot as plt"
      ]
    },
    {
      "cell_type": "markdown",
      "metadata": {
        "id": "OpHJjnB2rATn"
      },
      "source": [
        "# 1. Анализ и предварительная обработка данных"
      ]
    },
    {
      "cell_type": "markdown",
      "metadata": {
        "id": "_GiiKXGErATv"
      },
      "source": [
        "Датасет **Sentiment Analysis for Mental Health** взят с KAGGLE.\n",
        "Ссылка на датасет: https://www.kaggle.com/datasets/suchintikasarkar/sentiment-analysis-for-mental-health\n",
        "\n",
        "Он содержит в себе 53043 строк с сообщениями/высказываниями, помеченными одним из 7 состояний психических расстройств:\n",
        "- Normal (нормальное состояние)\n",
        "- Depression (депрессивное состояние)\n",
        "- Suicidal (суицидальное)\n",
        "- Anxiety (тревожное состояние)\n",
        "- Stress (стрессовое состояние)\n",
        "- Bi-Polar (биполярное расстройство)\n",
        "- Personality Disorder (расстройство личности)"
      ]
    },
    {
      "cell_type": "code",
      "execution_count": 2,
      "metadata": {
        "id": "R0ENqnOprATw",
        "outputId": "4b59f0e8-dfd2-4259-e227-93217d77f9d1"
      },
      "outputs": [
        {
          "data": {
            "application/vnd.microsoft.datawrangler.viewer.v0+json": {
              "columns": [
                {
                  "name": "index",
                  "rawType": "int64",
                  "type": "integer"
                },
                {
                  "name": "Unnamed: 0",
                  "rawType": "int64",
                  "type": "integer"
                },
                {
                  "name": "statement",
                  "rawType": "object",
                  "type": "string"
                },
                {
                  "name": "status",
                  "rawType": "object",
                  "type": "string"
                }
              ],
              "conversionMethod": "pd.DataFrame",
              "ref": "1e99113f-7ce2-40ef-9a2c-c00cfc710835",
              "rows": [
                [
                  "0",
                  "0",
                  "oh my gosh",
                  "Anxiety"
                ],
                [
                  "1",
                  "1",
                  "trouble sleeping, confused mind, restless heart. All out of tune",
                  "Anxiety"
                ],
                [
                  "2",
                  "2",
                  "All wrong, back off dear, forward doubt. Stay in a restless and restless place",
                  "Anxiety"
                ],
                [
                  "3",
                  "3",
                  "I've shifted my focus to something else but I'm still worried",
                  "Anxiety"
                ],
                [
                  "4",
                  "4",
                  "I'm restless and restless, it's been a month now, boy. What do you mean?",
                  "Anxiety"
                ]
              ],
              "shape": {
                "columns": 3,
                "rows": 5
              }
            },
            "text/html": [
              "<div>\n",
              "<style scoped>\n",
              "    .dataframe tbody tr th:only-of-type {\n",
              "        vertical-align: middle;\n",
              "    }\n",
              "\n",
              "    .dataframe tbody tr th {\n",
              "        vertical-align: top;\n",
              "    }\n",
              "\n",
              "    .dataframe thead th {\n",
              "        text-align: right;\n",
              "    }\n",
              "</style>\n",
              "<table border=\"1\" class=\"dataframe\">\n",
              "  <thead>\n",
              "    <tr style=\"text-align: right;\">\n",
              "      <th></th>\n",
              "      <th>Unnamed: 0</th>\n",
              "      <th>statement</th>\n",
              "      <th>status</th>\n",
              "    </tr>\n",
              "  </thead>\n",
              "  <tbody>\n",
              "    <tr>\n",
              "      <th>0</th>\n",
              "      <td>0</td>\n",
              "      <td>oh my gosh</td>\n",
              "      <td>Anxiety</td>\n",
              "    </tr>\n",
              "    <tr>\n",
              "      <th>1</th>\n",
              "      <td>1</td>\n",
              "      <td>trouble sleeping, confused mind, restless hear...</td>\n",
              "      <td>Anxiety</td>\n",
              "    </tr>\n",
              "    <tr>\n",
              "      <th>2</th>\n",
              "      <td>2</td>\n",
              "      <td>All wrong, back off dear, forward doubt. Stay ...</td>\n",
              "      <td>Anxiety</td>\n",
              "    </tr>\n",
              "    <tr>\n",
              "      <th>3</th>\n",
              "      <td>3</td>\n",
              "      <td>I've shifted my focus to something else but I'...</td>\n",
              "      <td>Anxiety</td>\n",
              "    </tr>\n",
              "    <tr>\n",
              "      <th>4</th>\n",
              "      <td>4</td>\n",
              "      <td>I'm restless and restless, it's been a month n...</td>\n",
              "      <td>Anxiety</td>\n",
              "    </tr>\n",
              "  </tbody>\n",
              "</table>\n",
              "</div>"
            ],
            "text/plain": [
              "   Unnamed: 0                                          statement   status\n",
              "0           0                                         oh my gosh  Anxiety\n",
              "1           1  trouble sleeping, confused mind, restless hear...  Anxiety\n",
              "2           2  All wrong, back off dear, forward doubt. Stay ...  Anxiety\n",
              "3           3  I've shifted my focus to something else but I'...  Anxiety\n",
              "4           4  I'm restless and restless, it's been a month n...  Anxiety"
            ]
          },
          "execution_count": 2,
          "metadata": {},
          "output_type": "execute_result"
        }
      ],
      "source": [
        "df = pd.read_csv('Combined Data.csv')\n",
        "df.head()"
      ]
    },
    {
      "cell_type": "code",
      "execution_count": null,
      "metadata": {},
      "outputs": [],
      "source": []
    },
    {
      "cell_type": "code",
      "execution_count": 3,
      "metadata": {
        "id": "GX0saT7LrATw",
        "outputId": "3ffa1b3b-5cb8-48ee-99d6-63f8bae801aa"
      },
      "outputs": [
        {
          "name": "stdout",
          "output_type": "stream",
          "text": [
            "<class 'pandas.core.frame.DataFrame'>\n",
            "RangeIndex: 53043 entries, 0 to 53042\n",
            "Data columns (total 3 columns):\n",
            " #   Column      Non-Null Count  Dtype \n",
            "---  ------      --------------  ----- \n",
            " 0   Unnamed: 0  53043 non-null  int64 \n",
            " 1   statement   52681 non-null  object\n",
            " 2   status      53043 non-null  object\n",
            "dtypes: int64(1), object(2)\n",
            "memory usage: 1.2+ MB\n"
          ]
        }
      ],
      "source": [
        "df.info()"
      ]
    },
    {
      "cell_type": "code",
      "execution_count": 4,
      "metadata": {
        "id": "ppd273hYrATw",
        "outputId": "19e1e6e1-cd81-4039-f8e6-6596d80a219c"
      },
      "outputs": [
        {
          "data": {
            "image/png": "[encoded data removed]",
            "text/plain": [
              "<Figure size 640x480 with 1 Axes>"
            ]
          },
          "metadata": {},
          "output_type": "display_data"
        }
      ],
      "source": [
        "sns.countplot(df['status'], order=df['status'].value_counts().index)\n",
        "plt.show()"
      ]
    },
    {
      "cell_type": "markdown",
      "metadata": {
        "id": "AkmdmMVNrATx"
      },
      "source": [
        "Предварительная обработка данных включает в себя:\n",
        "\n",
        "1. Удаление пустых значений\n",
        "2. Приведение текста к нижнему регистру и удаление лишних символов\n",
        "3. Удаление стоп-слов, стемминг и токенизация\n",
        "4. Удаление выбросов\n",
        "5. Преобразование категориальных данных в числа"
      ]
    },
    {
      "cell_type": "markdown",
      "metadata": {
        "id": "LSc5LUvQrATx"
      },
      "source": [
        "**1. Удаление пустых значений**"
      ]
    },
    {
      "cell_type": "code",
      "execution_count": 5,
      "metadata": {
        "id": "ir7jQ6xkrATx"
      },
      "outputs": [],
      "source": [
        "df = df.drop('Unnamed: 0', axis=1)\n",
        "df = df.dropna().reset_index(drop=True)"
      ]
    },
    {
      "cell_type": "markdown",
      "metadata": {
        "id": "90Dy0zSbrATx"
      },
      "source": [
        "**2. Приведение текста к нижнему регистру, удаление лищних символов**\n",
        "\n",
        "Датасет содержит достаточно много сокращений, например, \"i can't\" вместо \"i cannot\". Так как датасет в последующем планируется очистить от слов, состоящих и одного символа, и всех небуквенных символов, то \"i can't\" превратится в \"can\", и смысл такого предложения теряется (то есть \"I can't live\" после обработки превратится в \"can live\"). Чтобы этого избежать, подобные совращения будут заменены на свои полные версии.\n",
        "\n",
        "Кроме того, будут удалены ссылки, цифры, лишние пробелы и прочие символы."
      ]
    },
    {
      "cell_type": "code",
      "execution_count": 6,
      "metadata": {
        "id": "rsDNMHRdrATx"
      },
      "outputs": [],
      "source": [
        "def text_сleaner(df, field_name, new_field_name):\n",
        "    df[new_field_name] = df[field_name].str.lower()\n",
        "    df[new_field_name] = df[new_field_name].str.replace(r'[’‘`]', '\\'', regex=True)\n",
        "    df[new_field_name] = df[new_field_name].str.replace(r'i[\\'|’]m\\b', 'i am', regex=True)\n",
        "    df[new_field_name] = df[new_field_name].str.replace(r'\\'ve\\b', ' have', regex=True)\n",
        "    df[new_field_name] = df[new_field_name].str.replace(r'\\'d\\b', ' would', regex=True)\n",
        "    df[new_field_name] = df[new_field_name].str.replace(r'\\'ll\\b', ' will', regex=True)\n",
        "    df[new_field_name] = df[new_field_name].str.replace(r'\\'re\\b', ' are', regex=True)\n",
        "    df[new_field_name] = df[new_field_name].str.replace(r'\\'s\\b', ' ', regex=True)\n",
        "    df[new_field_name] = df[new_field_name].str.replace(r'n t\\b', 'n\\'t', regex=True)\n",
        "    df[new_field_name] = df[new_field_name].str.replace(r'can\\'t\\b', 'cannot', regex=True)\n",
        "    df[new_field_name] = df[new_field_name].str.replace(r'won\\'t\\b', 'will not', regex=True)\n",
        "    df[new_field_name] = df[new_field_name].str.replace(r'n\\'t\\b', ' not', regex=True)\n",
        "    df[new_field_name] = df[new_field_name].str.replace(r'http\\S+', ' ', regex=True)\n",
        "    df[new_field_name] = df[new_field_name].str.replace(r'&', ' and ', regex=True)\n",
        "    df[new_field_name] = df[new_field_name].str.replace(r'[^a-z]', ' ', regex=True)\n",
        "    df[new_field_name] = df[new_field_name].str.replace(r'(.)\\1{2,}', r'\\1', regex=True)\n",
        "    df[new_field_name] = df[new_field_name].str.replace(r'\\s+', ' ', regex=True)\n",
        "\n",
        "    return df"
      ]
    },
    {
      "cell_type": "code",
      "execution_count": 7,
      "metadata": {
        "id": "ctsJLEWzrATx",
        "outputId": "a673b8b8-16fc-4368-93d7-a46e3b91243c"
      },
      "outputs": [
        {
          "data": {
            "application/vnd.microsoft.datawrangler.viewer.v0+json": {
              "columns": [
                {
                  "name": "index",
                  "rawType": "int64",
                  "type": "integer"
                },
                {
                  "name": "statement",
                  "rawType": "object",
                  "type": "string"
                },
                {
                  "name": "status",
                  "rawType": "object",
                  "type": "string"
                },
                {
                  "name": "cleared_statement",
                  "rawType": "object",
                  "type": "string"
                }
              ],
              "conversionMethod": "pd.DataFrame",
              "ref": "36c3848c-ab8e-49b7-9aaa-b18ecee5824c",
              "rows": [
                [
                  "0",
                  "oh my gosh",
                  "Anxiety",
                  "oh my gosh"
                ],
                [
                  "1",
                  "trouble sleeping, confused mind, restless heart. All out of tune",
                  "Anxiety",
                  "trouble sleeping confused mind restless heart all out of tune"
                ],
                [
                  "2",
                  "All wrong, back off dear, forward doubt. Stay in a restless and restless place",
                  "Anxiety",
                  "all wrong back off dear forward doubt stay in a restless and restless place"
                ],
                [
                  "3",
                  "I've shifted my focus to something else but I'm still worried",
                  "Anxiety",
                  "i have shifted my focus to something else but i am still worried"
                ],
                [
                  "4",
                  "I'm restless and restless, it's been a month now, boy. What do you mean?",
                  "Anxiety",
                  "i am restless and restless it been a month now boy what do you mean "
                ]
              ],
              "shape": {
                "columns": 3,
                "rows": 5
              }
            },
            "text/html": [
              "<div>\n",
              "<style scoped>\n",
              "    .dataframe tbody tr th:only-of-type {\n",
              "        vertical-align: middle;\n",
              "    }\n",
              "\n",
              "    .dataframe tbody tr th {\n",
              "        vertical-align: top;\n",
              "    }\n",
              "\n",
              "    .dataframe thead th {\n",
              "        text-align: right;\n",
              "    }\n",
              "</style>\n",
              "<table border=\"1\" class=\"dataframe\">\n",
              "  <thead>\n",
              "    <tr style=\"text-align: right;\">\n",
              "      <th></th>\n",
              "      <th>statement</th>\n",
              "      <th>status</th>\n",
              "      <th>cleared_statement</th>\n",
              "    </tr>\n",
              "  </thead>\n",
              "  <tbody>\n",
              "    <tr>\n",
              "      <th>0</th>\n",
              "      <td>oh my gosh</td>\n",
              "      <td>Anxiety</td>\n",
              "      <td>oh my gosh</td>\n",
              "    </tr>\n",
              "    <tr>\n",
              "      <th>1</th>\n",
              "      <td>trouble sleeping, confused mind, restless hear...</td>\n",
              "      <td>Anxiety</td>\n",
              "      <td>trouble sleeping confused mind restless heart ...</td>\n",
              "    </tr>\n",
              "    <tr>\n",
              "      <th>2</th>\n",
              "      <td>All wrong, back off dear, forward doubt. Stay ...</td>\n",
              "      <td>Anxiety</td>\n",
              "      <td>all wrong back off dear forward doubt stay in ...</td>\n",
              "    </tr>\n",
              "    <tr>\n",
              "      <th>3</th>\n",
              "      <td>I've shifted my focus to something else but I'...</td>\n",
              "      <td>Anxiety</td>\n",
              "      <td>i have shifted my focus to something else but ...</td>\n",
              "    </tr>\n",
              "    <tr>\n",
              "      <th>4</th>\n",
              "      <td>I'm restless and restless, it's been a month n...</td>\n",
              "      <td>Anxiety</td>\n",
              "      <td>i am restless and restless it been a month now...</td>\n",
              "    </tr>\n",
              "  </tbody>\n",
              "</table>\n",
              "</div>"
            ],
            "text/plain": [
              "                                           statement   status  \\\n",
              "0                                         oh my gosh  Anxiety   \n",
              "1  trouble sleeping, confused mind, restless hear...  Anxiety   \n",
              "2  All wrong, back off dear, forward doubt. Stay ...  Anxiety   \n",
              "3  I've shifted my focus to something else but I'...  Anxiety   \n",
              "4  I'm restless and restless, it's been a month n...  Anxiety   \n",
              "\n",
              "                                   cleared_statement  \n",
              "0                                         oh my gosh  \n",
              "1  trouble sleeping confused mind restless heart ...  \n",
              "2  all wrong back off dear forward doubt stay in ...  \n",
              "3  i have shifted my focus to something else but ...  \n",
              "4  i am restless and restless it been a month now...  "
            ]
          },
          "execution_count": 7,
          "metadata": {},
          "output_type": "execute_result"
        }
      ],
      "source": [
        "df = text_сleaner(df, 'statement', 'cleared_statement')\n",
        "df.head()"
      ]
    },
    {
      "cell_type": "markdown",
      "metadata": {
        "id": "eJmRrejlrATy"
      },
      "source": [
        "**3. Удаление стоп-слов, стемминг и токенизация**\n",
        "\n",
        "Текст будут токенизирован по пробелам и приведен к начальной форме с помощью стемминга. Затем из него будет удалены стоп-слова и слова, состоящие менее чем из 2 символов.\n",
        "В случае удаления стоп-слов еще стоит поэкспериментировать. Так как список стоп-слов может содержать важные для контекста слова."
      ]
    },
    {
      "cell_type": "code",
      "execution_count": null,
      "metadata": {
        "id": "jftsM24trATy"
      },
      "outputs": [],
      "source": [
        "def text_stemmer(text):\n",
        "    # stop_words = set(stopwords.words('english'))\n",
        "    stemmer = PorterStemmer()\n",
        "\n",
        "    clean_text = []\n",
        "    for word in text.split(' '):\n",
        "        norm_word = stemmer.stem(word)\n",
        "        # if norm_word not in stop_words and len(norm_word) > 1:\n",
        "        if len(norm_word) > 1:\n",
        "            clean_text.append(norm_word.strip())\n",
        "\n",
        "    return clean_text"
      ]
    },
    {
      "cell_type": "code",
      "execution_count": 9,
      "metadata": {
        "id": "lBjSleUSrATy",
        "outputId": "854a91e9-06b0-4f01-be03-deff7bdd7a30"
      },
      "outputs": [
        {
          "data": {
            "application/vnd.microsoft.datawrangler.viewer.v0+json": {
              "columns": [
                {
                  "name": "index",
                  "rawType": "int64",
                  "type": "integer"
                },
                {
                  "name": "statement",
                  "rawType": "object",
                  "type": "string"
                },
                {
                  "name": "status",
                  "rawType": "object",
                  "type": "string"
                },
                {
                  "name": "cleared_statement",
                  "rawType": "object",
                  "type": "string"
                },
                {
                  "name": "stemmed_tokens",
                  "rawType": "object",
                  "type": "unknown"
                }
              ],
              "conversionMethod": "pd.DataFrame",
              "ref": "146ee3ee-a1bc-47fd-9e66-74525be3868c",
              "rows": [
                [
                  "0",
                  "oh my gosh",
                  "Anxiety",
                  "oh my gosh",
                  "['oh', 'my', 'gosh']"
                ],
                [
                  "1",
                  "trouble sleeping, confused mind, restless heart. All out of tune",
                  "Anxiety",
                  "troubl sleep confus mind restless heart all out of tune",
                  "['troubl', 'sleep', 'confus', 'mind', 'restless', 'heart', 'all', 'out', 'of', 'tune']"
                ],
                [
                  "2",
                  "All wrong, back off dear, forward doubt. Stay in a restless and restless place",
                  "Anxiety",
                  "all wrong back off dear forward doubt stay in restless and restless place",
                  "['all', 'wrong', 'back', 'off', 'dear', 'forward', 'doubt', 'stay', 'in', 'restless', 'and', 'restless', 'place']"
                ],
                [
                  "3",
                  "I've shifted my focus to something else but I'm still worried",
                  "Anxiety",
                  "have shift my focu to someth els but am still worri",
                  "['have', 'shift', 'my', 'focu', 'to', 'someth', 'els', 'but', 'am', 'still', 'worri']"
                ],
                [
                  "4",
                  "I'm restless and restless, it's been a month now, boy. What do you mean?",
                  "Anxiety",
                  "am restless and restless it been month now boy what do you mean",
                  "['am', 'restless', 'and', 'restless', 'it', 'been', 'month', 'now', 'boy', 'what', 'do', 'you', 'mean']"
                ]
              ],
              "shape": {
                "columns": 4,
                "rows": 5
              }
            },
            "text/html": [
              "<div>\n",
              "<style scoped>\n",
              "    .dataframe tbody tr th:only-of-type {\n",
              "        vertical-align: middle;\n",
              "    }\n",
              "\n",
              "    .dataframe tbody tr th {\n",
              "        vertical-align: top;\n",
              "    }\n",
              "\n",
              "    .dataframe thead th {\n",
              "        text-align: right;\n",
              "    }\n",
              "</style>\n",
              "<table border=\"1\" class=\"dataframe\">\n",
              "  <thead>\n",
              "    <tr style=\"text-align: right;\">\n",
              "      <th></th>\n",
              "      <th>statement</th>\n",
              "      <th>status</th>\n",
              "      <th>cleared_statement</th>\n",
              "      <th>stemmed_tokens</th>\n",
              "    </tr>\n",
              "  </thead>\n",
              "  <tbody>\n",
              "    <tr>\n",
              "      <th>0</th>\n",
              "      <td>oh my gosh</td>\n",
              "      <td>Anxiety</td>\n",
              "      <td>oh my gosh</td>\n",
              "      <td>[oh, my, gosh]</td>\n",
              "    </tr>\n",
              "    <tr>\n",
              "      <th>1</th>\n",
              "      <td>trouble sleeping, confused mind, restless hear...</td>\n",
              "      <td>Anxiety</td>\n",
              "      <td>troubl sleep confus mind restless heart all ou...</td>\n",
              "      <td>[troubl, sleep, confus, mind, restless, heart,...</td>\n",
              "    </tr>\n",
              "    <tr>\n",
              "      <th>2</th>\n",
              "      <td>All wrong, back off dear, forward doubt. Stay ...</td>\n",
              "      <td>Anxiety</td>\n",
              "      <td>all wrong back off dear forward doubt stay in ...</td>\n",
              "      <td>[all, wrong, back, off, dear, forward, doubt, ...</td>\n",
              "    </tr>\n",
              "    <tr>\n",
              "      <th>3</th>\n",
              "      <td>I've shifted my focus to something else but I'...</td>\n",
              "      <td>Anxiety</td>\n",
              "      <td>have shift my focu to someth els but am still ...</td>\n",
              "      <td>[have, shift, my, focu, to, someth, els, but, ...</td>\n",
              "    </tr>\n",
              "    <tr>\n",
              "      <th>4</th>\n",
              "      <td>I'm restless and restless, it's been a month n...</td>\n",
              "      <td>Anxiety</td>\n",
              "      <td>am restless and restless it been month now boy...</td>\n",
              "      <td>[am, restless, and, restless, it, been, month,...</td>\n",
              "    </tr>\n",
              "  </tbody>\n",
              "</table>\n",
              "</div>"
            ],
            "text/plain": [
              "                                           statement   status  \\\n",
              "0                                         oh my gosh  Anxiety   \n",
              "1  trouble sleeping, confused mind, restless hear...  Anxiety   \n",
              "2  All wrong, back off dear, forward doubt. Stay ...  Anxiety   \n",
              "3  I've shifted my focus to something else but I'...  Anxiety   \n",
              "4  I'm restless and restless, it's been a month n...  Anxiety   \n",
              "\n",
              "                                   cleared_statement  \\\n",
              "0                                         oh my gosh   \n",
              "1  troubl sleep confus mind restless heart all ou...   \n",
              "2  all wrong back off dear forward doubt stay in ...   \n",
              "3  have shift my focu to someth els but am still ...   \n",
              "4  am restless and restless it been month now boy...   \n",
              "\n",
              "                                      stemmed_tokens  \n",
              "0                                     [oh, my, gosh]  \n",
              "1  [troubl, sleep, confus, mind, restless, heart,...  \n",
              "2  [all, wrong, back, off, dear, forward, doubt, ...  \n",
              "3  [have, shift, my, focu, to, someth, els, but, ...  \n",
              "4  [am, restless, and, restless, it, been, month,...  "
            ]
          },
          "execution_count": 9,
          "metadata": {},
          "output_type": "execute_result"
        }
      ],
      "source": [
        "df['stemmed_tokens'] = df['cleared_statement'].apply(text_stemmer)\n",
        "df['cleared_statement'] = df['stemmed_tokens'].apply(lambda x: ' '.join(x))\n",
        "df.head()"
      ]
    },
    {
      "cell_type": "markdown",
      "metadata": {
        "id": "3whmXU-_rATy"
      },
      "source": [
        "**4. Удаление выбросов**\n",
        "\n",
        "Для анализа выбросов необходимо вычислить длину предложений и содержащееся в них количество слов. По этим значениям в последующем будет происходить фильтрация данных."
      ]
    },
    {
      "cell_type": "code",
      "execution_count": 10,
      "metadata": {
        "id": "8SI-6QEhrATy",
        "outputId": "0188e7e4-6430-4fe6-9ec8-f8b48ef61c61"
      },
      "outputs": [
        {
          "data": {
            "application/vnd.microsoft.datawrangler.viewer.v0+json": {
              "columns": [
                {
                  "name": "index",
                  "rawType": "int64",
                  "type": "integer"
                },
                {
                  "name": "statement",
                  "rawType": "object",
                  "type": "string"
                },
                {
                  "name": "status",
                  "rawType": "object",
                  "type": "string"
                },
                {
                  "name": "cleared_statement",
                  "rawType": "object",
                  "type": "string"
                },
                {
                  "name": "stemmed_tokens",
                  "rawType": "object",
                  "type": "unknown"
                },
                {
                  "name": "len_statement",
                  "rawType": "int64",
                  "type": "integer"
                },
                {
                  "name": "words_count",
                  "rawType": "int64",
                  "type": "integer"
                }
              ],
              "conversionMethod": "pd.DataFrame",
              "ref": "d560a45d-90aa-4716-a75a-a10b0a1a8362",
              "rows": [
                [
                  "6700",
                  "'«ð š «ð ©ð ²ð «..â £ ® © ®ð ¡ð ð ²ð «ð ..ðŸ' ¡ð ...ðŸ'«ðŸ¥° «ð ® ð £ð ©ð ²ð «ð ..ðŸ'–",
                  "Normal",
                  "",
                  "[]",
                  "0",
                  "0"
                ],
                [
                  "10332",
                  "9111 10335",
                  "Suicidal",
                  "",
                  "[]",
                  "0",
                  "0"
                ],
                [
                  "36182",
                  "https://t.co/6MPqRunPeX https://t.co/6MPqRunPeX",
                  "Suicidal",
                  "",
                  "[]",
                  "0",
                  "0"
                ],
                [
                  "32090",
                  "$1,000.",
                  "Normal",
                  "",
                  "[]",
                  "0",
                  "0"
                ],
                [
                  "5297",
                  "”ð ®ð ®ð £ð ˜¬ð ©ð ˜¯ð ˜ºð . ˜¢ð ±ð ®ð ®ð ®ð ®ð ©ð . ️",
                  "Normal",
                  "",
                  "[]",
                  "0",
                  "0"
                ],
                [
                  "8522",
                  "37.795120 -122.44502037.794440 -122.43321037.793690 -122.404460",
                  "Suicidal",
                  "",
                  "[]",
                  "0",
                  "0"
                ],
                [
                  "5313",
                  "â€â•°â”€âž›âœŽï¹ .ð € ®ð ..â€â€â€",
                  "Normal",
                  "",
                  "[]",
                  "0",
                  "0"
                ],
                [
                  "5894",
                  "ANTUNA",
                  "Normal",
                  "antuna",
                  "['antuna']",
                  "6",
                  "1"
                ],
                [
                  "1691",
                  "morning",
                  "Normal",
                  "morn",
                  "['morn']",
                  "4",
                  "1"
                ],
                [
                  "423",
                  "anxious",
                  "Anxiety",
                  "anxiou",
                  "['anxiou']",
                  "6",
                  "1"
                ],
                [
                  "31244",
                  "really?",
                  "Normal",
                  "realli",
                  "['realli']",
                  "6",
                  "1"
                ],
                [
                  "5121",
                  "Sleepy",
                  "Normal",
                  "sleepi",
                  "['sleepi']",
                  "6",
                  "1"
                ],
                [
                  "3891",
                  "yanfeiâ â â",
                  "Normal",
                  "yanfei",
                  "['yanfei']",
                  "6",
                  "1"
                ],
                [
                  "33032",
                  "i did.",
                  "Normal",
                  "did",
                  "['did']",
                  "3",
                  "1"
                ],
                [
                  "36911",
                  "@gypsytrading",
                  "Normal",
                  "gypsytrad",
                  "['gypsytrad']",
                  "9",
                  "1"
                ],
                [
                  "31893",
                  "occasionally.",
                  "Normal",
                  "occasion",
                  "['occasion']",
                  "8",
                  "1"
                ],
                [
                  "989",
                  "Hellooooo!",
                  "Normal",
                  "hello",
                  "['hello']",
                  "5",
                  "1"
                ],
                [
                  "3903",
                  "cali <3",
                  "Normal",
                  "cali",
                  "['cali']",
                  "4",
                  "1"
                ],
                [
                  "2295",
                  "okok",
                  "Normal",
                  "okok",
                  "['okok']",
                  "4",
                  "1"
                ],
                [
                  "1705",
                  "Tintin",
                  "Normal",
                  "tintin",
                  "['tintin']",
                  "6",
                  "1"
                ],
                [
                  "32484",
                  "sometimes.",
                  "Normal",
                  "sometim",
                  "['sometim']",
                  "7",
                  "1"
                ],
                [
                  "3859",
                  "Disappointed",
                  "Normal",
                  "disappoint",
                  "['disappoint']",
                  "10",
                  "1"
                ],
                [
                  "5194",
                  "warota",
                  "Normal",
                  "warota",
                  "['warota']",
                  "6",
                  "1"
                ],
                [
                  "6969",
                  "Dai5y! <3",
                  "Normal",
                  "dai",
                  "['dai']",
                  "3",
                  "1"
                ],
                [
                  "3829",
                  "kebo",
                  "Normal",
                  "kebo",
                  "['kebo']",
                  "4",
                  "1"
                ],
                [
                  "36626",
                  "@chinewinelover ?????",
                  "Normal",
                  "chinewinelov",
                  "['chinewinelov']",
                  "12",
                  "1"
                ],
                [
                  "2250",
                  "Boaaaan!!",
                  "Normal",
                  "boan",
                  "['boan']",
                  "4",
                  "1"
                ],
                [
                  "3795",
                  "Georgian",
                  "Normal",
                  "georgian",
                  "['georgian']",
                  "8",
                  "1"
                ],
                [
                  "3881",
                  "jype",
                  "Normal",
                  "jype",
                  "['jype']",
                  "4",
                  "1"
                ],
                [
                  "30686",
                  "working.",
                  "Normal",
                  "work",
                  "['work']",
                  "4",
                  "1"
                ],
                [
                  "3909",
                  "Oversleep",
                  "Normal",
                  "oversleep",
                  "['oversleep']",
                  "9",
                  "1"
                ],
                [
                  "43707",
                  "beeeaaach",
                  "Normal",
                  "beach",
                  "['beach']",
                  "5",
                  "1"
                ],
                [
                  "2756",
                  "csralhoâ€¦ kkkkkkkk",
                  "Normal",
                  "csralho",
                  "['csralho']",
                  "7",
                  "1"
                ],
                [
                  "30752",
                  "at 8:00 p.m.",
                  "Normal",
                  "at",
                  "['at']",
                  "2",
                  "1"
                ],
                [
                  "934",
                  "Stomach :(",
                  "Normal",
                  "stomach",
                  "['stomach']",
                  "7",
                  "1"
                ],
                [
                  "935",
                  "InshaAllah",
                  "Normal",
                  "inshaallah",
                  "['inshaallah']",
                  "10",
                  "1"
                ],
                [
                  "4979",
                  "dog",
                  "Normal",
                  "dog",
                  "['dog']",
                  "3",
                  "1"
                ],
                [
                  "3994",
                  "sad",
                  "Normal",
                  "sad",
                  "['sad']",
                  "3",
                  "1"
                ],
                [
                  "2373",
                  "QUWURUUWUEURREEEEEEEEE",
                  "Normal",
                  "quwuruuwueurr",
                  "['quwuruuwueurr']",
                  "13",
                  "1"
                ],
                [
                  "2773",
                  "Alhamdulillah",
                  "Normal",
                  "alhamdulillah",
                  "['alhamdulillah']",
                  "13",
                  "1"
                ],
                [
                  "944",
                  "hikhok.",
                  "Normal",
                  "hikhok",
                  "['hikhok']",
                  "6",
                  "1"
                ],
                [
                  "32554",
                  "really?",
                  "Normal",
                  "realli",
                  "['realli']",
                  "6",
                  "1"
                ],
                [
                  "2355",
                  "dick",
                  "Normal",
                  "dick",
                  "['dick']",
                  "4",
                  "1"
                ],
                [
                  "31864",
                  "and?",
                  "Normal",
                  "and",
                  "['and']",
                  "3",
                  "1"
                ],
                [
                  "2800",
                  "Alright",
                  "Normal",
                  "alright",
                  "['alright']",
                  "7",
                  "1"
                ],
                [
                  "951",
                  "embarrassing",
                  "Normal",
                  "embarrass",
                  "['embarrass']",
                  "9",
                  "1"
                ],
                [
                  "32552",
                  "no.",
                  "Normal",
                  "no",
                  "['no']",
                  "2",
                  "1"
                ],
                [
                  "2348",
                  "10000x bismillah ™‚ðŸ™‚",
                  "Normal",
                  "bismillah",
                  "['bismillah']",
                  "9",
                  "1"
                ],
                [
                  "3952",
                  "dog.",
                  "Normal",
                  "dog",
                  "['dog']",
                  "3",
                  "1"
                ],
                [
                  "3948",
                  "tepaar",
                  "Normal",
                  "tepaar",
                  "['tepaar']",
                  "6",
                  "1"
                ]
              ],
              "shape": {
                "columns": 6,
                "rows": 52681
              }
            },
            "text/html": [
              "<div>\n",
              "<style scoped>\n",
              "    .dataframe tbody tr th:only-of-type {\n",
              "        vertical-align: middle;\n",
              "    }\n",
              "\n",
              "    .dataframe tbody tr th {\n",
              "        vertical-align: top;\n",
              "    }\n",
              "\n",
              "    .dataframe thead th {\n",
              "        text-align: right;\n",
              "    }\n",
              "</style>\n",
              "<table border=\"1\" class=\"dataframe\">\n",
              "  <thead>\n",
              "    <tr style=\"text-align: right;\">\n",
              "      <th></th>\n",
              "      <th>statement</th>\n",
              "      <th>status</th>\n",
              "      <th>cleared_statement</th>\n",
              "      <th>stemmed_tokens</th>\n",
              "      <th>len_statement</th>\n",
              "      <th>words_count</th>\n",
              "    </tr>\n",
              "  </thead>\n",
              "  <tbody>\n",
              "    <tr>\n",
              "      <th>6700</th>\n",
              "      <td>'«ð š «ð ©ð ²ð «..â £ ® © ®ð ¡ð ð ²ð «ð ..ðŸ' ...</td>\n",
              "      <td>Normal</td>\n",
              "      <td></td>\n",
              "      <td>[]</td>\n",
              "      <td>0</td>\n",
              "      <td>0</td>\n",
              "    </tr>\n",
              "    <tr>\n",
              "      <th>10332</th>\n",
              "      <td>9111 10335</td>\n",
              "      <td>Suicidal</td>\n",
              "      <td></td>\n",
              "      <td>[]</td>\n",
              "      <td>0</td>\n",
              "      <td>0</td>\n",
              "    </tr>\n",
              "    <tr>\n",
              "      <th>36182</th>\n",
              "      <td>https://t.co/6MPqRunPeX https://t.co/6MPqRunPeX</td>\n",
              "      <td>Suicidal</td>\n",
              "      <td></td>\n",
              "      <td>[]</td>\n",
              "      <td>0</td>\n",
              "      <td>0</td>\n",
              "    </tr>\n",
              "    <tr>\n",
              "      <th>32090</th>\n",
              "      <td>$1,000.</td>\n",
              "      <td>Normal</td>\n",
              "      <td></td>\n",
              "      <td>[]</td>\n",
              "      <td>0</td>\n",
              "      <td>0</td>\n",
              "    </tr>\n",
              "    <tr>\n",
              "      <th>5297</th>\n",
              "      <td>”ð ®ð ®ð £ð ˜¬ð ©ð ˜¯ð ˜ºð . ˜¢ð ±ð ®ð ®ð ®ð ®...</td>\n",
              "      <td>Normal</td>\n",
              "      <td></td>\n",
              "      <td>[]</td>\n",
              "      <td>0</td>\n",
              "      <td>0</td>\n",
              "    </tr>\n",
              "    <tr>\n",
              "      <th>...</th>\n",
              "      <td>...</td>\n",
              "      <td>...</td>\n",
              "      <td>...</td>\n",
              "      <td>...</td>\n",
              "      <td>...</td>\n",
              "      <td>...</td>\n",
              "    </tr>\n",
              "    <tr>\n",
              "      <th>39740</th>\n",
              "      <td>it doesn t matter anymore i m going to copy an...</td>\n",
              "      <td>Depression</td>\n",
              "      <td>it doe not matter anymor go to copi and past m...</td>\n",
              "      <td>[it, doe, not, matter, anymor, go, to, copi, a...</td>\n",
              "      <td>17580</td>\n",
              "      <td>3697</td>\n",
              "    </tr>\n",
              "    <tr>\n",
              "      <th>46648</th>\n",
              "      <td>DEPRESSION HAS A PURPOSE: HOW TO USE IT RIGHT ...</td>\n",
              "      <td>Bipolar</td>\n",
              "      <td>depress ha purpos how to use it right thi text...</td>\n",
              "      <td>[depress, ha, purpos, how, to, use, it, right,...</td>\n",
              "      <td>22739</td>\n",
              "      <td>4524</td>\n",
              "    </tr>\n",
              "    <tr>\n",
              "      <th>10824</th>\n",
              "      <td>I have only 1 person I can somewhat open to bu...</td>\n",
              "      <td>Suicidal</td>\n",
              "      <td>have onli person can somewhat open to but have...</td>\n",
              "      <td>[have, onli, person, can, somewhat, open, to, ...</td>\n",
              "      <td>23853</td>\n",
              "      <td>4837</td>\n",
              "    </tr>\n",
              "    <tr>\n",
              "      <th>13283</th>\n",
              "      <td>I cannot TAKE IT ANYMORE. I cannot TAKE IT ANY...</td>\n",
              "      <td>Suicidal</td>\n",
              "      <td>cannot take it anymor cannot take it anymor ca...</td>\n",
              "      <td>[cannot, take, it, anymor, cannot, take, it, a...</td>\n",
              "      <td>27719</td>\n",
              "      <td>5040</td>\n",
              "    </tr>\n",
              "    <tr>\n",
              "      <th>51127</th>\n",
              "      <td>Please help me understand what I went through ...</td>\n",
              "      <td>Personality disorder</td>\n",
              "      <td>pleas help me understand what went through thi...</td>\n",
              "      <td>[pleas, help, me, understand, what, went, thro...</td>\n",
              "      <td>24373</td>\n",
              "      <td>5107</td>\n",
              "    </tr>\n",
              "  </tbody>\n",
              "</table>\n",
              "<p>52681 rows × 6 columns</p>\n",
              "</div>"
            ],
            "text/plain": [
              "                                               statement  \\\n",
              "6700   '«ð š «ð ©ð ²ð «..â £ ® © ®ð ¡ð ð ²ð «ð ..ðŸ' ...   \n",
              "10332                                         9111 10335   \n",
              "36182    https://t.co/6MPqRunPeX https://t.co/6MPqRunPeX   \n",
              "32090                                            $1,000.   \n",
              "5297   ”ð ®ð ®ð £ð ˜¬ð ©ð ˜¯ð ˜ºð . ˜¢ð ±ð ®ð ®ð ®ð ®...   \n",
              "...                                                  ...   \n",
              "39740  it doesn t matter anymore i m going to copy an...   \n",
              "46648  DEPRESSION HAS A PURPOSE: HOW TO USE IT RIGHT ...   \n",
              "10824  I have only 1 person I can somewhat open to bu...   \n",
              "13283  I cannot TAKE IT ANYMORE. I cannot TAKE IT ANY...   \n",
              "51127  Please help me understand what I went through ...   \n",
              "\n",
              "                     status  \\\n",
              "6700                 Normal   \n",
              "10332              Suicidal   \n",
              "36182              Suicidal   \n",
              "32090                Normal   \n",
              "5297                 Normal   \n",
              "...                     ...   \n",
              "39740            Depression   \n",
              "46648               Bipolar   \n",
              "10824              Suicidal   \n",
              "13283              Suicidal   \n",
              "51127  Personality disorder   \n",
              "\n",
              "                                       cleared_statement  \\\n",
              "6700                                                       \n",
              "10332                                                      \n",
              "36182                                                      \n",
              "32090                                                      \n",
              "5297                                                       \n",
              "...                                                  ...   \n",
              "39740  it doe not matter anymor go to copi and past m...   \n",
              "46648  depress ha purpos how to use it right thi text...   \n",
              "10824  have onli person can somewhat open to but have...   \n",
              "13283  cannot take it anymor cannot take it anymor ca...   \n",
              "51127  pleas help me understand what went through thi...   \n",
              "\n",
              "                                          stemmed_tokens  len_statement  \\\n",
              "6700                                                  []              0   \n",
              "10332                                                 []              0   \n",
              "36182                                                 []              0   \n",
              "32090                                                 []              0   \n",
              "5297                                                  []              0   \n",
              "...                                                  ...            ...   \n",
              "39740  [it, doe, not, matter, anymor, go, to, copi, a...          17580   \n",
              "46648  [depress, ha, purpos, how, to, use, it, right,...          22739   \n",
              "10824  [have, onli, person, can, somewhat, open, to, ...          23853   \n",
              "13283  [cannot, take, it, anymor, cannot, take, it, a...          27719   \n",
              "51127  [pleas, help, me, understand, what, went, thro...          24373   \n",
              "\n",
              "       words_count  \n",
              "6700             0  \n",
              "10332            0  \n",
              "36182            0  \n",
              "32090            0  \n",
              "5297             0  \n",
              "...            ...  \n",
              "39740         3697  \n",
              "46648         4524  \n",
              "10824         4837  \n",
              "13283         5040  \n",
              "51127         5107  \n",
              "\n",
              "[52681 rows x 6 columns]"
            ]
          },
          "execution_count": 10,
          "metadata": {},
          "output_type": "execute_result"
        }
      ],
      "source": [
        "df['len_statement'] = df['cleared_statement'].apply(lambda x: len(x))\n",
        "df['words_count'] = df['stemmed_tokens'].apply(lambda x: len(x))\n",
        "df.sort_values('words_count')"
      ]
    },
    {
      "cell_type": "markdown",
      "metadata": {
        "id": "v6438PJ5rATy"
      },
      "source": [
        "Удаление предложений с менее чем двумя словами:"
      ]
    },
    {
      "cell_type": "code",
      "execution_count": 11,
      "metadata": {
        "id": "DcnmMOD3rATy",
        "outputId": "911bdbc2-4cd9-41d2-d71e-87ca89025287"
      },
      "outputs": [
        {
          "data": {
            "application/vnd.microsoft.datawrangler.viewer.v0+json": {
              "columns": [
                {
                  "name": "index",
                  "rawType": "int64",
                  "type": "integer"
                },
                {
                  "name": "statement",
                  "rawType": "object",
                  "type": "string"
                },
                {
                  "name": "status",
                  "rawType": "object",
                  "type": "string"
                },
                {
                  "name": "cleared_statement",
                  "rawType": "object",
                  "type": "string"
                },
                {
                  "name": "stemmed_tokens",
                  "rawType": "object",
                  "type": "unknown"
                },
                {
                  "name": "len_statement",
                  "rawType": "int64",
                  "type": "integer"
                },
                {
                  "name": "words_count",
                  "rawType": "int64",
                  "type": "integer"
                }
              ],
              "conversionMethod": "pd.DataFrame",
              "ref": "605495b2-5fdb-448e-a4e8-d5f809ad044c",
              "rows": [
                [
                  "30629",
                  "yes, i do.",
                  "Normal",
                  "ye do",
                  "['ye', 'do']",
                  "5",
                  "2"
                ],
                [
                  "31451",
                  "yes, i do.",
                  "Normal",
                  "ye do",
                  "['ye', 'do']",
                  "5",
                  "2"
                ],
                [
                  "31506",
                  "so do i.",
                  "Normal",
                  "so do",
                  "['so', 'do']",
                  "5",
                  "2"
                ],
                [
                  "1059",
                  "Wooo hoooo!",
                  "Normal",
                  "wo ho",
                  "['wo', 'ho']",
                  "5",
                  "2"
                ],
                [
                  "33015",
                  "so do i.",
                  "Normal",
                  "so do",
                  "['so', 'do']",
                  "5",
                  "2"
                ],
                [
                  "32309",
                  "so do i.",
                  "Normal",
                  "so do",
                  "['so', 'do']",
                  "5",
                  "2"
                ],
                [
                  "5158",
                  "Up44pp4p4p4p4",
                  "Normal",
                  "up pp",
                  "['up', 'pp']",
                  "5",
                  "2"
                ],
                [
                  "6485",
                  "oooooo so kh",
                  "Normal",
                  "so kh",
                  "['so', 'kh']",
                  "5",
                  "2"
                ],
                [
                  "30872",
                  "so do i.",
                  "Normal",
                  "so do",
                  "['so', 'do']",
                  "5",
                  "2"
                ],
                [
                  "16608",
                  "aaaaaaaaaaaaaaaaaaaaaaaaaaaaaaaaaaaaaaaaaaaaaaaaaaaaaaaaaaaaaaaaaaaaaaaaaaaaaaaaaaaaaaaaaaaaaaaaaaaaaaaaaaaaaaaaaaaaaaaaaaaaaaaaaaaaaaaaaaaaaaaaaaaaaaaaaaaaaaaaaaaaaaaaaaaaaaaaaaaaaaaaaaaaaaaaaaaaaaaaaaaaaaaaaaaaaaaaaaaaaaaaaaahhhhhhhhhhhhhhhhhhhhhhhhhhhhhhhhhhhhhhhhhhhhhhhhhhhhhhhh aaaaaaaaaaaaaaaaaaaaaaaaaaaaaaaaaaaaaaaaaaaaaaaaaaaaaaaaaaaaaaaaaaaaaaaaaaaaaaaaaaaaaaaaaaaaaaaaaaaaaaaaaaaaaaaaaaaaaaaaaaaaaaaaaaaaaaaaaaaaaaaaaaaaaaaaaaaaaaaaaaaaaaaaaaaaaaaaaaaaaaaaaaaaaaaaaaaaaaaaaaaahhhhhhhhhhhhhhhhhhhhhhhhhhhhhhhhhhhhhhhhhhhhhhhhhhhhhhhhhhhhhhhhhhhhhhhhhhhhhhhhhhhhhhhhhhhhhhhh",
                  "Depression",
                  "ah ah",
                  "['ah', 'ah']",
                  "5",
                  "2"
                ],
                [
                  "30175",
                  "yes, i do.",
                  "Normal",
                  "ye do",
                  "['ye', 'do']",
                  "5",
                  "2"
                ],
                [
                  "31845",
                  "so do i.",
                  "Normal",
                  "so do",
                  "['so', 'do']",
                  "5",
                  "2"
                ],
                [
                  "32759",
                  "so was i.",
                  "Normal",
                  "so wa",
                  "['so', 'wa']",
                  "5",
                  "2"
                ],
                [
                  "2559",
                  "gm tl",
                  "Normal",
                  "gm tl",
                  "['gm', 'tl']",
                  "5",
                  "2"
                ],
                [
                  "32623",
                  "so do i.",
                  "Normal",
                  "so do",
                  "['so', 'do']",
                  "5",
                  "2"
                ],
                [
                  "33416",
                  "oh, yes.",
                  "Normal",
                  "oh ye",
                  "['oh', 'ye']",
                  "5",
                  "2"
                ],
                [
                  "32753",
                  "so am i.",
                  "Normal",
                  "so am",
                  "['so', 'am']",
                  "5",
                  "2"
                ],
                [
                  "33427",
                  "yes, i do.",
                  "Normal",
                  "ye do",
                  "['ye', 'do']",
                  "5",
                  "2"
                ],
                [
                  "32755",
                  "so did i.",
                  "Normal",
                  "so did",
                  "['so', 'did']",
                  "6",
                  "2"
                ],
                [
                  "31538",
                  "me too.",
                  "Normal",
                  "me too",
                  "['me', 'too']",
                  "6",
                  "2"
                ],
                [
                  "2289",
                  "HB Low ²",
                  "Normal",
                  "hb low",
                  "['hb', 'low']",
                  "6",
                  "2"
                ],
                [
                  "3913",
                  "rip yp??",
                  "Normal",
                  "rip yp",
                  "['rip', 'yp']",
                  "6",
                  "2"
                ],
                [
                  "32222",
                  "me too.",
                  "Normal",
                  "me too",
                  "['me', 'too']",
                  "6",
                  "2"
                ],
                [
                  "6559",
                  "So sinful",
                  "Normal",
                  "so sin",
                  "['so', 'sin']",
                  "6",
                  "2"
                ],
                [
                  "30994",
                  "yes, i did.",
                  "Normal",
                  "ye did",
                  "['ye', 'did']",
                  "6",
                  "2"
                ],
                [
                  "33153",
                  "me, too.",
                  "Normal",
                  "me too",
                  "['me', 'too']",
                  "6",
                  "2"
                ],
                [
                  "32399",
                  "how so?",
                  "Normal",
                  "how so",
                  "['how', 'so']",
                  "6",
                  "2"
                ],
                [
                  "6621",
                  "rpz jkkkkkk £",
                  "Normal",
                  "rpz jk",
                  "['rpz', 'jk']",
                  "6",
                  "2"
                ],
                [
                  "33066",
                  "yes, i did.",
                  "Normal",
                  "ye did",
                  "['ye', 'did']",
                  "6",
                  "2"
                ],
                [
                  "2385",
                  "alg pg",
                  "Normal",
                  "alg pg",
                  "['alg', 'pg']",
                  "6",
                  "2"
                ],
                [
                  "4433",
                  "SBS_MTV #ë¹…ìŠ¤ #ë ”ì‡¼",
                  "Normal",
                  "sb mtv",
                  "['sb', 'mtv']",
                  "6",
                  "2"
                ],
                [
                  "3940",
                  "OH PTN",
                  "Normal",
                  "oh ptn",
                  "['oh', 'ptn']",
                  "6",
                  "2"
                ],
                [
                  "6693",
                  "Aya vi.",
                  "Normal",
                  "aya vi",
                  "['aya', 'vi']",
                  "6",
                  "2"
                ],
                [
                  "5341",
                  "b884cfe700p21DB3",
                  "Normal",
                  "cfe db",
                  "['cfe', 'db']",
                  "6",
                  "2"
                ],
                [
                  "3565",
                  "I'm emo.",
                  "Normal",
                  "am emo",
                  "['am', 'emo']",
                  "6",
                  "2"
                ],
                [
                  "30793",
                  "why me?",
                  "Normal",
                  "whi me",
                  "['whi', 'me']",
                  "6",
                  "2"
                ],
                [
                  "32906",
                  "me too.",
                  "Normal",
                  "me too",
                  "['me', 'too']",
                  "6",
                  "2"
                ],
                [
                  "5291",
                  "noooo jyp",
                  "Normal",
                  "no jyp",
                  "['no', 'jyp']",
                  "6",
                  "2"
                ],
                [
                  "4274",
                  "Bah KKðŸ¤¡",
                  "Normal",
                  "bah kk",
                  "['bah', 'kk']",
                  "6",
                  "2"
                ],
                [
                  "32895",
                  "me too.",
                  "Normal",
                  "me too",
                  "['me', 'too']",
                  "6",
                  "2"
                ],
                [
                  "31564",
                  "yes, i did.",
                  "Normal",
                  "ye did",
                  "['ye', 'did']",
                  "6",
                  "2"
                ],
                [
                  "6052",
                  "bm him",
                  "Normal",
                  "bm him",
                  "['bm', 'him']",
                  "6",
                  "2"
                ],
                [
                  "3149",
                  "bnt lg",
                  "Normal",
                  "bnt lg",
                  "['bnt', 'lg']",
                  "6",
                  "2"
                ],
                [
                  "2878",
                  "Don't",
                  "Normal",
                  "do not",
                  "['do', 'not']",
                  "6",
                  "2"
                ],
                [
                  "31134",
                  "me too.",
                  "Normal",
                  "me too",
                  "['me', 'too']",
                  "6",
                  "2"
                ],
                [
                  "30813",
                  "yes, i did.",
                  "Normal",
                  "ye did",
                  "['ye', 'did']",
                  "6",
                  "2"
                ],
                [
                  "33231",
                  "me too.",
                  "Normal",
                  "me too",
                  "['me', 'too']",
                  "6",
                  "2"
                ],
                [
                  "30854",
                  "me too.",
                  "Normal",
                  "me too",
                  "['me', 'too']",
                  "6",
                  "2"
                ],
                [
                  "4620",
                  "So sad",
                  "Normal",
                  "so sad",
                  "['so', 'sad']",
                  "6",
                  "2"
                ],
                [
                  "4726",
                  "Why else...",
                  "Normal",
                  "whi els",
                  "['whi', 'els']",
                  "7",
                  "2"
                ]
              ],
              "shape": {
                "columns": 6,
                "rows": 52325
              }
            },
            "text/html": [
              "<div>\n",
              "<style scoped>\n",
              "    .dataframe tbody tr th:only-of-type {\n",
              "        vertical-align: middle;\n",
              "    }\n",
              "\n",
              "    .dataframe tbody tr th {\n",
              "        vertical-align: top;\n",
              "    }\n",
              "\n",
              "    .dataframe thead th {\n",
              "        text-align: right;\n",
              "    }\n",
              "</style>\n",
              "<table border=\"1\" class=\"dataframe\">\n",
              "  <thead>\n",
              "    <tr style=\"text-align: right;\">\n",
              "      <th></th>\n",
              "      <th>statement</th>\n",
              "      <th>status</th>\n",
              "      <th>cleared_statement</th>\n",
              "      <th>stemmed_tokens</th>\n",
              "      <th>len_statement</th>\n",
              "      <th>words_count</th>\n",
              "    </tr>\n",
              "  </thead>\n",
              "  <tbody>\n",
              "    <tr>\n",
              "      <th>30629</th>\n",
              "      <td>yes, i do.</td>\n",
              "      <td>Normal</td>\n",
              "      <td>ye do</td>\n",
              "      <td>[ye, do]</td>\n",
              "      <td>5</td>\n",
              "      <td>2</td>\n",
              "    </tr>\n",
              "    <tr>\n",
              "      <th>31451</th>\n",
              "      <td>yes, i do.</td>\n",
              "      <td>Normal</td>\n",
              "      <td>ye do</td>\n",
              "      <td>[ye, do]</td>\n",
              "      <td>5</td>\n",
              "      <td>2</td>\n",
              "    </tr>\n",
              "    <tr>\n",
              "      <th>31506</th>\n",
              "      <td>so do i.</td>\n",
              "      <td>Normal</td>\n",
              "      <td>so do</td>\n",
              "      <td>[so, do]</td>\n",
              "      <td>5</td>\n",
              "      <td>2</td>\n",
              "    </tr>\n",
              "    <tr>\n",
              "      <th>1059</th>\n",
              "      <td>Wooo hoooo!</td>\n",
              "      <td>Normal</td>\n",
              "      <td>wo ho</td>\n",
              "      <td>[wo, ho]</td>\n",
              "      <td>5</td>\n",
              "      <td>2</td>\n",
              "    </tr>\n",
              "    <tr>\n",
              "      <th>33015</th>\n",
              "      <td>so do i.</td>\n",
              "      <td>Normal</td>\n",
              "      <td>so do</td>\n",
              "      <td>[so, do]</td>\n",
              "      <td>5</td>\n",
              "      <td>2</td>\n",
              "    </tr>\n",
              "    <tr>\n",
              "      <th>...</th>\n",
              "      <td>...</td>\n",
              "      <td>...</td>\n",
              "      <td>...</td>\n",
              "      <td>...</td>\n",
              "      <td>...</td>\n",
              "      <td>...</td>\n",
              "    </tr>\n",
              "    <tr>\n",
              "      <th>39407</th>\n",
              "      <td>it doesn t matter anymore i m going to copy an...</td>\n",
              "      <td>Depression</td>\n",
              "      <td>it doe not matter anymor go to copi and past m...</td>\n",
              "      <td>[it, doe, not, matter, anymor, go, to, copi, a...</td>\n",
              "      <td>17580</td>\n",
              "      <td>3697</td>\n",
              "    </tr>\n",
              "    <tr>\n",
              "      <th>46292</th>\n",
              "      <td>DEPRESSION HAS A PURPOSE: HOW TO USE IT RIGHT ...</td>\n",
              "      <td>Bipolar</td>\n",
              "      <td>depress ha purpos how to use it right thi text...</td>\n",
              "      <td>[depress, ha, purpos, how, to, use, it, right,...</td>\n",
              "      <td>22739</td>\n",
              "      <td>4524</td>\n",
              "    </tr>\n",
              "    <tr>\n",
              "      <th>10557</th>\n",
              "      <td>I have only 1 person I can somewhat open to bu...</td>\n",
              "      <td>Suicidal</td>\n",
              "      <td>have onli person can somewhat open to but have...</td>\n",
              "      <td>[have, onli, person, can, somewhat, open, to, ...</td>\n",
              "      <td>23853</td>\n",
              "      <td>4837</td>\n",
              "    </tr>\n",
              "    <tr>\n",
              "      <th>50771</th>\n",
              "      <td>Please help me understand what I went through ...</td>\n",
              "      <td>Personality disorder</td>\n",
              "      <td>pleas help me understand what went through thi...</td>\n",
              "      <td>[pleas, help, me, understand, what, went, thro...</td>\n",
              "      <td>24373</td>\n",
              "      <td>5107</td>\n",
              "    </tr>\n",
              "    <tr>\n",
              "      <th>13016</th>\n",
              "      <td>I cannot TAKE IT ANYMORE. I cannot TAKE IT ANY...</td>\n",
              "      <td>Suicidal</td>\n",
              "      <td>cannot take it anymor cannot take it anymor ca...</td>\n",
              "      <td>[cannot, take, it, anymor, cannot, take, it, a...</td>\n",
              "      <td>27719</td>\n",
              "      <td>5040</td>\n",
              "    </tr>\n",
              "  </tbody>\n",
              "</table>\n",
              "<p>52325 rows × 6 columns</p>\n",
              "</div>"
            ],
            "text/plain": [
              "                                               statement  \\\n",
              "30629                                         yes, i do.   \n",
              "31451                                         yes, i do.   \n",
              "31506                                           so do i.   \n",
              "1059                                         Wooo hoooo!   \n",
              "33015                                           so do i.   \n",
              "...                                                  ...   \n",
              "39407  it doesn t matter anymore i m going to copy an...   \n",
              "46292  DEPRESSION HAS A PURPOSE: HOW TO USE IT RIGHT ...   \n",
              "10557  I have only 1 person I can somewhat open to bu...   \n",
              "50771  Please help me understand what I went through ...   \n",
              "13016  I cannot TAKE IT ANYMORE. I cannot TAKE IT ANY...   \n",
              "\n",
              "                     status  \\\n",
              "30629                Normal   \n",
              "31451                Normal   \n",
              "31506                Normal   \n",
              "1059                 Normal   \n",
              "33015                Normal   \n",
              "...                     ...   \n",
              "39407            Depression   \n",
              "46292               Bipolar   \n",
              "10557              Suicidal   \n",
              "50771  Personality disorder   \n",
              "13016              Suicidal   \n",
              "\n",
              "                                       cleared_statement  \\\n",
              "30629                                              ye do   \n",
              "31451                                              ye do   \n",
              "31506                                              so do   \n",
              "1059                                               wo ho   \n",
              "33015                                              so do   \n",
              "...                                                  ...   \n",
              "39407  it doe not matter anymor go to copi and past m...   \n",
              "46292  depress ha purpos how to use it right thi text...   \n",
              "10557  have onli person can somewhat open to but have...   \n",
              "50771  pleas help me understand what went through thi...   \n",
              "13016  cannot take it anymor cannot take it anymor ca...   \n",
              "\n",
              "                                          stemmed_tokens  len_statement  \\\n",
              "30629                                           [ye, do]              5   \n",
              "31451                                           [ye, do]              5   \n",
              "31506                                           [so, do]              5   \n",
              "1059                                            [wo, ho]              5   \n",
              "33015                                           [so, do]              5   \n",
              "...                                                  ...            ...   \n",
              "39407  [it, doe, not, matter, anymor, go, to, copi, a...          17580   \n",
              "46292  [depress, ha, purpos, how, to, use, it, right,...          22739   \n",
              "10557  [have, onli, person, can, somewhat, open, to, ...          23853   \n",
              "50771  [pleas, help, me, understand, what, went, thro...          24373   \n",
              "13016  [cannot, take, it, anymor, cannot, take, it, a...          27719   \n",
              "\n",
              "       words_count  \n",
              "30629            2  \n",
              "31451            2  \n",
              "31506            2  \n",
              "1059             2  \n",
              "33015            2  \n",
              "...            ...  \n",
              "39407         3697  \n",
              "46292         4524  \n",
              "10557         4837  \n",
              "50771         5107  \n",
              "13016         5040  \n",
              "\n",
              "[52325 rows x 6 columns]"
            ]
          },
          "execution_count": 11,
          "metadata": {},
          "output_type": "execute_result"
        }
      ],
      "source": [
        "df = df.loc[df['words_count'] > 1].reset_index(drop=True)\n",
        "df.sort_values('len_statement')"
      ]
    },
    {
      "cell_type": "markdown",
      "metadata": {
        "id": "mt2MSY1SrATz"
      },
      "source": [
        "Анализ длин предложений:"
      ]
    },
    {
      "cell_type": "code",
      "execution_count": 12,
      "metadata": {
        "id": "BYJR4CyhrATz",
        "outputId": "f2c13a45-ccff-4a36-b3c0-2db737e76de0"
      },
      "outputs": [
        {
          "data": {
            "text/plain": [
              "<Axes: xlabel='len_statement', ylabel='Count'>"
            ]
          },
          "execution_count": 12,
          "metadata": {},
          "output_type": "execute_result"
        },
        {
          "data": {
            "image/png": "[encoded data removed]",
            "text/plain": [
              "<Figure size 640x480 with 1 Axes>"
            ]
          },
          "metadata": {},
          "output_type": "display_data"
        }
      ],
      "source": [
        "sns.histplot(df['len_statement'], kde=True, bins=100)"
      ]
    },
    {
      "cell_type": "code",
      "execution_count": 13,
      "metadata": {
        "id": "-z9Vp4zLrATz",
        "outputId": "5dc0049a-8f98-41c4-f5bb-a9164b35e317"
      },
      "outputs": [
        {
          "data": {
            "text/plain": [
              "<Axes: xlabel='len_statement', ylabel='Count'>"
            ]
          },
          "execution_count": 13,
          "metadata": {},
          "output_type": "execute_result"
        },
        {
          "data": {
            "image/png": "[encoded data removed]",
            "text/plain": [
              "<Figure size 640x480 with 1 Axes>"
            ]
          },
          "metadata": {},
          "output_type": "display_data"
        }
      ],
      "source": [
        "sns.histplot(df['len_statement'].loc[df['len_statement'] < 3000], kde=True, bins=100)"
      ]
    },
    {
      "cell_type": "markdown",
      "metadata": {
        "id": "Pk5S_bJdrATz"
      },
      "source": [
        "В данном случае было решено оставить строки с длиной предложения до 2500 символов:"
      ]
    },
    {
      "cell_type": "code",
      "execution_count": 14,
      "metadata": {
        "id": "syiUyRI3rATz",
        "outputId": "f7ecf58a-1e37-4370-df88-23fd16636cfe"
      },
      "outputs": [
        {
          "data": {
            "text/plain": [
              "status\n",
              "Normal                  16011\n",
              "Depression              14854\n",
              "Suicidal                10336\n",
              "Anxiety                  3740\n",
              "Bipolar                  2689\n",
              "Stress                   2555\n",
              "Personality disorder     1040\n",
              "Name: count, dtype: int64"
            ]
          },
          "execution_count": 14,
          "metadata": {},
          "output_type": "execute_result"
        }
      ],
      "source": [
        "df = df.loc[df['len_statement'] <= 2500].reset_index(drop=True)\n",
        "df['status'].value_counts()"
      ]
    },
    {
      "cell_type": "code",
      "execution_count": 15,
      "metadata": {
        "id": "O1AzHYs7rATz",
        "outputId": "21ebcf7d-772c-4a93-e9f5-a8118a89eb48"
      },
      "outputs": [
        {
          "name": "stdout",
          "output_type": "stream",
          "text": [
            "Удалено из датасета: 1818 строк (3.43%)\n"
          ]
        }
      ],
      "source": [
        "original_len = len(pd.read_csv('Combined Data.csv'))\n",
        "print(f'Удалено из датасета: {original_len - len(df)} строк ({round(100 * (original_len - len(df)) / original_len, 2)}%)')"
      ]
    },
    {
      "cell_type": "markdown",
      "metadata": {
        "id": "iT1QUE90rATz"
      },
      "source": [
        "**5. Преобразования категориальных данных в числа**"
      ]
    },
    {
      "cell_type": "code",
      "execution_count": 16,
      "metadata": {
        "id": "aMYAOADhrATz",
        "outputId": "9e599758-41d3-416d-e6a1-85238f83e9b8"
      },
      "outputs": [
        {
          "data": {
            "application/vnd.microsoft.datawrangler.viewer.v0+json": {
              "columns": [
                {
                  "name": "index",
                  "rawType": "int64",
                  "type": "integer"
                },
                {
                  "name": "statement",
                  "rawType": "object",
                  "type": "string"
                },
                {
                  "name": "status",
                  "rawType": "object",
                  "type": "string"
                },
                {
                  "name": "cleared_statement",
                  "rawType": "object",
                  "type": "string"
                },
                {
                  "name": "stemmed_tokens",
                  "rawType": "object",
                  "type": "unknown"
                },
                {
                  "name": "len_statement",
                  "rawType": "int64",
                  "type": "integer"
                },
                {
                  "name": "words_count",
                  "rawType": "int64",
                  "type": "integer"
                },
                {
                  "name": "status_code",
                  "rawType": "int64",
                  "type": "integer"
                }
              ],
              "conversionMethod": "pd.DataFrame",
              "ref": "d64cfbcc-360c-473d-8f80-39a75e16ada5",
              "rows": [
                [
                  "0",
                  "oh my gosh",
                  "Anxiety",
                  "oh my gosh",
                  "['oh', 'my', 'gosh']",
                  "10",
                  "3",
                  "0"
                ],
                [
                  "1",
                  "trouble sleeping, confused mind, restless heart. All out of tune",
                  "Anxiety",
                  "troubl sleep confus mind restless heart all out of tune",
                  "['troubl', 'sleep', 'confus', 'mind', 'restless', 'heart', 'all', 'out', 'of', 'tune']",
                  "55",
                  "10",
                  "0"
                ],
                [
                  "2",
                  "All wrong, back off dear, forward doubt. Stay in a restless and restless place",
                  "Anxiety",
                  "all wrong back off dear forward doubt stay in restless and restless place",
                  "['all', 'wrong', 'back', 'off', 'dear', 'forward', 'doubt', 'stay', 'in', 'restless', 'and', 'restless', 'place']",
                  "73",
                  "13",
                  "0"
                ],
                [
                  "3",
                  "I've shifted my focus to something else but I'm still worried",
                  "Anxiety",
                  "have shift my focu to someth els but am still worri",
                  "['have', 'shift', 'my', 'focu', 'to', 'someth', 'els', 'but', 'am', 'still', 'worri']",
                  "51",
                  "11",
                  "0"
                ],
                [
                  "4",
                  "I'm restless and restless, it's been a month now, boy. What do you mean?",
                  "Anxiety",
                  "am restless and restless it been month now boy what do you mean",
                  "['am', 'restless', 'and', 'restless', 'it', 'been', 'month', 'now', 'boy', 'what', 'do', 'you', 'mean']",
                  "63",
                  "13",
                  "0"
                ]
              ],
              "shape": {
                "columns": 7,
                "rows": 5
              }
            },
            "text/html": [
              "<div>\n",
              "<style scoped>\n",
              "    .dataframe tbody tr th:only-of-type {\n",
              "        vertical-align: middle;\n",
              "    }\n",
              "\n",
              "    .dataframe tbody tr th {\n",
              "        vertical-align: top;\n",
              "    }\n",
              "\n",
              "    .dataframe thead th {\n",
              "        text-align: right;\n",
              "    }\n",
              "</style>\n",
              "<table border=\"1\" class=\"dataframe\">\n",
              "  <thead>\n",
              "    <tr style=\"text-align: right;\">\n",
              "      <th></th>\n",
              "      <th>statement</th>\n",
              "      <th>status</th>\n",
              "      <th>cleared_statement</th>\n",
              "      <th>stemmed_tokens</th>\n",
              "      <th>len_statement</th>\n",
              "      <th>words_count</th>\n",
              "      <th>status_code</th>\n",
              "    </tr>\n",
              "  </thead>\n",
              "  <tbody>\n",
              "    <tr>\n",
              "      <th>0</th>\n",
              "      <td>oh my gosh</td>\n",
              "      <td>Anxiety</td>\n",
              "      <td>oh my gosh</td>\n",
              "      <td>[oh, my, gosh]</td>\n",
              "      <td>10</td>\n",
              "      <td>3</td>\n",
              "      <td>0</td>\n",
              "    </tr>\n",
              "    <tr>\n",
              "      <th>1</th>\n",
              "      <td>trouble sleeping, confused mind, restless hear...</td>\n",
              "      <td>Anxiety</td>\n",
              "      <td>troubl sleep confus mind restless heart all ou...</td>\n",
              "      <td>[troubl, sleep, confus, mind, restless, heart,...</td>\n",
              "      <td>55</td>\n",
              "      <td>10</td>\n",
              "      <td>0</td>\n",
              "    </tr>\n",
              "    <tr>\n",
              "      <th>2</th>\n",
              "      <td>All wrong, back off dear, forward doubt. Stay ...</td>\n",
              "      <td>Anxiety</td>\n",
              "      <td>all wrong back off dear forward doubt stay in ...</td>\n",
              "      <td>[all, wrong, back, off, dear, forward, doubt, ...</td>\n",
              "      <td>73</td>\n",
              "      <td>13</td>\n",
              "      <td>0</td>\n",
              "    </tr>\n",
              "    <tr>\n",
              "      <th>3</th>\n",
              "      <td>I've shifted my focus to something else but I'...</td>\n",
              "      <td>Anxiety</td>\n",
              "      <td>have shift my focu to someth els but am still ...</td>\n",
              "      <td>[have, shift, my, focu, to, someth, els, but, ...</td>\n",
              "      <td>51</td>\n",
              "      <td>11</td>\n",
              "      <td>0</td>\n",
              "    </tr>\n",
              "    <tr>\n",
              "      <th>4</th>\n",
              "      <td>I'm restless and restless, it's been a month n...</td>\n",
              "      <td>Anxiety</td>\n",
              "      <td>am restless and restless it been month now boy...</td>\n",
              "      <td>[am, restless, and, restless, it, been, month,...</td>\n",
              "      <td>63</td>\n",
              "      <td>13</td>\n",
              "      <td>0</td>\n",
              "    </tr>\n",
              "  </tbody>\n",
              "</table>\n",
              "</div>"
            ],
            "text/plain": [
              "                                           statement   status  \\\n",
              "0                                         oh my gosh  Anxiety   \n",
              "1  trouble sleeping, confused mind, restless hear...  Anxiety   \n",
              "2  All wrong, back off dear, forward doubt. Stay ...  Anxiety   \n",
              "3  I've shifted my focus to something else but I'...  Anxiety   \n",
              "4  I'm restless and restless, it's been a month n...  Anxiety   \n",
              "\n",
              "                                   cleared_statement  \\\n",
              "0                                         oh my gosh   \n",
              "1  troubl sleep confus mind restless heart all ou...   \n",
              "2  all wrong back off dear forward doubt stay in ...   \n",
              "3  have shift my focu to someth els but am still ...   \n",
              "4  am restless and restless it been month now boy...   \n",
              "\n",
              "                                      stemmed_tokens  len_statement  \\\n",
              "0                                     [oh, my, gosh]             10   \n",
              "1  [troubl, sleep, confus, mind, restless, heart,...             55   \n",
              "2  [all, wrong, back, off, dear, forward, doubt, ...             73   \n",
              "3  [have, shift, my, focu, to, someth, els, but, ...             51   \n",
              "4  [am, restless, and, restless, it, been, month,...             63   \n",
              "\n",
              "   words_count  status_code  \n",
              "0            3            0  \n",
              "1           10            0  \n",
              "2           13            0  \n",
              "3           11            0  \n",
              "4           13            0  "
            ]
          },
          "execution_count": 16,
          "metadata": {},
          "output_type": "execute_result"
        }
      ],
      "source": [
        "le = LabelEncoder()\n",
        "df['status_code'] = le.fit_transform(df['status'])\n",
        "df.head()"
      ]
    },
    {
      "cell_type": "code",
      "execution_count": 17,
      "metadata": {
        "id": "WZKmq26drAT0",
        "outputId": "b354dcb1-1981-43d0-9202-fe1795738a7a"
      },
      "outputs": [
        {
          "data": {
            "text/plain": [
              "status\n",
              "Normal                  16011\n",
              "Depression              14854\n",
              "Suicidal                10336\n",
              "Anxiety                  3740\n",
              "Bipolar                  2689\n",
              "Stress                   2555\n",
              "Personality disorder     1040\n",
              "Name: count, dtype: int64"
            ]
          },
          "execution_count": 17,
          "metadata": {},
          "output_type": "execute_result"
        }
      ],
      "source": [
        "df['status'].value_counts()"
      ]
    },
    {
      "cell_type": "markdown",
      "metadata": {
        "id": "ShimuIhgrAT0"
      },
      "source": [
        "# 2. Подготовка данных для обучения"
      ]
    },
    {
      "cell_type": "markdown",
      "metadata": {
        "id": "c6mcL4ZvrAT0"
      },
      "source": [
        "Перед началом обучения данные необходимо подготовить. Они будут преобразованы в тензоры."
      ]
    },
    {
      "cell_type": "code",
      "execution_count": 18,
      "metadata": {
        "id": "EKIonmdSrAT0"
      },
      "outputs": [],
      "source": [
        "class CustomDataset(Dataset):\n",
        "    def __init__(self, vocab, classes, max_len, X, y):\n",
        "        self.vocab = vocab\n",
        "        self.max_len = max_len\n",
        "        self.classes = classes\n",
        "\n",
        "        self.text = X\n",
        "        self.tokenized_text = torch.tensor([self.text_to_sequence(x) for x in X], dtype=torch.long)\n",
        "        self.status = y\n",
        "\n",
        "    def __len__(self):\n",
        "        return self.status.shape[0]\n",
        "\n",
        "    def __getitem__(self, idx):\n",
        "        x = self.tokenized_text[idx]\n",
        "        y = np.zeros(len(self.classes))\n",
        "        y[self.classes.index(self.status[idx])] = 1\n",
        "        y = torch.from_numpy(y)\n",
        "        return x, y\n",
        "\n",
        "    def text_to_sequence(self, text):\n",
        "        tokens = [self.vocab.get(word, 0) for word in text]\n",
        "        return tokens + [0] * (self.max_len - len(tokens))"
      ]
    },
    {
      "cell_type": "code",
      "execution_count": 19,
      "metadata": {
        "id": "oTzuX9oUrAT0"
      },
      "outputs": [],
      "source": [
        "def get_vocab(df):\n",
        "    all_words = [word for step in [steps for steps in df.values] for word in step]\n",
        "    vocab = {word: i + 2 for i, word in enumerate(Counter(all_words).keys())}\n",
        "    vocab['<PAD>'] = 0\n",
        "    vocab['<NAN>'] = 1\n",
        "\n",
        "    max_len = max(df.apply(lambda x: len(x)))\n",
        "\n",
        "    return vocab, max_len"
      ]
    },
    {
      "cell_type": "code",
      "execution_count": 20,
      "metadata": {
        "id": "txAG8MNArAT0"
      },
      "outputs": [],
      "source": [
        "vocab, max_len = get_vocab(df['stemmed_tokens'])\n",
        "classes = list(set(df['status'].values))\n",
        "vocab_size = len(vocab)"
      ]
    },
    {
      "cell_type": "code",
      "execution_count": 21,
      "metadata": {
        "id": "e0-gxcHrrAT1"
      },
      "outputs": [],
      "source": [
        "X = df['stemmed_tokens'].values\n",
        "y = df['status'].values\n",
        "\n",
        "X_train, X_test, y_train, y_test = train_test_split(X, y, test_size=0.15, random_state=42)\n",
        "X_train, X_val, y_train, y_val = train_test_split(X_train, y_train, test_size=0.175, random_state=42)"
      ]
    },
    {
      "cell_type": "code",
      "execution_count": 22,
      "metadata": {
        "id": "e8068n_brAT1"
      },
      "outputs": [],
      "source": [
        "BATCH_SIZE = 256\n",
        "\n",
        "train_dataset = CustomDataset(vocab, classes, max_len, X_train, y_train)\n",
        "val_dataset = CustomDataset(vocab, classes, max_len, X_val, y_val)\n",
        "test_dataset = CustomDataset(vocab, classes, max_len, X_test, y_test)\n",
        "\n",
        "train_loader = DataLoader(train_dataset, batch_size=BATCH_SIZE, shuffle=True)\n",
        "val_loader = DataLoader(val_dataset, batch_size=BATCH_SIZE, shuffle=True)\n",
        "test_loader = DataLoader(test_dataset, batch_size=BATCH_SIZE, shuffle=False)"
      ]
    },
    {
      "cell_type": "code",
      "execution_count": 23,
      "metadata": {
        "id": "L48tY9BJrAT1",
        "outputId": "ba61fdac-3415-403c-c57e-4ed664830624"
      },
      "outputs": [
        {
          "name": "stdout",
          "output_type": "stream",
          "text": [
            "train: 35921, val: 7620, test: 7684\n"
          ]
        }
      ],
      "source": [
        "print(f'train: {len(train_dataset)}, val: {len(val_dataset)}, test: {len(test_dataset)}')"
      ]
    },
    {
      "cell_type": "markdown",
      "metadata": {
        "id": "NNVJP94grAT1"
      },
      "source": [
        "# 3. Baseline-модель"
      ]
    },
    {
      "cell_type": "markdown",
      "metadata": {
        "id": "-VZMxsCwrAT2"
      },
      "source": [
        "Разделение данных на train и test:"
      ]
    },
    {
      "cell_type": "code",
      "execution_count": null,
      "metadata": {
        "id": "c-ceEm1ArAT2"
      },
      "outputs": [],
      "source": [
        "X = df['cleared_statement']\n",
        "y = df['status_code'].values\n",
        "\n",
        "X_train, X_test, y_train, y_test = train_test_split(X, y, test_size=0.2, random_state=42)"
      ]
    },
    {
      "cell_type": "markdown",
      "metadata": {
        "id": "luU1_cF4rAT2"
      },
      "source": [
        "Для векторизации текста использовался TfidfVectorizer:"
      ]
    },
    {
      "cell_type": "code",
      "execution_count": null,
      "metadata": {
        "id": "VCY71v2yrAT2",
        "outputId": "3118a9b4-bc97-4b7d-f3c5-b434b44539e6"
      },
      "outputs": [
        {
          "data": {
            "text/plain": [
              "((40980, 32843), (40980,))"
            ]
          },
          "execution_count": 35,
          "metadata": {},
          "output_type": "execute_result"
        }
      ],
      "source": [
        "vectorizer = TfidfVectorizer()\n",
        "\n",
        "X_train_tfidf = vectorizer.fit_transform(X_train)\n",
        "X_test_tfidf = vectorizer.transform(X_test)\n",
        "X_train_tfidf.shape, y_train.shape"
      ]
    },
    {
      "cell_type": "markdown",
      "metadata": {
        "id": "YT2TbAZfrAT2"
      },
      "source": [
        "Для начала можно можно рассмотреть **классические модели ML**. Было выбрано 2 варианта - модель случайного леса и логистическая регрессия.\n",
        "\n",
        "Кроме того, на этом этапе будет определена **baseline-модель**."
      ]
    },
    {
      "cell_type": "markdown",
      "metadata": {
        "id": "cbi-0zBdrAT3"
      },
      "source": [
        "## RandomForestClassifier"
      ]
    },
    {
      "cell_type": "code",
      "execution_count": null,
      "metadata": {
        "id": "O8AvG6OQrAT3",
        "outputId": "95577a09-a10c-4423-be82-9c4677c2627d"
      },
      "outputs": [
        {
          "data": {
            "text/plain": [
              "0.6683260126891166"
            ]
          },
          "execution_count": 36,
          "metadata": {},
          "output_type": "execute_result"
        }
      ],
      "source": [
        "clf_rf = RandomForestClassifier()\n",
        "clf_rf.fit(X_train_tfidf, y_train)\n",
        "\n",
        "clf_rf.score(X_test_tfidf, y_test)"
      ]
    },
    {
      "cell_type": "code",
      "execution_count": null,
      "metadata": {
        "id": "-IIfDsQyrAT3",
        "outputId": "ad419026-0773-4204-a160-b1405ba90ff8"
      },
      "outputs": [
        {
          "name": "stdout",
          "output_type": "stream",
          "text": [
            "              precision    recall  f1-score   support\n",
            "\n",
            "           0       0.92      0.39      0.55       736\n",
            "           1       0.99      0.30      0.46       528\n",
            "           2       0.52      0.82      0.63      2967\n",
            "           3       0.81      0.94      0.87      3261\n",
            "           4       1.00      0.29      0.45       215\n",
            "           5       0.99      0.18      0.30       537\n",
            "           6       0.66      0.37      0.47      2001\n",
            "\n",
            "    accuracy                           0.67     10245\n",
            "   macro avg       0.84      0.47      0.53     10245\n",
            "weighted avg       0.73      0.67      0.64     10245\n",
            "\n"
          ]
        }
      ],
      "source": [
        "y_pred = clf_rf.predict(X_test_tfidf)\n",
        "\n",
        "print(classification_report(y_test, y_pred))"
      ]
    },
    {
      "cell_type": "markdown",
      "metadata": {
        "id": "mrZc8p4jrAT3"
      },
      "source": [
        "## LogisticRegression"
      ]
    },
    {
      "cell_type": "code",
      "execution_count": null,
      "metadata": {
        "id": "YpKpFtXbrAT3",
        "outputId": "9f95ce53-72f4-4b08-cc7b-52e46df87420"
      },
      "outputs": [
        {
          "data": {
            "text/plain": [
              "0.7576378721327477"
            ]
          },
          "execution_count": 38,
          "metadata": {},
          "output_type": "execute_result"
        }
      ],
      "source": [
        "clf_lr = LogisticRegression(max_iter=1000)\n",
        "clf_lr.fit(X_train_tfidf, y_train)\n",
        "\n",
        "clf_lr.score(X_test_tfidf, y_test)"
      ]
    },
    {
      "cell_type": "code",
      "execution_count": null,
      "metadata": {
        "id": "nddw8kyHrAT3",
        "outputId": "ef6b0835-05cc-4ae3-ce54-7afd3694e3d3"
      },
      "outputs": [
        {
          "name": "stdout",
          "output_type": "stream",
          "text": [
            "              precision    recall  f1-score   support\n",
            "\n",
            "           0       0.79      0.74      0.77       736\n",
            "           1       0.87      0.66      0.75       528\n",
            "           2       0.68      0.73      0.70      2967\n",
            "           3       0.86      0.95      0.90      3261\n",
            "           4       0.84      0.41      0.55       215\n",
            "           5       0.72      0.42      0.53       537\n",
            "           6       0.67      0.64      0.65      2001\n",
            "\n",
            "    accuracy                           0.76     10245\n",
            "   macro avg       0.78      0.65      0.69     10245\n",
            "weighted avg       0.76      0.76      0.75     10245\n",
            "\n"
          ]
        }
      ],
      "source": [
        "y_pred = clf_lr.predict(X_test_tfidf)\n",
        "\n",
        "print(classification_report(y_test, y_pred))"
      ]
    },
    {
      "cell_type": "markdown",
      "metadata": {
        "id": "eF4MttHBrAT3"
      },
      "source": [
        "Логистическая регрессия в данном случае уже показывает хороший результат. Эту модель можно использовать в качестве baseline-модели."
      ]
    },
    {
      "cell_type": "markdown",
      "metadata": {
        "id": "bsHFrKxnrAT3"
      },
      "source": [
        "# 4. RNN"
      ]
    },
    {
      "cell_type": "markdown",
      "metadata": {
        "id": "AL_K-VmgrAT3"
      },
      "source": [
        "Следующим вариант решения задачи - использование **рекуррентной нейронной сети**. Для начала можно использовать нейронную сеть с одним рекуррентным слоем, будут рассмотрены разные слои (LSTM, GRU и RNN).\n",
        "\n",
        "Обучение будет длиться 5 эпох. В качестве функции потерь используется кросс-энтропия. В качестве метрики используется процент верных предсказаний моделью относительно общего числа значений."
      ]
    },
    {
      "cell_type": "markdown",
      "metadata": {
        "id": "qBvMi9GprAT3"
      },
      "source": [
        "## Model"
      ]
    },
    {
      "cell_type": "code",
      "execution_count": 24,
      "metadata": {
        "id": "_wM_FgyGrAT3"
      },
      "outputs": [],
      "source": [
        "def train_model(model, optimizer, criterion, train_loader, test_loader, epochs=10, print_epoch=1, return_info=True):\n",
        "    loss_train, loss_test = 0, 0\n",
        "    acc_train, acc_test = 0, 0\n",
        "    len_train, len_test = 0, 0\n",
        "    start_train = time.time()\n",
        "\n",
        "    for epoch in range(1, epochs+1):\n",
        "        start_epoch = time.time()\n",
        "        model.train()\n",
        "\n",
        "        for x, y in train_loader:\n",
        "            optimizer.zero_grad()\n",
        "            y_pred = model(x)\n",
        "            loss = criterion(y_pred, y)\n",
        "            loss.backward()\n",
        "            optimizer.step()\n",
        "\n",
        "            loss_train += loss.item()\n",
        "            acc_train += sum(torch.max(y_pred.data, 1)[1] == torch.max(y.data, 1)[1])\n",
        "            len_train += len(x)\n",
        "\n",
        "        if epoch % print_epoch == 0:\n",
        "            model.eval()\n",
        "            for x, y in test_loader:\n",
        "                y_pred = model(x)\n",
        "                loss = criterion(y_pred, y)\n",
        "\n",
        "                loss_test += loss.item()\n",
        "                acc_test += sum(torch.max(y_pred.data, 1)[1] == torch.max(y.data, 1)[1])\n",
        "                len_test += len(x)\n",
        "\n",
        "            print(f'Epoch {epoch} ({round(time.time() - start_epoch, 2)}s):')\n",
        "            print(f'    train loss: {round(loss_train / len_train, 4)}, val loss: {round(loss_test / len_test, 4)}')\n",
        "            print(f'    train accuracy: {round(100 * acc_train.detach().numpy() / len_train, 2)}%, val accuracy: {round(100 * acc_test.detach().numpy() / len_test, 2)}%')\n",
        "\n",
        "    end_train = round(time.time() - start_train, 2)\n",
        "    loss_train = round(loss_train / len_train, 4)\n",
        "    acc_train = round(acc_train.detach().numpy() / len_train, 4)\n",
        "\n",
        "    if return_info: return loss_train, acc_train, end_train\n"
      ]
    },
    {
      "cell_type": "code",
      "execution_count": 25,
      "metadata": {
        "id": "C3oX37-qrAT3"
      },
      "outputs": [],
      "source": [
        "df_results = pd.DataFrame(columns=['model', 'epochs', 'train loss', 'train accuracy', 'test accuracy', 'time'])\n",
        "\n",
        "def predict(model, text, vocab, max_len):\n",
        "    text = text_stemmer(text.lower())\n",
        "    tokens = [vocab.get(word, 0) for word in text]\n",
        "    tokens = tokens + [0] * (max_len - len(tokens))\n",
        "    tokens = torch.tensor(tokens, dtype=torch.long)\n",
        "\n",
        "    model.eval()\n",
        "    y_pred = model(tokens.unsqueeze(0))\n",
        "    prediction = torch.max(y_pred.data, 1)[1]\n",
        "\n",
        "    return prediction\n",
        "\n",
        "\n",
        "def rnn_prediction(df, model, n):\n",
        "    for i in range(n):\n",
        "        idx = random.randint(0, len(df))\n",
        "        statement = df['statement'].values[idx]\n",
        "\n",
        "        print(i+1)\n",
        "        print(statement)\n",
        "        print(f'    - real: {df['status'].values[idx]}')\n",
        "        print(f'    - predict: {classes[predict(model, statement, vocab, max_len)]}\\n')\n",
        "\n",
        "\n",
        "def test_accuracy(model, test_loader, print_acc=False):\n",
        "    acc, i = 0, 0\n",
        "\n",
        "    model.eval()\n",
        "    for x, y in test_loader:\n",
        "        y_pred = model(x)\n",
        "        acc += sum(torch.max(y_pred.data, 1)[1] == torch.max(y.data, 1)[1])\n",
        "        i += len(y)\n",
        "\n",
        "    acc = acc.detach().numpy()/i\n",
        "    if print_acc: print(f'test accuracy = {acc}')\n",
        "    return round(acc, 4)\n",
        "\n",
        "\n",
        "def train(model, model_name, optimizer, criterion, train_loader, val_loader, test_loader, epochs, print_epoch, add_row=True):\n",
        "    res = train_model(model, optimizer, criterion, train_loader, val_loader, epochs, print_epoch)\n",
        "    if add_row:\n",
        "        test_acc = test_accuracy(model, test_loader)\n",
        "        df_results.loc[len(df_results)] = [model_name, epochs, res[0], res[1], test_acc, res[2]]"
      ]
    },
    {
      "cell_type": "code",
      "execution_count": 26,
      "metadata": {
        "id": "x6Uk3-kArAT3"
      },
      "outputs": [],
      "source": [
        "class RNN_model(nn.Module):\n",
        "    def __init__(self, rnnClass, vocab_size, embedding_size, output_size, num_hidden, max_len, drop=0.5, num_layers=1):\n",
        "        super().__init__()\n",
        "        self.embd = nn.Embedding(vocab_size, embedding_size, padding_idx=0)\n",
        "        self.rnn = rnnClass(embedding_size, num_hidden, num_layers=num_layers)\n",
        "        self.drop = nn.Dropout(drop)\n",
        "        self.linear = nn.Linear(num_hidden * max_len, output_size)\n",
        "\n",
        "    def forward(self, x):\n",
        "        x = self.embd(x)\n",
        "        output, _ = self.rnn(x)\n",
        "        output = self.drop(output)\n",
        "        output = output.flatten(start_dim=1, end_dim=-1)\n",
        "        output = self.linear(output)\n",
        "\n",
        "        return output"
      ]
    },
    {
      "cell_type": "code",
      "execution_count": 27,
      "metadata": {
        "id": "ug9hMuv5rAT4"
      },
      "outputs": [],
      "source": [
        "LR = 0.001\n",
        "NUM_HIDDEN = 64\n",
        "EMBEDDING_SIZE = 128\n",
        "DROP = 0.3\n",
        "EPOCHS = 5\n",
        "PRINT_EPOCH = 1"
      ]
    },
    {
      "cell_type": "markdown",
      "metadata": {
        "id": "jKH_kmznrAT4"
      },
      "source": [
        "## Train"
      ]
    },
    {
      "cell_type": "markdown",
      "metadata": {
        "id": "j66CvlbqrAT4"
      },
      "source": [
        "**torch.nn.LSTM**"
      ]
    },
    {
      "cell_type": "code",
      "execution_count": null,
      "metadata": {
        "id": "xFTabGp7rAT4",
        "outputId": "824dac06-82e3-4149-a34c-98d82caa2281"
      },
      "outputs": [
        {
          "name": "stdout",
          "output_type": "stream",
          "text": [
            "Epoch 1 (193.71s):\n",
            "    train loss: 0.005, val loss: 0.0042\n",
            "    train accuracy: 52.09%, val accuracy: 59.5%\n",
            "Epoch 2 (198.3s):\n",
            "    train loss: 0.0043, val loss: 0.0039\n",
            "    train accuracy: 59.18%, val accuracy: 62.3%\n",
            "Epoch 3 (2119.55s):\n",
            "    train loss: 0.0038, val loss: 0.0038\n",
            "    train accuracy: 64.02%, val accuracy: 63.85%\n",
            "Epoch 4 (1129.66s):\n",
            "    train loss: 0.0034, val loss: 0.0037\n",
            "    train accuracy: 67.51%, val accuracy: 65.0%\n",
            "Epoch 5 (189.9s):\n",
            "    train loss: 0.0032, val loss: 0.0036\n",
            "    train accuracy: 70.12%, val accuracy: 65.88%\n"
          ]
        }
      ],
      "source": [
        "model_lstm = RNN_model(nn.LSTM, vocab_size, EMBEDDING_SIZE, len(classes), NUM_HIDDEN, max_len, drop=DROP)\n",
        "criterion = nn.CrossEntropyLoss()\n",
        "optimizer = torch.optim.Adam(model_lstm.parameters(), lr=LR)\n",
        "\n",
        "train(model_lstm, 'LSTM', optimizer, criterion, train_loader, val_loader, test_loader, EPOCHS, PRINT_EPOCH)"
      ]
    },
    {
      "cell_type": "code",
      "execution_count": null,
      "metadata": {
        "id": "TfBsaWsBrAT4",
        "outputId": "a1994d82-33be-41f0-b010-f6a225eab394"
      },
      "outputs": [
        {
          "name": "stdout",
          "output_type": "stream",
          "text": [
            "1\n",
            "As she was leaving she told me \"now I have to go back there again\" as she was sobbing. I didnt know what to say or what I could do to help. Everyone I've talked with as told me I should've gotten her phone number because looking her phone number up through our receipts and membership files is an invasion of privacy. Did I miss my only opportunity to help her by not asking for her phone number? Sorry for the sad story, I just don't know what to do and it's painful to think what is happening to her right now.\n",
            "    - real: Stress\n",
            "    - predict: Normal\n",
            "\n",
            "2\n",
            "what are you going to do about your death?\n",
            "    - real: Normal\n",
            "    - predict: Normal\n",
            "\n",
            "3\n",
            "How much do you currently spend per month on your mental health medications? Monthly cost of mental health medications?\n",
            "    - real: Depression\n",
            "    - predict: Anxiety\n",
            "\n"
          ]
        }
      ],
      "source": [
        "rnn_prediction(df, model_lstm, n=3)"
      ]
    },
    {
      "cell_type": "markdown",
      "metadata": {
        "id": "-gmHPL0SrAT4"
      },
      "source": [
        "**torch.nn.RNN**"
      ]
    },
    {
      "cell_type": "code",
      "execution_count": null,
      "metadata": {
        "id": "J_K9aDxxrAT4",
        "outputId": "aeeb4aa6-dd90-4e7c-b320-75be19a683cc"
      },
      "outputs": [
        {
          "name": "stdout",
          "output_type": "stream",
          "text": [
            "Epoch 1 (968.96s):\n",
            "    train loss: 0.0051, val loss: 0.0044\n",
            "    train accuracy: 52.3%, val accuracy: 58.79%\n",
            "Epoch 2 (225.46s):\n",
            "    train loss: 0.0043, val loss: 0.0042\n",
            "    train accuracy: 59.78%, val accuracy: 60.62%\n",
            "Epoch 3 (68.44s):\n",
            "    train loss: 0.0038, val loss: 0.0041\n",
            "    train accuracy: 64.13%, val accuracy: 61.61%\n",
            "Epoch 4 (68.02s):\n",
            "    train loss: 0.0035, val loss: 0.0041\n",
            "    train accuracy: 67.23%, val accuracy: 62.36%\n",
            "Epoch 5 (68.06s):\n",
            "    train loss: 0.0032, val loss: 0.0041\n",
            "    train accuracy: 69.63%, val accuracy: 63.02%\n"
          ]
        }
      ],
      "source": [
        "model_rnn = RNN_model(nn.RNN, vocab_size, EMBEDDING_SIZE, len(classes), NUM_HIDDEN, max_len, drop=DROP)\n",
        "criterion = nn.CrossEntropyLoss()\n",
        "optimizer = torch.optim.Adam(model_rnn.parameters(), lr=LR)\n",
        "\n",
        "train(model_rnn, 'RNN', optimizer, criterion, train_loader, val_loader, test_loader, EPOCHS, PRINT_EPOCH)"
      ]
    },
    {
      "cell_type": "code",
      "execution_count": null,
      "metadata": {
        "id": "21o9Rb77rAT4",
        "outputId": "dc7928e3-08f5-46b8-8c29-4b2ed5a34adf"
      },
      "outputs": [
        {
          "name": "stdout",
          "output_type": "stream",
          "text": [
            "1\n",
            "No, I will not \"keep holding on\". I do not see anything that could make me to. Why all the effort? what is it all for? Nothing, just eternal struggle. The further I get, the narrower the tunnel gets, only one option remains. it is all death anyway, why wait? it is so comforting to even think about it. Just eternal peace, blackness, nothing. As it was before I came here. Please, do not spit me out to this reality again. How is holding on preferable to just letting go? what is there at the end that is so worth it?\n",
            "    - real: Suicidal\n",
            "    - predict: Suicidal\n",
            "\n",
            "2\n",
            "I spent three years committing to who I thought was my soulmate, she was so integrated into my life there was not a part of my life that she was not a part of.She and I broke up, because she was afraid of long distance over the next few months, and felt we were growing apart.She left, and I am glad she is doing well and has a life without me, but my life is empty, it has always been. I have no friends, I work remotely, live in my apartment alone, I see no one for weeks on end, and there is nothing to do in my town, I have no friends.I have been riding a very thin line, and though we ended things amicably, we recently talked about being friends in time and things ended horribly. There is no hope for a happy life, and full life, and I have struggled to get through each lonely day.I want my life to be in my own hands, and I want it to end on my terms I want to choose when I end it? And that is now. There is nothing left in my life.\n",
            "    - real: Suicidal\n",
            "    - predict: Depression\n",
            "\n",
            "3\n",
            "Struggling at the momen I have no idea what has caused this change. I’m anxious 95% of the time. Anything and everything is triggering me even a simple word will set me off. I’m scared of everything and I’m  really low. I wake feeling anxious, this morning was horrible. I feel very shaky to. I feel like I can’t turn anywhere at the moment. I think I’ve managed to annoy everyone with my anxiety and stupidity. Nobody wants to hear me rant on about my problems but my head is getting more and more full by the day. I’m having counselling but I’m not sure it’s doing much. I really need someone to talk to. Spoke with the GP today, they are increasing my tablets again. I have no idea what the change was or has been. I just know I’m in a real spot at the moment\n",
            "    - real: Anxiety\n",
            "    - predict: Depression\n",
            "\n"
          ]
        }
      ],
      "source": [
        "rnn_prediction(df, model_rnn, n=3)"
      ]
    },
    {
      "cell_type": "markdown",
      "metadata": {
        "id": "kfZB3Mn4rAT4"
      },
      "source": [
        "**torch.nn.GRU**"
      ]
    },
    {
      "cell_type": "code",
      "execution_count": null,
      "metadata": {
        "id": "sU2Fj-8YrAT4",
        "outputId": "5163886f-4635-4585-b8cc-64685a63a504"
      },
      "outputs": [
        {
          "name": "stdout",
          "output_type": "stream",
          "text": [
            "Epoch 1 (4012.51s):\n",
            "    train loss: 0.0051, val loss: 0.0043\n",
            "    train accuracy: 51.46%, val accuracy: 58.6%\n",
            "Epoch 2 (2028.28s):\n",
            "    train loss: 0.0043, val loss: 0.0041\n",
            "    train accuracy: 58.72%, val accuracy: 60.58%\n",
            "Epoch 3 (160.23s):\n",
            "    train loss: 0.0039, val loss: 0.0039\n",
            "    train accuracy: 63.38%, val accuracy: 61.99%\n",
            "Epoch 4 (1025.7s):\n",
            "    train loss: 0.0035, val loss: 0.0039\n",
            "    train accuracy: 66.66%, val accuracy: 63.03%\n",
            "Epoch 5 (159.99s):\n",
            "    train loss: 0.0032, val loss: 0.0038\n",
            "    train accuracy: 69.23%, val accuracy: 63.8%\n"
          ]
        }
      ],
      "source": [
        "model_gru = RNN_model(nn.GRU, vocab_size, EMBEDDING_SIZE, len(classes), NUM_HIDDEN, max_len, drop=DROP)\n",
        "criterion = nn.CrossEntropyLoss()\n",
        "optimizer = torch.optim.Adam(model_gru.parameters(), lr=LR)\n",
        "\n",
        "train(model_gru, 'GRU', optimizer, criterion, train_loader, val_loader, test_loader, EPOCHS, PRINT_EPOCH)"
      ]
    },
    {
      "cell_type": "code",
      "execution_count": null,
      "metadata": {
        "id": "jMMMCHC2rAT4",
        "outputId": "99904c04-b4da-4f12-ee05-42b09858251f"
      },
      "outputs": [
        {
          "name": "stdout",
          "output_type": "stream",
          "text": [
            "1\n",
            "Adoi forgot to think what to do for the 6th anniversary mx\n",
            "    - real: Normal\n",
            "    - predict: Normal\n",
            "\n",
            "2\n",
            "morning all gave the cat his tablet this morning what a mission that is he know what we re up to now and prepares for battle\n",
            "    - real: Normal\n",
            "    - predict: Normal\n",
            "\n",
            "3\n",
            "What does it mean when I have lost all feeling possible (99% of time)? I do not react to love from my girlfriend or family at all or get happy triggers from it, i do not even cry anymore, i do not get angry at stuff (i just say fuc* it and brush it off), etc. its almost like I am just here in autopilot. Will therapy help? Meds? Nothing? Feeling numb?\n",
            "    - real: Depression\n",
            "    - predict: Bipolar\n",
            "\n"
          ]
        }
      ],
      "source": [
        "rnn_prediction(df, model_gru, n=3)"
      ]
    },
    {
      "cell_type": "code",
      "execution_count": null,
      "metadata": {
        "id": "Pc-Lo0bcrAT4",
        "outputId": "7ebbffa3-7be1-4041-ff2e-e75d02dec58d"
      },
      "outputs": [
        {
          "data": {
            "application/vnd.microsoft.datawrangler.viewer.v0+json": {
              "columns": [
                {
                  "name": "index",
                  "rawType": "int64",
                  "type": "integer"
                },
                {
                  "name": "model",
                  "rawType": "object",
                  "type": "string"
                },
                {
                  "name": "epochs",
                  "rawType": "int64",
                  "type": "integer"
                },
                {
                  "name": "train loss",
                  "rawType": "float64",
                  "type": "float"
                },
                {
                  "name": "train accuracy",
                  "rawType": "float64",
                  "type": "float"
                },
                {
                  "name": "test accuracy",
                  "rawType": "float64",
                  "type": "float"
                },
                {
                  "name": "time",
                  "rawType": "float64",
                  "type": "float"
                }
              ],
              "conversionMethod": "pd.DataFrame",
              "ref": "871a3cdf-dbe6-4a2d-8745-a2d0c4efe410",
              "rows": [
                [
                  "0",
                  "LSTM",
                  "5",
                  "0.0032",
                  "0.7012",
                  "0.6951",
                  "3831.16"
                ],
                [
                  "1",
                  "RNN",
                  "5",
                  "0.0032",
                  "0.6963",
                  "0.6573",
                  "1398.96"
                ],
                [
                  "2",
                  "GRU",
                  "5",
                  "0.0032",
                  "0.6923",
                  "0.6726",
                  "7386.75"
                ]
              ],
              "shape": {
                "columns": 6,
                "rows": 3
              }
            },
            "text/html": [
              "<div>\n",
              "<style scoped>\n",
              "    .dataframe tbody tr th:only-of-type {\n",
              "        vertical-align: middle;\n",
              "    }\n",
              "\n",
              "    .dataframe tbody tr th {\n",
              "        vertical-align: top;\n",
              "    }\n",
              "\n",
              "    .dataframe thead th {\n",
              "        text-align: right;\n",
              "    }\n",
              "</style>\n",
              "<table border=\"1\" class=\"dataframe\">\n",
              "  <thead>\n",
              "    <tr style=\"text-align: right;\">\n",
              "      <th></th>\n",
              "      <th>model</th>\n",
              "      <th>epochs</th>\n",
              "      <th>train loss</th>\n",
              "      <th>train accuracy</th>\n",
              "      <th>test accuracy</th>\n",
              "      <th>time</th>\n",
              "    </tr>\n",
              "  </thead>\n",
              "  <tbody>\n",
              "    <tr>\n",
              "      <th>0</th>\n",
              "      <td>LSTM</td>\n",
              "      <td>5</td>\n",
              "      <td>0.0032</td>\n",
              "      <td>0.7012</td>\n",
              "      <td>0.6951</td>\n",
              "      <td>3831.16</td>\n",
              "    </tr>\n",
              "    <tr>\n",
              "      <th>1</th>\n",
              "      <td>RNN</td>\n",
              "      <td>5</td>\n",
              "      <td>0.0032</td>\n",
              "      <td>0.6963</td>\n",
              "      <td>0.6573</td>\n",
              "      <td>1398.96</td>\n",
              "    </tr>\n",
              "    <tr>\n",
              "      <th>2</th>\n",
              "      <td>GRU</td>\n",
              "      <td>5</td>\n",
              "      <td>0.0032</td>\n",
              "      <td>0.6923</td>\n",
              "      <td>0.6726</td>\n",
              "      <td>7386.75</td>\n",
              "    </tr>\n",
              "  </tbody>\n",
              "</table>\n",
              "</div>"
            ],
            "text/plain": [
              "  model  epochs  train loss  train accuracy  test accuracy     time\n",
              "0  LSTM       5      0.0032          0.7012         0.6951  3831.16\n",
              "1   RNN       5      0.0032          0.6963         0.6573  1398.96\n",
              "2   GRU       5      0.0032          0.6923         0.6726  7386.75"
            ]
          },
          "execution_count": 119,
          "metadata": {},
          "output_type": "execute_result"
        }
      ],
      "source": [
        "df_results.head()"
      ]
    },
    {
      "cell_type": "markdown",
      "metadata": {
        "id": "HOTuyZ-QrAT4"
      },
      "source": [
        "Лучший результат показала модель с рекуррентным слоем **LSTM**. Значение accuracy на тестовых данных получилось равным примерно **0.6951**, то есть модель выдает примерно 70% верных ответов.\n",
        "\n",
        "**Результат меньше чем у baseline-модели**. Можно рассмотреть другие архитектуры."
      ]
    },
    {
      "cell_type": "markdown",
      "metadata": {
        "id": "Vmd-U8firAT4"
      },
      "source": [
        "## n-grams"
      ]
    },
    {
      "cell_type": "markdown",
      "metadata": {
        "id": "qMJJStfdrAT5"
      },
      "source": [
        "Слудующий эксперимент будет с использованием n-грамм (биграммы, триграмм и их комбинации с униграммами).\n",
        "\n",
        "Так как лучшие метрики для базовых RNN моделей были у LSTM, то для n-грамм будет импользован именно этот слой."
      ]
    },
    {
      "cell_type": "code",
      "execution_count": null,
      "metadata": {
        "id": "fyE9v6SWrAT5"
      },
      "outputs": [],
      "source": [
        "def get_ngrams(text, n):\n",
        "    grams = ngrams(text, n)\n",
        "    new_text = [' '.join(gram) for gram in grams]\n",
        "\n",
        "    return new_text"
      ]
    },
    {
      "cell_type": "code",
      "execution_count": null,
      "metadata": {
        "id": "twt0pC7jrAT5"
      },
      "outputs": [],
      "source": [
        "EPOCHS = 3\n",
        "\n",
        "df['stemmed_2grams'] = df['stemmed_tokens'].apply(lambda x: get_ngrams(x, n=2))\n",
        "df['stemmed_3grams'] = df['stemmed_tokens'].apply(lambda x: get_ngrams(x, n=3))"
      ]
    },
    {
      "cell_type": "markdown",
      "metadata": {
        "id": "sKRt5grLrAT5"
      },
      "source": [
        "### 2-grams"
      ]
    },
    {
      "cell_type": "code",
      "execution_count": null,
      "metadata": {
        "id": "qTfc27DgrAT5"
      },
      "outputs": [],
      "source": [
        "vocab_ngrams, max_len_ngrams = get_vocab(df['stemmed_2grams'])\n",
        "vocab_size_ngrams = len(vocab_ngrams)\n",
        "\n",
        "X_ngrams = df['stemmed_2grams'].values\n",
        "y = df['status'].values\n",
        "\n",
        "X_train_ngrams, X_test_ngrams, y_train_ngrams, y_test_ngrams = train_test_split(X_ngrams, y, test_size=0.15, random_state=42)\n",
        "X_train_ngrams, X_val_ngrams, y_train_ngrams, y_val_ngrams = train_test_split(X_train_ngrams, y_train_ngrams, test_size=0.175, random_state=42)\n",
        "\n",
        "train_loader_ngrams = DataLoader(CustomDataset(vocab_ngrams, classes, max_len_ngrams, X_train_ngrams, y_train_ngrams), batch_size=BATCH_SIZE, shuffle=True)\n",
        "val_loader_ngrams = DataLoader(CustomDataset(vocab_ngrams, classes, max_len_ngrams, X_val_ngrams, y_val_ngrams), batch_size=BATCH_SIZE, shuffle=True)\n",
        "test_loader_ngrams = DataLoader(CustomDataset(vocab_ngrams, classes, max_len_ngrams, X_test_ngrams, y_test_ngrams), batch_size=BATCH_SIZE, shuffle=False)"
      ]
    },
    {
      "cell_type": "code",
      "execution_count": null,
      "metadata": {
        "id": "bOSo_l93rAT5",
        "outputId": "30558080-d883-4531-e20a-70e902296153"
      },
      "outputs": [
        {
          "name": "stdout",
          "output_type": "stream",
          "text": [
            "Epoch 1 (244.72s):\n",
            "    train loss: 0.0053, val loss: 0.0049\n",
            "    train accuracy: 49.33%, val accuracy: 52.99%\n",
            "Epoch 2 (236.72s):\n",
            "    train loss: 0.0048, val loss: 0.0047\n",
            "    train accuracy: 54.83%, val accuracy: 54.23%\n",
            "Epoch 3 (285.83s):\n",
            "    train loss: 0.0043, val loss: 0.0046\n",
            "    train accuracy: 60.39%, val accuracy: 55.38%\n"
          ]
        }
      ],
      "source": [
        "model_rnn_ngrams = RNN_model(nn.LSTM, vocab_size_ngrams, EMBEDDING_SIZE, len(classes), NUM_HIDDEN, max_len_ngrams, drop=DROP)\n",
        "criterion = nn.CrossEntropyLoss()\n",
        "optimizer = torch.optim.Adam(model_rnn_ngrams.parameters(), lr=0.001)\n",
        "\n",
        "train(model_rnn_ngrams, 'LSTM (2-grams)', optimizer, criterion, train_loader_ngrams, val_loader_ngrams, test_loader_ngrams, EPOCHS, PRINT_EPOCH)"
      ]
    },
    {
      "cell_type": "markdown",
      "metadata": {
        "id": "P4BNwcw3rAT5"
      },
      "source": [
        "### 3-grams"
      ]
    },
    {
      "cell_type": "code",
      "execution_count": null,
      "metadata": {
        "id": "5t0J3JkJrAT5"
      },
      "outputs": [],
      "source": [
        "vocab_ngrams, max_len_ngrams = get_vocab(df['stemmed_3grams'])\n",
        "vocab_size_ngrams = len(vocab_ngrams)\n",
        "\n",
        "X_ngrams = df['stemmed_3grams'].values\n",
        "y = df['status'].values\n",
        "\n",
        "X_train_ngrams, X_test_ngrams, y_train_ngrams, y_test_ngrams = train_test_split(X_ngrams, y, test_size=0.15, random_state=42)\n",
        "X_train_ngrams, X_val_ngrams, y_train_ngrams, y_val_ngrams = train_test_split(X_train_ngrams, y_train_ngrams, test_size=0.175, random_state=42)\n",
        "\n",
        "train_loader_ngrams = DataLoader(CustomDataset(vocab_ngrams, classes, max_len_ngrams, X_train_ngrams, y_train_ngrams), batch_size=BATCH_SIZE, shuffle=True)\n",
        "val_loader_ngrams = DataLoader(CustomDataset(vocab_ngrams, classes, max_len_ngrams, X_val_ngrams, y_val_ngrams), batch_size=BATCH_SIZE, shuffle=True)\n",
        "test_loader_ngrams = DataLoader(CustomDataset(vocab_ngrams, classes, max_len_ngrams, X_test_ngrams, y_test_ngrams), batch_size=BATCH_SIZE, shuffle=False)"
      ]
    },
    {
      "cell_type": "code",
      "execution_count": null,
      "metadata": {
        "id": "wRpcHnaVrAT5",
        "outputId": "c86feda8-efd8-4ae7-d405-3df256ecd558"
      },
      "outputs": [
        {
          "name": "stdout",
          "output_type": "stream",
          "text": [
            "Epoch 1 (2212.58s):\n",
            "    train loss: 0.0054, val loss: 0.005\n",
            "    train accuracy: 49.32%, val accuracy: 51.64%\n",
            "Epoch 2 (4026.06s):\n",
            "    train loss: 0.0049, val loss: 0.005\n",
            "    train accuracy: 54.27%, val accuracy: 51.27%\n",
            "Epoch 3 (8241.95s):\n",
            "    train loss: 0.0044, val loss: 0.0051\n",
            "    train accuracy: 60.11%, val accuracy: 51.67%\n"
          ]
        }
      ],
      "source": [
        "model_rnn_ngrams = RNN_model(nn.LSTM, vocab_size_ngrams, EMBEDDING_SIZE, len(classes), NUM_HIDDEN, max_len_ngrams, drop=DROP)\n",
        "criterion = nn.CrossEntropyLoss()\n",
        "optimizer = torch.optim.Adam(model_rnn_ngrams.parameters(), lr=0.001)\n",
        "\n",
        "train(model_rnn_ngrams, 'LSTM (3-grams)', optimizer, criterion, train_loader_ngrams, val_loader_ngrams, test_loader_ngrams, EPOCHS, PRINT_EPOCH)"
      ]
    },
    {
      "cell_type": "markdown",
      "metadata": {
        "id": "sbbuizcurAT5"
      },
      "source": [
        "### unigrams + 2-grams"
      ]
    },
    {
      "cell_type": "code",
      "execution_count": null,
      "metadata": {
        "id": "no5kdaFsrAT5"
      },
      "outputs": [],
      "source": [
        "X_values = df['stemmed_tokens'] + df['stemmed_2grams']\n",
        "vocab_ngrams, max_len_ngrams = get_vocab(X_values)\n",
        "vocab_size_ngrams = len(vocab_ngrams)\n",
        "\n",
        "X_ngrams = X_values.values\n",
        "y = df['status'].values\n",
        "\n",
        "X_train_ngrams, X_test_ngrams, y_train_ngrams, y_test_ngrams = train_test_split(X_ngrams, y, test_size=0.15, random_state=42)\n",
        "X_train_ngrams, X_val_ngrams, y_train_ngrams, y_val_ngrams = train_test_split(X_train_ngrams, y_train_ngrams, test_size=0.175, random_state=42)\n",
        "\n",
        "train_loader_ngrams = DataLoader(CustomDataset(vocab_ngrams, classes, max_len_ngrams, X_train_ngrams, y_train_ngrams), batch_size=BATCH_SIZE, shuffle=True)\n",
        "val_loader_ngrams = DataLoader(CustomDataset(vocab_ngrams, classes, max_len_ngrams, X_val_ngrams, y_val_ngrams), batch_size=BATCH_SIZE, shuffle=True)\n",
        "test_loader_ngrams = DataLoader(CustomDataset(vocab_ngrams, classes, max_len_ngrams, X_test_ngrams, y_test_ngrams), batch_size=BATCH_SIZE, shuffle=False)"
      ]
    },
    {
      "cell_type": "code",
      "execution_count": null,
      "metadata": {
        "id": "Qx3yC-OgrAT5",
        "outputId": "0a8f770d-02d3-411a-9541-5304479cb864"
      },
      "outputs": [
        {
          "name": "stdout",
          "output_type": "stream",
          "text": [
            "Epoch 1 (6168.5s):\n",
            "    train loss: 0.0051, val loss: 0.0044\n",
            "    train accuracy: 51.72%, val accuracy: 57.43%\n",
            "Epoch 2 (4209.15s):\n",
            "    train loss: 0.0042, val loss: 0.0041\n",
            "    train accuracy: 60.53%, val accuracy: 60.23%\n",
            "Epoch 3 (6860.76s):\n",
            "    train loss: 0.0036, val loss: 0.004\n",
            "    train accuracy: 66.74%, val accuracy: 61.77%\n"
          ]
        }
      ],
      "source": [
        "model_rnn_ngrams = RNN_model(nn.LSTM, vocab_size_ngrams, EMBEDDING_SIZE, len(classes), NUM_HIDDEN, max_len_ngrams, drop=DROP)\n",
        "criterion = nn.CrossEntropyLoss()\n",
        "optimizer = torch.optim.Adam(model_rnn_ngrams.parameters(), lr=0.001)\n",
        "\n",
        "train(model_rnn_ngrams, 'LSTM (1-grams, 2-grams)', optimizer, criterion, train_loader_ngrams, val_loader_ngrams, test_loader_ngrams, EPOCHS, PRINT_EPOCH)"
      ]
    },
    {
      "cell_type": "markdown",
      "metadata": {
        "id": "-sEb-3YyrAT5"
      },
      "source": [
        "### unigrams + 3-grams"
      ]
    },
    {
      "cell_type": "code",
      "execution_count": null,
      "metadata": {
        "id": "mVNyx1hwrAT5"
      },
      "outputs": [],
      "source": [
        "X_values = df['stemmed_tokens'] + df['stemmed_3grams']\n",
        "vocab_ngrams, max_len_ngrams = get_vocab(X_values)\n",
        "vocab_size_ngrams = len(vocab_ngrams)\n",
        "\n",
        "X_ngrams = X_values.values\n",
        "y = df['status'].values\n",
        "\n",
        "X_train_ngrams, X_test_ngrams, y_train_ngrams, y_test_ngrams = train_test_split(X_ngrams, y, test_size=0.15, random_state=42)\n",
        "X_train_ngrams, X_val_ngrams, y_train_ngrams, y_val_ngrams = train_test_split(X_train_ngrams, y_train_ngrams, test_size=0.175, random_state=42)\n",
        "\n",
        "train_loader_ngrams = DataLoader(CustomDataset(vocab_ngrams, classes, max_len_ngrams, X_train_ngrams, y_train_ngrams), batch_size=BATCH_SIZE, shuffle=True)\n",
        "val_loader_ngrams = DataLoader(CustomDataset(vocab_ngrams, classes, max_len_ngrams, X_val_ngrams, y_val_ngrams), batch_size=BATCH_SIZE, shuffle=True)\n",
        "test_loader_ngrams = DataLoader(CustomDataset(vocab_ngrams, classes, max_len_ngrams, X_test_ngrams, y_test_ngrams), batch_size=BATCH_SIZE, shuffle=False)"
      ]
    },
    {
      "cell_type": "code",
      "execution_count": null,
      "metadata": {
        "id": "jGt7KTZrrAT5",
        "outputId": "18b1e0c8-10bf-4ea5-d002-568f8a6e5f07"
      },
      "outputs": [
        {
          "name": "stdout",
          "output_type": "stream",
          "text": [
            "Epoch 1 (14174.41s):\n",
            "    train loss: 0.0051, val loss: 0.0044\n",
            "    train accuracy: 51.28%, val accuracy: 57.65%\n",
            "Epoch 2 (4322.28s):\n",
            "    train loss: 0.0042, val loss: 0.0041\n",
            "    train accuracy: 60.62%, val accuracy: 60.55%\n",
            "Epoch 3 (1535.43s):\n",
            "    train loss: 0.0035, val loss: 0.004\n",
            "    train accuracy: 67.54%, val accuracy: 62.0%\n"
          ]
        }
      ],
      "source": [
        "model_rnn_ngrams = RNN_model(nn.LSTM, vocab_size_ngrams, EMBEDDING_SIZE, len(classes), NUM_HIDDEN, max_len_ngrams, drop=DROP)\n",
        "criterion = nn.CrossEntropyLoss()\n",
        "optimizer = torch.optim.Adam(model_rnn_ngrams.parameters(), lr=0.001)\n",
        "\n",
        "train(model_rnn_ngrams, 'LSTM (1-grams, 3-grams)', optimizer, criterion, train_loader_ngrams, val_loader_ngrams, test_loader_ngrams, EPOCHS, PRINT_EPOCH)"
      ]
    },
    {
      "cell_type": "code",
      "execution_count": null,
      "metadata": {
        "id": "mXCZSVuirAT5",
        "outputId": "86060742-a344-4dd7-8e9e-67f52a48f453"
      },
      "outputs": [
        {
          "data": {
            "application/vnd.microsoft.datawrangler.viewer.v0+json": {
              "columns": [
                {
                  "name": "index",
                  "rawType": "int64",
                  "type": "integer"
                },
                {
                  "name": "model",
                  "rawType": "object",
                  "type": "string"
                },
                {
                  "name": "epochs",
                  "rawType": "int64",
                  "type": "integer"
                },
                {
                  "name": "train loss",
                  "rawType": "float64",
                  "type": "float"
                },
                {
                  "name": "train accuracy",
                  "rawType": "float64",
                  "type": "float"
                },
                {
                  "name": "test accuracy",
                  "rawType": "float64",
                  "type": "float"
                },
                {
                  "name": "time",
                  "rawType": "float64",
                  "type": "float"
                }
              ],
              "conversionMethod": "pd.DataFrame",
              "ref": "32e51b6b-5631-452a-8ac2-284df3d9e814",
              "rows": [
                [
                  "0",
                  "LSTM",
                  "5",
                  "0.0032",
                  "0.7012",
                  "0.6951",
                  "3831.16"
                ],
                [
                  "1",
                  "RNN",
                  "5",
                  "0.0032",
                  "0.6963",
                  "0.6573",
                  "1398.96"
                ],
                [
                  "2",
                  "GRU",
                  "5",
                  "0.0032",
                  "0.6923",
                  "0.6726",
                  "7386.75"
                ],
                [
                  "3",
                  "LSTM (2-grams)",
                  "3",
                  "0.0043",
                  "0.6039",
                  "0.5709",
                  "767.33"
                ],
                [
                  "4",
                  "LSTM (3-grams)",
                  "3",
                  "0.0044",
                  "0.6011",
                  "0.5182",
                  "14480.75"
                ],
                [
                  "5",
                  "LSTM (1-grams, 2-grams)",
                  "3",
                  "0.0036",
                  "0.6674",
                  "0.6499",
                  "17238.48"
                ],
                [
                  "6",
                  "LSTM (1-grams, 3-grams)",
                  "3",
                  "0.0035",
                  "0.6754",
                  "0.6525",
                  "20032.23"
                ]
              ],
              "shape": {
                "columns": 6,
                "rows": 7
              }
            },
            "text/html": [
              "<div>\n",
              "<style scoped>\n",
              "    .dataframe tbody tr th:only-of-type {\n",
              "        vertical-align: middle;\n",
              "    }\n",
              "\n",
              "    .dataframe tbody tr th {\n",
              "        vertical-align: top;\n",
              "    }\n",
              "\n",
              "    .dataframe thead th {\n",
              "        text-align: right;\n",
              "    }\n",
              "</style>\n",
              "<table border=\"1\" class=\"dataframe\">\n",
              "  <thead>\n",
              "    <tr style=\"text-align: right;\">\n",
              "      <th></th>\n",
              "      <th>model</th>\n",
              "      <th>epochs</th>\n",
              "      <th>train loss</th>\n",
              "      <th>train accuracy</th>\n",
              "      <th>test accuracy</th>\n",
              "      <th>time</th>\n",
              "    </tr>\n",
              "  </thead>\n",
              "  <tbody>\n",
              "    <tr>\n",
              "      <th>0</th>\n",
              "      <td>LSTM</td>\n",
              "      <td>5</td>\n",
              "      <td>0.0032</td>\n",
              "      <td>0.7012</td>\n",
              "      <td>0.6951</td>\n",
              "      <td>3831.16</td>\n",
              "    </tr>\n",
              "    <tr>\n",
              "      <th>1</th>\n",
              "      <td>RNN</td>\n",
              "      <td>5</td>\n",
              "      <td>0.0032</td>\n",
              "      <td>0.6963</td>\n",
              "      <td>0.6573</td>\n",
              "      <td>1398.96</td>\n",
              "    </tr>\n",
              "    <tr>\n",
              "      <th>2</th>\n",
              "      <td>GRU</td>\n",
              "      <td>5</td>\n",
              "      <td>0.0032</td>\n",
              "      <td>0.6923</td>\n",
              "      <td>0.6726</td>\n",
              "      <td>7386.75</td>\n",
              "    </tr>\n",
              "    <tr>\n",
              "      <th>3</th>\n",
              "      <td>LSTM (2-grams)</td>\n",
              "      <td>3</td>\n",
              "      <td>0.0043</td>\n",
              "      <td>0.6039</td>\n",
              "      <td>0.5709</td>\n",
              "      <td>767.33</td>\n",
              "    </tr>\n",
              "    <tr>\n",
              "      <th>4</th>\n",
              "      <td>LSTM (3-grams)</td>\n",
              "      <td>3</td>\n",
              "      <td>0.0044</td>\n",
              "      <td>0.6011</td>\n",
              "      <td>0.5182</td>\n",
              "      <td>14480.75</td>\n",
              "    </tr>\n",
              "    <tr>\n",
              "      <th>5</th>\n",
              "      <td>LSTM (1-grams, 2-grams)</td>\n",
              "      <td>3</td>\n",
              "      <td>0.0036</td>\n",
              "      <td>0.6674</td>\n",
              "      <td>0.6499</td>\n",
              "      <td>17238.48</td>\n",
              "    </tr>\n",
              "    <tr>\n",
              "      <th>6</th>\n",
              "      <td>LSTM (1-grams, 3-grams)</td>\n",
              "      <td>3</td>\n",
              "      <td>0.0035</td>\n",
              "      <td>0.6754</td>\n",
              "      <td>0.6525</td>\n",
              "      <td>20032.23</td>\n",
              "    </tr>\n",
              "  </tbody>\n",
              "</table>\n",
              "</div>"
            ],
            "text/plain": [
              "                     model  epochs  train loss  train accuracy  test accuracy  \\\n",
              "0                     LSTM       5      0.0032          0.7012         0.6951   \n",
              "1                      RNN       5      0.0032          0.6963         0.6573   \n",
              "2                      GRU       5      0.0032          0.6923         0.6726   \n",
              "3           LSTM (2-grams)       3      0.0043          0.6039         0.5709   \n",
              "4           LSTM (3-grams)       3      0.0044          0.6011         0.5182   \n",
              "5  LSTM (1-grams, 2-grams)       3      0.0036          0.6674         0.6499   \n",
              "6  LSTM (1-grams, 3-grams)       3      0.0035          0.6754         0.6525   \n",
              "\n",
              "       time  \n",
              "0   3831.16  \n",
              "1   1398.96  \n",
              "2   7386.75  \n",
              "3    767.33  \n",
              "4  14480.75  \n",
              "5  17238.48  \n",
              "6  20032.23  "
            ]
          },
          "execution_count": 137,
          "metadata": {},
          "output_type": "execute_result"
        }
      ],
      "source": [
        "df_results.head(10)"
      ]
    },
    {
      "cell_type": "markdown",
      "metadata": {
        "id": "zM4EK6ijrAT5"
      },
      "source": [
        "Метрики в данном случае после 3й эпохи почти не отличаются от варианта с использованием только униграмм. При этом время обучения выросло в несколько раз."
      ]
    },
    {
      "cell_type": "markdown",
      "metadata": {
        "id": "Pdm-ZPkGrAT6"
      },
      "source": [
        "# 5. CNN"
      ]
    },
    {
      "cell_type": "markdown",
      "metadata": {
        "id": "DvTtnfdFrAT6"
      },
      "source": [
        "## 1 сверточный слой"
      ]
    },
    {
      "cell_type": "code",
      "execution_count": null,
      "metadata": {
        "id": "hSzlzEOvrAT6"
      },
      "outputs": [],
      "source": [
        "class CNN_model(nn.Module):\n",
        "    def __init__(self, vocab_size, embedding_size, num_filters, filter_size, output_size, drop=0.2):\n",
        "        super().__init__()\n",
        "        self.embd = nn.Embedding(vocab_size, embedding_size, padding_idx=0)\n",
        "        self.conv = nn.Conv2d(in_channels=1, out_channels=num_filters, kernel_size=(filter_size, embedding_size))\n",
        "        self.drop = nn.Dropout(drop)\n",
        "        self.linear = nn.Linear(num_filters, output_size)\n",
        "\n",
        "    def forward(self, x):\n",
        "        x = self.embd(x).unsqueeze(1)\n",
        "        output = self.conv(x).squeeze(3)\n",
        "        output = torch.max(output, dim=2)[0]\n",
        "        output = self.drop(output)\n",
        "        output = self.linear(output)\n",
        "        return output"
      ]
    },
    {
      "cell_type": "code",
      "execution_count": null,
      "metadata": {
        "id": "CcKCRqurrAT6"
      },
      "outputs": [],
      "source": [
        "LR = 0.001\n",
        "NUM_HIDDEN = 64\n",
        "EMBEDDING_SIZE = 128\n",
        "DROP = 0.3\n",
        "EPOCHS = 5\n",
        "PRINT_EPOCH = 1\n",
        "NUM_FILTERS = 100"
      ]
    },
    {
      "cell_type": "markdown",
      "metadata": {
        "id": "o7vuRtmUrAT6"
      },
      "source": [
        "### Размер фильтра (1, 2, 3, 4, 5, 10)"
      ]
    },
    {
      "cell_type": "code",
      "execution_count": null,
      "metadata": {
        "id": "jtiTVi4hrAT6",
        "outputId": "a1a93397-d713-4774-ad6d-3ccef39dfd91"
      },
      "outputs": [
        {
          "name": "stdout",
          "output_type": "stream",
          "text": [
            "Epoch 1 (56.47s):\n",
            "    train loss: 0.0056, val loss: 0.0041\n",
            "    train accuracy: 50.3%, val accuracy: 63.28%\n",
            "Epoch 2 (51.58s):\n",
            "    train loss: 0.0049, val loss: 0.0038\n",
            "    train accuracy: 55.93%, val accuracy: 65.96%\n",
            "Epoch 3 (49.07s):\n",
            "    train loss: 0.0045, val loss: 0.0036\n",
            "    train accuracy: 59.01%, val accuracy: 67.27%\n",
            "Epoch 4 (49.41s):\n",
            "    train loss: 0.0043, val loss: 0.0035\n",
            "    train accuracy: 60.97%, val accuracy: 68.35%\n",
            "Epoch 5 (48.02s):\n",
            "    train loss: 0.0041, val loss: 0.0034\n",
            "    train accuracy: 62.36%, val accuracy: 69.27%\n"
          ]
        }
      ],
      "source": [
        "FILTER_SIZE = 1\n",
        "\n",
        "model_cnn = CNN_model(vocab_size, EMBEDDING_SIZE, NUM_FILTERS, FILTER_SIZE, len(classes), DROP)\n",
        "criterion = nn.CrossEntropyLoss()\n",
        "optimizer = torch.optim.Adam(model_cnn.parameters(), lr=LR)\n",
        "\n",
        "train(model_cnn, 'CNN (kernel_size=1)', optimizer, criterion, train_loader, val_loader, test_loader, EPOCHS, PRINT_EPOCH)"
      ]
    },
    {
      "cell_type": "code",
      "execution_count": null,
      "metadata": {
        "id": "YuGOtxfcrAT6",
        "outputId": "b685701d-b9c1-4042-a341-52e13fae89f1"
      },
      "outputs": [
        {
          "name": "stdout",
          "output_type": "stream",
          "text": [
            "Epoch 1 (79.92s):\n",
            "    train loss: 0.0055, val loss: 0.004\n",
            "    train accuracy: 49.83%, val accuracy: 64.55%\n",
            "Epoch 2 (82.99s):\n",
            "    train loss: 0.0049, val loss: 0.0037\n",
            "    train accuracy: 56.07%, val accuracy: 67.22%\n",
            "Epoch 3 (81.53s):\n",
            "    train loss: 0.0045, val loss: 0.0035\n",
            "    train accuracy: 59.49%, val accuracy: 68.59%\n",
            "Epoch 4 (82.23s):\n",
            "    train loss: 0.0042, val loss: 0.0034\n",
            "    train accuracy: 61.74%, val accuracy: 69.49%\n",
            "Epoch 5 (82.57s):\n",
            "    train loss: 0.004, val loss: 0.0032\n",
            "    train accuracy: 63.36%, val accuracy: 70.38%\n"
          ]
        }
      ],
      "source": [
        "FILTER_SIZE = 2\n",
        "\n",
        "model_cnn = CNN_model(vocab_size, EMBEDDING_SIZE, NUM_FILTERS, FILTER_SIZE, len(classes), DROP)\n",
        "criterion = nn.CrossEntropyLoss()\n",
        "optimizer = torch.optim.Adam(model_cnn.parameters(), lr=LR)\n",
        "\n",
        "train(model_cnn, 'CNN (kernel_size=2)', optimizer, criterion, train_loader, val_loader, test_loader, EPOCHS, PRINT_EPOCH)"
      ]
    },
    {
      "cell_type": "code",
      "execution_count": null,
      "metadata": {
        "id": "AMTTfuc5rAT6",
        "outputId": "00445e52-cd51-431d-c554-65516b1eba42"
      },
      "outputs": [
        {
          "name": "stdout",
          "output_type": "stream",
          "text": [
            "Epoch 1 (122.85s):\n",
            "    train loss: 0.0055, val loss: 0.004\n",
            "    train accuracy: 50.33%, val accuracy: 64.62%\n",
            "Epoch 2 (117.0s):\n",
            "    train loss: 0.0048, val loss: 0.0037\n",
            "    train accuracy: 56.73%, val accuracy: 67.37%\n",
            "Epoch 3 (119.16s):\n",
            "    train loss: 0.0044, val loss: 0.0035\n",
            "    train accuracy: 60.13%, val accuracy: 68.72%\n",
            "Epoch 4 (119.68s):\n",
            "    train loss: 0.0041, val loss: 0.0034\n",
            "    train accuracy: 62.42%, val accuracy: 69.81%\n",
            "Epoch 5 (117.59s):\n",
            "    train loss: 0.0039, val loss: 0.0033\n",
            "    train accuracy: 64.1%, val accuracy: 70.53%\n"
          ]
        }
      ],
      "source": [
        "FILTER_SIZE = 3\n",
        "\n",
        "model_cnn = CNN_model(vocab_size, EMBEDDING_SIZE, NUM_FILTERS, FILTER_SIZE, len(classes), DROP)\n",
        "criterion = nn.CrossEntropyLoss()\n",
        "optimizer = torch.optim.Adam(model_cnn.parameters(), lr=LR)\n",
        "\n",
        "train(model_cnn, 'CNN (kernel_size=3)', optimizer, criterion, train_loader, val_loader, test_loader, EPOCHS, PRINT_EPOCH)"
      ]
    },
    {
      "cell_type": "code",
      "execution_count": null,
      "metadata": {
        "id": "5CFCj9oErAT6",
        "outputId": "07f27208-1654-428a-8197-5fbfede137c1"
      },
      "outputs": [
        {
          "name": "stdout",
          "output_type": "stream",
          "text": [
            "Epoch 1 (159.23s):\n",
            "    train loss: 0.0055, val loss: 0.0039\n",
            "    train accuracy: 50.46%, val accuracy: 65.46%\n",
            "Epoch 2 (151.42s):\n",
            "    train loss: 0.0047, val loss: 0.0036\n",
            "    train accuracy: 57.13%, val accuracy: 67.98%\n",
            "Epoch 3 (153.56s):\n",
            "    train loss: 0.0043, val loss: 0.0034\n",
            "    train accuracy: 60.65%, val accuracy: 69.17%\n",
            "Epoch 4 (155.7s):\n",
            "    train loss: 0.004, val loss: 0.0033\n",
            "    train accuracy: 63.06%, val accuracy: 70.07%\n",
            "Epoch 5 (151.66s):\n",
            "    train loss: 0.0038, val loss: 0.0032\n",
            "    train accuracy: 64.78%, val accuracy: 70.72%\n"
          ]
        }
      ],
      "source": [
        "FILTER_SIZE = 4\n",
        "\n",
        "model_cnn = CNN_model(vocab_size, EMBEDDING_SIZE, NUM_FILTERS, FILTER_SIZE, len(classes), DROP)\n",
        "criterion = nn.CrossEntropyLoss()\n",
        "optimizer = torch.optim.Adam(model_cnn.parameters(), lr=LR)\n",
        "\n",
        "train(model_cnn, 'CNN (kernel_size=4)', optimizer, criterion, train_loader, val_loader, test_loader, EPOCHS, PRINT_EPOCH)"
      ]
    },
    {
      "cell_type": "code",
      "execution_count": null,
      "metadata": {
        "id": "XNZqssborAT6",
        "outputId": "a66be5fa-db1d-4f22-a4f2-2542a750dbe6"
      },
      "outputs": [
        {
          "name": "stdout",
          "output_type": "stream",
          "text": [
            "Epoch 1 (175.74s):\n",
            "    train loss: 0.0055, val loss: 0.0039\n",
            "    train accuracy: 50.87%, val accuracy: 65.55%\n",
            "Epoch 2 (176.21s):\n",
            "    train loss: 0.0047, val loss: 0.0036\n",
            "    train accuracy: 57.35%, val accuracy: 68.01%\n",
            "Epoch 3 (177.16s):\n",
            "    train loss: 0.0043, val loss: 0.0034\n",
            "    train accuracy: 60.84%, val accuracy: 69.4%\n",
            "Epoch 4 (178.11s):\n",
            "    train loss: 0.004, val loss: 0.0033\n",
            "    train accuracy: 63.26%, val accuracy: 70.22%\n",
            "Epoch 5 (177.72s):\n",
            "    train loss: 0.0038, val loss: 0.0032\n",
            "    train accuracy: 65.1%, val accuracy: 70.89%\n"
          ]
        }
      ],
      "source": [
        "FILTER_SIZE = 5\n",
        "\n",
        "model_cnn = CNN_model(vocab_size, EMBEDDING_SIZE, NUM_FILTERS, FILTER_SIZE, len(classes), DROP)\n",
        "criterion = nn.CrossEntropyLoss()\n",
        "optimizer = torch.optim.Adam(model_cnn.parameters(), lr=LR)\n",
        "\n",
        "train(model_cnn, 'CNN (kernel_size=5)', optimizer, criterion, train_loader, val_loader, test_loader, EPOCHS, PRINT_EPOCH)"
      ]
    },
    {
      "cell_type": "code",
      "execution_count": null,
      "metadata": {
        "id": "q1tCOIrhrAT7",
        "outputId": "510818b1-aafd-4532-f379-a00f49329d5d"
      },
      "outputs": [
        {
          "name": "stdout",
          "output_type": "stream",
          "text": [
            "Epoch 1 (337.42s):\n",
            "    train loss: 0.0054, val loss: 0.0039\n",
            "    train accuracy: 51.99%, val accuracy: 64.96%\n",
            "Epoch 2 (351.62s):\n",
            "    train loss: 0.0046, val loss: 0.0036\n",
            "    train accuracy: 58.68%, val accuracy: 67.24%\n",
            "Epoch 3 (349.88s):\n",
            "    train loss: 0.0041, val loss: 0.0034\n",
            "    train accuracy: 62.42%, val accuracy: 68.58%\n",
            "Epoch 4 (338.97s):\n",
            "    train loss: 0.0038, val loss: 0.0033\n",
            "    train accuracy: 65.1%, val accuracy: 69.4%\n",
            "Epoch 5 (332.9s):\n",
            "    train loss: 0.0036, val loss: 0.0032\n",
            "    train accuracy: 67.32%, val accuracy: 69.99%\n"
          ]
        }
      ],
      "source": [
        "FILTER_SIZE = 10\n",
        "\n",
        "model_cnn = CNN_model(vocab_size, EMBEDDING_SIZE, NUM_FILTERS, FILTER_SIZE, len(classes), DROP)\n",
        "criterion = nn.CrossEntropyLoss()\n",
        "optimizer = torch.optim.Adam(model_cnn.parameters(), lr=LR)\n",
        "\n",
        "train(model_cnn, 'CNN (kernel_size=10)', optimizer, criterion, train_loader, val_loader, test_loader, EPOCHS, PRINT_EPOCH)"
      ]
    },
    {
      "cell_type": "code",
      "execution_count": null,
      "metadata": {
        "id": "7FFCVovTrAT7",
        "outputId": "ff2ca31a-5d87-4748-8a05-39cd2a79bd93"
      },
      "outputs": [
        {
          "data": {
            "application/vnd.microsoft.datawrangler.viewer.v0+json": {
              "columns": [
                {
                  "name": "index",
                  "rawType": "int64",
                  "type": "integer"
                },
                {
                  "name": "model",
                  "rawType": "object",
                  "type": "string"
                },
                {
                  "name": "epochs",
                  "rawType": "int64",
                  "type": "integer"
                },
                {
                  "name": "train loss",
                  "rawType": "float64",
                  "type": "float"
                },
                {
                  "name": "train accuracy",
                  "rawType": "float64",
                  "type": "float"
                },
                {
                  "name": "test accuracy",
                  "rawType": "float64",
                  "type": "float"
                },
                {
                  "name": "time",
                  "rawType": "float64",
                  "type": "float"
                }
              ],
              "conversionMethod": "pd.DataFrame",
              "ref": "4c234cc8-0ece-4c81-8a5a-c9d601900c30",
              "rows": [
                [
                  "7",
                  "CNN (kernel_size=1)",
                  "5",
                  "0.0041",
                  "0.6236",
                  "0.729",
                  "254.56"
                ],
                [
                  "8",
                  "CNN (kernel_size=2)",
                  "5",
                  "0.004",
                  "0.6336",
                  "0.7419",
                  "409.25"
                ],
                [
                  "9",
                  "CNN (kernel_size=3)",
                  "5",
                  "0.0039",
                  "0.641",
                  "0.7344",
                  "596.29"
                ],
                [
                  "10",
                  "CNN (kernel_size=4)",
                  "5",
                  "0.0038",
                  "0.6478",
                  "0.7409",
                  "771.58"
                ],
                [
                  "11",
                  "CNN (kernel_size=5)",
                  "5",
                  "0.0038",
                  "0.651",
                  "0.7305",
                  "884.94"
                ],
                [
                  "12",
                  "CNN (kernel_size=10)",
                  "5",
                  "0.0036",
                  "0.6732",
                  "0.7305",
                  "1710.82"
                ]
              ],
              "shape": {
                "columns": 6,
                "rows": 6
              }
            },
            "text/html": [
              "<div>\n",
              "<style scoped>\n",
              "    .dataframe tbody tr th:only-of-type {\n",
              "        vertical-align: middle;\n",
              "    }\n",
              "\n",
              "    .dataframe tbody tr th {\n",
              "        vertical-align: top;\n",
              "    }\n",
              "\n",
              "    .dataframe thead th {\n",
              "        text-align: right;\n",
              "    }\n",
              "</style>\n",
              "<table border=\"1\" class=\"dataframe\">\n",
              "  <thead>\n",
              "    <tr style=\"text-align: right;\">\n",
              "      <th></th>\n",
              "      <th>model</th>\n",
              "      <th>epochs</th>\n",
              "      <th>train loss</th>\n",
              "      <th>train accuracy</th>\n",
              "      <th>test accuracy</th>\n",
              "      <th>time</th>\n",
              "    </tr>\n",
              "  </thead>\n",
              "  <tbody>\n",
              "    <tr>\n",
              "      <th>7</th>\n",
              "      <td>CNN (kernel_size=1)</td>\n",
              "      <td>5</td>\n",
              "      <td>0.0041</td>\n",
              "      <td>0.6236</td>\n",
              "      <td>0.7290</td>\n",
              "      <td>254.56</td>\n",
              "    </tr>\n",
              "    <tr>\n",
              "      <th>8</th>\n",
              "      <td>CNN (kernel_size=2)</td>\n",
              "      <td>5</td>\n",
              "      <td>0.0040</td>\n",
              "      <td>0.6336</td>\n",
              "      <td>0.7419</td>\n",
              "      <td>409.25</td>\n",
              "    </tr>\n",
              "    <tr>\n",
              "      <th>9</th>\n",
              "      <td>CNN (kernel_size=3)</td>\n",
              "      <td>5</td>\n",
              "      <td>0.0039</td>\n",
              "      <td>0.6410</td>\n",
              "      <td>0.7344</td>\n",
              "      <td>596.29</td>\n",
              "    </tr>\n",
              "    <tr>\n",
              "      <th>10</th>\n",
              "      <td>CNN (kernel_size=4)</td>\n",
              "      <td>5</td>\n",
              "      <td>0.0038</td>\n",
              "      <td>0.6478</td>\n",
              "      <td>0.7409</td>\n",
              "      <td>771.58</td>\n",
              "    </tr>\n",
              "    <tr>\n",
              "      <th>11</th>\n",
              "      <td>CNN (kernel_size=5)</td>\n",
              "      <td>5</td>\n",
              "      <td>0.0038</td>\n",
              "      <td>0.6510</td>\n",
              "      <td>0.7305</td>\n",
              "      <td>884.94</td>\n",
              "    </tr>\n",
              "    <tr>\n",
              "      <th>12</th>\n",
              "      <td>CNN (kernel_size=10)</td>\n",
              "      <td>5</td>\n",
              "      <td>0.0036</td>\n",
              "      <td>0.6732</td>\n",
              "      <td>0.7305</td>\n",
              "      <td>1710.82</td>\n",
              "    </tr>\n",
              "  </tbody>\n",
              "</table>\n",
              "</div>"
            ],
            "text/plain": [
              "                   model  epochs  train loss  train accuracy  test accuracy  \\\n",
              "7    CNN (kernel_size=1)       5      0.0041          0.6236         0.7290   \n",
              "8    CNN (kernel_size=2)       5      0.0040          0.6336         0.7419   \n",
              "9    CNN (kernel_size=3)       5      0.0039          0.6410         0.7344   \n",
              "10   CNN (kernel_size=4)       5      0.0038          0.6478         0.7409   \n",
              "11   CNN (kernel_size=5)       5      0.0038          0.6510         0.7305   \n",
              "12  CNN (kernel_size=10)       5      0.0036          0.6732         0.7305   \n",
              "\n",
              "       time  \n",
              "7    254.56  \n",
              "8    409.25  \n",
              "9    596.29  \n",
              "10   771.58  \n",
              "11   884.94  \n",
              "12  1710.82  "
            ]
          },
          "execution_count": 202,
          "metadata": {},
          "output_type": "execute_result"
        }
      ],
      "source": [
        "df_results.tail(6)"
      ]
    },
    {
      "cell_type": "markdown",
      "metadata": {
        "id": "teqw2AeirAT7"
      },
      "source": [
        "В данном слечае значение FILTER_SIZE не особо влияет на результат метрики для тестовых данных, поэтому для дальнейших экспериментов можно использовать небольшое значение, чтобы сократить время обучения модели."
      ]
    },
    {
      "cell_type": "code",
      "execution_count": null,
      "metadata": {
        "id": "OAXlg54zrAT7"
      },
      "outputs": [],
      "source": [
        "FILTER_SIZE = 2"
      ]
    },
    {
      "cell_type": "markdown",
      "metadata": {
        "id": "mMy4sQm2rAT7"
      },
      "source": [
        "### Количество фильтров (50, 200, 500, 1000)"
      ]
    },
    {
      "cell_type": "code",
      "execution_count": null,
      "metadata": {
        "id": "nBBHhWw8rAT7",
        "outputId": "379d9dcb-12ce-49b5-d729-d7991a8ea535"
      },
      "outputs": [
        {
          "name": "stdout",
          "output_type": "stream",
          "text": [
            "Epoch 1 (108.13s):\n",
            "    train loss: 0.006, val loss: 0.0044\n",
            "    train accuracy: 46.21%, val accuracy: 62.36%\n",
            "Epoch 2 (119.02s):\n",
            "    train loss: 0.0052, val loss: 0.004\n",
            "    train accuracy: 53.51%, val accuracy: 65.25%\n",
            "Epoch 3 (115.07s):\n",
            "    train loss: 0.0048, val loss: 0.0038\n",
            "    train accuracy: 57.08%, val accuracy: 66.92%\n",
            "Epoch 4 (120.96s):\n",
            "    train loss: 0.0045, val loss: 0.0037\n",
            "    train accuracy: 59.45%, val accuracy: 68.02%\n",
            "Epoch 5 (111.08s):\n",
            "    train loss: 0.0043, val loss: 0.0035\n",
            "    train accuracy: 61.11%, val accuracy: 68.77%\n"
          ]
        }
      ],
      "source": [
        "NUM_FILTERS = 50\n",
        "\n",
        "model_cnn = CNN_model(vocab_size, EMBEDDING_SIZE, NUM_FILTERS, FILTER_SIZE, len(classes), DROP)\n",
        "criterion = nn.CrossEntropyLoss()\n",
        "optimizer = torch.optim.Adam(model_cnn.parameters(), lr=LR)\n",
        "\n",
        "train(model_cnn, 'CNN (num_filters=50)', optimizer, criterion, train_loader, val_loader, test_loader, EPOCHS, PRINT_EPOCH)"
      ]
    },
    {
      "cell_type": "code",
      "execution_count": null,
      "metadata": {
        "id": "7n4jGak3rAT7",
        "outputId": "beb05bf5-152d-42d8-8690-8318ac8151e2"
      },
      "outputs": [
        {
          "name": "stdout",
          "output_type": "stream",
          "text": [
            "Epoch 1 (183.88s):\n",
            "    train loss: 0.0052, val loss: 0.0038\n",
            "    train accuracy: 53.27%, val accuracy: 65.66%\n",
            "Epoch 2 (183.41s):\n",
            "    train loss: 0.0045, val loss: 0.0034\n",
            "    train accuracy: 59.48%, val accuracy: 68.73%\n",
            "Epoch 3 (161.49s):\n",
            "    train loss: 0.0041, val loss: 0.0033\n",
            "    train accuracy: 62.77%, val accuracy: 69.95%\n",
            "Epoch 4 (162.81s):\n",
            "    train loss: 0.0038, val loss: 0.0031\n",
            "    train accuracy: 64.97%, val accuracy: 71.07%\n",
            "Epoch 5 (168.99s):\n",
            "    train loss: 0.0036, val loss: 0.003\n",
            "    train accuracy: 66.7%, val accuracy: 71.86%\n"
          ]
        }
      ],
      "source": [
        "NUM_FILTERS = 200\n",
        "\n",
        "model_cnn = CNN_model(vocab_size, EMBEDDING_SIZE, NUM_FILTERS, FILTER_SIZE, len(classes), DROP)\n",
        "criterion = nn.CrossEntropyLoss()\n",
        "optimizer = torch.optim.Adam(model_cnn.parameters(), lr=LR)\n",
        "\n",
        "train(model_cnn, 'CNN (num_filters=200)', optimizer, criterion, train_loader, val_loader, test_loader, EPOCHS, PRINT_EPOCH)"
      ]
    },
    {
      "cell_type": "code",
      "execution_count": null,
      "metadata": {
        "id": "R7ejJRhgrAT7",
        "outputId": "522b137d-f41d-4b5a-8658-73619f075796"
      },
      "outputs": [
        {
          "name": "stdout",
          "output_type": "stream",
          "text": [
            "Epoch 1 (314.36s):\n",
            "    train loss: 0.0048, val loss: 0.0033\n",
            "    train accuracy: 56.21%, val accuracy: 70.14%\n",
            "Epoch 2 (328.24s):\n",
            "    train loss: 0.0041, val loss: 0.0031\n",
            "    train accuracy: 62.5%, val accuracy: 71.48%\n",
            "Epoch 3 (322.43s):\n",
            "    train loss: 0.0037, val loss: 0.003\n",
            "    train accuracy: 65.82%, val accuracy: 72.31%\n",
            "Epoch 4 (315.61s):\n",
            "    train loss: 0.0034, val loss: 0.0029\n",
            "    train accuracy: 68.09%, val accuracy: 73.0%\n",
            "Epoch 5 (315.51s):\n",
            "    train loss: 0.0032, val loss: 0.0028\n",
            "    train accuracy: 69.75%, val accuracy: 73.27%\n"
          ]
        }
      ],
      "source": [
        "NUM_FILTERS = 500\n",
        "\n",
        "model_cnn = CNN_model(vocab_size, EMBEDDING_SIZE, NUM_FILTERS, FILTER_SIZE, len(classes), DROP)\n",
        "criterion = nn.CrossEntropyLoss()\n",
        "optimizer = torch.optim.Adam(model_cnn.parameters(), lr=LR)\n",
        "\n",
        "train(model_cnn, 'CNN (num_filters=500)', optimizer, criterion, train_loader, val_loader, test_loader, EPOCHS, PRINT_EPOCH)"
      ]
    },
    {
      "cell_type": "code",
      "execution_count": null,
      "metadata": {
        "id": "U6vXrSl2rAT7",
        "outputId": "1125cdae-0fb3-4e37-8b9c-375aa446f759"
      },
      "outputs": [
        {
          "name": "stdout",
          "output_type": "stream",
          "text": [
            "Epoch 1 (546.1s):\n",
            "    train loss: 0.0048, val loss: 0.0033\n",
            "    train accuracy: 56.9%, val accuracy: 70.68%\n",
            "Epoch 2 (540.25s):\n",
            "    train loss: 0.004, val loss: 0.0031\n",
            "    train accuracy: 63.65%, val accuracy: 71.65%\n",
            "Epoch 3 (541.1s):\n",
            "    train loss: 0.0036, val loss: 0.003\n",
            "    train accuracy: 67.23%, val accuracy: 72.79%\n",
            "Epoch 4 (540.91s):\n",
            "    train loss: 0.0033, val loss: 0.0029\n",
            "    train accuracy: 69.71%, val accuracy: 73.55%\n",
            "Epoch 5 (535.36s):\n",
            "    train loss: 0.003, val loss: 0.0028\n",
            "    train accuracy: 71.63%, val accuracy: 74.1%\n"
          ]
        }
      ],
      "source": [
        "NUM_FILTERS = 1000\n",
        "\n",
        "model_cnn = CNN_model(vocab_size, EMBEDDING_SIZE, NUM_FILTERS, FILTER_SIZE, len(classes), DROP)\n",
        "criterion = nn.CrossEntropyLoss()\n",
        "optimizer = torch.optim.Adam(model_cnn.parameters(), lr=LR)\n",
        "\n",
        "train(model_cnn, 'CNN (num_filters=1000)', optimizer, criterion, train_loader, val_loader, test_loader, EPOCHS, PRINT_EPOCH)"
      ]
    },
    {
      "cell_type": "code",
      "execution_count": null,
      "metadata": {
        "id": "hT8kkkHfrAT7",
        "outputId": "5ef5a809-6fa0-4510-ac9f-3cd7e4a5c8d5"
      },
      "outputs": [
        {
          "data": {
            "application/vnd.microsoft.datawrangler.viewer.v0+json": {
              "columns": [
                {
                  "name": "index",
                  "rawType": "int64",
                  "type": "integer"
                },
                {
                  "name": "model",
                  "rawType": "object",
                  "type": "string"
                },
                {
                  "name": "epochs",
                  "rawType": "int64",
                  "type": "integer"
                },
                {
                  "name": "train loss",
                  "rawType": "float64",
                  "type": "float"
                },
                {
                  "name": "train accuracy",
                  "rawType": "float64",
                  "type": "float"
                },
                {
                  "name": "test accuracy",
                  "rawType": "float64",
                  "type": "float"
                },
                {
                  "name": "time",
                  "rawType": "float64",
                  "type": "float"
                }
              ],
              "conversionMethod": "pd.DataFrame",
              "ref": "3602b363-0e3f-422e-aa83-5bcda310c797",
              "rows": [
                [
                  "13",
                  "CNN (num_filters=50)",
                  "5",
                  "0.0043",
                  "0.6111",
                  "0.7199",
                  "574.28"
                ],
                [
                  "14",
                  "CNN (num_filters=200)",
                  "5",
                  "0.0036",
                  "0.667",
                  "0.7493",
                  "860.61"
                ],
                [
                  "15",
                  "CNN (num_filters=500)",
                  "5",
                  "0.0032",
                  "0.6975",
                  "0.7478",
                  "1596.18"
                ],
                [
                  "16",
                  "CNN (num_filters=1000)",
                  "5",
                  "0.003",
                  "0.7163",
                  "0.7694",
                  "2703.76"
                ]
              ],
              "shape": {
                "columns": 6,
                "rows": 4
              }
            },
            "text/html": [
              "<div>\n",
              "<style scoped>\n",
              "    .dataframe tbody tr th:only-of-type {\n",
              "        vertical-align: middle;\n",
              "    }\n",
              "\n",
              "    .dataframe tbody tr th {\n",
              "        vertical-align: top;\n",
              "    }\n",
              "\n",
              "    .dataframe thead th {\n",
              "        text-align: right;\n",
              "    }\n",
              "</style>\n",
              "<table border=\"1\" class=\"dataframe\">\n",
              "  <thead>\n",
              "    <tr style=\"text-align: right;\">\n",
              "      <th></th>\n",
              "      <th>model</th>\n",
              "      <th>epochs</th>\n",
              "      <th>train loss</th>\n",
              "      <th>train accuracy</th>\n",
              "      <th>test accuracy</th>\n",
              "      <th>time</th>\n",
              "    </tr>\n",
              "  </thead>\n",
              "  <tbody>\n",
              "    <tr>\n",
              "      <th>13</th>\n",
              "      <td>CNN (num_filters=50)</td>\n",
              "      <td>5</td>\n",
              "      <td>0.0043</td>\n",
              "      <td>0.6111</td>\n",
              "      <td>0.7199</td>\n",
              "      <td>574.28</td>\n",
              "    </tr>\n",
              "    <tr>\n",
              "      <th>14</th>\n",
              "      <td>CNN (num_filters=200)</td>\n",
              "      <td>5</td>\n",
              "      <td>0.0036</td>\n",
              "      <td>0.6670</td>\n",
              "      <td>0.7493</td>\n",
              "      <td>860.61</td>\n",
              "    </tr>\n",
              "    <tr>\n",
              "      <th>15</th>\n",
              "      <td>CNN (num_filters=500)</td>\n",
              "      <td>5</td>\n",
              "      <td>0.0032</td>\n",
              "      <td>0.6975</td>\n",
              "      <td>0.7478</td>\n",
              "      <td>1596.18</td>\n",
              "    </tr>\n",
              "    <tr>\n",
              "      <th>16</th>\n",
              "      <td>CNN (num_filters=1000)</td>\n",
              "      <td>5</td>\n",
              "      <td>0.0030</td>\n",
              "      <td>0.7163</td>\n",
              "      <td>0.7694</td>\n",
              "      <td>2703.76</td>\n",
              "    </tr>\n",
              "  </tbody>\n",
              "</table>\n",
              "</div>"
            ],
            "text/plain": [
              "                     model  epochs  train loss  train accuracy  test accuracy  \\\n",
              "13    CNN (num_filters=50)       5      0.0043          0.6111         0.7199   \n",
              "14   CNN (num_filters=200)       5      0.0036          0.6670         0.7493   \n",
              "15   CNN (num_filters=500)       5      0.0032          0.6975         0.7478   \n",
              "16  CNN (num_filters=1000)       5      0.0030          0.7163         0.7694   \n",
              "\n",
              "       time  \n",
              "13   574.28  \n",
              "14   860.61  \n",
              "15  1596.18  \n",
              "16  2703.76  "
            ]
          },
          "execution_count": 209,
          "metadata": {},
          "output_type": "execute_result"
        }
      ],
      "source": [
        "df_results.tail(4)"
      ]
    },
    {
      "cell_type": "markdown",
      "metadata": {
        "id": "v5xysrAqrAT7"
      },
      "source": [
        "В случае с количеством фильтров - чем больше фильтров, тем выше метрика. Но сильно увеличивается время обучения, поэтому дальнейшие эксперименты буду проводиться небольшом числе фильтров, а положительно влияние на метрики большего числа пока что просто учтем."
      ]
    },
    {
      "cell_type": "markdown",
      "metadata": {
        "id": "KRPTseB1rAT7"
      },
      "source": [
        "## Несколько сверточных слев"
      ]
    },
    {
      "cell_type": "code",
      "execution_count": 28,
      "metadata": {
        "id": "2w3DNwKcrAT7"
      },
      "outputs": [],
      "source": [
        "class CNN_model_v2(nn.Module):\n",
        "    def __init__(self, vocab_size, embedding_size, num_filters, filter_size, output_size, drop=0.2):\n",
        "        super().__init__()\n",
        "        self.embd = nn.Embedding(vocab_size, embedding_size, padding_idx=0)\n",
        "        self.conv = nn.ModuleList([\n",
        "            nn.Conv2d(in_channels=1, out_channels=num_filters, kernel_size=(n, embedding_size))\n",
        "            for n in filter_size])\n",
        "        self.drop = nn.Dropout(drop)\n",
        "        self.linear = nn.Linear(num_filters * len(filter_size), output_size)\n",
        "\n",
        "    def forward(self, x):\n",
        "        x = self.embd(x).unsqueeze(1)\n",
        "        output = [torch.relu(conv(x)).squeeze(3) for conv in self.conv]\n",
        "        output = [torch.max(conv, dim=2)[0] for conv in output]\n",
        "        output = torch.cat(output, dim=1)\n",
        "        output = self.drop(output)\n",
        "        output = self.linear(output)\n",
        "        return output"
      ]
    },
    {
      "cell_type": "code",
      "execution_count": null,
      "metadata": {
        "id": "SxKSL8aerAT7"
      },
      "outputs": [],
      "source": [
        "LR = 0.001\n",
        "NUM_HIDDEN = 64\n",
        "EMBEDDING_SIZE = 128\n",
        "DROP = 0.3\n",
        "EPOCHS = 5\n",
        "PRINT_EPOCH = 1\n",
        "NUM_FILTERS = 100\n",
        "FILTER_SIZE = 3"
      ]
    },
    {
      "cell_type": "code",
      "execution_count": null,
      "metadata": {
        "id": "RVUDtfjXrAT8",
        "outputId": "6b457b27-4b5a-42c5-e032-ad9445fcc725"
      },
      "outputs": [
        {
          "name": "stdout",
          "output_type": "stream",
          "text": [
            "Epoch 1 (134.95s):\n",
            "    train loss: 0.0052, val loss: 0.0037\n",
            "    train accuracy: 53.22%, val accuracy: 66.47%\n",
            "Epoch 2 (142.25s):\n",
            "    train loss: 0.0045, val loss: 0.0034\n",
            "    train accuracy: 59.33%, val accuracy: 68.89%\n",
            "Epoch 3 (143.32s):\n",
            "    train loss: 0.0041, val loss: 0.0032\n",
            "    train accuracy: 62.49%, val accuracy: 70.31%\n",
            "Epoch 4 (141.37s):\n",
            "    train loss: 0.0039, val loss: 0.0031\n",
            "    train accuracy: 64.51%, val accuracy: 71.3%\n",
            "Epoch 5 (132.88s):\n",
            "    train loss: 0.0037, val loss: 0.003\n",
            "    train accuracy: 65.93%, val accuracy: 71.99%\n"
          ]
        }
      ],
      "source": [
        "FILTER_SIZE = [1, 2]\n",
        "\n",
        "model_cnn = CNN_model_v2(vocab_size, EMBEDDING_SIZE, NUM_FILTERS, FILTER_SIZE, len(classes), DROP)\n",
        "criterion = nn.CrossEntropyLoss()\n",
        "optimizer = torch.optim.Adam(model_cnn.parameters(), lr=LR)\n",
        "\n",
        "train(model_cnn, 'CNN (2-layers: 1,2)', optimizer, criterion, train_loader, val_loader, test_loader, EPOCHS, PRINT_EPOCH)"
      ]
    },
    {
      "cell_type": "code",
      "execution_count": null,
      "metadata": {
        "id": "_cb26D_grAT8",
        "outputId": "41773e6b-a00a-4351-cce6-359b570f3f99"
      },
      "outputs": [
        {
          "name": "stdout",
          "output_type": "stream",
          "text": [
            "Epoch 1 (167.99s):\n",
            "    train loss: 0.0051, val loss: 0.0036\n",
            "    train accuracy: 53.78%, val accuracy: 68.7%\n",
            "Epoch 2 (167.42s):\n",
            "    train loss: 0.0044, val loss: 0.0033\n",
            "    train accuracy: 59.89%, val accuracy: 70.28%\n",
            "Epoch 3 (182.83s):\n",
            "    train loss: 0.004, val loss: 0.0032\n",
            "    train accuracy: 62.97%, val accuracy: 70.93%\n",
            "Epoch 4 (176.83s):\n",
            "    train loss: 0.0038, val loss: 0.0031\n",
            "    train accuracy: 64.97%, val accuracy: 71.7%\n",
            "Epoch 5 (198.18s):\n",
            "    train loss: 0.0036, val loss: 0.003\n",
            "    train accuracy: 66.45%, val accuracy: 72.43%\n"
          ]
        }
      ],
      "source": [
        "FILTER_SIZE = [1, 3]\n",
        "\n",
        "model_cnn = CNN_model_v2(vocab_size, EMBEDDING_SIZE, NUM_FILTERS, FILTER_SIZE, len(classes), DROP)\n",
        "criterion = nn.CrossEntropyLoss()\n",
        "optimizer = torch.optim.Adam(model_cnn.parameters(), lr=LR)\n",
        "\n",
        "train(model_cnn, 'CNN (2-layers: 1,3)', optimizer, criterion, train_loader, val_loader, test_loader, EPOCHS, PRINT_EPOCH)"
      ]
    },
    {
      "cell_type": "code",
      "execution_count": null,
      "metadata": {
        "id": "rVB_TecDrAT8",
        "outputId": "371ac548-5ba0-480e-adf3-95d64fe40604"
      },
      "outputs": [
        {
          "name": "stdout",
          "output_type": "stream",
          "text": [
            "Epoch 1 (266.44s):\n",
            "    train loss: 0.005, val loss: 0.0035\n",
            "    train accuracy: 54.81%, val accuracy: 67.86%\n",
            "Epoch 2 (251.3s):\n",
            "    train loss: 0.0043, val loss: 0.0033\n",
            "    train accuracy: 60.88%, val accuracy: 70.12%\n",
            "Epoch 3 (259.16s):\n",
            "    train loss: 0.0039, val loss: 0.0031\n",
            "    train accuracy: 63.97%, val accuracy: 71.3%\n",
            "Epoch 4 (268.47s):\n",
            "    train loss: 0.0037, val loss: 0.003\n",
            "    train accuracy: 66.05%, val accuracy: 72.23%\n",
            "Epoch 5 (256.3s):\n",
            "    train loss: 0.0035, val loss: 0.0029\n",
            "    train accuracy: 67.59%, val accuracy: 72.94%\n"
          ]
        }
      ],
      "source": [
        "FILTER_SIZE = [1, 2, 3]\n",
        "\n",
        "model_cnn = CNN_model_v2(vocab_size, EMBEDDING_SIZE, NUM_FILTERS, FILTER_SIZE, len(classes), DROP)\n",
        "criterion = nn.CrossEntropyLoss()\n",
        "optimizer = torch.optim.Adam(model_cnn.parameters(), lr=LR)\n",
        "\n",
        "train(model_cnn, 'CNN (3-layers: 1,2,3)', optimizer, criterion, train_loader, val_loader, test_loader, EPOCHS, PRINT_EPOCH)"
      ]
    },
    {
      "cell_type": "code",
      "execution_count": null,
      "metadata": {
        "id": "bjZ2G5k7rAT8",
        "outputId": "592ff798-d728-4060-96da-c80f889b236b"
      },
      "outputs": [
        {
          "name": "stdout",
          "output_type": "stream",
          "text": [
            "Epoch 1 (402.75s):\n",
            "    train loss: 0.0049, val loss: 0.0034\n",
            "    train accuracy: 56.44%, val accuracy: 68.45%\n",
            "Epoch 2 (407.62s):\n",
            "    train loss: 0.0042, val loss: 0.0032\n",
            "    train accuracy: 62.22%, val accuracy: 70.8%\n",
            "Epoch 3 (436.52s):\n",
            "    train loss: 0.0038, val loss: 0.003\n",
            "    train accuracy: 65.33%, val accuracy: 72.23%\n",
            "Epoch 4 (437.67s):\n",
            "    train loss: 0.0035, val loss: 0.0029\n",
            "    train accuracy: 67.49%, val accuracy: 73.07%\n",
            "Epoch 5 (428.32s):\n",
            "    train loss: 0.0033, val loss: 0.0028\n",
            "    train accuracy: 69.08%, val accuracy: 73.63%\n"
          ]
        }
      ],
      "source": [
        "FILTER_SIZE = [1, 2, 3, 4]\n",
        "\n",
        "model_cnn = CNN_model_v2(vocab_size, EMBEDDING_SIZE, NUM_FILTERS, FILTER_SIZE, len(classes), DROP)\n",
        "criterion = nn.CrossEntropyLoss()\n",
        "optimizer = torch.optim.Adam(model_cnn.parameters(), lr=LR)\n",
        "\n",
        "train(model_cnn, 'CNN (4-layers: 1,2,3,4)', optimizer, criterion, train_loader, val_loader, test_loader, EPOCHS, PRINT_EPOCH)"
      ]
    },
    {
      "cell_type": "code",
      "execution_count": null,
      "metadata": {
        "id": "CW6_pFbprAT8",
        "outputId": "3db05fa1-17d3-4593-84b5-e35ebcb80d6b"
      },
      "outputs": [
        {
          "name": "stdout",
          "output_type": "stream",
          "text": [
            "Epoch 1 (602.38s):\n",
            "    train loss: 0.0048, val loss: 0.0034\n",
            "    train accuracy: 56.17%, val accuracy: 68.88%\n",
            "Epoch 2 (685.87s):\n",
            "    train loss: 0.0041, val loss: 0.0031\n",
            "    train accuracy: 62.32%, val accuracy: 71.05%\n",
            "Epoch 3 (1740.45s):\n",
            "    train loss: 0.0037, val loss: 0.003\n",
            "    train accuracy: 65.71%, val accuracy: 72.45%\n",
            "Epoch 4 (714.13s):\n",
            "    train loss: 0.0034, val loss: 0.0029\n",
            "    train accuracy: 67.93%, val accuracy: 73.26%\n",
            "Epoch 5 (2164.13s):\n",
            "    train loss: 0.0032, val loss: 0.0028\n",
            "    train accuracy: 69.72%, val accuracy: 73.81%\n"
          ]
        }
      ],
      "source": [
        "FILTER_SIZE = [1, 2, 3, 4, 5]\n",
        "\n",
        "model_cnn = CNN_model_v2(vocab_size, EMBEDDING_SIZE, NUM_FILTERS, FILTER_SIZE, len(classes), DROP)\n",
        "criterion = nn.CrossEntropyLoss()\n",
        "optimizer = torch.optim.Adam(model_cnn.parameters(), lr=LR)\n",
        "\n",
        "train(model_cnn, 'CNN (5-layers: 1,2,3,4,5)', optimizer, criterion, train_loader, val_loader, test_loader, EPOCHS, PRINT_EPOCH)"
      ]
    },
    {
      "cell_type": "code",
      "execution_count": null,
      "metadata": {
        "id": "qzrZqkJ8rAT8",
        "outputId": "f2862eef-19f3-4939-c707-b2c6eb01ddd1"
      },
      "outputs": [
        {
          "data": {
            "application/vnd.microsoft.datawrangler.viewer.v0+json": {
              "columns": [
                {
                  "name": "index",
                  "rawType": "int64",
                  "type": "integer"
                },
                {
                  "name": "model",
                  "rawType": "object",
                  "type": "string"
                },
                {
                  "name": "epochs",
                  "rawType": "int64",
                  "type": "integer"
                },
                {
                  "name": "train loss",
                  "rawType": "float64",
                  "type": "float"
                },
                {
                  "name": "train accuracy",
                  "rawType": "float64",
                  "type": "float"
                },
                {
                  "name": "test accuracy",
                  "rawType": "float64",
                  "type": "float"
                },
                {
                  "name": "time",
                  "rawType": "float64",
                  "type": "float"
                }
              ],
              "conversionMethod": "pd.DataFrame",
              "ref": "98930b82-6164-40c0-8b1b-8244c2bcf6fe",
              "rows": [
                [
                  "17",
                  "CNN (2-layers: 1,2)",
                  "5",
                  "0.0037",
                  "0.6593",
                  "0.7483",
                  "694.82"
                ],
                [
                  "18",
                  "CNN (2-layers: 1,3)",
                  "5",
                  "0.0036",
                  "0.6645",
                  "0.7572",
                  "893.26"
                ],
                [
                  "19",
                  "CNN (3-layers: 1,2,3)",
                  "5",
                  "0.0035",
                  "0.6759",
                  "0.7599",
                  "1301.75"
                ],
                [
                  "20",
                  "CNN (4-layers: 1,2,3,4)",
                  "5",
                  "0.0033",
                  "0.6908",
                  "0.766",
                  "2112.99"
                ],
                [
                  "21",
                  "CNN (4-layers: 1,2,3,4,5)",
                  "5",
                  "0.0032",
                  "0.6972",
                  "0.7698",
                  "5907.06"
                ]
              ],
              "shape": {
                "columns": 6,
                "rows": 5
              }
            },
            "text/html": [
              "<div>\n",
              "<style scoped>\n",
              "    .dataframe tbody tr th:only-of-type {\n",
              "        vertical-align: middle;\n",
              "    }\n",
              "\n",
              "    .dataframe tbody tr th {\n",
              "        vertical-align: top;\n",
              "    }\n",
              "\n",
              "    .dataframe thead th {\n",
              "        text-align: right;\n",
              "    }\n",
              "</style>\n",
              "<table border=\"1\" class=\"dataframe\">\n",
              "  <thead>\n",
              "    <tr style=\"text-align: right;\">\n",
              "      <th></th>\n",
              "      <th>model</th>\n",
              "      <th>epochs</th>\n",
              "      <th>train loss</th>\n",
              "      <th>train accuracy</th>\n",
              "      <th>test accuracy</th>\n",
              "      <th>time</th>\n",
              "    </tr>\n",
              "  </thead>\n",
              "  <tbody>\n",
              "    <tr>\n",
              "      <th>17</th>\n",
              "      <td>CNN (2-layers: 1,2)</td>\n",
              "      <td>5</td>\n",
              "      <td>0.0037</td>\n",
              "      <td>0.6593</td>\n",
              "      <td>0.7483</td>\n",
              "      <td>694.82</td>\n",
              "    </tr>\n",
              "    <tr>\n",
              "      <th>18</th>\n",
              "      <td>CNN (2-layers: 1,3)</td>\n",
              "      <td>5</td>\n",
              "      <td>0.0036</td>\n",
              "      <td>0.6645</td>\n",
              "      <td>0.7572</td>\n",
              "      <td>893.26</td>\n",
              "    </tr>\n",
              "    <tr>\n",
              "      <th>19</th>\n",
              "      <td>CNN (3-layers: 1,2,3)</td>\n",
              "      <td>5</td>\n",
              "      <td>0.0035</td>\n",
              "      <td>0.6759</td>\n",
              "      <td>0.7599</td>\n",
              "      <td>1301.75</td>\n",
              "    </tr>\n",
              "    <tr>\n",
              "      <th>20</th>\n",
              "      <td>CNN (4-layers: 1,2,3,4)</td>\n",
              "      <td>5</td>\n",
              "      <td>0.0033</td>\n",
              "      <td>0.6908</td>\n",
              "      <td>0.7660</td>\n",
              "      <td>2112.99</td>\n",
              "    </tr>\n",
              "    <tr>\n",
              "      <th>21</th>\n",
              "      <td>CNN (4-layers: 1,2,3,4,5)</td>\n",
              "      <td>5</td>\n",
              "      <td>0.0032</td>\n",
              "      <td>0.6972</td>\n",
              "      <td>0.7698</td>\n",
              "      <td>5907.06</td>\n",
              "    </tr>\n",
              "  </tbody>\n",
              "</table>\n",
              "</div>"
            ],
            "text/plain": [
              "                        model  epochs  train loss  train accuracy  \\\n",
              "17        CNN (2-layers: 1,2)       5      0.0037          0.6593   \n",
              "18        CNN (2-layers: 1,3)       5      0.0036          0.6645   \n",
              "19      CNN (3-layers: 1,2,3)       5      0.0035          0.6759   \n",
              "20    CNN (4-layers: 1,2,3,4)       5      0.0033          0.6908   \n",
              "21  CNN (4-layers: 1,2,3,4,5)       5      0.0032          0.6972   \n",
              "\n",
              "    test accuracy     time  \n",
              "17         0.7483   694.82  \n",
              "18         0.7572   893.26  \n",
              "19         0.7599  1301.75  \n",
              "20         0.7660  2112.99  \n",
              "21         0.7698  5907.06  "
            ]
          },
          "execution_count": 218,
          "metadata": {},
          "output_type": "execute_result"
        }
      ],
      "source": [
        "df_results.tail(5)"
      ]
    },
    {
      "cell_type": "markdown",
      "metadata": {
        "id": "7vIa388hrAT8"
      },
      "source": [
        "Увеличение количества слоев несильно, но увеличивает значение метрики на тестовых данных. Кроме того, в данном случае лучше видно, какие именно n-граммы влияют на результат. Например, биграммы менее информативны для модели в отличие от триграмм."
      ]
    },
    {
      "cell_type": "markdown",
      "metadata": {
        "id": "fE_g2PoZrAT8"
      },
      "source": [
        "### Добавление слоя BatchNorm"
      ]
    },
    {
      "cell_type": "code",
      "execution_count": 29,
      "metadata": {
        "id": "OTykz039rAT8"
      },
      "outputs": [],
      "source": [
        "class CNN_model_v2(nn.Module):\n",
        "    def __init__(self, vocab_size, embedding_size, num_filters, filter_size, output_size, drop=0.2):\n",
        "        super().__init__()\n",
        "        self.embd = nn.Embedding(vocab_size, embedding_size, padding_idx=0)\n",
        "        self.conv = nn.ModuleList([\n",
        "            nn.Conv2d(in_channels=1, out_channels=num_filters, kernel_size=(n, embedding_size))\n",
        "            for n in filter_size])\n",
        "        self.batchnorm = nn.BatchNorm1d(num_filters * len(filter_size))\n",
        "        self.drop = nn.Dropout(drop)\n",
        "        self.linear = nn.Linear(num_filters * len(filter_size), output_size)\n",
        "\n",
        "    def forward(self, x):\n",
        "        x = self.embd(x).unsqueeze(1)\n",
        "        output = [torch.relu(conv(x)).squeeze(3) for conv in self.conv]\n",
        "        output = [torch.max(conv, dim=2)[0] for conv in output]\n",
        "        output = torch.cat(output, dim=1)\n",
        "        output = self.batchnorm(output)\n",
        "        output = self.drop(output)\n",
        "        output = self.linear(output)\n",
        "        return output"
      ]
    },
    {
      "cell_type": "code",
      "execution_count": null,
      "metadata": {
        "id": "U8XmNHjrrAT8",
        "outputId": "cb91d49d-51ec-434c-bb72-b371deb121b8"
      },
      "outputs": [
        {
          "name": "stdout",
          "output_type": "stream",
          "text": [
            "Epoch 1 (84.59s):\n",
            "    train loss: 0.0048, val loss: 0.0034\n",
            "    train accuracy: 57.02%, val accuracy: 70.52%\n",
            "Epoch 2 (83.22s):\n",
            "    train loss: 0.004, val loss: 0.0032\n",
            "    train accuracy: 63.44%, val accuracy: 71.92%\n",
            "Epoch 3 (98.01s):\n",
            "    train loss: 0.0037, val loss: 0.003\n",
            "    train accuracy: 66.46%, val accuracy: 72.83%\n",
            "Epoch 4 (94.43s):\n",
            "    train loss: 0.0035, val loss: 0.0029\n",
            "    train accuracy: 68.42%, val accuracy: 73.35%\n",
            "Epoch 5 (91.23s):\n",
            "    train loss: 0.0033, val loss: 0.0029\n",
            "    train accuracy: 69.87%, val accuracy: 73.69%\n"
          ]
        }
      ],
      "source": [
        "FILTER_SIZE = [2]\n",
        "\n",
        "model_cnn = CNN_model_v2(vocab_size, EMBEDDING_SIZE, NUM_FILTERS, FILTER_SIZE, len(classes), DROP)\n",
        "criterion = nn.CrossEntropyLoss()\n",
        "optimizer = torch.optim.Adam(model_cnn.parameters(), lr=LR)\n",
        "\n",
        "train(model_cnn, 'CNN (1-layer, batchnorm)', optimizer, criterion, train_loader, val_loader, test_loader, EPOCHS, PRINT_EPOCH)"
      ]
    },
    {
      "cell_type": "code",
      "execution_count": null,
      "metadata": {
        "id": "tVmwKiTbrAT8",
        "outputId": "fc32d11a-4033-4c43-d00f-e96e977add27"
      },
      "outputs": [
        {
          "data": {
            "application/vnd.microsoft.datawrangler.viewer.v0+json": {
              "columns": [
                {
                  "name": "index",
                  "rawType": "int64",
                  "type": "integer"
                },
                {
                  "name": "model",
                  "rawType": "object",
                  "type": "string"
                },
                {
                  "name": "epochs",
                  "rawType": "int64",
                  "type": "integer"
                },
                {
                  "name": "train loss",
                  "rawType": "float64",
                  "type": "float"
                },
                {
                  "name": "train accuracy",
                  "rawType": "float64",
                  "type": "float"
                },
                {
                  "name": "test accuracy",
                  "rawType": "float64",
                  "type": "float"
                },
                {
                  "name": "time",
                  "rawType": "float64",
                  "type": "float"
                }
              ],
              "conversionMethod": "pd.DataFrame",
              "ref": "20148aca-b7e2-4a3b-b9bd-8768d16fd0d5",
              "rows": [
                [
                  "8",
                  "CNN (kernel_size=2)",
                  "5",
                  "0.004",
                  "0.6336",
                  "0.7419",
                  "409.25"
                ],
                [
                  "22",
                  "CNN (1-layer, batchnorm)",
                  "5",
                  "0.0033",
                  "0.6987",
                  "0.7479",
                  "451.54"
                ]
              ],
              "shape": {
                "columns": 6,
                "rows": 2
              }
            },
            "text/html": [
              "<div>\n",
              "<style scoped>\n",
              "    .dataframe tbody tr th:only-of-type {\n",
              "        vertical-align: middle;\n",
              "    }\n",
              "\n",
              "    .dataframe tbody tr th {\n",
              "        vertical-align: top;\n",
              "    }\n",
              "\n",
              "    .dataframe thead th {\n",
              "        text-align: right;\n",
              "    }\n",
              "</style>\n",
              "<table border=\"1\" class=\"dataframe\">\n",
              "  <thead>\n",
              "    <tr style=\"text-align: right;\">\n",
              "      <th></th>\n",
              "      <th>model</th>\n",
              "      <th>epochs</th>\n",
              "      <th>train loss</th>\n",
              "      <th>train accuracy</th>\n",
              "      <th>test accuracy</th>\n",
              "      <th>time</th>\n",
              "    </tr>\n",
              "  </thead>\n",
              "  <tbody>\n",
              "    <tr>\n",
              "      <th>8</th>\n",
              "      <td>CNN (kernel_size=2)</td>\n",
              "      <td>5</td>\n",
              "      <td>0.0040</td>\n",
              "      <td>0.6336</td>\n",
              "      <td>0.7419</td>\n",
              "      <td>409.25</td>\n",
              "    </tr>\n",
              "    <tr>\n",
              "      <th>22</th>\n",
              "      <td>CNN (1-layer, batchnorm)</td>\n",
              "      <td>5</td>\n",
              "      <td>0.0033</td>\n",
              "      <td>0.6987</td>\n",
              "      <td>0.7479</td>\n",
              "      <td>451.54</td>\n",
              "    </tr>\n",
              "  </tbody>\n",
              "</table>\n",
              "</div>"
            ],
            "text/plain": [
              "                       model  epochs  train loss  train accuracy  \\\n",
              "8        CNN (kernel_size=2)       5      0.0040          0.6336   \n",
              "22  CNN (1-layer, batchnorm)       5      0.0033          0.6987   \n",
              "\n",
              "    test accuracy    time  \n",
              "8          0.7419  409.25  \n",
              "22         0.7479  451.54  "
            ]
          },
          "execution_count": 236,
          "metadata": {},
          "output_type": "execute_result"
        }
      ],
      "source": [
        "df_results.iloc[[8, 22]]"
      ]
    },
    {
      "cell_type": "code",
      "execution_count": null,
      "metadata": {
        "id": "xhCcDBZtrAT8",
        "outputId": "82462afb-46fc-4955-a134-cb463c480b2a"
      },
      "outputs": [
        {
          "name": "stdout",
          "output_type": "stream",
          "text": [
            "Epoch 1 (233.35s):\n",
            "    train loss: 0.0043, val loss: 0.0031\n",
            "    train accuracy: 61.67%, val accuracy: 72.44%\n",
            "Epoch 2 (253.14s):\n",
            "    train loss: 0.0036, val loss: 0.0029\n",
            "    train accuracy: 67.25%, val accuracy: 73.75%\n",
            "Epoch 3 (244.8s):\n",
            "    train loss: 0.0032, val loss: 0.0028\n",
            "    train accuracy: 70.27%, val accuracy: 74.53%\n",
            "Epoch 4 (247.52s):\n",
            "    train loss: 0.003, val loss: 0.0027\n",
            "    train accuracy: 72.37%, val accuracy: 75.1%\n",
            "Epoch 5 (233.07s):\n",
            "    train loss: 0.0028, val loss: 0.0027\n",
            "    train accuracy: 74.09%, val accuracy: 75.35%\n"
          ]
        }
      ],
      "source": [
        "FILTER_SIZE = [1, 2, 3]\n",
        "\n",
        "model_cnn = CNN_model_v2(vocab_size, EMBEDDING_SIZE, NUM_FILTERS, FILTER_SIZE, len(classes), DROP)\n",
        "criterion = nn.CrossEntropyLoss()\n",
        "optimizer = torch.optim.Adam(model_cnn.parameters(), lr=LR)\n",
        "\n",
        "train(model_cnn, 'CNN (3-layers, batchnorm)', optimizer, criterion, train_loader, val_loader, test_loader, EPOCHS, PRINT_EPOCH)"
      ]
    },
    {
      "cell_type": "code",
      "execution_count": null,
      "metadata": {
        "id": "EhZs3LtIrAT8",
        "outputId": "ddf28ed3-4ceb-46b1-a64f-24142e031851"
      },
      "outputs": [
        {
          "data": {
            "application/vnd.microsoft.datawrangler.viewer.v0+json": {
              "columns": [
                {
                  "name": "index",
                  "rawType": "int64",
                  "type": "integer"
                },
                {
                  "name": "model",
                  "rawType": "object",
                  "type": "string"
                },
                {
                  "name": "epochs",
                  "rawType": "int64",
                  "type": "integer"
                },
                {
                  "name": "train loss",
                  "rawType": "float64",
                  "type": "float"
                },
                {
                  "name": "train accuracy",
                  "rawType": "float64",
                  "type": "float"
                },
                {
                  "name": "test accuracy",
                  "rawType": "float64",
                  "type": "float"
                },
                {
                  "name": "time",
                  "rawType": "float64",
                  "type": "float"
                }
              ],
              "conversionMethod": "pd.DataFrame",
              "ref": "9bf637fc-3bbc-43f1-a6ea-919b6651dd8c",
              "rows": [
                [
                  "19",
                  "CNN (3-layers: 1,2,3)",
                  "5",
                  "0.0035",
                  "0.6759",
                  "0.7599",
                  "1301.75"
                ],
                [
                  "23",
                  "CNN (3-layers, batchnorm)",
                  "5",
                  "0.0028",
                  "0.7409",
                  "0.7625",
                  "1211.91"
                ]
              ],
              "shape": {
                "columns": 6,
                "rows": 2
              }
            },
            "text/html": [
              "<div>\n",
              "<style scoped>\n",
              "    .dataframe tbody tr th:only-of-type {\n",
              "        vertical-align: middle;\n",
              "    }\n",
              "\n",
              "    .dataframe tbody tr th {\n",
              "        vertical-align: top;\n",
              "    }\n",
              "\n",
              "    .dataframe thead th {\n",
              "        text-align: right;\n",
              "    }\n",
              "</style>\n",
              "<table border=\"1\" class=\"dataframe\">\n",
              "  <thead>\n",
              "    <tr style=\"text-align: right;\">\n",
              "      <th></th>\n",
              "      <th>model</th>\n",
              "      <th>epochs</th>\n",
              "      <th>train loss</th>\n",
              "      <th>train accuracy</th>\n",
              "      <th>test accuracy</th>\n",
              "      <th>time</th>\n",
              "    </tr>\n",
              "  </thead>\n",
              "  <tbody>\n",
              "    <tr>\n",
              "      <th>19</th>\n",
              "      <td>CNN (3-layers: 1,2,3)</td>\n",
              "      <td>5</td>\n",
              "      <td>0.0035</td>\n",
              "      <td>0.6759</td>\n",
              "      <td>0.7599</td>\n",
              "      <td>1301.75</td>\n",
              "    </tr>\n",
              "    <tr>\n",
              "      <th>23</th>\n",
              "      <td>CNN (3-layers, batchnorm)</td>\n",
              "      <td>5</td>\n",
              "      <td>0.0028</td>\n",
              "      <td>0.7409</td>\n",
              "      <td>0.7625</td>\n",
              "      <td>1211.91</td>\n",
              "    </tr>\n",
              "  </tbody>\n",
              "</table>\n",
              "</div>"
            ],
            "text/plain": [
              "                        model  epochs  train loss  train accuracy  \\\n",
              "19      CNN (3-layers: 1,2,3)       5      0.0035          0.6759   \n",
              "23  CNN (3-layers, batchnorm)       5      0.0028          0.7409   \n",
              "\n",
              "    test accuracy     time  \n",
              "19         0.7599  1301.75  \n",
              "23         0.7625  1211.91  "
            ]
          },
          "execution_count": 238,
          "metadata": {},
          "output_type": "execute_result"
        }
      ],
      "source": [
        "df_results.iloc[[19, 23]]"
      ]
    },
    {
      "cell_type": "markdown",
      "metadata": {
        "id": "swD0TeCprAT8"
      },
      "source": [
        "Добавление слоя BatchNorm хорошо повлияло на метрики."
      ]
    },
    {
      "cell_type": "markdown",
      "metadata": {
        "id": "mqweYxyvrAT8"
      },
      "source": [
        "### Изменение значения Dropout"
      ]
    },
    {
      "cell_type": "code",
      "execution_count": null,
      "metadata": {
        "id": "PdIFRo3NrAT8",
        "outputId": "fa9377f4-2567-40c8-fb5a-0d90fa5668f8"
      },
      "outputs": [
        {
          "name": "stdout",
          "output_type": "stream",
          "text": [
            "Epoch 1 (230.44s):\n",
            "    train loss: 0.004, val loss: 0.003\n",
            "    train accuracy: 64.27%, val accuracy: 72.52%\n",
            "Epoch 2 (1918.85s):\n",
            "    train loss: 0.0033, val loss: 0.0028\n",
            "    train accuracy: 70.08%, val accuracy: 73.84%\n",
            "Epoch 3 (223.89s):\n",
            "    train loss: 0.0029, val loss: 0.0027\n",
            "    train accuracy: 73.71%, val accuracy: 74.55%\n",
            "Epoch 4 (239.9s):\n",
            "    train loss: 0.0026, val loss: 0.0027\n",
            "    train accuracy: 76.56%, val accuracy: 74.79%\n",
            "Epoch 5 (239.13s):\n",
            "    train loss: 0.0023, val loss: 0.0027\n",
            "    train accuracy: 79.04%, val accuracy: 74.95%\n"
          ]
        }
      ],
      "source": [
        "FILTER_SIZE = [1, 2, 3]\n",
        "DROP = 0.0\n",
        "\n",
        "model_cnn = CNN_model_v2(vocab_size, EMBEDDING_SIZE, NUM_FILTERS, FILTER_SIZE, len(classes), DROP)\n",
        "criterion = nn.CrossEntropyLoss()\n",
        "optimizer = torch.optim.Adam(model_cnn.parameters(), lr=LR)\n",
        "\n",
        "train(model_cnn, 'CNN (3-layers, drop=0)', optimizer, criterion, train_loader, val_loader, test_loader, EPOCHS, PRINT_EPOCH)"
      ]
    },
    {
      "cell_type": "code",
      "execution_count": null,
      "metadata": {
        "id": "LeVA4y58rAT8",
        "outputId": "2b4581df-a28f-42e2-f03f-2efe038d9534"
      },
      "outputs": [
        {
          "name": "stdout",
          "output_type": "stream",
          "text": [
            "Epoch 1 (243.52s):\n",
            "    train loss: 0.004, val loss: 0.0029\n",
            "    train accuracy: 64.68%, val accuracy: 73.6%\n",
            "Epoch 2 (245.81s):\n",
            "    train loss: 0.0033, val loss: 0.0028\n",
            "    train accuracy: 70.01%, val accuracy: 74.44%\n",
            "Epoch 3 (245.18s):\n",
            "    train loss: 0.0029, val loss: 0.0027\n",
            "    train accuracy: 73.15%, val accuracy: 74.99%\n",
            "Epoch 4 (264.66s):\n",
            "    train loss: 0.0027, val loss: 0.0027\n",
            "    train accuracy: 75.65%, val accuracy: 75.35%\n",
            "Epoch 5 (236.94s):\n",
            "    train loss: 0.0025, val loss: 0.0026\n",
            "    train accuracy: 77.72%, val accuracy: 75.49%\n"
          ]
        }
      ],
      "source": [
        "FILTER_SIZE = [1, 2, 3]\n",
        "DROP = 0.1\n",
        "\n",
        "model_cnn = CNN_model_v2(vocab_size, EMBEDDING_SIZE, NUM_FILTERS, FILTER_SIZE, len(classes), DROP)\n",
        "criterion = nn.CrossEntropyLoss()\n",
        "optimizer = torch.optim.Adam(model_cnn.parameters(), lr=LR)\n",
        "\n",
        "train(model_cnn, 'CNN (3-layers, drop=0.1)', optimizer, criterion, train_loader, val_loader, test_loader, EPOCHS, PRINT_EPOCH)"
      ]
    },
    {
      "cell_type": "code",
      "execution_count": null,
      "metadata": {
        "id": "aEbZ7uwsrAT8",
        "outputId": "baa77624-e511-49ad-9fc4-2067f336445c"
      },
      "outputs": [
        {
          "name": "stdout",
          "output_type": "stream",
          "text": [
            "Epoch 1 (234.5s):\n",
            "    train loss: 0.0041, val loss: 0.0031\n",
            "    train accuracy: 63.58%, val accuracy: 72.41%\n",
            "Epoch 2 (234.64s):\n",
            "    train loss: 0.0035, val loss: 0.0029\n",
            "    train accuracy: 68.95%, val accuracy: 73.62%\n",
            "Epoch 3 (236.42s):\n",
            "    train loss: 0.0031, val loss: 0.0028\n",
            "    train accuracy: 72.02%, val accuracy: 74.39%\n",
            "Epoch 4 (234.04s):\n",
            "    train loss: 0.0028, val loss: 0.0027\n",
            "    train accuracy: 74.25%, val accuracy: 74.8%\n",
            "Epoch 5 (237.65s):\n",
            "    train loss: 0.0026, val loss: 0.0027\n",
            "    train accuracy: 76.06%, val accuracy: 75.04%\n"
          ]
        }
      ],
      "source": [
        "FILTER_SIZE = [1, 2, 3]\n",
        "DROP = 0.2\n",
        "\n",
        "model_cnn = CNN_model_v2(vocab_size, EMBEDDING_SIZE, NUM_FILTERS, FILTER_SIZE, len(classes), DROP)\n",
        "criterion = nn.CrossEntropyLoss()\n",
        "optimizer = torch.optim.Adam(model_cnn.parameters(), lr=LR)\n",
        "\n",
        "train(model_cnn, 'CNN (3-layers, drop=0.2)', optimizer, criterion, train_loader, val_loader, test_loader, EPOCHS, PRINT_EPOCH)"
      ]
    },
    {
      "cell_type": "code",
      "execution_count": null,
      "metadata": {
        "id": "9VbmQApbrAT9",
        "outputId": "9099706e-0e66-4d10-e31a-7b8b6462790f"
      },
      "outputs": [
        {
          "name": "stdout",
          "output_type": "stream",
          "text": [
            "Epoch 1 (241.43s):\n",
            "    train loss: 0.0045, val loss: 0.0032\n",
            "    train accuracy: 60.26%, val accuracy: 70.75%\n",
            "Epoch 2 (237.33s):\n",
            "    train loss: 0.0038, val loss: 0.003\n",
            "    train accuracy: 65.27%, val accuracy: 72.45%\n",
            "Epoch 3 (239.6s):\n",
            "    train loss: 0.0035, val loss: 0.0029\n",
            "    train accuracy: 67.87%, val accuracy: 73.32%\n",
            "Epoch 4 (242.27s):\n",
            "    train loss: 0.0033, val loss: 0.0028\n",
            "    train accuracy: 69.68%, val accuracy: 73.92%\n",
            "Epoch 5 (238.12s):\n",
            "    train loss: 0.0031, val loss: 0.0028\n",
            "    train accuracy: 71.05%, val accuracy: 74.35%\n"
          ]
        }
      ],
      "source": [
        "FILTER_SIZE = [1, 2, 3]\n",
        "DROP = 0.5\n",
        "\n",
        "model_cnn = CNN_model_v2(vocab_size, EMBEDDING_SIZE, NUM_FILTERS, FILTER_SIZE, len(classes), DROP)\n",
        "criterion = nn.CrossEntropyLoss()\n",
        "optimizer = torch.optim.Adam(model_cnn.parameters(), lr=LR)\n",
        "\n",
        "train(model_cnn, 'CNN (3-layers, drop=0.5)', optimizer, criterion, train_loader, val_loader, test_loader, EPOCHS, PRINT_EPOCH)"
      ]
    },
    {
      "cell_type": "code",
      "execution_count": null,
      "metadata": {
        "id": "aw8iVTthrAT9",
        "outputId": "e3727399-f410-4b3b-b0b5-2200da378d1c"
      },
      "outputs": [
        {
          "data": {
            "application/vnd.microsoft.datawrangler.viewer.v0+json": {
              "columns": [
                {
                  "name": "index",
                  "rawType": "int64",
                  "type": "integer"
                },
                {
                  "name": "model",
                  "rawType": "object",
                  "type": "string"
                },
                {
                  "name": "epochs",
                  "rawType": "int64",
                  "type": "integer"
                },
                {
                  "name": "train loss",
                  "rawType": "float64",
                  "type": "float"
                },
                {
                  "name": "train accuracy",
                  "rawType": "float64",
                  "type": "float"
                },
                {
                  "name": "test accuracy",
                  "rawType": "float64",
                  "type": "float"
                },
                {
                  "name": "time",
                  "rawType": "float64",
                  "type": "float"
                }
              ],
              "conversionMethod": "pd.DataFrame",
              "ref": "bb662deb-bbc8-486b-9897-f4fd2f48d845",
              "rows": [
                [
                  "23",
                  "CNN (3-layers, batchnorm)",
                  "5",
                  "0.0028",
                  "0.7409",
                  "0.7625",
                  "1211.91"
                ],
                [
                  "24",
                  "CNN (3-layers, drop=0)",
                  "5",
                  "0.0023",
                  "0.7904",
                  "0.7518",
                  "2852.25"
                ],
                [
                  "25",
                  "CNN (3-layers, drop=0.1)",
                  "5",
                  "0.0025",
                  "0.7772",
                  "0.7575",
                  "1236.1"
                ],
                [
                  "26",
                  "CNN (3-layers, drop=0.2)",
                  "5",
                  "0.0026",
                  "0.7606",
                  "0.7663",
                  "1177.25"
                ],
                [
                  "27",
                  "CNN (3-layers, drop=0.5)",
                  "5",
                  "0.0031",
                  "0.7105",
                  "0.7578",
                  "1198.77"
                ]
              ],
              "shape": {
                "columns": 6,
                "rows": 5
              }
            },
            "text/html": [
              "<div>\n",
              "<style scoped>\n",
              "    .dataframe tbody tr th:only-of-type {\n",
              "        vertical-align: middle;\n",
              "    }\n",
              "\n",
              "    .dataframe tbody tr th {\n",
              "        vertical-align: top;\n",
              "    }\n",
              "\n",
              "    .dataframe thead th {\n",
              "        text-align: right;\n",
              "    }\n",
              "</style>\n",
              "<table border=\"1\" class=\"dataframe\">\n",
              "  <thead>\n",
              "    <tr style=\"text-align: right;\">\n",
              "      <th></th>\n",
              "      <th>model</th>\n",
              "      <th>epochs</th>\n",
              "      <th>train loss</th>\n",
              "      <th>train accuracy</th>\n",
              "      <th>test accuracy</th>\n",
              "      <th>time</th>\n",
              "    </tr>\n",
              "  </thead>\n",
              "  <tbody>\n",
              "    <tr>\n",
              "      <th>23</th>\n",
              "      <td>CNN (3-layers, batchnorm)</td>\n",
              "      <td>5</td>\n",
              "      <td>0.0028</td>\n",
              "      <td>0.7409</td>\n",
              "      <td>0.7625</td>\n",
              "      <td>1211.91</td>\n",
              "    </tr>\n",
              "    <tr>\n",
              "      <th>24</th>\n",
              "      <td>CNN (3-layers, drop=0)</td>\n",
              "      <td>5</td>\n",
              "      <td>0.0023</td>\n",
              "      <td>0.7904</td>\n",
              "      <td>0.7518</td>\n",
              "      <td>2852.25</td>\n",
              "    </tr>\n",
              "    <tr>\n",
              "      <th>25</th>\n",
              "      <td>CNN (3-layers, drop=0.1)</td>\n",
              "      <td>5</td>\n",
              "      <td>0.0025</td>\n",
              "      <td>0.7772</td>\n",
              "      <td>0.7575</td>\n",
              "      <td>1236.10</td>\n",
              "    </tr>\n",
              "    <tr>\n",
              "      <th>26</th>\n",
              "      <td>CNN (3-layers, drop=0.2)</td>\n",
              "      <td>5</td>\n",
              "      <td>0.0026</td>\n",
              "      <td>0.7606</td>\n",
              "      <td>0.7663</td>\n",
              "      <td>1177.25</td>\n",
              "    </tr>\n",
              "    <tr>\n",
              "      <th>27</th>\n",
              "      <td>CNN (3-layers, drop=0.5)</td>\n",
              "      <td>5</td>\n",
              "      <td>0.0031</td>\n",
              "      <td>0.7105</td>\n",
              "      <td>0.7578</td>\n",
              "      <td>1198.77</td>\n",
              "    </tr>\n",
              "  </tbody>\n",
              "</table>\n",
              "</div>"
            ],
            "text/plain": [
              "                        model  epochs  train loss  train accuracy  \\\n",
              "23  CNN (3-layers, batchnorm)       5      0.0028          0.7409   \n",
              "24     CNN (3-layers, drop=0)       5      0.0023          0.7904   \n",
              "25   CNN (3-layers, drop=0.1)       5      0.0025          0.7772   \n",
              "26   CNN (3-layers, drop=0.2)       5      0.0026          0.7606   \n",
              "27   CNN (3-layers, drop=0.5)       5      0.0031          0.7105   \n",
              "\n",
              "    test accuracy     time  \n",
              "23         0.7625  1211.91  \n",
              "24         0.7518  2852.25  \n",
              "25         0.7575  1236.10  \n",
              "26         0.7663  1177.25  \n",
              "27         0.7578  1198.77  "
            ]
          },
          "execution_count": 243,
          "metadata": {},
          "output_type": "execute_result"
        }
      ],
      "source": [
        "df_results.tail(5)"
      ]
    },
    {
      "cell_type": "markdown",
      "metadata": {
        "id": "ZpVkvl2MrAT9"
      },
      "source": [
        "При значении Dropout 0.2 метрика немного выше. Dropout со значением 0 приводит к переобучению."
      ]
    },
    {
      "cell_type": "code",
      "execution_count": null,
      "metadata": {
        "id": "dAckn2yBrAT9",
        "outputId": "d17b82e2-af2e-4e67-b973-b0c93f924406"
      },
      "outputs": [
        {
          "name": "stdout",
          "output_type": "stream",
          "text": [
            "Epoch 1 (1830.07s):\n",
            "    train loss: 0.0039, val loss: 0.0029\n",
            "    train accuracy: 65.37%, val accuracy: 73.22%\n",
            "Epoch 2 (2525.53s):\n",
            "    train loss: 0.0032, val loss: 0.0028\n",
            "    train accuracy: 71.19%, val accuracy: 74.4%\n",
            "Epoch 3 (563.22s):\n",
            "    train loss: 0.0028, val loss: 0.0027\n",
            "    train accuracy: 74.91%, val accuracy: 74.7%\n",
            "Epoch 4 (577.6s):\n",
            "    train loss: 0.0025, val loss: 0.0027\n",
            "    train accuracy: 77.8%, val accuracy: 74.97%\n",
            "Epoch 5 (652.59s):\n",
            "    train loss: 0.0022, val loss: 0.0027\n",
            "    train accuracy: 80.32%, val accuracy: 75.18%\n"
          ]
        }
      ],
      "source": [
        "FILTER_SIZE = [1, 2, 3, 4, 5]\n",
        "DROP = 0.2\n",
        "\n",
        "model_cnn = CNN_model_v2(vocab_size, EMBEDDING_SIZE, NUM_FILTERS, FILTER_SIZE, len(classes), DROP)\n",
        "criterion = nn.CrossEntropyLoss()\n",
        "optimizer = torch.optim.Adam(model_cnn.parameters(), lr=LR)\n",
        "\n",
        "train(model_cnn, 'CNN (5-layers, drop=0.2)', optimizer, criterion, train_loader, val_loader, test_loader, EPOCHS, PRINT_EPOCH)"
      ]
    },
    {
      "cell_type": "code",
      "execution_count": null,
      "metadata": {
        "id": "04Dc9EQprAT9",
        "outputId": "387aa613-08a7-4fa5-f961-066014a65a39"
      },
      "outputs": [
        {
          "data": {
            "application/vnd.microsoft.datawrangler.viewer.v0+json": {
              "columns": [
                {
                  "name": "index",
                  "rawType": "int64",
                  "type": "integer"
                },
                {
                  "name": "model",
                  "rawType": "object",
                  "type": "string"
                },
                {
                  "name": "epochs",
                  "rawType": "int64",
                  "type": "integer"
                },
                {
                  "name": "train loss",
                  "rawType": "float64",
                  "type": "float"
                },
                {
                  "name": "train accuracy",
                  "rawType": "float64",
                  "type": "float"
                },
                {
                  "name": "test accuracy",
                  "rawType": "float64",
                  "type": "float"
                },
                {
                  "name": "time",
                  "rawType": "float64",
                  "type": "float"
                }
              ],
              "conversionMethod": "pd.DataFrame",
              "ref": "e034f61d-dba3-46b6-9278-0992ea3e31bf",
              "rows": [
                [
                  "21",
                  "CNN (5-layers: 1,2,3,4,5)",
                  "5",
                  "0.0032",
                  "0.6972",
                  "0.7698",
                  "5907.06"
                ],
                [
                  "28",
                  "CNN (5-layers, drop=0.2)",
                  "5",
                  "0.0022",
                  "0.8032",
                  "0.7721",
                  "6149.1"
                ]
              ],
              "shape": {
                "columns": 6,
                "rows": 2
              }
            },
            "text/html": [
              "<div>\n",
              "<style scoped>\n",
              "    .dataframe tbody tr th:only-of-type {\n",
              "        vertical-align: middle;\n",
              "    }\n",
              "\n",
              "    .dataframe tbody tr th {\n",
              "        vertical-align: top;\n",
              "    }\n",
              "\n",
              "    .dataframe thead th {\n",
              "        text-align: right;\n",
              "    }\n",
              "</style>\n",
              "<table border=\"1\" class=\"dataframe\">\n",
              "  <thead>\n",
              "    <tr style=\"text-align: right;\">\n",
              "      <th></th>\n",
              "      <th>model</th>\n",
              "      <th>epochs</th>\n",
              "      <th>train loss</th>\n",
              "      <th>train accuracy</th>\n",
              "      <th>test accuracy</th>\n",
              "      <th>time</th>\n",
              "    </tr>\n",
              "  </thead>\n",
              "  <tbody>\n",
              "    <tr>\n",
              "      <th>21</th>\n",
              "      <td>CNN (5-layers: 1,2,3,4,5)</td>\n",
              "      <td>5</td>\n",
              "      <td>0.0032</td>\n",
              "      <td>0.6972</td>\n",
              "      <td>0.7698</td>\n",
              "      <td>5907.06</td>\n",
              "    </tr>\n",
              "    <tr>\n",
              "      <th>28</th>\n",
              "      <td>CNN (5-layers, drop=0.2)</td>\n",
              "      <td>5</td>\n",
              "      <td>0.0022</td>\n",
              "      <td>0.8032</td>\n",
              "      <td>0.7721</td>\n",
              "      <td>6149.10</td>\n",
              "    </tr>\n",
              "  </tbody>\n",
              "</table>\n",
              "</div>"
            ],
            "text/plain": [
              "                        model  epochs  train loss  train accuracy  \\\n",
              "21  CNN (5-layers: 1,2,3,4,5)       5      0.0032          0.6972   \n",
              "28   CNN (5-layers, drop=0.2)       5      0.0022          0.8032   \n",
              "\n",
              "    test accuracy     time  \n",
              "21         0.7698  5907.06  \n",
              "28         0.7721  6149.10  "
            ]
          },
          "execution_count": 268,
          "metadata": {},
          "output_type": "execute_result"
        }
      ],
      "source": [
        "df_results.iloc[[21, 28]]"
      ]
    },
    {
      "cell_type": "markdown",
      "metadata": {
        "id": "0IFwHpyArAT9"
      },
      "source": [
        "### Изменение значения LR"
      ]
    },
    {
      "cell_type": "code",
      "execution_count": null,
      "metadata": {
        "id": "SAu_CY7SrAT9",
        "outputId": "c175abbb-1610-4403-fc6c-a8e6cd8ed7ab"
      },
      "outputs": [
        {
          "name": "stdout",
          "output_type": "stream",
          "text": [
            "Epoch 1 (289.19s):\n",
            "    train loss: 0.0047, val loss: 0.0035\n",
            "    train accuracy: 58.94%, val accuracy: 68.91%\n",
            "Epoch 2 (276.52s):\n",
            "    train loss: 0.004, val loss: 0.0032\n",
            "    train accuracy: 65.09%, val accuracy: 70.96%\n",
            "Epoch 3 (318.92s):\n",
            "    train loss: 0.0036, val loss: 0.0031\n",
            "    train accuracy: 68.35%, val accuracy: 72.21%\n",
            "Epoch 4 (341.64s):\n",
            "    train loss: 0.0033, val loss: 0.003\n",
            "    train accuracy: 70.69%, val accuracy: 72.87%\n",
            "Epoch 5 (359.59s):\n",
            "    train loss: 0.0031, val loss: 0.0029\n",
            "    train accuracy: 72.52%, val accuracy: 73.41%\n"
          ]
        }
      ],
      "source": [
        "FILTER_SIZE = [1, 2, 3]\n",
        "DROP = 0.2\n",
        "LR = 0.0005\n",
        "\n",
        "model_cnn = CNN_model_v2(vocab_size, EMBEDDING_SIZE, NUM_FILTERS, FILTER_SIZE, len(classes), DROP)\n",
        "criterion = nn.CrossEntropyLoss()\n",
        "optimizer = torch.optim.Adam(model_cnn.parameters(), lr=LR)\n",
        "\n",
        "train(model_cnn, 'CNN (3-layers, lr=0.0005)', optimizer, criterion, train_loader, val_loader, test_loader, EPOCHS, PRINT_EPOCH)"
      ]
    },
    {
      "cell_type": "code",
      "execution_count": null,
      "metadata": {
        "id": "Mcs3wKz9rAT9",
        "outputId": "e4685015-5eb5-40cf-f4b8-c02418e1533f"
      },
      "outputs": [
        {
          "name": "stdout",
          "output_type": "stream",
          "text": [
            "Epoch 1 (406.38s):\n",
            "    train loss: 0.0035, val loss: 0.0027\n",
            "    train accuracy: 67.72%, val accuracy: 75.03%\n",
            "Epoch 2 (341.02s):\n",
            "    train loss: 0.003, val loss: 0.0026\n",
            "    train accuracy: 71.65%, val accuracy: 75.46%\n",
            "Epoch 3 (392.08s):\n",
            "    train loss: 0.0027, val loss: 0.0026\n",
            "    train accuracy: 74.2%, val accuracy: 75.54%\n",
            "Epoch 4 (335.69s):\n",
            "    train loss: 0.0025, val loss: 0.0026\n",
            "    train accuracy: 76.4%, val accuracy: 75.8%\n",
            "Epoch 5 (249.08s):\n",
            "    train loss: 0.0023, val loss: 0.0026\n",
            "    train accuracy: 78.4%, val accuracy: 75.93%\n"
          ]
        }
      ],
      "source": [
        "LR = 0.005\n",
        "\n",
        "model_cnn = CNN_model_v2(vocab_size, EMBEDDING_SIZE, NUM_FILTERS, FILTER_SIZE, len(classes), DROP)\n",
        "criterion = nn.CrossEntropyLoss()\n",
        "optimizer = torch.optim.Adam(model_cnn.parameters(), lr=LR)\n",
        "\n",
        "train(model_cnn, 'CNN (3-layers, lr=0.005)', optimizer, criterion, train_loader, val_loader, test_loader, EPOCHS, PRINT_EPOCH)"
      ]
    },
    {
      "cell_type": "code",
      "execution_count": null,
      "metadata": {
        "id": "8ic8cRY_rAT9",
        "outputId": "57dc6dbc-6b6b-4809-ed0d-e043983931d7"
      },
      "outputs": [
        {
          "name": "stdout",
          "output_type": "stream",
          "text": [
            "Epoch 1 (264.78s):\n",
            "    train loss: 0.0035, val loss: 0.0027\n",
            "    train accuracy: 67.97%, val accuracy: 74.66%\n",
            "Epoch 2 (277.82s):\n",
            "    train loss: 0.003, val loss: 0.0026\n",
            "    train accuracy: 71.67%, val accuracy: 74.73%\n",
            "Epoch 3 (302.48s):\n",
            "    train loss: 0.0027, val loss: 0.0026\n",
            "    train accuracy: 74.27%, val accuracy: 75.23%\n",
            "Epoch 4 (298.59s):\n",
            "    train loss: 0.0025, val loss: 0.0026\n",
            "    train accuracy: 76.56%, val accuracy: 75.4%\n",
            "Epoch 5 (254.98s):\n",
            "    train loss: 0.0022, val loss: 0.0027\n",
            "    train accuracy: 78.69%, val accuracy: 75.52%\n"
          ]
        }
      ],
      "source": [
        "LR = 0.007\n",
        "\n",
        "model_cnn = CNN_model_v2(vocab_size, EMBEDDING_SIZE, NUM_FILTERS, FILTER_SIZE, len(classes), DROP)\n",
        "criterion = nn.CrossEntropyLoss()\n",
        "optimizer = torch.optim.Adam(model_cnn.parameters(), lr=LR)\n",
        "\n",
        "train(model_cnn, 'CNN (3-layers, lr=0.007)', optimizer, criterion, train_loader, val_loader, test_loader, EPOCHS, PRINT_EPOCH)"
      ]
    },
    {
      "cell_type": "code",
      "execution_count": null,
      "metadata": {
        "id": "SO6P9viFrAT9",
        "outputId": "c8eb6f84-690f-4f38-9dd3-beb0342555c6"
      },
      "outputs": [
        {
          "name": "stdout",
          "output_type": "stream",
          "text": [
            "Epoch 1 (308.5s):\n",
            "    train loss: 0.0035, val loss: 0.0027\n",
            "    train accuracy: 67.83%, val accuracy: 74.59%\n",
            "Epoch 2 (269.03s):\n",
            "    train loss: 0.003, val loss: 0.0026\n",
            "    train accuracy: 71.62%, val accuracy: 74.88%\n",
            "Epoch 3 (1632.58s):\n",
            "    train loss: 0.0027, val loss: 0.0026\n",
            "    train accuracy: 74.42%, val accuracy: 75.28%\n",
            "Epoch 4 (3308.2s):\n",
            "    train loss: 0.0024, val loss: 0.0026\n",
            "    train accuracy: 76.9%, val accuracy: 75.31%\n",
            "Epoch 5 (259.74s):\n",
            "    train loss: 0.0022, val loss: 0.0027\n",
            "    train accuracy: 79.24%, val accuracy: 75.24%\n"
          ]
        }
      ],
      "source": [
        "LR = 0.01\n",
        "\n",
        "model_cnn = CNN_model_v2(vocab_size, EMBEDDING_SIZE, NUM_FILTERS, FILTER_SIZE, len(classes), DROP)\n",
        "criterion = nn.CrossEntropyLoss()\n",
        "optimizer = torch.optim.Adam(model_cnn.parameters(), lr=LR)\n",
        "\n",
        "train(model_cnn, 'CNN (3-layers, lr=0.01)', optimizer, criterion, train_loader, val_loader, test_loader, EPOCHS, PRINT_EPOCH)"
      ]
    },
    {
      "cell_type": "code",
      "execution_count": null,
      "metadata": {
        "id": "tMrpgwEorAT9",
        "outputId": "319a6515-65da-4fb8-8293-accbfdea3d28"
      },
      "outputs": [
        {
          "data": {
            "application/vnd.microsoft.datawrangler.viewer.v0+json": {
              "columns": [
                {
                  "name": "index",
                  "rawType": "int64",
                  "type": "integer"
                },
                {
                  "name": "model",
                  "rawType": "object",
                  "type": "string"
                },
                {
                  "name": "epochs",
                  "rawType": "int64",
                  "type": "integer"
                },
                {
                  "name": "train loss",
                  "rawType": "float64",
                  "type": "float"
                },
                {
                  "name": "train accuracy",
                  "rawType": "float64",
                  "type": "float"
                },
                {
                  "name": "test accuracy",
                  "rawType": "float64",
                  "type": "float"
                },
                {
                  "name": "time",
                  "rawType": "float64",
                  "type": "float"
                }
              ],
              "conversionMethod": "pd.DataFrame",
              "ref": "34390aae-df21-41cc-bed6-e1d515ee0a3e",
              "rows": [
                [
                  "26",
                  "CNN (3-layers, drop=0.2)",
                  "5",
                  "0.0026",
                  "0.7606",
                  "0.7663",
                  "1177.25"
                ],
                [
                  "29",
                  "CNN (3-layers, lr=0.0005)",
                  "5",
                  "0.0031",
                  "0.7252",
                  "0.7596",
                  "1585.98"
                ],
                [
                  "30",
                  "CNN (3-layers, lr=0.005)",
                  "5",
                  "0.0023",
                  "0.784",
                  "0.763",
                  "1724.35"
                ],
                [
                  "31",
                  "CNN (3-layers, lr=0.007)",
                  "5",
                  "0.0022",
                  "0.7869",
                  "0.7615",
                  "1398.71"
                ],
                [
                  "32",
                  "CNN (3-layers, lr=0.01)",
                  "5",
                  "0.0022",
                  "0.7924",
                  "0.7611",
                  "5778.11"
                ]
              ],
              "shape": {
                "columns": 6,
                "rows": 5
              }
            },
            "text/html": [
              "<div>\n",
              "<style scoped>\n",
              "    .dataframe tbody tr th:only-of-type {\n",
              "        vertical-align: middle;\n",
              "    }\n",
              "\n",
              "    .dataframe tbody tr th {\n",
              "        vertical-align: top;\n",
              "    }\n",
              "\n",
              "    .dataframe thead th {\n",
              "        text-align: right;\n",
              "    }\n",
              "</style>\n",
              "<table border=\"1\" class=\"dataframe\">\n",
              "  <thead>\n",
              "    <tr style=\"text-align: right;\">\n",
              "      <th></th>\n",
              "      <th>model</th>\n",
              "      <th>epochs</th>\n",
              "      <th>train loss</th>\n",
              "      <th>train accuracy</th>\n",
              "      <th>test accuracy</th>\n",
              "      <th>time</th>\n",
              "    </tr>\n",
              "  </thead>\n",
              "  <tbody>\n",
              "    <tr>\n",
              "      <th>26</th>\n",
              "      <td>CNN (3-layers, drop=0.2)</td>\n",
              "      <td>5</td>\n",
              "      <td>0.0026</td>\n",
              "      <td>0.7606</td>\n",
              "      <td>0.7663</td>\n",
              "      <td>1177.25</td>\n",
              "    </tr>\n",
              "    <tr>\n",
              "      <th>29</th>\n",
              "      <td>CNN (3-layers, lr=0.0005)</td>\n",
              "      <td>5</td>\n",
              "      <td>0.0031</td>\n",
              "      <td>0.7252</td>\n",
              "      <td>0.7596</td>\n",
              "      <td>1585.98</td>\n",
              "    </tr>\n",
              "    <tr>\n",
              "      <th>30</th>\n",
              "      <td>CNN (3-layers, lr=0.005)</td>\n",
              "      <td>5</td>\n",
              "      <td>0.0023</td>\n",
              "      <td>0.7840</td>\n",
              "      <td>0.7630</td>\n",
              "      <td>1724.35</td>\n",
              "    </tr>\n",
              "    <tr>\n",
              "      <th>31</th>\n",
              "      <td>CNN (3-layers, lr=0.007)</td>\n",
              "      <td>5</td>\n",
              "      <td>0.0022</td>\n",
              "      <td>0.7869</td>\n",
              "      <td>0.7615</td>\n",
              "      <td>1398.71</td>\n",
              "    </tr>\n",
              "    <tr>\n",
              "      <th>32</th>\n",
              "      <td>CNN (3-layers, lr=0.01)</td>\n",
              "      <td>5</td>\n",
              "      <td>0.0022</td>\n",
              "      <td>0.7924</td>\n",
              "      <td>0.7611</td>\n",
              "      <td>5778.11</td>\n",
              "    </tr>\n",
              "  </tbody>\n",
              "</table>\n",
              "</div>"
            ],
            "text/plain": [
              "                        model  epochs  train loss  train accuracy  \\\n",
              "26   CNN (3-layers, drop=0.2)       5      0.0026          0.7606   \n",
              "29  CNN (3-layers, lr=0.0005)       5      0.0031          0.7252   \n",
              "30   CNN (3-layers, lr=0.005)       5      0.0023          0.7840   \n",
              "31   CNN (3-layers, lr=0.007)       5      0.0022          0.7869   \n",
              "32    CNN (3-layers, lr=0.01)       5      0.0022          0.7924   \n",
              "\n",
              "    test accuracy     time  \n",
              "26         0.7663  1177.25  \n",
              "29         0.7596  1585.98  \n",
              "30         0.7630  1724.35  \n",
              "31         0.7615  1398.71  \n",
              "32         0.7611  5778.11  "
            ]
          },
          "execution_count": 328,
          "metadata": {},
          "output_type": "execute_result"
        }
      ],
      "source": [
        "df_results.iloc[[26] + df_results.tail(4).index.to_list()]"
      ]
    },
    {
      "cell_type": "markdown",
      "metadata": {
        "id": "ESNHhGjDrAT9"
      },
      "source": [
        "## Итоги обучения RNN и CNN"
      ]
    },
    {
      "cell_type": "code",
      "execution_count": null,
      "metadata": {},
      "outputs": [
        {
          "data": {
            "application/vnd.microsoft.datawrangler.viewer.v0+json": {
              "columns": [
                {
                  "name": "index",
                  "rawType": "int64",
                  "type": "integer"
                },
                {
                  "name": "model",
                  "rawType": "object",
                  "type": "string"
                },
                {
                  "name": "epochs",
                  "rawType": "int64",
                  "type": "integer"
                },
                {
                  "name": "train loss",
                  "rawType": "float64",
                  "type": "float"
                },
                {
                  "name": "train accuracy",
                  "rawType": "float64",
                  "type": "float"
                },
                {
                  "name": "test accuracy",
                  "rawType": "float64",
                  "type": "float"
                },
                {
                  "name": "time",
                  "rawType": "float64",
                  "type": "float"
                }
              ],
              "conversionMethod": "pd.DataFrame",
              "ref": "23e72b01-a3c3-4d20-9467-cf5c4a47b3f4",
              "rows": [
                [
                  "28",
                  "CNN (5-layers, drop=0.2)",
                  "5",
                  "0.0022",
                  "0.8032",
                  "0.7721",
                  "6149.1"
                ],
                [
                  "21",
                  "CNN (5-layers: 1,2,3,4,5)",
                  "5",
                  "0.0032",
                  "0.6972",
                  "0.7698",
                  "5907.06"
                ],
                [
                  "16",
                  "CNN (num_filters=1000)",
                  "5",
                  "0.003",
                  "0.7163",
                  "0.7694",
                  "2703.76"
                ],
                [
                  "33",
                  "CNN (5-layers, lr=0.001, 1000 filters)",
                  "3",
                  "0.002",
                  "0.8291",
                  "0.7693",
                  "10192.01"
                ],
                [
                  "26",
                  "CNN (3-layers, drop=0.2)",
                  "5",
                  "0.0026",
                  "0.7606",
                  "0.7663",
                  "1177.25"
                ],
                [
                  "20",
                  "CNN (4-layers: 1,2,3,4)",
                  "5",
                  "0.0033",
                  "0.6908",
                  "0.766",
                  "2112.99"
                ],
                [
                  "30",
                  "CNN (3-layers, lr=0.005)",
                  "5",
                  "0.0023",
                  "0.784",
                  "0.763",
                  "1724.35"
                ],
                [
                  "23",
                  "CNN (3-layers, batchnorm)",
                  "5",
                  "0.0028",
                  "0.7409",
                  "0.7625",
                  "1211.91"
                ],
                [
                  "31",
                  "CNN (3-layers, lr=0.007)",
                  "5",
                  "0.0022",
                  "0.7869",
                  "0.7615",
                  "1398.71"
                ],
                [
                  "32",
                  "CNN (3-layers, lr=0.01)",
                  "5",
                  "0.0022",
                  "0.7924",
                  "0.7611",
                  "5778.11"
                ],
                [
                  "19",
                  "CNN (3-layers: 1,2,3)",
                  "5",
                  "0.0035",
                  "0.6759",
                  "0.7599",
                  "1301.75"
                ],
                [
                  "29",
                  "CNN (3-layers, lr=0.0005)",
                  "5",
                  "0.0031",
                  "0.7252",
                  "0.7596",
                  "1585.98"
                ],
                [
                  "27",
                  "CNN (3-layers, drop=0.5)",
                  "5",
                  "0.0031",
                  "0.7105",
                  "0.7578",
                  "1198.77"
                ],
                [
                  "25",
                  "CNN (3-layers, drop=0.1)",
                  "5",
                  "0.0025",
                  "0.7772",
                  "0.7575",
                  "1236.1"
                ],
                [
                  "18",
                  "CNN (2-layers: 1,3)",
                  "5",
                  "0.0036",
                  "0.6645",
                  "0.7572",
                  "893.26"
                ],
                [
                  "24",
                  "CNN (3-layers, drop=0)",
                  "5",
                  "0.0023",
                  "0.7904",
                  "0.7518",
                  "2852.25"
                ],
                [
                  "14",
                  "CNN (num_filters=200)",
                  "5",
                  "0.0036",
                  "0.667",
                  "0.7493",
                  "860.61"
                ],
                [
                  "17",
                  "CNN (2-layers: 1,2)",
                  "5",
                  "0.0037",
                  "0.6593",
                  "0.7483",
                  "694.82"
                ],
                [
                  "22",
                  "CNN (1-layer, batchnorm)",
                  "5",
                  "0.0033",
                  "0.6987",
                  "0.7479",
                  "451.54"
                ],
                [
                  "15",
                  "CNN (num_filters=500)",
                  "5",
                  "0.0032",
                  "0.6975",
                  "0.7478",
                  "1596.18"
                ],
                [
                  "8",
                  "CNN (kernel_size=2)",
                  "5",
                  "0.004",
                  "0.6336",
                  "0.7419",
                  "409.25"
                ],
                [
                  "10",
                  "CNN (kernel_size=4)",
                  "5",
                  "0.0038",
                  "0.6478",
                  "0.7409",
                  "771.58"
                ],
                [
                  "9",
                  "CNN (kernel_size=3)",
                  "5",
                  "0.0039",
                  "0.641",
                  "0.7344",
                  "596.29"
                ],
                [
                  "12",
                  "CNN (kernel_size=10)",
                  "5",
                  "0.0036",
                  "0.6732",
                  "0.7305",
                  "1710.82"
                ],
                [
                  "11",
                  "CNN (kernel_size=5)",
                  "5",
                  "0.0038",
                  "0.651",
                  "0.7305",
                  "884.94"
                ],
                [
                  "7",
                  "CNN (kernel_size=1)",
                  "5",
                  "0.0041",
                  "0.6236",
                  "0.729",
                  "254.56"
                ],
                [
                  "13",
                  "CNN (num_filters=50)",
                  "5",
                  "0.0043",
                  "0.6111",
                  "0.7199",
                  "574.28"
                ],
                [
                  "0",
                  "LSTM",
                  "5",
                  "0.0032",
                  "0.7012",
                  "0.6951",
                  "3831.16"
                ],
                [
                  "2",
                  "GRU",
                  "5",
                  "0.0032",
                  "0.6923",
                  "0.6726",
                  "7386.75"
                ],
                [
                  "1",
                  "RNN",
                  "5",
                  "0.0032",
                  "0.6963",
                  "0.6573",
                  "1398.96"
                ],
                [
                  "6",
                  "LSTM (1-grams, 3-grams)",
                  "3",
                  "0.0035",
                  "0.6754",
                  "0.6525",
                  "20032.23"
                ],
                [
                  "5",
                  "LSTM (1-grams, 2-grams)",
                  "3",
                  "0.0036",
                  "0.6674",
                  "0.6499",
                  "17238.48"
                ],
                [
                  "3",
                  "LSTM (2-grams)",
                  "3",
                  "0.0043",
                  "0.6039",
                  "0.5709",
                  "767.33"
                ],
                [
                  "4",
                  "LSTM (3-grams)",
                  "3",
                  "0.0044",
                  "0.6011",
                  "0.5182",
                  "14480.75"
                ]
              ],
              "shape": {
                "columns": 6,
                "rows": 34
              }
            },
            "text/html": [
              "<div>\n",
              "<style scoped>\n",
              "    .dataframe tbody tr th:only-of-type {\n",
              "        vertical-align: middle;\n",
              "    }\n",
              "\n",
              "    .dataframe tbody tr th {\n",
              "        vertical-align: top;\n",
              "    }\n",
              "\n",
              "    .dataframe thead th {\n",
              "        text-align: right;\n",
              "    }\n",
              "</style>\n",
              "<table border=\"1\" class=\"dataframe\">\n",
              "  <thead>\n",
              "    <tr style=\"text-align: right;\">\n",
              "      <th></th>\n",
              "      <th>model</th>\n",
              "      <th>epochs</th>\n",
              "      <th>train loss</th>\n",
              "      <th>train accuracy</th>\n",
              "      <th>test accuracy</th>\n",
              "      <th>time</th>\n",
              "    </tr>\n",
              "  </thead>\n",
              "  <tbody>\n",
              "    <tr>\n",
              "      <th>28</th>\n",
              "      <td>CNN (5-layers, drop=0.2)</td>\n",
              "      <td>5</td>\n",
              "      <td>0.0022</td>\n",
              "      <td>0.8032</td>\n",
              "      <td>0.7721</td>\n",
              "      <td>6149.10</td>\n",
              "    </tr>\n",
              "    <tr>\n",
              "      <th>21</th>\n",
              "      <td>CNN (5-layers: 1,2,3,4,5)</td>\n",
              "      <td>5</td>\n",
              "      <td>0.0032</td>\n",
              "      <td>0.6972</td>\n",
              "      <td>0.7698</td>\n",
              "      <td>5907.06</td>\n",
              "    </tr>\n",
              "    <tr>\n",
              "      <th>16</th>\n",
              "      <td>CNN (num_filters=1000)</td>\n",
              "      <td>5</td>\n",
              "      <td>0.0030</td>\n",
              "      <td>0.7163</td>\n",
              "      <td>0.7694</td>\n",
              "      <td>2703.76</td>\n",
              "    </tr>\n",
              "    <tr>\n",
              "      <th>33</th>\n",
              "      <td>CNN (5-layers, lr=0.001, 1000 filters)</td>\n",
              "      <td>3</td>\n",
              "      <td>0.0020</td>\n",
              "      <td>0.8291</td>\n",
              "      <td>0.7693</td>\n",
              "      <td>10192.01</td>\n",
              "    </tr>\n",
              "    <tr>\n",
              "      <th>26</th>\n",
              "      <td>CNN (3-layers, drop=0.2)</td>\n",
              "      <td>5</td>\n",
              "      <td>0.0026</td>\n",
              "      <td>0.7606</td>\n",
              "      <td>0.7663</td>\n",
              "      <td>1177.25</td>\n",
              "    </tr>\n",
              "    <tr>\n",
              "      <th>20</th>\n",
              "      <td>CNN (4-layers: 1,2,3,4)</td>\n",
              "      <td>5</td>\n",
              "      <td>0.0033</td>\n",
              "      <td>0.6908</td>\n",
              "      <td>0.7660</td>\n",
              "      <td>2112.99</td>\n",
              "    </tr>\n",
              "    <tr>\n",
              "      <th>30</th>\n",
              "      <td>CNN (3-layers, lr=0.005)</td>\n",
              "      <td>5</td>\n",
              "      <td>0.0023</td>\n",
              "      <td>0.7840</td>\n",
              "      <td>0.7630</td>\n",
              "      <td>1724.35</td>\n",
              "    </tr>\n",
              "    <tr>\n",
              "      <th>23</th>\n",
              "      <td>CNN (3-layers, batchnorm)</td>\n",
              "      <td>5</td>\n",
              "      <td>0.0028</td>\n",
              "      <td>0.7409</td>\n",
              "      <td>0.7625</td>\n",
              "      <td>1211.91</td>\n",
              "    </tr>\n",
              "    <tr>\n",
              "      <th>31</th>\n",
              "      <td>CNN (3-layers, lr=0.007)</td>\n",
              "      <td>5</td>\n",
              "      <td>0.0022</td>\n",
              "      <td>0.7869</td>\n",
              "      <td>0.7615</td>\n",
              "      <td>1398.71</td>\n",
              "    </tr>\n",
              "    <tr>\n",
              "      <th>32</th>\n",
              "      <td>CNN (3-layers, lr=0.01)</td>\n",
              "      <td>5</td>\n",
              "      <td>0.0022</td>\n",
              "      <td>0.7924</td>\n",
              "      <td>0.7611</td>\n",
              "      <td>5778.11</td>\n",
              "    </tr>\n",
              "    <tr>\n",
              "      <th>19</th>\n",
              "      <td>CNN (3-layers: 1,2,3)</td>\n",
              "      <td>5</td>\n",
              "      <td>0.0035</td>\n",
              "      <td>0.6759</td>\n",
              "      <td>0.7599</td>\n",
              "      <td>1301.75</td>\n",
              "    </tr>\n",
              "    <tr>\n",
              "      <th>29</th>\n",
              "      <td>CNN (3-layers, lr=0.0005)</td>\n",
              "      <td>5</td>\n",
              "      <td>0.0031</td>\n",
              "      <td>0.7252</td>\n",
              "      <td>0.7596</td>\n",
              "      <td>1585.98</td>\n",
              "    </tr>\n",
              "    <tr>\n",
              "      <th>27</th>\n",
              "      <td>CNN (3-layers, drop=0.5)</td>\n",
              "      <td>5</td>\n",
              "      <td>0.0031</td>\n",
              "      <td>0.7105</td>\n",
              "      <td>0.7578</td>\n",
              "      <td>1198.77</td>\n",
              "    </tr>\n",
              "    <tr>\n",
              "      <th>25</th>\n",
              "      <td>CNN (3-layers, drop=0.1)</td>\n",
              "      <td>5</td>\n",
              "      <td>0.0025</td>\n",
              "      <td>0.7772</td>\n",
              "      <td>0.7575</td>\n",
              "      <td>1236.10</td>\n",
              "    </tr>\n",
              "    <tr>\n",
              "      <th>18</th>\n",
              "      <td>CNN (2-layers: 1,3)</td>\n",
              "      <td>5</td>\n",
              "      <td>0.0036</td>\n",
              "      <td>0.6645</td>\n",
              "      <td>0.7572</td>\n",
              "      <td>893.26</td>\n",
              "    </tr>\n",
              "    <tr>\n",
              "      <th>24</th>\n",
              "      <td>CNN (3-layers, drop=0)</td>\n",
              "      <td>5</td>\n",
              "      <td>0.0023</td>\n",
              "      <td>0.7904</td>\n",
              "      <td>0.7518</td>\n",
              "      <td>2852.25</td>\n",
              "    </tr>\n",
              "    <tr>\n",
              "      <th>14</th>\n",
              "      <td>CNN (num_filters=200)</td>\n",
              "      <td>5</td>\n",
              "      <td>0.0036</td>\n",
              "      <td>0.6670</td>\n",
              "      <td>0.7493</td>\n",
              "      <td>860.61</td>\n",
              "    </tr>\n",
              "    <tr>\n",
              "      <th>17</th>\n",
              "      <td>CNN (2-layers: 1,2)</td>\n",
              "      <td>5</td>\n",
              "      <td>0.0037</td>\n",
              "      <td>0.6593</td>\n",
              "      <td>0.7483</td>\n",
              "      <td>694.82</td>\n",
              "    </tr>\n",
              "    <tr>\n",
              "      <th>22</th>\n",
              "      <td>CNN (1-layer, batchnorm)</td>\n",
              "      <td>5</td>\n",
              "      <td>0.0033</td>\n",
              "      <td>0.6987</td>\n",
              "      <td>0.7479</td>\n",
              "      <td>451.54</td>\n",
              "    </tr>\n",
              "    <tr>\n",
              "      <th>15</th>\n",
              "      <td>CNN (num_filters=500)</td>\n",
              "      <td>5</td>\n",
              "      <td>0.0032</td>\n",
              "      <td>0.6975</td>\n",
              "      <td>0.7478</td>\n",
              "      <td>1596.18</td>\n",
              "    </tr>\n",
              "    <tr>\n",
              "      <th>8</th>\n",
              "      <td>CNN (kernel_size=2)</td>\n",
              "      <td>5</td>\n",
              "      <td>0.0040</td>\n",
              "      <td>0.6336</td>\n",
              "      <td>0.7419</td>\n",
              "      <td>409.25</td>\n",
              "    </tr>\n",
              "    <tr>\n",
              "      <th>10</th>\n",
              "      <td>CNN (kernel_size=4)</td>\n",
              "      <td>5</td>\n",
              "      <td>0.0038</td>\n",
              "      <td>0.6478</td>\n",
              "      <td>0.7409</td>\n",
              "      <td>771.58</td>\n",
              "    </tr>\n",
              "    <tr>\n",
              "      <th>9</th>\n",
              "      <td>CNN (kernel_size=3)</td>\n",
              "      <td>5</td>\n",
              "      <td>0.0039</td>\n",
              "      <td>0.6410</td>\n",
              "      <td>0.7344</td>\n",
              "      <td>596.29</td>\n",
              "    </tr>\n",
              "    <tr>\n",
              "      <th>12</th>\n",
              "      <td>CNN (kernel_size=10)</td>\n",
              "      <td>5</td>\n",
              "      <td>0.0036</td>\n",
              "      <td>0.6732</td>\n",
              "      <td>0.7305</td>\n",
              "      <td>1710.82</td>\n",
              "    </tr>\n",
              "    <tr>\n",
              "      <th>11</th>\n",
              "      <td>CNN (kernel_size=5)</td>\n",
              "      <td>5</td>\n",
              "      <td>0.0038</td>\n",
              "      <td>0.6510</td>\n",
              "      <td>0.7305</td>\n",
              "      <td>884.94</td>\n",
              "    </tr>\n",
              "    <tr>\n",
              "      <th>7</th>\n",
              "      <td>CNN (kernel_size=1)</td>\n",
              "      <td>5</td>\n",
              "      <td>0.0041</td>\n",
              "      <td>0.6236</td>\n",
              "      <td>0.7290</td>\n",
              "      <td>254.56</td>\n",
              "    </tr>\n",
              "    <tr>\n",
              "      <th>13</th>\n",
              "      <td>CNN (num_filters=50)</td>\n",
              "      <td>5</td>\n",
              "      <td>0.0043</td>\n",
              "      <td>0.6111</td>\n",
              "      <td>0.7199</td>\n",
              "      <td>574.28</td>\n",
              "    </tr>\n",
              "    <tr>\n",
              "      <th>0</th>\n",
              "      <td>LSTM</td>\n",
              "      <td>5</td>\n",
              "      <td>0.0032</td>\n",
              "      <td>0.7012</td>\n",
              "      <td>0.6951</td>\n",
              "      <td>3831.16</td>\n",
              "    </tr>\n",
              "    <tr>\n",
              "      <th>2</th>\n",
              "      <td>GRU</td>\n",
              "      <td>5</td>\n",
              "      <td>0.0032</td>\n",
              "      <td>0.6923</td>\n",
              "      <td>0.6726</td>\n",
              "      <td>7386.75</td>\n",
              "    </tr>\n",
              "    <tr>\n",
              "      <th>1</th>\n",
              "      <td>RNN</td>\n",
              "      <td>5</td>\n",
              "      <td>0.0032</td>\n",
              "      <td>0.6963</td>\n",
              "      <td>0.6573</td>\n",
              "      <td>1398.96</td>\n",
              "    </tr>\n",
              "    <tr>\n",
              "      <th>6</th>\n",
              "      <td>LSTM (1-grams, 3-grams)</td>\n",
              "      <td>3</td>\n",
              "      <td>0.0035</td>\n",
              "      <td>0.6754</td>\n",
              "      <td>0.6525</td>\n",
              "      <td>20032.23</td>\n",
              "    </tr>\n",
              "    <tr>\n",
              "      <th>5</th>\n",
              "      <td>LSTM (1-grams, 2-grams)</td>\n",
              "      <td>3</td>\n",
              "      <td>0.0036</td>\n",
              "      <td>0.6674</td>\n",
              "      <td>0.6499</td>\n",
              "      <td>17238.48</td>\n",
              "    </tr>\n",
              "    <tr>\n",
              "      <th>3</th>\n",
              "      <td>LSTM (2-grams)</td>\n",
              "      <td>3</td>\n",
              "      <td>0.0043</td>\n",
              "      <td>0.6039</td>\n",
              "      <td>0.5709</td>\n",
              "      <td>767.33</td>\n",
              "    </tr>\n",
              "    <tr>\n",
              "      <th>4</th>\n",
              "      <td>LSTM (3-grams)</td>\n",
              "      <td>3</td>\n",
              "      <td>0.0044</td>\n",
              "      <td>0.6011</td>\n",
              "      <td>0.5182</td>\n",
              "      <td>14480.75</td>\n",
              "    </tr>\n",
              "  </tbody>\n",
              "</table>\n",
              "</div>"
            ],
            "text/plain": [
              "                                     model  epochs  train loss  \\\n",
              "28                CNN (5-layers, drop=0.2)       5      0.0022   \n",
              "21               CNN (5-layers: 1,2,3,4,5)       5      0.0032   \n",
              "16                  CNN (num_filters=1000)       5      0.0030   \n",
              "33  CNN (5-layers, lr=0.001, 1000 filters)       3      0.0020   \n",
              "26                CNN (3-layers, drop=0.2)       5      0.0026   \n",
              "20                 CNN (4-layers: 1,2,3,4)       5      0.0033   \n",
              "30                CNN (3-layers, lr=0.005)       5      0.0023   \n",
              "23               CNN (3-layers, batchnorm)       5      0.0028   \n",
              "31                CNN (3-layers, lr=0.007)       5      0.0022   \n",
              "32                 CNN (3-layers, lr=0.01)       5      0.0022   \n",
              "19                   CNN (3-layers: 1,2,3)       5      0.0035   \n",
              "29               CNN (3-layers, lr=0.0005)       5      0.0031   \n",
              "27                CNN (3-layers, drop=0.5)       5      0.0031   \n",
              "25                CNN (3-layers, drop=0.1)       5      0.0025   \n",
              "18                     CNN (2-layers: 1,3)       5      0.0036   \n",
              "24                  CNN (3-layers, drop=0)       5      0.0023   \n",
              "14                   CNN (num_filters=200)       5      0.0036   \n",
              "17                     CNN (2-layers: 1,2)       5      0.0037   \n",
              "22                CNN (1-layer, batchnorm)       5      0.0033   \n",
              "15                   CNN (num_filters=500)       5      0.0032   \n",
              "8                      CNN (kernel_size=2)       5      0.0040   \n",
              "10                     CNN (kernel_size=4)       5      0.0038   \n",
              "9                      CNN (kernel_size=3)       5      0.0039   \n",
              "12                    CNN (kernel_size=10)       5      0.0036   \n",
              "11                     CNN (kernel_size=5)       5      0.0038   \n",
              "7                      CNN (kernel_size=1)       5      0.0041   \n",
              "13                    CNN (num_filters=50)       5      0.0043   \n",
              "0                                     LSTM       5      0.0032   \n",
              "2                                      GRU       5      0.0032   \n",
              "1                                      RNN       5      0.0032   \n",
              "6                  LSTM (1-grams, 3-grams)       3      0.0035   \n",
              "5                  LSTM (1-grams, 2-grams)       3      0.0036   \n",
              "3                           LSTM (2-grams)       3      0.0043   \n",
              "4                           LSTM (3-grams)       3      0.0044   \n",
              "\n",
              "    train accuracy  test accuracy      time  \n",
              "28          0.8032         0.7721   6149.10  \n",
              "21          0.6972         0.7698   5907.06  \n",
              "16          0.7163         0.7694   2703.76  \n",
              "33          0.8291         0.7693  10192.01  \n",
              "26          0.7606         0.7663   1177.25  \n",
              "20          0.6908         0.7660   2112.99  \n",
              "30          0.7840         0.7630   1724.35  \n",
              "23          0.7409         0.7625   1211.91  \n",
              "31          0.7869         0.7615   1398.71  \n",
              "32          0.7924         0.7611   5778.11  \n",
              "19          0.6759         0.7599   1301.75  \n",
              "29          0.7252         0.7596   1585.98  \n",
              "27          0.7105         0.7578   1198.77  \n",
              "25          0.7772         0.7575   1236.10  \n",
              "18          0.6645         0.7572    893.26  \n",
              "24          0.7904         0.7518   2852.25  \n",
              "14          0.6670         0.7493    860.61  \n",
              "17          0.6593         0.7483    694.82  \n",
              "22          0.6987         0.7479    451.54  \n",
              "15          0.6975         0.7478   1596.18  \n",
              "8           0.6336         0.7419    409.25  \n",
              "10          0.6478         0.7409    771.58  \n",
              "9           0.6410         0.7344    596.29  \n",
              "12          0.6732         0.7305   1710.82  \n",
              "11          0.6510         0.7305    884.94  \n",
              "7           0.6236         0.7290    254.56  \n",
              "13          0.6111         0.7199    574.28  \n",
              "0           0.7012         0.6951   3831.16  \n",
              "2           0.6923         0.6726   7386.75  \n",
              "1           0.6963         0.6573   1398.96  \n",
              "6           0.6754         0.6525  20032.23  \n",
              "5           0.6674         0.6499  17238.48  \n",
              "3           0.6039         0.5709    767.33  \n",
              "4           0.6011         0.5182  14480.75  "
            ]
          },
          "execution_count": 43,
          "metadata": {},
          "output_type": "execute_result"
        }
      ],
      "source": [
        "df_results.sort_values('test accuracy', ascending=False)"
      ]
    },
    {
      "cell_type": "markdown",
      "metadata": {
        "id": "ZuqlIIFKrAT9"
      },
      "source": [
        "# 6. Transformers"
      ]
    },
    {
      "cell_type": "code",
      "execution_count": 2,
      "metadata": {},
      "outputs": [],
      "source": [
        "le = LabelEncoder()\n",
        "max_len = 512"
      ]
    },
    {
      "cell_type": "code",
      "execution_count": 21,
      "metadata": {},
      "outputs": [],
      "source": [
        "class CustomTransformersDataset(Dataset):\n",
        "    def __init__(self, X, y, max_len, tokenizer):\n",
        "        self.statements = X\n",
        "        self.statuses = y\n",
        "        self.max_len = max_len\n",
        "        self.tokenizer = tokenizer\n",
        "\n",
        "    def __len__(self):\n",
        "        return len(self.statuses)\n",
        "\n",
        "    def __getitem__(self, idx):\n",
        "        statement = self.statements[idx]\n",
        "        status = torch.tensor(self.statuses[idx], dtype=torch.long)\n",
        "\n",
        "        item = self.tokenizer(\n",
        "            statement,\n",
        "            add_special_tokens=True,\n",
        "            return_token_type_ids=False,\n",
        "            max_length=self.max_len,\n",
        "            padding=\"max_length\",\n",
        "            truncation=True,\n",
        "            return_attention_mask=True,\n",
        "            return_tensors=\"pt\",\n",
        "        )\n",
        "\n",
        "        return {\n",
        "            \"input_ids\": item[\"input_ids\"].squeeze(0),\n",
        "            \"attention_mask\": item[\"attention_mask\"].squeeze(0),\n",
        "            \"labels\": status,\n",
        "        }"
      ]
    },
    {
      "cell_type": "code",
      "execution_count": 4,
      "metadata": {},
      "outputs": [],
      "source": [
        "def compute_metrics(y_pred):\n",
        "    labels = y_pred.label_ids\n",
        "    preds = y_pred.predictions.argmax(-1)\n",
        "    \n",
        "    return {\n",
        "        'accuracy': accuracy_score(labels, preds), \n",
        "        'f1': f1_score(labels, preds, average='weighted')\n",
        "        }"
      ]
    },
    {
      "cell_type": "code",
      "execution_count": 56,
      "metadata": {},
      "outputs": [],
      "source": [
        "def get_predictions(df, trainer, tokenizer, le, n=5, max_len=512):\n",
        "\n",
        "    statements, statuses = [], []\n",
        "    for i in range(n):\n",
        "        idx = random.randint(0, len(df))\n",
        "        statements.append(df['statement'].values[idx])\n",
        "        statuses.append(df['status_code'].values[idx])\n",
        "\n",
        "    dataset = CustomTransformersDataset(statements, statuses, max_len, tokenizer)\n",
        "    predictions = trainer.predict(dataset)\n",
        "    predictions = np.argmax(predictions.predictions, axis=-1)\n",
        "    predictions = le.inverse_transform(predictions)\n",
        "    statuses = le.inverse_transform(statuses)\n",
        "\n",
        "    for i in range(n):\n",
        "        print(f'{i+1}. {statements[i]}\\n')\n",
        "        print(f'    - real: {statuses[i]}')\n",
        "        print(f'    - predict: {predictions[i]}\\n')"
      ]
    },
    {
      "cell_type": "markdown",
      "metadata": {},
      "source": [
        "## 6.1 - BERT"
      ]
    },
    {
      "cell_type": "markdown",
      "metadata": {
        "id": "DfRW5-3XtwLL"
      },
      "source": [
        "### Обработка и подготовка данных"
      ]
    },
    {
      "cell_type": "code",
      "execution_count": 5,
      "metadata": {
        "id": "ggrLDzYbrAT9"
      },
      "outputs": [],
      "source": [
        "df = pd.read_csv('Combined Data.csv')\n",
        "df = df.drop('Unnamed: 0', axis=1)\n",
        "df = df.dropna().reset_index(drop=True)"
      ]
    },
    {
      "cell_type": "code",
      "execution_count": 6,
      "metadata": {
        "id": "76v-qp3CrAT9"
      },
      "outputs": [],
      "source": [
        "def text_сleaner(df, field_name, new_field_name):\n",
        "    df[new_field_name] = df[field_name].str.lower()\n",
        "    df[new_field_name] = df[new_field_name].str.replace(r'[’‘`]', '\\'', regex=True)\n",
        "    df[new_field_name] = df[new_field_name].str.replace(r'http\\S+', ' ', regex=True)\n",
        "    df[new_field_name] = df[new_field_name].str.replace(r'[0-9]', ' ', regex=True)\n",
        "    df[new_field_name] = df[new_field_name].str.replace(r'\\s+', ' ', regex=True)\n",
        "    df[new_field_name] = df[new_field_name].str.replace(r'&', ' and ', regex=True)\n",
        "\n",
        "    return df"
      ]
    },
    {
      "cell_type": "code",
      "execution_count": 7,
      "metadata": {
        "colab": {
          "base_uri": "https://localhost:8080/",
          "height": 204
        },
        "id": "BheREguJrAT9",
        "outputId": "3ca78fa7-3af6-4628-897c-2322458bc4d6"
      },
      "outputs": [
        {
          "data": {
            "text/html": [
              "<div>\n",
              "<style scoped>\n",
              "    .dataframe tbody tr th:only-of-type {\n",
              "        vertical-align: middle;\n",
              "    }\n",
              "\n",
              "    .dataframe tbody tr th {\n",
              "        vertical-align: top;\n",
              "    }\n",
              "\n",
              "    .dataframe thead th {\n",
              "        text-align: right;\n",
              "    }\n",
              "</style>\n",
              "<table border=\"1\" class=\"dataframe\">\n",
              "  <thead>\n",
              "    <tr style=\"text-align: right;\">\n",
              "      <th></th>\n",
              "      <th>statement</th>\n",
              "      <th>status</th>\n",
              "      <th>cleared_statement</th>\n",
              "    </tr>\n",
              "  </thead>\n",
              "  <tbody>\n",
              "    <tr>\n",
              "      <th>0</th>\n",
              "      <td>oh my gosh</td>\n",
              "      <td>Anxiety</td>\n",
              "      <td>oh my gosh</td>\n",
              "    </tr>\n",
              "    <tr>\n",
              "      <th>1</th>\n",
              "      <td>trouble sleeping, confused mind, restless hear...</td>\n",
              "      <td>Anxiety</td>\n",
              "      <td>trouble sleeping, confused mind, restless hear...</td>\n",
              "    </tr>\n",
              "    <tr>\n",
              "      <th>2</th>\n",
              "      <td>All wrong, back off dear, forward doubt. Stay ...</td>\n",
              "      <td>Anxiety</td>\n",
              "      <td>all wrong, back off dear, forward doubt. stay ...</td>\n",
              "    </tr>\n",
              "    <tr>\n",
              "      <th>3</th>\n",
              "      <td>I've shifted my focus to something else but I'...</td>\n",
              "      <td>Anxiety</td>\n",
              "      <td>i've shifted my focus to something else but i'...</td>\n",
              "    </tr>\n",
              "    <tr>\n",
              "      <th>4</th>\n",
              "      <td>I'm restless and restless, it's been a month n...</td>\n",
              "      <td>Anxiety</td>\n",
              "      <td>i'm restless and restless, it's been a month n...</td>\n",
              "    </tr>\n",
              "  </tbody>\n",
              "</table>\n",
              "</div>"
            ],
            "text/plain": [
              "                                           statement   status  \\\n",
              "0                                         oh my gosh  Anxiety   \n",
              "1  trouble sleeping, confused mind, restless hear...  Anxiety   \n",
              "2  All wrong, back off dear, forward doubt. Stay ...  Anxiety   \n",
              "3  I've shifted my focus to something else but I'...  Anxiety   \n",
              "4  I'm restless and restless, it's been a month n...  Anxiety   \n",
              "\n",
              "                                   cleared_statement  \n",
              "0                                         oh my gosh  \n",
              "1  trouble sleeping, confused mind, restless hear...  \n",
              "2  all wrong, back off dear, forward doubt. stay ...  \n",
              "3  i've shifted my focus to something else but i'...  \n",
              "4  i'm restless and restless, it's been a month n...  "
            ]
          },
          "execution_count": 7,
          "metadata": {},
          "output_type": "execute_result"
        }
      ],
      "source": [
        "df = text_сleaner(df, 'statement', 'cleared_statement')\n",
        "df.head()"
      ]
    },
    {
      "cell_type": "code",
      "execution_count": 8,
      "metadata": {
        "id": "HFJICsk9rAT9"
      },
      "outputs": [],
      "source": [
        "df['len_statement'] = df['cleared_statement'].apply(lambda x: len(x))\n",
        "df['words_count'] = df['cleared_statement'].apply(lambda x: len(x.split()))\n",
        "\n",
        "df = df.loc[df['len_statement'] <= 2500].reset_index(drop=True)\n",
        "df = df.loc[df['words_count'] > 1].reset_index(drop=True)"
      ]
    },
    {
      "cell_type": "code",
      "execution_count": 9,
      "metadata": {
        "colab": {
          "base_uri": "https://localhost:8080/",
          "height": 204
        },
        "id": "pL4TNx76tl45",
        "outputId": "9a028c7f-6387-4e3e-ccc6-568bd7617603"
      },
      "outputs": [
        {
          "data": {
            "text/html": [
              "<div>\n",
              "<style scoped>\n",
              "    .dataframe tbody tr th:only-of-type {\n",
              "        vertical-align: middle;\n",
              "    }\n",
              "\n",
              "    .dataframe tbody tr th {\n",
              "        vertical-align: top;\n",
              "    }\n",
              "\n",
              "    .dataframe thead th {\n",
              "        text-align: right;\n",
              "    }\n",
              "</style>\n",
              "<table border=\"1\" class=\"dataframe\">\n",
              "  <thead>\n",
              "    <tr style=\"text-align: right;\">\n",
              "      <th></th>\n",
              "      <th>statement</th>\n",
              "      <th>status</th>\n",
              "      <th>cleared_statement</th>\n",
              "      <th>len_statement</th>\n",
              "      <th>words_count</th>\n",
              "      <th>status_code</th>\n",
              "    </tr>\n",
              "  </thead>\n",
              "  <tbody>\n",
              "    <tr>\n",
              "      <th>0</th>\n",
              "      <td>oh my gosh</td>\n",
              "      <td>Anxiety</td>\n",
              "      <td>oh my gosh</td>\n",
              "      <td>10</td>\n",
              "      <td>3</td>\n",
              "      <td>0</td>\n",
              "    </tr>\n",
              "    <tr>\n",
              "      <th>1</th>\n",
              "      <td>trouble sleeping, confused mind, restless hear...</td>\n",
              "      <td>Anxiety</td>\n",
              "      <td>trouble sleeping, confused mind, restless hear...</td>\n",
              "      <td>64</td>\n",
              "      <td>10</td>\n",
              "      <td>0</td>\n",
              "    </tr>\n",
              "    <tr>\n",
              "      <th>2</th>\n",
              "      <td>All wrong, back off dear, forward doubt. Stay ...</td>\n",
              "      <td>Anxiety</td>\n",
              "      <td>all wrong, back off dear, forward doubt. stay ...</td>\n",
              "      <td>78</td>\n",
              "      <td>14</td>\n",
              "      <td>0</td>\n",
              "    </tr>\n",
              "    <tr>\n",
              "      <th>3</th>\n",
              "      <td>I've shifted my focus to something else but I'...</td>\n",
              "      <td>Anxiety</td>\n",
              "      <td>i've shifted my focus to something else but i'...</td>\n",
              "      <td>61</td>\n",
              "      <td>11</td>\n",
              "      <td>0</td>\n",
              "    </tr>\n",
              "    <tr>\n",
              "      <th>4</th>\n",
              "      <td>I'm restless and restless, it's been a month n...</td>\n",
              "      <td>Anxiety</td>\n",
              "      <td>i'm restless and restless, it's been a month n...</td>\n",
              "      <td>72</td>\n",
              "      <td>14</td>\n",
              "      <td>0</td>\n",
              "    </tr>\n",
              "  </tbody>\n",
              "</table>\n",
              "</div>"
            ],
            "text/plain": [
              "                                           statement   status  \\\n",
              "0                                         oh my gosh  Anxiety   \n",
              "1  trouble sleeping, confused mind, restless hear...  Anxiety   \n",
              "2  All wrong, back off dear, forward doubt. Stay ...  Anxiety   \n",
              "3  I've shifted my focus to something else but I'...  Anxiety   \n",
              "4  I'm restless and restless, it's been a month n...  Anxiety   \n",
              "\n",
              "                                   cleared_statement  len_statement  \\\n",
              "0                                         oh my gosh             10   \n",
              "1  trouble sleeping, confused mind, restless hear...             64   \n",
              "2  all wrong, back off dear, forward doubt. stay ...             78   \n",
              "3  i've shifted my focus to something else but i'...             61   \n",
              "4  i'm restless and restless, it's been a month n...             72   \n",
              "\n",
              "   words_count  status_code  \n",
              "0            3            0  \n",
              "1           10            0  \n",
              "2           14            0  \n",
              "3           11            0  \n",
              "4           14            0  "
            ]
          },
          "execution_count": 9,
          "metadata": {},
          "output_type": "execute_result"
        }
      ],
      "source": [
        "classes = list(set(df['status'].values))\n",
        "df['status_code'] = le.fit_transform(df['status'])\n",
        "df.head()"
      ]
    },
    {
      "cell_type": "markdown",
      "metadata": {
        "id": "8IecUOxdt3i3"
      },
      "source": [
        "### Обучение (очищенные данные)"
      ]
    },
    {
      "cell_type": "code",
      "execution_count": null,
      "metadata": {
        "id": "CSVkwI_PuA3Z"
      },
      "outputs": [],
      "source": [
        "tokenizer_name = 'bert-base-uncased'\n",
        "tokenizer = BertTokenizer.from_pretrained(tokenizer_name)\n",
        "\n",
        "X = df['cleared_statement'].values\n",
        "y = df['status_code'].values\n",
        "\n",
        "X_train, X_test, y_train, y_test = train_test_split(X, y, test_size=0.15, random_state=42)\n",
        "X_train, X_val, y_train, y_val = train_test_split(X_train, y_train, test_size=0.175, random_state=42)\n",
        "\n",
        "train_dataset = CustomTransformersDataset(X_train, y_train, max_len, tokenizer)\n",
        "val_dataset = CustomTransformersDataset(X_val, y_val, max_len, tokenizer)\n",
        "test_dataset = CustomTransformersDataset(X_test, y_test, max_len, tokenizer)"
      ]
    },
    {
      "cell_type": "code",
      "execution_count": 9,
      "metadata": {},
      "outputs": [
        {
          "name": "stderr",
          "output_type": "stream",
          "text": [
            "Some weights of BertForSequenceClassification were not initialized from the model checkpoint at bert-base-uncased and are newly initialized: ['classifier.bias', 'classifier.weight']\n",
            "You should probably TRAIN this model on a down-stream task to be able to use it for predictions and inference.\n"
          ]
        }
      ],
      "source": [
        "model_bert = BertForSequenceClassification.from_pretrained(tokenizer_name, num_labels=len(classes))"
      ]
    },
    {
      "cell_type": "code",
      "execution_count": 11,
      "metadata": {
        "colab": {
          "base_uri": "https://localhost:8080/",
          "height": 428
        },
        "id": "JyGM12KJwud_",
        "outputId": "bb08edc2-fb07-4f68-92d9-dd5e6e3c6092"
      },
      "outputs": [
        {
          "data": {
            "text/html": [
              "\n",
              "    <div>\n",
              "      \n",
              "      <progress value='5740' max='5740' style='width:300px; height:20px; vertical-align: middle;'></progress>\n",
              "      [5740/5740 9:07:57, Epoch 4/5]\n",
              "    </div>\n",
              "    <table border=\"1\" class=\"dataframe\">\n",
              "  <thead>\n",
              " <tr style=\"text-align: left;\">\n",
              "      <th>Epoch</th>\n",
              "      <th>Training Loss</th>\n",
              "      <th>Validation Loss</th>\n",
              "      <th>Accuracy</th>\n",
              "      <th>F1</th>\n",
              "    </tr>\n",
              "  </thead>\n",
              "  <tbody>\n",
              "    <tr>\n",
              "      <td>1</td>\n",
              "      <td>0.514100</td>\n",
              "      <td>0.445159</td>\n",
              "      <td>0.819266</td>\n",
              "      <td>0.818006</td>\n",
              "    </tr>\n",
              "    <tr>\n",
              "      <td>2</td>\n",
              "      <td>0.374900</td>\n",
              "      <td>0.410585</td>\n",
              "      <td>0.835942</td>\n",
              "      <td>0.836571</td>\n",
              "    </tr>\n",
              "    <tr>\n",
              "      <td>3</td>\n",
              "      <td>0.267300</td>\n",
              "      <td>0.419314</td>\n",
              "      <td>0.845049</td>\n",
              "      <td>0.845020</td>\n",
              "    </tr>\n",
              "    <tr>\n",
              "      <td>4</td>\n",
              "      <td>0.135700</td>\n",
              "      <td>0.515680</td>\n",
              "      <td>0.834915</td>\n",
              "      <td>0.835170</td>\n",
              "    </tr>\n",
              "  </tbody>\n",
              "</table><p>"
            ],
            "text/plain": [
              "<IPython.core.display.HTML object>"
            ]
          },
          "metadata": {},
          "output_type": "display_data"
        },
        {
          "data": {
            "text/plain": [
              "TrainOutput(global_step=5740, training_loss=0.3228620063967821, metrics={'train_runtime': 32882.8049, 'train_samples_per_second': 5.588, 'train_steps_per_second': 0.175, 'total_flos': 4.83125158923264e+16, 'train_loss': 0.3228620063967821, 'epoch': 4.996081845885938})"
            ]
          },
          "execution_count": 11,
          "metadata": {},
          "output_type": "execute_result"
        }
      ],
      "source": [
        "training_args = TrainingArguments(\n",
        "    output_dir=\"./results\",\n",
        "    eval_strategy=\"epoch\",\n",
        "    num_train_epochs=5,\n",
        "    learning_rate=2e-5,\n",
        "    per_device_train_batch_size=4,\n",
        "    per_device_eval_batch_size=4,\n",
        "    gradient_accumulation_steps=8,\n",
        "    metric_for_best_model=\"f1\",\n",
        "    greater_is_better=True,\n",
        "    report_to=\"none\",\n",
        ")\n",
        "\n",
        "trainer = Trainer(\n",
        "    model=model_bert,\n",
        "    args=training_args,\n",
        "    train_dataset=train_dataset,\n",
        "    eval_dataset=val_dataset,\n",
        "    compute_metrics=compute_metrics,\n",
        ")\n",
        "\n",
        "trainer.train()"
      ]
    },
    {
      "cell_type": "code",
      "execution_count": 12,
      "metadata": {
        "id": "IE_85ew5wycp"
      },
      "outputs": [
        {
          "data": {
            "text/html": [
              "\n",
              "    <div>\n",
              "      \n",
              "      <progress value='1966' max='1966' style='width:300px; height:20px; vertical-align: middle;'></progress>\n",
              "      [1966/1966 06:06]\n",
              "    </div>\n",
              "    "
            ],
            "text/plain": [
              "<IPython.core.display.HTML object>"
            ]
          },
          "metadata": {},
          "output_type": "display_data"
        }
      ],
      "source": [
        "res = trainer.evaluate(test_dataset)"
      ]
    },
    {
      "cell_type": "code",
      "execution_count": null,
      "metadata": {},
      "outputs": [
        {
          "name": "stdout",
          "output_type": "stream",
          "text": [
            "test accuracy: 0.8473670821673874\n",
            "test f1: 0.8471817726121396\n"
          ]
        }
      ],
      "source": [
        "print(f\"test accuracy: {res['eval_accuracy']}\\ntest f1: {res['eval_f1']}\")"
      ]
    },
    {
      "cell_type": "markdown",
      "metadata": {},
      "source": [
        "### Обучение (данные без обработки)"
      ]
    },
    {
      "cell_type": "code",
      "execution_count": null,
      "metadata": {},
      "outputs": [],
      "source": [
        "tokenizer_name = 'bert-base-uncased'\n",
        "tokenizer = BertTokenizer.from_pretrained(tokenizer_name)\n",
        "\n",
        "X = df['statement'].values\n",
        "y = df['status_code'].values\n",
        "\n",
        "X_train, X_test, y_train, y_test = train_test_split(X, y, test_size=0.15, random_state=42)\n",
        "X_train, X_val, y_train, y_val = train_test_split(X_train, y_train, test_size=0.175, random_state=42)\n",
        "\n",
        "train_dataset = CustomTransformersDataset(X_train, y_train, max_len, tokenizer)\n",
        "val_dataset = CustomTransformersDataset(X_val, y_val, max_len, tokenizer)\n",
        "test_dataset = CustomTransformersDataset(X_test, y_test, max_len, tokenizer)"
      ]
    },
    {
      "cell_type": "code",
      "execution_count": 15,
      "metadata": {},
      "outputs": [
        {
          "name": "stderr",
          "output_type": "stream",
          "text": [
            "Some weights of BertForSequenceClassification were not initialized from the model checkpoint at bert-base-uncased and are newly initialized: ['classifier.bias', 'classifier.weight']\n",
            "You should probably TRAIN this model on a down-stream task to be able to use it for predictions and inference.\n"
          ]
        }
      ],
      "source": [
        "model_bert = BertForSequenceClassification.from_pretrained(tokenizer_name, num_labels=len(classes))"
      ]
    },
    {
      "cell_type": "code",
      "execution_count": 16,
      "metadata": {},
      "outputs": [
        {
          "data": {
            "text/html": [
              "\n",
              "    <div>\n",
              "      \n",
              "      <progress value='5740' max='5740' style='width:300px; height:20px; vertical-align: middle;'></progress>\n",
              "      [5740/5740 9:24:36, Epoch 4/5]\n",
              "    </div>\n",
              "    <table border=\"1\" class=\"dataframe\">\n",
              "  <thead>\n",
              " <tr style=\"text-align: left;\">\n",
              "      <th>Epoch</th>\n",
              "      <th>Training Loss</th>\n",
              "      <th>Validation Loss</th>\n",
              "      <th>Accuracy</th>\n",
              "      <th>F1</th>\n",
              "    </tr>\n",
              "  </thead>\n",
              "  <tbody>\n",
              "    <tr>\n",
              "      <td>1</td>\n",
              "      <td>0.485600</td>\n",
              "      <td>0.429721</td>\n",
              "      <td>0.827347</td>\n",
              "      <td>0.827023</td>\n",
              "    </tr>\n",
              "    <tr>\n",
              "      <td>2</td>\n",
              "      <td>0.358500</td>\n",
              "      <td>0.405501</td>\n",
              "      <td>0.838507</td>\n",
              "      <td>0.838338</td>\n",
              "    </tr>\n",
              "    <tr>\n",
              "      <td>3</td>\n",
              "      <td>0.253100</td>\n",
              "      <td>0.434929</td>\n",
              "      <td>0.841072</td>\n",
              "      <td>0.841726</td>\n",
              "    </tr>\n",
              "    <tr>\n",
              "      <td>4</td>\n",
              "      <td>0.119400</td>\n",
              "      <td>0.544644</td>\n",
              "      <td>0.837866</td>\n",
              "      <td>0.838266</td>\n",
              "    </tr>\n",
              "  </tbody>\n",
              "</table><p>"
            ],
            "text/plain": [
              "<IPython.core.display.HTML object>"
            ]
          },
          "metadata": {},
          "output_type": "display_data"
        },
        {
          "data": {
            "text/plain": [
              "TrainOutput(global_step=5740, training_loss=0.30316677658400054, metrics={'train_runtime': 33882.3704, 'train_samples_per_second': 5.423, 'train_steps_per_second': 0.169, 'total_flos': 4.83125158923264e+16, 'train_loss': 0.30316677658400054, 'epoch': 4.996081845885938})"
            ]
          },
          "execution_count": 16,
          "metadata": {},
          "output_type": "execute_result"
        }
      ],
      "source": [
        "trainer = Trainer(\n",
        "    model=model_bert,\n",
        "    args=training_args,\n",
        "    train_dataset=train_dataset,\n",
        "    eval_dataset=val_dataset,\n",
        "    compute_metrics=compute_metrics,\n",
        ")\n",
        "\n",
        "trainer.train()"
      ]
    },
    {
      "cell_type": "code",
      "execution_count": 17,
      "metadata": {},
      "outputs": [
        {
          "data": {
            "text/html": [
              "\n",
              "    <div>\n",
              "      \n",
              "      <progress value='1966' max='1966' style='width:300px; height:20px; vertical-align: middle;'></progress>\n",
              "      [1966/1966 06:16]\n",
              "    </div>\n",
              "    "
            ],
            "text/plain": [
              "<IPython.core.display.HTML object>"
            ]
          },
          "metadata": {},
          "output_type": "display_data"
        }
      ],
      "source": [
        "res = trainer.evaluate(test_dataset)"
      ]
    },
    {
      "cell_type": "code",
      "execution_count": null,
      "metadata": {},
      "outputs": [
        {
          "name": "stdout",
          "output_type": "stream",
          "text": [
            "test accuracy: 0.8440600356143475\n",
            "test f1: 0.8442176632210254\n"
          ]
        }
      ],
      "source": [
        "print(f\"test accuracy: {res['eval_accuracy']}\\ntest f1: {res['eval_f1']}\")"
      ]
    },
    {
      "cell_type": "markdown",
      "metadata": {},
      "source": [
        "## 6.2 - RoBERTa"
      ]
    },
    {
      "cell_type": "markdown",
      "metadata": {},
      "source": [
        "### Обработка и подготовка данных"
      ]
    },
    {
      "cell_type": "code",
      "execution_count": 64,
      "metadata": {},
      "outputs": [],
      "source": [
        "def text_сleaner(df, field_name, new_field_name):\n",
        "    df[new_field_name] = df[field_name].str.replace(r'[’‘`]', '\\'', regex=True)\n",
        "    df[new_field_name] = df[new_field_name].str.replace(r'http\\S+', ' ', regex=True)\n",
        "    df[new_field_name] = df[new_field_name].str.replace(r'[0-9]', ' ', regex=True)\n",
        "    df[new_field_name] = df[new_field_name].str.replace(r'\\s+', ' ', regex=True)\n",
        "    df[new_field_name] = df[new_field_name].str.replace(r'&', ' and ', regex=True)\n",
        "\n",
        "    return df"
      ]
    },
    {
      "cell_type": "code",
      "execution_count": null,
      "metadata": {},
      "outputs": [],
      "source": [
        "df = pd.read_csv('Combined Data.csv')\n",
        "df = df.drop('Unnamed: 0', axis=1)\n",
        "df = df.dropna().reset_index(drop=True)\n",
        "\n",
        "classes = list(set(df['status'].values))\n",
        "df = text_сleaner(df, 'statement', 'cleared_statement')\n",
        "df['len_statement'] = df['cleared_statement'].apply(lambda x: len(x))\n",
        "df['words_count'] = df['cleared_statement'].apply(lambda x: len(x.split()))\n",
        "\n",
        "df = df.loc[df['len_statement'] <= 2500].reset_index(drop=True)\n",
        "df = df.loc[df['words_count'] > 1].reset_index(drop=True)\n",
        "\n",
        "df['status_code'] = le.fit_transform(df['status'])"
      ]
    },
    {
      "cell_type": "markdown",
      "metadata": {},
      "source": [
        "### Обучение"
      ]
    },
    {
      "cell_type": "code",
      "execution_count": null,
      "metadata": {},
      "outputs": [],
      "source": [
        "tokenizer_name = 'roberta-base'\n",
        "tokenizer = RobertaTokenizer.from_pretrained(tokenizer_name)\n",
        "\n",
        "X = df['cleared_statement'].values\n",
        "y = df['status_code'].values\n",
        "\n",
        "X_train, X_test, y_train, y_test = train_test_split(X, y, test_size=0.15, random_state=42)\n",
        "X_train, X_val, y_train, y_val = train_test_split(X_train, y_train, test_size=0.175, random_state=42)\n",
        "\n",
        "train_dataset = CustomTransformersDataset(X_train, y_train, max_len, tokenizer)\n",
        "val_dataset = CustomTransformersDataset(X_val, y_val, max_len, tokenizer)\n",
        "test_dataset = CustomTransformersDataset(X_test, y_test, max_len, tokenizer)"
      ]
    },
    {
      "cell_type": "code",
      "execution_count": 22,
      "metadata": {},
      "outputs": [
        {
          "name": "stderr",
          "output_type": "stream",
          "text": [
            "Some weights of RobertaForSequenceClassification were not initialized from the model checkpoint at roberta-base and are newly initialized: ['classifier.dense.bias', 'classifier.dense.weight', 'classifier.out_proj.bias', 'classifier.out_proj.weight']\n",
            "You should probably TRAIN this model on a down-stream task to be able to use it for predictions and inference.\n"
          ]
        }
      ],
      "source": [
        "model_roberta = RobertaForSequenceClassification.from_pretrained(tokenizer_name, num_labels=len(classes))"
      ]
    },
    {
      "cell_type": "code",
      "execution_count": 23,
      "metadata": {},
      "outputs": [
        {
          "data": {
            "text/html": [
              "\n",
              "    <div>\n",
              "      \n",
              "      <progress value='5740' max='5740' style='width:300px; height:20px; vertical-align: middle;'></progress>\n",
              "      [5740/5740 9:29:05, Epoch 4/5]\n",
              "    </div>\n",
              "    <table border=\"1\" class=\"dataframe\">\n",
              "  <thead>\n",
              " <tr style=\"text-align: left;\">\n",
              "      <th>Epoch</th>\n",
              "      <th>Training Loss</th>\n",
              "      <th>Validation Loss</th>\n",
              "      <th>Accuracy</th>\n",
              "      <th>F1</th>\n",
              "    </tr>\n",
              "  </thead>\n",
              "  <tbody>\n",
              "    <tr>\n",
              "      <td>1</td>\n",
              "      <td>0.484400</td>\n",
              "      <td>0.441739</td>\n",
              "      <td>0.824654</td>\n",
              "      <td>0.826072</td>\n",
              "    </tr>\n",
              "    <tr>\n",
              "      <td>2</td>\n",
              "      <td>0.364900</td>\n",
              "      <td>0.391876</td>\n",
              "      <td>0.843766</td>\n",
              "      <td>0.844885</td>\n",
              "    </tr>\n",
              "    <tr>\n",
              "      <td>3</td>\n",
              "      <td>0.286000</td>\n",
              "      <td>0.399730</td>\n",
              "      <td>0.850564</td>\n",
              "      <td>0.850741</td>\n",
              "    </tr>\n",
              "    <tr>\n",
              "      <td>4</td>\n",
              "      <td>0.170200</td>\n",
              "      <td>0.457841</td>\n",
              "      <td>0.849538</td>\n",
              "      <td>0.849864</td>\n",
              "    </tr>\n",
              "  </tbody>\n",
              "</table><p>"
            ],
            "text/plain": [
              "<IPython.core.display.HTML object>"
            ]
          },
          "metadata": {},
          "output_type": "display_data"
        },
        {
          "data": {
            "text/plain": [
              "TrainOutput(global_step=5740, training_loss=0.32443495361647123, metrics={'train_runtime': 34151.9183, 'train_samples_per_second': 5.381, 'train_steps_per_second': 0.168, 'total_flos': 4.83125158923264e+16, 'train_loss': 0.32443495361647123, 'epoch': 4.996081845885938})"
            ]
          },
          "execution_count": 23,
          "metadata": {},
          "output_type": "execute_result"
        }
      ],
      "source": [
        "training_args = TrainingArguments(\n",
        "    output_dir=\"./result_v3\",\n",
        "    eval_strategy=\"epoch\",\n",
        "    save_strategy=\"epoch\",\n",
        "    num_train_epochs=5,\n",
        "    learning_rate=2e-5,\n",
        "    per_device_train_batch_size=4,\n",
        "    per_device_eval_batch_size=4,\n",
        "    gradient_accumulation_steps=8,\n",
        "    load_best_model_at_end=True,\n",
        "    metric_for_best_model=\"f1\",\n",
        "    greater_is_better=True,\n",
        "    report_to=\"none\",\n",
        ")\n",
        "\n",
        "trainer = Trainer(\n",
        "    model=model_roberta,\n",
        "    args=training_args,\n",
        "    train_dataset=train_dataset,\n",
        "    eval_dataset=val_dataset,\n",
        "    compute_metrics=compute_metrics,\n",
        ")\n",
        "\n",
        "trainer.train()"
      ]
    },
    {
      "cell_type": "code",
      "execution_count": 24,
      "metadata": {},
      "outputs": [
        {
          "data": {
            "text/html": [
              "\n",
              "    <div>\n",
              "      \n",
              "      <progress value='1966' max='1966' style='width:300px; height:20px; vertical-align: middle;'></progress>\n",
              "      [1966/1966 06:13]\n",
              "    </div>\n",
              "    "
            ],
            "text/plain": [
              "<IPython.core.display.HTML object>"
            ]
          },
          "metadata": {},
          "output_type": "display_data"
        }
      ],
      "source": [
        "res = trainer.evaluate(test_dataset)"
      ]
    },
    {
      "cell_type": "code",
      "execution_count": null,
      "metadata": {},
      "outputs": [
        {
          "name": "stdout",
          "output_type": "stream",
          "text": [
            "test accuracy: 0.858305774612058\n",
            "test f1: 0.8588031431248425\n"
          ]
        }
      ],
      "source": [
        "print(f\"test accuracy: {res['eval_accuracy']}\\ntest f1: {res['eval_f1']}\")"
      ]
    },
    {
      "cell_type": "code",
      "execution_count": 18,
      "metadata": {},
      "outputs": [
        {
          "name": "stdout",
          "output_type": "stream",
          "text": [
            "              precision    recall  f1-score   support\n",
            "\n",
            "           0       0.91      0.91      0.91       579\n",
            "           1       0.90      0.89      0.89       388\n",
            "           2       0.82      0.79      0.80      2179\n",
            "           3       0.96      0.96      0.96      2453\n",
            "           4       0.81      0.77      0.79       166\n",
            "           5       0.75      0.81      0.78       345\n",
            "           6       0.74      0.78      0.76      1512\n",
            "\n",
            "    accuracy                           0.86      7622\n",
            "   macro avg       0.84      0.84      0.84      7622\n",
            "weighted avg       0.86      0.86      0.86      7622\n",
            "\n"
          ]
        }
      ],
      "source": [
        "predictions = trainer.predict(test_dataset)\n",
        "labels = predictions.label_ids\n",
        "logits = np.argmax(predictions.predictions, axis=-1)\n",
        "\n",
        "print(classification_report(labels, logits))"
      ]
    },
    {
      "cell_type": "code",
      "execution_count": 60,
      "metadata": {},
      "outputs": [
        {
          "data": {
            "text/html": [],
            "text/plain": [
              "<IPython.core.display.HTML object>"
            ]
          },
          "metadata": {},
          "output_type": "display_data"
        },
        {
          "name": "stdout",
          "output_type": "stream",
          "text": [
            "1. Yawa makahilak mn sd ko oy\n",
            "\n",
            "    - real: Normal\n",
            "    - predict: Normal\n",
            "\n",
            "2. I literally cannot kill myself because my parents are always in the house. there is only small amounts of time when they are not there and every time I try but they always get back. If I was an adult and had my own place I could have done if by now. cannot fucking do this anymore. If I was an adult I would be dead\n",
            "\n",
            "    - real: Suicidal\n",
            "    - predict: Suicidal\n",
            "\n",
            "3. My love for you will still be here, neatly stored like reluctant to go even though it hurts :)\n",
            "\n",
            "    - real: Normal\n",
            "    - predict: Normal\n",
            "\n",
            "4. I am 15 and have been depressed for years not told a single person out of a combination of fear and humiliation,my family is extremely insensitive to metal disorders,I do not want to reach out to an adult because my family would find out ,technology is one of the few things that keep me sane and that would all be either destroyed or sold , I have considered talking to a close friend about it so I have someone Ik to talk to I do not know how he feels about metal problems. I fear he would tell somebody and only make it harder I am sick of being alone\n",
            "\n",
            "    - real: Depression\n",
            "    - predict: Depression\n",
            "\n",
            "5. Srsly.... I am not scared of death i just do not want to kill myself but i hope i will die soon. At least i will die doing what i love ( dying) Idk I am so obsessed with death i keep thinking about it every minute every hour I am tired .. i keep reading theories about what is going to happen after life... sometimes i just like to watch ppl die on different reasons... i hate being happy and optimistic.. i feel much better when I am sad and thinking about it Life sucks, and I am obsessed with death\n",
            "\n",
            "    - real: Depression\n",
            "    - predict: Depression\n",
            "\n"
          ]
        }
      ],
      "source": [
        "get_predictions(df, trainer, tokenizer, le, 5)"
      ]
    },
    {
      "cell_type": "code",
      "execution_count": 63,
      "metadata": {},
      "outputs": [
        {
          "data": {
            "text/html": [],
            "text/plain": [
              "<IPython.core.display.HTML object>"
            ]
          },
          "metadata": {},
          "output_type": "display_data"
        },
        {
          "name": "stdout",
          "output_type": "stream",
          "text": [
            "1. jyp patas pa' rriba\n",
            "\n",
            "    - real: Normal\n",
            "    - predict: Normal\n",
            "\n",
            "2. FUCKING END MY LIFE\n",
            "\n",
            "    - real: Suicidal\n",
            "    - predict: Suicidal\n",
            "\n",
            "3. i really do not see any point to existence. no point or meaning\n",
            "\n",
            "    - real: Suicidal\n",
            "    - predict: Suicidal\n",
            "\n"
          ]
        }
      ],
      "source": [
        "get_predictions(df, trainer, tokenizer, le, 3)"
      ]
    },
    {
      "cell_type": "markdown",
      "metadata": {},
      "source": [
        "## 6.3 - DeBERTa"
      ]
    },
    {
      "cell_type": "markdown",
      "metadata": {},
      "source": [
        "### Обработка и подготовка данных"
      ]
    },
    {
      "cell_type": "code",
      "execution_count": 13,
      "metadata": {},
      "outputs": [],
      "source": [
        "def text_сleaner(df, field_name, new_field_name):\n",
        "    df[new_field_name] = df[field_name].str.replace(r'[’‘`]', '\\'', regex=True)\n",
        "    df[new_field_name] = df[new_field_name].str.replace(r'http\\S+', ' ', regex=True)\n",
        "    df[new_field_name] = df[new_field_name].str.replace(r'[0-9]', ' ', regex=True)\n",
        "    df[new_field_name] = df[new_field_name].str.replace(r'\\s+', ' ', regex=True)\n",
        "    df[new_field_name] = df[new_field_name].str.replace(r'&', ' and ', regex=True)\n",
        "\n",
        "    return df"
      ]
    },
    {
      "cell_type": "code",
      "execution_count": 14,
      "metadata": {},
      "outputs": [],
      "source": [
        "df = pd.read_csv('Combined Data.csv')\n",
        "df = df.drop('Unnamed: 0', axis=1)\n",
        "df = df.dropna().reset_index(drop=True)\n",
        "\n",
        "df = text_сleaner(df, 'statement', 'cleared_statement')\n",
        "df['len_statement'] = df['cleared_statement'].apply(lambda x: len(x))\n",
        "df['words_count'] = df['cleared_statement'].apply(lambda x: len(x.split()))\n",
        "\n",
        "df = df.loc[df['len_statement'] <= 2500].reset_index(drop=True)\n",
        "df = df.loc[df['words_count'] > 1].reset_index(drop=True)\n",
        "\n",
        "df['status_code'] = le.fit_transform(df['status'])"
      ]
    },
    {
      "cell_type": "markdown",
      "metadata": {},
      "source": [
        "### Обучение"
      ]
    },
    {
      "cell_type": "code",
      "execution_count": 18,
      "metadata": {
        "id": "105V3k6nrAT_"
      },
      "outputs": [
        {
          "name": "stderr",
          "output_type": "stream",
          "text": [
            "Some weights of DebertaV2ForSequenceClassification were not initialized from the model checkpoint at microsoft/deberta-v3-base and are newly initialized: ['classifier.bias', 'classifier.weight', 'pooler.dense.bias', 'pooler.dense.weight']\n",
            "You should probably TRAIN this model on a down-stream task to be able to use it for predictions and inference.\n"
          ]
        }
      ],
      "source": [
        "tokenizer_name = 'microsoft/deberta-v3-base'\n",
        "tokenizer = AutoTokenizer.from_pretrained(tokenizer_name)\n",
        "model_deberta = AutoModelForSequenceClassification.from_pretrained(tokenizer_name, num_labels=len(classes))"
      ]
    },
    {
      "cell_type": "code",
      "execution_count": 22,
      "metadata": {},
      "outputs": [
        {
          "data": {
            "text/html": [
              "\n",
              "    <div>\n",
              "      \n",
              "      <progress value='5565' max='5565' style='width:300px; height:20px; vertical-align: middle;'></progress>\n",
              "      [5565/5565 14:08:33, Epoch 4/5]\n",
              "    </div>\n",
              "    <table border=\"1\" class=\"dataframe\">\n",
              "  <thead>\n",
              " <tr style=\"text-align: left;\">\n",
              "      <th>Epoch</th>\n",
              "      <th>Training Loss</th>\n",
              "      <th>Validation Loss</th>\n",
              "      <th>Accuracy</th>\n",
              "      <th>F1</th>\n",
              "    </tr>\n",
              "  </thead>\n",
              "  <tbody>\n",
              "    <tr>\n",
              "      <td>0</td>\n",
              "      <td>0.911700</td>\n",
              "      <td>0.793856</td>\n",
              "      <td>0.668959</td>\n",
              "      <td>0.658846</td>\n",
              "    </tr>\n",
              "    <tr>\n",
              "      <td>1</td>\n",
              "      <td>0.718900</td>\n",
              "      <td>0.663774</td>\n",
              "      <td>0.725698</td>\n",
              "      <td>0.717425</td>\n",
              "    </tr>\n",
              "    <tr>\n",
              "      <td>2</td>\n",
              "      <td>0.590400</td>\n",
              "      <td>0.582504</td>\n",
              "      <td>0.766830</td>\n",
              "      <td>0.764614</td>\n",
              "    </tr>\n",
              "    <tr>\n",
              "      <td>3</td>\n",
              "      <td>0.523700</td>\n",
              "      <td>0.550161</td>\n",
              "      <td>0.775956</td>\n",
              "      <td>0.775590</td>\n",
              "    </tr>\n",
              "    <tr>\n",
              "      <td>4</td>\n",
              "      <td>0.459900</td>\n",
              "      <td>0.553524</td>\n",
              "      <td>0.782172</td>\n",
              "      <td>0.781576</td>\n",
              "    </tr>\n",
              "  </tbody>\n",
              "</table><p>"
            ],
            "text/plain": [
              "<IPython.core.display.HTML object>"
            ]
          },
          "metadata": {},
          "output_type": "display_data"
        },
        {
          "data": {
            "text/plain": [
              "TrainOutput(global_step=5565, training_loss=0.665579880665576, metrics={'train_runtime': 50924.2457, 'train_samples_per_second': 3.5, 'train_steps_per_second': 0.109, 'total_flos': 4.687039060195738e+16, 'train_loss': 0.665579880665576, 'epoch': 4.999214454045561})"
            ]
          },
          "execution_count": 22,
          "metadata": {},
          "output_type": "execute_result"
        }
      ],
      "source": [
        "trainer = Trainer(\n",
        "    model=model_deberta,\n",
        "    args=training_args,\n",
        "    train_dataset=train_dataset,\n",
        "    eval_dataset=val_dataset,\n",
        "    compute_metrics=compute_metrics,\n",
        ")\n",
        "\n",
        "trainer.train()"
      ]
    },
    {
      "cell_type": "code",
      "execution_count": 23,
      "metadata": {},
      "outputs": [
        {
          "data": {
            "text/html": [
              "\n",
              "    <div>\n",
              "      \n",
              "      <progress value='1907' max='1907' style='width:300px; height:20px; vertical-align: middle;'></progress>\n",
              "      [1907/1907 12:07]\n",
              "    </div>\n",
              "    "
            ],
            "text/plain": [
              "<IPython.core.display.HTML object>"
            ]
          },
          "metadata": {},
          "output_type": "display_data"
        }
      ],
      "source": [
        "res = trainer.evaluate(test_dataset)"
      ]
    },
    {
      "cell_type": "code",
      "execution_count": null,
      "metadata": {},
      "outputs": [
        {
          "name": "stdout",
          "output_type": "stream",
          "text": [
            "test accuracy: 0.7912131147540984\n",
            "test f1: 0.7906203175508609\n"
          ]
        }
      ],
      "source": [
        "print(f\"test accuracy: {res['eval_accuracy']}\\ntest f1: {res['eval_f1']}\")"
      ]
    },
    {
      "cell_type": "markdown",
      "metadata": {},
      "source": [
        "## 6.4 - DistilBERT"
      ]
    },
    {
      "cell_type": "markdown",
      "metadata": {},
      "source": [
        "### Обработка и подготовка данных"
      ]
    },
    {
      "cell_type": "code",
      "execution_count": 15,
      "metadata": {},
      "outputs": [],
      "source": [
        "def text_сleaner(df, field_name, new_field_name):\n",
        "    df[new_field_name] = df[field_name].str.lower()\n",
        "    df[new_field_name] = df[new_field_name].str.replace(r'[’‘`]', '\\'', regex=True)\n",
        "    df[new_field_name] = df[new_field_name].str.replace(r'http\\S+', ' ', regex=True)\n",
        "    df[new_field_name] = df[new_field_name].str.replace(r'[0-9]', ' ', regex=True)\n",
        "    df[new_field_name] = df[new_field_name].str.replace(r'\\s+', ' ', regex=True)\n",
        "    df[new_field_name] = df[new_field_name].str.replace(r'&', ' and ', regex=True)\n",
        "\n",
        "    return df"
      ]
    },
    {
      "cell_type": "code",
      "execution_count": 16,
      "metadata": {},
      "outputs": [],
      "source": [
        "df = pd.read_csv('Combined Data.csv')\n",
        "df = df.drop('Unnamed: 0', axis=1)\n",
        "df = df.dropna().reset_index(drop=True)\n",
        "\n",
        "df = text_сleaner(df, 'statement', 'cleared_statement')\n",
        "df['len_statement'] = df['cleared_statement'].apply(lambda x: len(x))\n",
        "df['words_count'] = df['cleared_statement'].apply(lambda x: len(x.split()))\n",
        "\n",
        "df = df.loc[df['len_statement'] <= 2500].reset_index(drop=True)\n",
        "df = df.loc[df['words_count'] > 1].reset_index(drop=True)\n",
        "\n",
        "df['status_code'] = le.fit_transform(df['status'])"
      ]
    },
    {
      "cell_type": "markdown",
      "metadata": {},
      "source": [
        "### Обучение"
      ]
    },
    {
      "cell_type": "code",
      "execution_count": 21,
      "metadata": {},
      "outputs": [
        {
          "name": "stderr",
          "output_type": "stream",
          "text": [
            "Some weights of DistilBertForSequenceClassification were not initialized from the model checkpoint at distilbert-base-uncased and are newly initialized: ['classifier.bias', 'classifier.weight', 'pre_classifier.bias', 'pre_classifier.weight']\n",
            "You should probably TRAIN this model on a down-stream task to be able to use it for predictions and inference.\n"
          ]
        }
      ],
      "source": [
        "tokenizer_name = 'distilbert-base-uncased'\n",
        "tokenizer = AutoTokenizer.from_pretrained(tokenizer_name)\n",
        "model_distilbert = AutoModelForSequenceClassification.from_pretrained(tokenizer_name, num_labels=len(classes))"
      ]
    },
    {
      "cell_type": "code",
      "execution_count": 22,
      "metadata": {},
      "outputs": [
        {
          "data": {
            "text/html": [
              "\n",
              "    <div>\n",
              "      \n",
              "      <progress value='5565' max='5565' style='width:300px; height:20px; vertical-align: middle;'></progress>\n",
              "      [5565/5565 4:33:29, Epoch 4/5]\n",
              "    </div>\n",
              "    <table border=\"1\" class=\"dataframe\">\n",
              "  <thead>\n",
              " <tr style=\"text-align: left;\">\n",
              "      <th>Epoch</th>\n",
              "      <th>Training Loss</th>\n",
              "      <th>Validation Loss</th>\n",
              "      <th>Accuracy</th>\n",
              "      <th>F1</th>\n",
              "    </tr>\n",
              "  </thead>\n",
              "  <tbody>\n",
              "    <tr>\n",
              "      <td>0</td>\n",
              "      <td>0.514300</td>\n",
              "      <td>0.470340</td>\n",
              "      <td>0.815501</td>\n",
              "      <td>0.816198</td>\n",
              "    </tr>\n",
              "    <tr>\n",
              "      <td>1</td>\n",
              "      <td>0.393900</td>\n",
              "      <td>0.410864</td>\n",
              "      <td>0.840497</td>\n",
              "      <td>0.839135</td>\n",
              "    </tr>\n",
              "    <tr>\n",
              "      <td>2</td>\n",
              "      <td>0.300500</td>\n",
              "      <td>0.407332</td>\n",
              "      <td>0.843936</td>\n",
              "      <td>0.843963</td>\n",
              "    </tr>\n",
              "    <tr>\n",
              "      <td>3</td>\n",
              "      <td>0.231700</td>\n",
              "      <td>0.435215</td>\n",
              "      <td>0.842613</td>\n",
              "      <td>0.842271</td>\n",
              "    </tr>\n",
              "    <tr>\n",
              "      <td>4</td>\n",
              "      <td>0.188800</td>\n",
              "      <td>0.450988</td>\n",
              "      <td>0.841159</td>\n",
              "      <td>0.840871</td>\n",
              "    </tr>\n",
              "  </tbody>\n",
              "</table><p>"
            ],
            "text/plain": [
              "<IPython.core.display.HTML object>"
            ]
          },
          "metadata": {},
          "output_type": "display_data"
        },
        {
          "data": {
            "text/plain": [
              "TrainOutput(global_step=5565, training_loss=0.35438917353682337, metrics={'train_runtime': 16412.5811, 'train_samples_per_second': 10.858, 'train_steps_per_second': 0.339, 'total_flos': 2.359825680723149e+16, 'train_loss': 0.35438917353682337, 'epoch': 4.999214454045561})"
            ]
          },
          "execution_count": 22,
          "metadata": {},
          "output_type": "execute_result"
        }
      ],
      "source": [
        "trainer = Trainer(\n",
        "    model=model_distilbert,\n",
        "    args=training_args,\n",
        "    train_dataset=train_dataset,\n",
        "    eval_dataset=val_dataset,\n",
        "    compute_metrics=compute_metrics,\n",
        ")\n",
        "\n",
        "trainer.train()"
      ]
    },
    {
      "cell_type": "code",
      "execution_count": 23,
      "metadata": {},
      "outputs": [
        {
          "data": {
            "text/html": [],
            "text/plain": [
              "<IPython.core.display.HTML object>"
            ]
          },
          "metadata": {},
          "output_type": "display_data"
        }
      ],
      "source": [
        "res = trainer.evaluate(test_dataset)"
      ]
    },
    {
      "cell_type": "code",
      "execution_count": 24,
      "metadata": {},
      "outputs": [
        {
          "name": "stdout",
          "output_type": "stream",
          "text": [
            "test accuracy: 0.8398688524590164\n",
            "test f1: 0.8399720083055285\n"
          ]
        }
      ],
      "source": [
        "print(f\"test accuracy: {res['eval_accuracy']}\\ntest f1: {res['eval_f1']}\")"
      ]
    },
    {
      "cell_type": "code",
      "execution_count": null,
      "metadata": {},
      "outputs": [
        {
          "name": "stdout",
          "output_type": "stream",
          "text": [
            "              precision    recall  f1-score   support\n",
            "\n",
            "           0       0.85      0.92      0.88       570\n",
            "           1       0.86      0.84      0.85       411\n",
            "           2       0.81      0.76      0.78      2152\n",
            "           3       0.96      0.95      0.95      2442\n",
            "           4       0.76      0.72      0.74       141\n",
            "           5       0.73      0.79      0.76       381\n",
            "           6       0.73      0.77      0.75      1528\n",
            "\n",
            "    accuracy                           0.84      7625\n",
            "   macro avg       0.81      0.82      0.82      7625\n",
            "weighted avg       0.84      0.84      0.84      7625\n",
            "\n"
          ]
        }
      ],
      "source": [
        "predictions = trainer.predict(test_dataset)\n",
        "labels = predictions.label_ids\n",
        "logits = np.argmax(predictions.predictions, axis=-1)\n",
        "\n",
        "print(classification_report(labels, logits))"
      ]
    }
  ],
  "metadata": {
    "colab": {
      "collapsed_sections": [
        "ShimuIhgrAT0",
        "NNVJP94grAT1",
        "bsHFrKxnrAT3",
        "Pdm-ZPkGrAT6",
        "DfRW5-3XtwLL"
      ],
      "provenance": []
    },
    "kernelspec": {
      "display_name": "base",
      "language": "python",
      "name": "python3"
    },
    "language_info": {
      "codemirror_mode": {
        "name": "ipython",
        "version": 3
      },
      "file_extension": ".py",
      "mimetype": "text/x-python",
      "name": "python",
      "nbconvert_exporter": "python",
      "pygments_lexer": "ipython3",
      "version": "3.12.8"
    }
  },
  "nbformat": 4,
  "nbformat_minor": 0
}
